{
 "cells": [
  {
   "cell_type": "markdown",
   "metadata": {
    "toc": true
   },
   "source": [
    "<h1>Содержание<span class=\"tocSkip\"></span></h1>\n",
    "<div class=\"toc\"><ul class=\"toc-item\"><li><span><a href=\"#Загрузка-данных\" data-toc-modified-id=\"Загрузка-данных-1\"><span class=\"toc-item-num\">1&nbsp;&nbsp;</span>Загрузка данных</a></span></li><li><span><a href=\"#Умножение-матриц\" data-toc-modified-id=\"Умножение-матриц-2\"><span class=\"toc-item-num\">2&nbsp;&nbsp;</span>Умножение матриц</a></span></li><li><span><a href=\"#Алгоритм-преобразования\" data-toc-modified-id=\"Алгоритм-преобразования-3\"><span class=\"toc-item-num\">3&nbsp;&nbsp;</span>Алгоритм преобразования</a></span></li><li><span><a href=\"#Проверка-алгоритма\" data-toc-modified-id=\"Проверка-алгоритма-4\"><span class=\"toc-item-num\">4&nbsp;&nbsp;</span>Проверка алгоритма</a></span></li><li><span><a href=\"#Чек-лист-проверки\" data-toc-modified-id=\"Чек-лист-проверки-5\"><span class=\"toc-item-num\">5&nbsp;&nbsp;</span>Чек-лист проверки</a></span></li></ul></div>"
   ]
  },
  {
   "cell_type": "markdown",
   "metadata": {},
   "source": [
    "# Защита персональных данных клиентов"
   ]
  },
  {
   "cell_type": "markdown",
   "metadata": {},
   "source": [
    "Вам нужно защитить данные клиентов страховой компании «Хоть потоп». Разработайте такой метод преобразования данных, чтобы по ним было сложно восстановить персональную информацию. Обоснуйте корректность его работы.\n",
    "\n",
    "Нужно защитить данные, чтобы при преобразовании качество моделей машинного обучения не ухудшилось. Подбирать наилучшую модель не требуется."
   ]
  },
  {
   "cell_type": "markdown",
   "metadata": {},
   "source": [
    "### Подключение необходимых модулей"
   ]
  },
  {
   "cell_type": "code",
   "execution_count": 5,
   "metadata": {},
   "outputs": [],
   "source": [
    "import pandas as pd\n",
    "import numpy as np\n",
    "\n",
    "from sklearn.linear_model import LinearRegression\n",
    "from sklearn.metrics import r2_score"
   ]
  },
  {
   "cell_type": "markdown",
   "metadata": {},
   "source": [
    "## Загрузка данных"
   ]
  },
  {
   "cell_type": "code",
   "execution_count": 2,
   "metadata": {},
   "outputs": [
    {
     "data": {
      "text/html": [
       "<div>\n",
       "<style scoped>\n",
       "    .dataframe tbody tr th:only-of-type {\n",
       "        vertical-align: middle;\n",
       "    }\n",
       "\n",
       "    .dataframe tbody tr th {\n",
       "        vertical-align: top;\n",
       "    }\n",
       "\n",
       "    .dataframe thead th {\n",
       "        text-align: right;\n",
       "    }\n",
       "</style>\n",
       "<table border=\"1\" class=\"dataframe\">\n",
       "  <thead>\n",
       "    <tr style=\"text-align: right;\">\n",
       "      <th></th>\n",
       "      <th>Пол</th>\n",
       "      <th>Возраст</th>\n",
       "      <th>Зарплата</th>\n",
       "      <th>Члены семьи</th>\n",
       "      <th>Страховые выплаты</th>\n",
       "    </tr>\n",
       "  </thead>\n",
       "  <tbody>\n",
       "    <tr>\n",
       "      <th>0</th>\n",
       "      <td>1</td>\n",
       "      <td>41.0</td>\n",
       "      <td>49600.0</td>\n",
       "      <td>1</td>\n",
       "      <td>0</td>\n",
       "    </tr>\n",
       "    <tr>\n",
       "      <th>1</th>\n",
       "      <td>0</td>\n",
       "      <td>46.0</td>\n",
       "      <td>38000.0</td>\n",
       "      <td>1</td>\n",
       "      <td>1</td>\n",
       "    </tr>\n",
       "    <tr>\n",
       "      <th>2</th>\n",
       "      <td>0</td>\n",
       "      <td>29.0</td>\n",
       "      <td>21000.0</td>\n",
       "      <td>0</td>\n",
       "      <td>0</td>\n",
       "    </tr>\n",
       "    <tr>\n",
       "      <th>3</th>\n",
       "      <td>0</td>\n",
       "      <td>21.0</td>\n",
       "      <td>41700.0</td>\n",
       "      <td>2</td>\n",
       "      <td>0</td>\n",
       "    </tr>\n",
       "    <tr>\n",
       "      <th>4</th>\n",
       "      <td>1</td>\n",
       "      <td>28.0</td>\n",
       "      <td>26100.0</td>\n",
       "      <td>0</td>\n",
       "      <td>0</td>\n",
       "    </tr>\n",
       "  </tbody>\n",
       "</table>\n",
       "</div>"
      ],
      "text/plain": [
       "   Пол  Возраст  Зарплата  Члены семьи  Страховые выплаты\n",
       "0    1     41.0   49600.0            1                  0\n",
       "1    0     46.0   38000.0            1                  1\n",
       "2    0     29.0   21000.0            0                  0\n",
       "3    0     21.0   41700.0            2                  0\n",
       "4    1     28.0   26100.0            0                  0"
      ]
     },
     "execution_count": 2,
     "metadata": {},
     "output_type": "execute_result"
    }
   ],
   "source": [
    "df = pd.read_csv('...')\n",
    "df.head()"
   ]
  },
  {
   "cell_type": "markdown",
   "metadata": {},
   "source": [
    "Формируем разделяем набор признаков на входные (`X`) и целевой (`y`), обучаем на всём наборе линейную регрессию, оцениваем её качество на этом же наборе данных по метрике коэффициента детерминации $R^2$:"
   ]
  },
  {
   "cell_type": "code",
   "execution_count": 71,
   "metadata": {},
   "outputs": [
    {
     "name": "stdout",
     "output_type": "stream",
     "text": [
      "Коэффициент R2 равен: 0.4249455\n"
     ]
    }
   ],
   "source": [
    "X = df.drop('Страховые выплаты', axis=1)\n",
    "y = df['Страховые выплаты']\n",
    "\n",
    "model = LinearRegression()\n",
    "model.fit(X, y)\n",
    "r2_on_x = r2_score(y_true=y, y_pred=model.predict(X))\n",
    "print(f'Коэффициент R2 равен: {r2_on_x:{2}.{8}}')"
   ]
  },
  {
   "cell_type": "markdown",
   "metadata": {},
   "source": [
    "Теперь генерируем из равномерного распределения некоторую матрицу `P`, такую, чтобы нашу матрицу признаков `X` можно было бы домножить справа на матрицу `P`.\n",
    "\n",
    "Т.е. чтобы число столбцов в матрице `X` - `4` - совпадало с числом строк в матрице `P`. Что касается числа столбцов в матрице `P`, то оно должно равняться числу строк в ней, чтобы матрица в итоге получилась квадратной, поскольку обратную можно найти только для квадратной матрицы:"
   ]
  },
  {
   "cell_type": "code",
   "execution_count": 58,
   "metadata": {},
   "outputs": [
    {
     "data": {
      "text/plain": [
       "array([[0.70120129, 0.61965221, 0.4077608 , 0.33502312],\n",
       "       [0.09905129, 0.68069709, 0.82164036, 0.10930768],\n",
       "       [0.59833186, 0.14558155, 0.74510062, 0.58923758],\n",
       "       [0.2488312 , 0.23223693, 0.54432328, 0.13011107]])"
      ]
     },
     "metadata": {},
     "output_type": "display_data"
    },
    {
     "name": "stdout",
     "output_type": "stream",
     "text": [
      "P.shape = (4, 4)\n",
      "X.shape = (5000, 4)\n"
     ]
    }
   ],
   "source": [
    "P = np.random.rand(X.shape[1], X.shape[1])\n",
    "display(P)\n",
    "print(f'P.shape = {P.shape}')\n",
    "print(f'X.shape = {X.shape}')"
   ]
  },
  {
   "cell_type": "markdown",
   "metadata": {},
   "source": [
    "Убедимся теперь, что наша сгенерированная матрица `P` обратима, т.е. что мы можем найти для неё обратную:"
   ]
  },
  {
   "cell_type": "code",
   "execution_count": 72,
   "metadata": {},
   "outputs": [
    {
     "name": "stdout",
     "output_type": "stream",
     "text": [
      "Матрица P:\n"
     ]
    },
    {
     "data": {
      "text/plain": [
       "array([[0.70120129, 0.61965221, 0.4077608 , 0.33502312],\n",
       "       [0.09905129, 0.68069709, 0.82164036, 0.10930768],\n",
       "       [0.59833186, 0.14558155, 0.74510062, 0.58923758],\n",
       "       [0.2488312 , 0.23223693, 0.54432328, 0.13011107]])"
      ]
     },
     "metadata": {},
     "output_type": "display_data"
    },
    {
     "name": "stdout",
     "output_type": "stream",
     "text": [
      "\n",
      "Матрица inv(P):\n"
     ]
    },
    {
     "data": {
      "text/plain": [
       "array([[ 1.28529101, -2.38659586, -1.24820291,  4.34827807],\n",
       "       [ 0.97153923,  1.601528  , -0.22210484, -2.84122555],\n",
       "       [-0.9068161 , -0.1103395 , -0.0808098 ,  2.79362455],\n",
       "       [-0.3984802 ,  2.16727085,  3.12163621, -7.24599855]])"
      ]
     },
     "metadata": {},
     "output_type": "display_data"
    },
    {
     "name": "stdout",
     "output_type": "stream",
     "text": [
      "\n",
      "Обратная матрица корректна:\n",
      "\t True\n"
     ]
    }
   ],
   "source": [
    "P_inv = np.linalg.inv(P)\n",
    "print('Матрица P:')\n",
    "display(P)\n",
    "print('\\nМатрица inv(P):')\n",
    "display(P_inv)\n",
    "\n",
    "is_correct_inv = np.allclose(np.dot(P, P_inv), np.eye(P_inv.shape[0]))\n",
    "print(f'\\nОбратная матрица корректна:\\n\\t {is_correct_inv}')"
   ]
  },
  {
   "cell_type": "markdown",
   "metadata": {},
   "source": [
    "Теперь попробуем домножить матрицу признаков на нашу матрицу `P` (т.е. домножение делаем <u>справа</u>):"
   ]
  },
  {
   "cell_type": "code",
   "execution_count": 60,
   "metadata": {},
   "outputs": [
    {
     "name": "stdout",
     "output_type": "stream",
     "text": [
      "XP.shape = (5000, 4)\n"
     ]
    }
   ],
   "source": [
    "XP = np.dot(X, P)\n",
    "print(f'XP.shape = {XP.shape}')"
   ]
  },
  {
   "cell_type": "markdown",
   "metadata": {},
   "source": [
    "<a id='paragraph0'></a>\n",
    "Вновь обучим модель линейной регрессии, на этот раз используя в качестве входного набора признаков матрицу `XP`:"
   ]
  },
  {
   "cell_type": "code",
   "execution_count": 65,
   "metadata": {},
   "outputs": [
    {
     "name": "stdout",
     "output_type": "stream",
     "text": [
      "Коэффициент R2 равен: 0.4249455\n"
     ]
    }
   ],
   "source": [
    "model = LinearRegression()\n",
    "model.fit(XP, y)\n",
    "r2_on_xp = r2_score(y_true=y, y_pred=model.predict(XP))\n",
    "print(f'Коэффициент R2 равен: {r2_on_xp:{2}.{8}}')"
   ]
  },
  {
   "cell_type": "markdown",
   "metadata": {},
   "source": [
    "Наконец, убеждаемся, что коэффициент $R^2$ не изменился:"
   ]
  },
  {
   "cell_type": "code",
   "execution_count": 70,
   "metadata": {},
   "outputs": [
    {
     "name": "stdout",
     "output_type": "stream",
     "text": [
      "Коэффицинт R2 не изменился в результате домножения X на обратимую матрицу P?\n",
      "\t True\n"
     ]
    }
   ],
   "source": [
    "print(f'Коэффицинт R2 не изменился в результате домножения X на обратимую матрицу P?\\n\\t {np.allclose(r2_on_x - r2_on_xp, 0)}')"
   ]
  },
  {
   "cell_type": "markdown",
   "metadata": {},
   "source": [
    "## Умножение матриц\n",
    "<a id='paragraph1'></a>"
   ]
  },
  {
   "cell_type": "markdown",
   "metadata": {},
   "source": [
    "В этом задании вы можете записывать формулы в *Jupyter Notebook.*\n",
    "\n",
    "Чтобы записать формулу внутри текста, окружите её символами доллара \\\\$; если снаружи —  двойными символами \\\\$\\\\$. Эти формулы записываются на языке вёрстки *LaTeX.* \n",
    "\n",
    "Для примера мы записали формулы линейной регрессии. Можете их скопировать и отредактировать, чтобы решить задачу.\n",
    "\n",
    "Работать в *LaTeX* необязательно."
   ]
  },
  {
   "cell_type": "markdown",
   "metadata": {},
   "source": [
    "Обозначения:\n",
    "\n",
    "- $X$ — матрица признаков (нулевой столбец состоит из единиц)\n",
    "\n",
    "- $y$ — вектор целевого признака\n",
    "\n",
    "- $P$ — матрица, на которую умножаются признаки\n",
    "\n",
    "- $w$ — вектор весов линейной регрессии (нулевой элемент равен сдвигу)"
   ]
  },
  {
   "cell_type": "markdown",
   "metadata": {},
   "source": [
    "Предсказания:\n",
    "\n",
    "$$\n",
    "a = Xw\n",
    "$$\n",
    "\n",
    "Задача обучения:\n",
    "\n",
    "$$\n",
    "w = \\arg\\min_w MSE(Xw, y)\n",
    "$$\n",
    "\n",
    "Формула обучения:\n",
    "\n",
    "$$\n",
    "w = (X^T X)^{-1} X^T y\n",
    "$$"
   ]
  },
  {
   "cell_type": "markdown",
   "metadata": {},
   "source": [
    "---------\n",
    "\n",
    "**Ответ:** \n",
    "\n",
    "<u>Коэфициент $R^2$ не изменится.</u>\n",
    "\n",
    "**Обоснование:** \n",
    "\n",
    "Посставим в формулу для предсказаний выражение весов из формулы обучения:\n",
    "$$\n",
    "a = Xw = X (X^T X)^{-1} X^T y = X X^{-1} (X^T)^{-1} X^T y\n",
    "$$\n",
    "\n",
    "Поскольку:\n",
    "\n",
    "$$\n",
    "X X^{-1} = I\n",
    "$$\n",
    "\n",
    "То, получаем:\n",
    "\n",
    "$$\n",
    "a = I (X^T)^{-1} X^T y = (X^T)^{-1} X^T y\n",
    "$$\n",
    "\n",
    "Далее, поскольку:\n",
    "\n",
    "$$\n",
    "(X^T)^{-1} X^T = I\n",
    "$$\n",
    "\n",
    "То имеем:\n",
    "\n",
    "$$\n",
    "a = (X^T)^{-1} X^T y = I y = y\n",
    "$$\n",
    "$$\n",
    "a = y\n",
    "$$\n",
    "---------------\n",
    "Теперь проделаем те же действия, но в качестве матрицы `X` теперь будем рассматриваеть её же, домноженную справа на `P`, т.е. матрицу `XP`:\n",
    "\n",
    "$$\n",
    "\\widetilde{a} = X P w\n",
    "$$\n",
    "$$\n",
    "w = ((XP)^T (XP))^{-1} (XP)^T y\n",
    "$$\n",
    "$$\n",
    "\\widetilde{a} = XP ((XP)^T (XP))^{-1} (XP)^T y = (XP) (XP)^{-1} ((XP)^T)^{-1} (XP)^T y\n",
    "$$\n",
    "$$\n",
    "\\widetilde{a} = I ((XP)^T)^{-1} (XP)^T y\n",
    "$$\n",
    "$$\n",
    "\\widetilde{a} = I I y\n",
    "$$\n",
    "$$\n",
    "\\widetilde{a} = y\n",
    "$$\n",
    "\n",
    "Мы получили то же самое выражение для предсказаний, что может рассматриваться как обоснование допустимости домножения матрицы признаков на обратимую матрицу без искажения получаемых результатов.\n",
    "\n",
    "--------"
   ]
  },
  {
   "cell_type": "markdown",
   "metadata": {},
   "source": [
    "## Алгоритм преобразования"
   ]
  },
  {
   "cell_type": "markdown",
   "metadata": {},
   "source": [
    "**Алгоритм**\n",
    "\n",
    "Необходимо домножить вхожную матрицу признаков `X` справа на некоторую <u>обратимую</u> матрицу `P`."
   ]
  },
  {
   "cell_type": "markdown",
   "metadata": {},
   "source": [
    "**Обоснование**\n",
    "\n",
    "<u>Было дано [выше](#paragraph1).</u>"
   ]
  },
  {
   "cell_type": "markdown",
   "metadata": {},
   "source": [
    "## Проверка алгоритма"
   ]
  },
  {
   "cell_type": "markdown",
   "metadata": {},
   "source": [
    "<u>Была сделана [выше](#paragraph0).</u>"
   ]
  },
  {
   "cell_type": "markdown",
   "metadata": {},
   "source": [
    "## Чек-лист проверки"
   ]
  },
  {
   "cell_type": "markdown",
   "metadata": {},
   "source": [
    "Поставьте 'x' в выполненных пунктах. Далее нажмите Shift+Enter."
   ]
  },
  {
   "cell_type": "markdown",
   "metadata": {},
   "source": [
    "- [x]  Jupyter Notebook открыт\n",
    "- [ ]  Весь код выполняется без ошибок\n",
    "- [ ]  Ячейки с кодом расположены в порядке исполнения\n",
    "- [ ]  Выполнен шаг 1: данные загружены\n",
    "- [ ]  Выполнен шаг 2: получен ответ на вопрос об умножении матриц\n",
    "    - [ ]  Указан правильный вариант ответа\n",
    "    - [ ]  Вариант обоснован\n",
    "- [ ]  Выполнен шаг 3: предложен алгоритм преобразования\n",
    "    - [ ]  Алгоритм описан\n",
    "    - [ ]  Алгоритм обоснован\n",
    "- [ ]  Выполнен шаг 4: алгоритм проверен\n",
    "    - [ ]  Алгоритм реализован\n",
    "    - [ ]  Проведено сравнение качества моделей до и после преобразования"
   ]
  },
  {
   "cell_type": "code",
   "execution_count": null,
   "metadata": {},
   "outputs": [],
   "source": []
  }
 ],
 "metadata": {
  "kernelspec": {
   "display_name": "Python 3 (ipykernel)",
   "language": "python",
   "name": "python3"
  },
  "language_info": {
   "codemirror_mode": {
    "name": "ipython",
    "version": 3
   },
   "file_extension": ".py",
   "mimetype": "text/x-python",
   "name": "python",
   "nbconvert_exporter": "python",
   "pygments_lexer": "ipython3",
   "version": "3.10.10"
  },
  "toc": {
   "base_numbering": 1,
   "nav_menu": {},
   "number_sections": true,
   "sideBar": true,
   "skip_h1_title": true,
   "title_cell": "Содержание",
   "title_sidebar": "Contents",
   "toc_cell": true,
   "toc_position": {},
   "toc_section_display": true,
   "toc_window_display": true
  }
 },
 "nbformat": 4,
 "nbformat_minor": 4
}
