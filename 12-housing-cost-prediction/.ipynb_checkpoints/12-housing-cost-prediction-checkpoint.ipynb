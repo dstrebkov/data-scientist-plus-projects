{
 "cells": [
  {
   "cell_type": "markdown",
   "id": "bcf9bcec",
   "metadata": {
    "id": "GEqQaHzsZ_bA"
   },
   "source": [
    "## Предсказание стоимости жилья\n",
    "\n",
    "В проекте вам нужно обучить модель линейной регрессии на данных о жилье в Калифорнии в 1990 году. На основе данных нужно предсказать медианную стоимость дома в жилом массиве. Обучите модель и сделайте предсказания на тестовой выборке. Для оценки качества модели используйте метрики RMSE, MAE и R2."
   ]
  },
  {
   "cell_type": "markdown",
   "id": "17aae7cf",
   "metadata": {
    "id": "53871372"
   },
   "source": [
    "# Подготовка данных"
   ]
  },
  {
   "cell_type": "markdown",
   "id": "345cfd8f",
   "metadata": {},
   "source": [
    "Подключаем необходимые модули:"
   ]
  },
  {
   "cell_type": "code",
   "execution_count": 1,
   "id": "5b41064f",
   "metadata": {
    "id": "df92e3ec"
   },
   "outputs": [],
   "source": [
    "import numpy as np\n",
    "import pandas as pd\n",
    "\n",
    "import pyspark\n",
    "from pyspark.sql import SparkSession\n",
    "from pyspark.sql.types import *\n",
    "import pyspark.sql.functions as F\n",
    "from pyspark.ml.feature import StringIndexer, VectorAssembler, StandardScaler, OneHotEncoderEstimator \n",
    "from pyspark.ml.regression import LinearRegression\n",
    "from pyspark.ml.evaluation import RegressionEvaluator\n",
    "    \n",
    "pd.set_option('max_colwidth', 400)\n",
    "\n",
    "RANDOM_SEED = 2022"
   ]
  },
  {
   "cell_type": "markdown",
   "id": "5c9377db",
   "metadata": {},
   "source": [
    "Создаём Spark-сессию, читаем наш набор данных в объект `DataFrame`:"
   ]
  },
  {
   "cell_type": "code",
   "execution_count": 2,
   "id": "687df9ec",
   "metadata": {},
   "outputs": [
    {
     "name": "stdout",
     "output_type": "stream",
     "text": [
      "+---------+--------+------------------+-----------+--------------+----------+----------+-------------+------------------+---------------+\n",
      "|longitude|latitude|housing_median_age|total_rooms|total_bedrooms|population|households|median_income|median_house_value|ocean_proximity|\n",
      "+---------+--------+------------------+-----------+--------------+----------+----------+-------------+------------------+---------------+\n",
      "|  -122.23|   37.88|              41.0|      880.0|         129.0|     322.0|     126.0|       8.3252|          452600.0|       NEAR BAY|\n",
      "|  -122.22|   37.86|              21.0|     7099.0|        1106.0|    2401.0|    1138.0|       8.3014|          358500.0|       NEAR BAY|\n",
      "|  -122.24|   37.85|              52.0|     1467.0|         190.0|     496.0|     177.0|       7.2574|          352100.0|       NEAR BAY|\n",
      "+---------+--------+------------------+-----------+--------------+----------+----------+-------------+------------------+---------------+\n",
      "only showing top 3 rows\n",
      "\n"
     ]
    }
   ],
   "source": [
    "spark = SparkSession.builder \\\n",
    "                    .master(\"local\") \\\n",
    "                    .appName(\"California Housing\") \\\n",
    "                    .getOrCreate()\n",
    "\n",
    "df = spark.read.load('...', format='csv', header=True, inferSchema=True)\n",
    "df.show(3)"
   ]
  },
  {
   "cell_type": "markdown",
   "id": "0b2c9211",
   "metadata": {},
   "source": [
    "Выводим статистическую информацию, а также типы данных колонок датасета:"
   ]
  },
  {
   "cell_type": "code",
   "execution_count": 3,
   "id": "639a0b3c",
   "metadata": {},
   "outputs": [
    {
     "data": {
      "text/html": [
       "<div>\n",
       "<style scoped>\n",
       "    .dataframe tbody tr th:only-of-type {\n",
       "        vertical-align: middle;\n",
       "    }\n",
       "\n",
       "    .dataframe tbody tr th {\n",
       "        vertical-align: top;\n",
       "    }\n",
       "\n",
       "    .dataframe thead th {\n",
       "        text-align: right;\n",
       "    }\n",
       "</style>\n",
       "<table border=\"1\" class=\"dataframe\">\n",
       "  <thead>\n",
       "    <tr style=\"text-align: right;\">\n",
       "      <th></th>\n",
       "      <th>summary</th>\n",
       "      <th>longitude</th>\n",
       "      <th>latitude</th>\n",
       "      <th>housing_median_age</th>\n",
       "      <th>total_rooms</th>\n",
       "      <th>total_bedrooms</th>\n",
       "      <th>population</th>\n",
       "      <th>households</th>\n",
       "      <th>median_income</th>\n",
       "      <th>median_house_value</th>\n",
       "      <th>ocean_proximity</th>\n",
       "    </tr>\n",
       "  </thead>\n",
       "  <tbody>\n",
       "    <tr>\n",
       "      <td>0</td>\n",
       "      <td>count</td>\n",
       "      <td>20640</td>\n",
       "      <td>20640</td>\n",
       "      <td>20640</td>\n",
       "      <td>20640</td>\n",
       "      <td>20433</td>\n",
       "      <td>20640</td>\n",
       "      <td>20640</td>\n",
       "      <td>20640</td>\n",
       "      <td>20640</td>\n",
       "      <td>20640</td>\n",
       "    </tr>\n",
       "    <tr>\n",
       "      <td>1</td>\n",
       "      <td>mean</td>\n",
       "      <td>-119.56970445736148</td>\n",
       "      <td>35.6318614341087</td>\n",
       "      <td>28.639486434108527</td>\n",
       "      <td>2635.7630813953488</td>\n",
       "      <td>537.8705525375618</td>\n",
       "      <td>1425.4767441860465</td>\n",
       "      <td>499.5396802325581</td>\n",
       "      <td>3.8706710029070246</td>\n",
       "      <td>206855.81690891474</td>\n",
       "      <td>None</td>\n",
       "    </tr>\n",
       "    <tr>\n",
       "      <td>2</td>\n",
       "      <td>stddev</td>\n",
       "      <td>2.003531723502584</td>\n",
       "      <td>2.135952397457101</td>\n",
       "      <td>12.58555761211163</td>\n",
       "      <td>2181.6152515827944</td>\n",
       "      <td>421.38507007403115</td>\n",
       "      <td>1132.46212176534</td>\n",
       "      <td>382.3297528316098</td>\n",
       "      <td>1.899821717945263</td>\n",
       "      <td>115395.61587441359</td>\n",
       "      <td>None</td>\n",
       "    </tr>\n",
       "    <tr>\n",
       "      <td>3</td>\n",
       "      <td>min</td>\n",
       "      <td>-124.35</td>\n",
       "      <td>32.54</td>\n",
       "      <td>1.0</td>\n",
       "      <td>2.0</td>\n",
       "      <td>1.0</td>\n",
       "      <td>3.0</td>\n",
       "      <td>1.0</td>\n",
       "      <td>0.4999</td>\n",
       "      <td>14999.0</td>\n",
       "      <td>&lt;1H OCEAN</td>\n",
       "    </tr>\n",
       "    <tr>\n",
       "      <td>4</td>\n",
       "      <td>max</td>\n",
       "      <td>-114.31</td>\n",
       "      <td>41.95</td>\n",
       "      <td>52.0</td>\n",
       "      <td>39320.0</td>\n",
       "      <td>6445.0</td>\n",
       "      <td>35682.0</td>\n",
       "      <td>6082.0</td>\n",
       "      <td>15.0001</td>\n",
       "      <td>500001.0</td>\n",
       "      <td>NEAR OCEAN</td>\n",
       "    </tr>\n",
       "  </tbody>\n",
       "</table>\n",
       "</div>"
      ],
      "text/plain": [
       "  summary            longitude           latitude  housing_median_age  \\\n",
       "0   count                20640              20640               20640   \n",
       "1    mean  -119.56970445736148   35.6318614341087  28.639486434108527   \n",
       "2  stddev    2.003531723502584  2.135952397457101   12.58555761211163   \n",
       "3     min              -124.35              32.54                 1.0   \n",
       "4     max              -114.31              41.95                52.0   \n",
       "\n",
       "          total_rooms      total_bedrooms          population  \\\n",
       "0               20640               20433               20640   \n",
       "1  2635.7630813953488   537.8705525375618  1425.4767441860465   \n",
       "2  2181.6152515827944  421.38507007403115    1132.46212176534   \n",
       "3                 2.0                 1.0                 3.0   \n",
       "4             39320.0              6445.0             35682.0   \n",
       "\n",
       "          households       median_income  median_house_value ocean_proximity  \n",
       "0              20640               20640               20640           20640  \n",
       "1  499.5396802325581  3.8706710029070246  206855.81690891474            None  \n",
       "2  382.3297528316098   1.899821717945263  115395.61587441359            None  \n",
       "3                1.0              0.4999             14999.0       <1H OCEAN  \n",
       "4             6082.0             15.0001            500001.0      NEAR OCEAN  "
      ]
     },
     "metadata": {},
     "output_type": "display_data"
    },
    {
     "data": {
      "text/plain": [
       "[('longitude', 'double'),\n",
       " ('latitude', 'double'),\n",
       " ('housing_median_age', 'double'),\n",
       " ('total_rooms', 'double'),\n",
       " ('total_bedrooms', 'double'),\n",
       " ('population', 'double'),\n",
       " ('households', 'double'),\n",
       " ('median_income', 'double'),\n",
       " ('median_house_value', 'double'),\n",
       " ('ocean_proximity', 'string')]"
      ]
     },
     "metadata": {},
     "output_type": "display_data"
    }
   ],
   "source": [
    "display(df.describe().toPandas())\n",
    "display(df.dtypes)"
   ]
  },
  {
   "cell_type": "markdown",
   "id": "88a1c8b5",
   "metadata": {},
   "source": [
    "Исследуем данные на наличие пропусков:"
   ]
  },
  {
   "cell_type": "code",
   "execution_count": 4,
   "id": "1b3f7f57",
   "metadata": {},
   "outputs": [
    {
     "name": "stdout",
     "output_type": "stream",
     "text": [
      "N/A count for column \"longitude\" = 0\n",
      "N/A count for column \"latitude\" = 0\n",
      "N/A count for column \"housing_median_age\" = 0\n",
      "N/A count for column \"total_rooms\" = 0\n",
      "N/A count for column \"total_bedrooms\" = 207\n",
      "N/A count for column \"population\" = 0\n",
      "N/A count for column \"households\" = 0\n",
      "N/A count for column \"median_income\" = 0\n",
      "N/A count for column \"median_house_value\" = 0\n",
      "N/A count for column \"ocean_proximity\" = 0\n"
     ]
    }
   ],
   "source": [
    "for c in df.columns:\n",
    "    print(f'N/A count for column \"{c}\" = {df.filter(df[c].isNull()).count()}')"
   ]
  },
  {
   "cell_type": "markdown",
   "id": "708f6744",
   "metadata": {},
   "source": [
    "Видим, что пропуски есть только в столбце `total_bedrooms`.\n",
    "\n",
    "Выполним их заполнение средним значением по данному столбцу, а затем убедимся, что пропусков в данных больше не осталось:"
   ]
  },
  {
   "cell_type": "code",
   "execution_count": 5,
   "id": "4f91cba6",
   "metadata": {},
   "outputs": [
    {
     "name": "stdout",
     "output_type": "stream",
     "text": [
      "N/A count for column \"longitude\" = 0\n",
      "N/A count for column \"latitude\" = 0\n",
      "N/A count for column \"housing_median_age\" = 0\n",
      "N/A count for column \"total_rooms\" = 0\n",
      "N/A count for column \"total_bedrooms\" = 0\n",
      "N/A count for column \"population\" = 0\n",
      "N/A count for column \"households\" = 0\n",
      "N/A count for column \"median_income\" = 0\n",
      "N/A count for column \"median_house_value\" = 0\n",
      "N/A count for column \"ocean_proximity\" = 0\n"
     ]
    }
   ],
   "source": [
    "avg_bedrooms = df.select(F.mean('total_bedrooms')).collect()[0][0]\n",
    "df = df.fillna(avg_bedrooms)\n",
    "\n",
    "for c in df.columns:\n",
    "    print(f'N/A count for column \"{c}\" = {df.filter(df[c].isNull()).count()}')"
   ]
  },
  {
   "cell_type": "markdown",
   "id": "9b755534",
   "metadata": {},
   "source": [
    "Преобразуем колонку `ocean_proximity` через `StringIndexer` и `OneHotEncoderEstimator` в числовой вид:"
   ]
  },
  {
   "cell_type": "code",
   "execution_count": 6,
   "id": "c4f10189",
   "metadata": {},
   "outputs": [
    {
     "data": {
      "text/html": [
       "<div>\n",
       "<style scoped>\n",
       "    .dataframe tbody tr th:only-of-type {\n",
       "        vertical-align: middle;\n",
       "    }\n",
       "\n",
       "    .dataframe tbody tr th {\n",
       "        vertical-align: top;\n",
       "    }\n",
       "\n",
       "    .dataframe thead th {\n",
       "        text-align: right;\n",
       "    }\n",
       "</style>\n",
       "<table border=\"1\" class=\"dataframe\">\n",
       "  <thead>\n",
       "    <tr style=\"text-align: right;\">\n",
       "      <th></th>\n",
       "      <th>longitude</th>\n",
       "      <th>latitude</th>\n",
       "      <th>housing_median_age</th>\n",
       "      <th>total_rooms</th>\n",
       "      <th>total_bedrooms</th>\n",
       "      <th>population</th>\n",
       "      <th>households</th>\n",
       "      <th>median_income</th>\n",
       "      <th>median_house_value</th>\n",
       "      <th>ocean_proximity</th>\n",
       "    </tr>\n",
       "  </thead>\n",
       "  <tbody>\n",
       "    <tr>\n",
       "      <td>18219</td>\n",
       "      <td>-122.07</td>\n",
       "      <td>37.41</td>\n",
       "      <td>26.0</td>\n",
       "      <td>1184.0</td>\n",
       "      <td>225.0</td>\n",
       "      <td>815.0</td>\n",
       "      <td>218.0</td>\n",
       "      <td>5.7657</td>\n",
       "      <td>322300.0</td>\n",
       "      <td>NEAR BAY</td>\n",
       "    </tr>\n",
       "    <tr>\n",
       "      <td>10848</td>\n",
       "      <td>-117.91</td>\n",
       "      <td>33.66</td>\n",
       "      <td>26.0</td>\n",
       "      <td>5761.0</td>\n",
       "      <td>1326.0</td>\n",
       "      <td>2681.0</td>\n",
       "      <td>1116.0</td>\n",
       "      <td>4.0341</td>\n",
       "      <td>243300.0</td>\n",
       "      <td>&lt;1H OCEAN</td>\n",
       "    </tr>\n",
       "    <tr>\n",
       "      <td>15119</td>\n",
       "      <td>-116.93</td>\n",
       "      <td>32.85</td>\n",
       "      <td>15.0</td>\n",
       "      <td>3273.0</td>\n",
       "      <td>895.0</td>\n",
       "      <td>1872.0</td>\n",
       "      <td>842.0</td>\n",
       "      <td>2.5388</td>\n",
       "      <td>119000.0</td>\n",
       "      <td>&lt;1H OCEAN</td>\n",
       "    </tr>\n",
       "    <tr>\n",
       "      <td>8997</td>\n",
       "      <td>-118.34</td>\n",
       "      <td>34.00</td>\n",
       "      <td>44.0</td>\n",
       "      <td>3183.0</td>\n",
       "      <td>513.0</td>\n",
       "      <td>1183.0</td>\n",
       "      <td>473.0</td>\n",
       "      <td>5.0407</td>\n",
       "      <td>314900.0</td>\n",
       "      <td>&lt;1H OCEAN</td>\n",
       "    </tr>\n",
       "    <tr>\n",
       "      <td>12807</td>\n",
       "      <td>-121.45</td>\n",
       "      <td>38.61</td>\n",
       "      <td>34.0</td>\n",
       "      <td>438.0</td>\n",
       "      <td>116.0</td>\n",
       "      <td>263.0</td>\n",
       "      <td>100.0</td>\n",
       "      <td>0.9379</td>\n",
       "      <td>67500.0</td>\n",
       "      <td>INLAND</td>\n",
       "    </tr>\n",
       "  </tbody>\n",
       "</table>\n",
       "</div>"
      ],
      "text/plain": [
       "       longitude  latitude  housing_median_age  total_rooms  total_bedrooms  \\\n",
       "18219    -122.07     37.41                26.0       1184.0           225.0   \n",
       "10848    -117.91     33.66                26.0       5761.0          1326.0   \n",
       "15119    -116.93     32.85                15.0       3273.0           895.0   \n",
       "8997     -118.34     34.00                44.0       3183.0           513.0   \n",
       "12807    -121.45     38.61                34.0        438.0           116.0   \n",
       "\n",
       "       population  households  median_income  median_house_value  \\\n",
       "18219       815.0       218.0         5.7657            322300.0   \n",
       "10848      2681.0      1116.0         4.0341            243300.0   \n",
       "15119      1872.0       842.0         2.5388            119000.0   \n",
       "8997       1183.0       473.0         5.0407            314900.0   \n",
       "12807       263.0       100.0         0.9379             67500.0   \n",
       "\n",
       "      ocean_proximity  \n",
       "18219        NEAR BAY  \n",
       "10848       <1H OCEAN  \n",
       "15119       <1H OCEAN  \n",
       "8997        <1H OCEAN  \n",
       "12807          INLAND  "
      ]
     },
     "metadata": {},
     "output_type": "display_data"
    },
    {
     "data": {
      "text/html": [
       "<div>\n",
       "<style scoped>\n",
       "    .dataframe tbody tr th:only-of-type {\n",
       "        vertical-align: middle;\n",
       "    }\n",
       "\n",
       "    .dataframe tbody tr th {\n",
       "        vertical-align: top;\n",
       "    }\n",
       "\n",
       "    .dataframe thead th {\n",
       "        text-align: right;\n",
       "    }\n",
       "</style>\n",
       "<table border=\"1\" class=\"dataframe\">\n",
       "  <thead>\n",
       "    <tr style=\"text-align: right;\">\n",
       "      <th></th>\n",
       "      <th>longitude</th>\n",
       "      <th>latitude</th>\n",
       "      <th>housing_median_age</th>\n",
       "      <th>total_rooms</th>\n",
       "      <th>total_bedrooms</th>\n",
       "      <th>population</th>\n",
       "      <th>households</th>\n",
       "      <th>median_income</th>\n",
       "      <th>median_house_value</th>\n",
       "      <th>ocean_proximity</th>\n",
       "      <th>ocean_proximity_idx</th>\n",
       "    </tr>\n",
       "  </thead>\n",
       "  <tbody>\n",
       "    <tr>\n",
       "      <td>18219</td>\n",
       "      <td>-122.07</td>\n",
       "      <td>37.41</td>\n",
       "      <td>26.0</td>\n",
       "      <td>1184.0</td>\n",
       "      <td>225.0</td>\n",
       "      <td>815.0</td>\n",
       "      <td>218.0</td>\n",
       "      <td>5.7657</td>\n",
       "      <td>322300.0</td>\n",
       "      <td>NEAR BAY</td>\n",
       "      <td>3.0</td>\n",
       "    </tr>\n",
       "    <tr>\n",
       "      <td>10848</td>\n",
       "      <td>-117.91</td>\n",
       "      <td>33.66</td>\n",
       "      <td>26.0</td>\n",
       "      <td>5761.0</td>\n",
       "      <td>1326.0</td>\n",
       "      <td>2681.0</td>\n",
       "      <td>1116.0</td>\n",
       "      <td>4.0341</td>\n",
       "      <td>243300.0</td>\n",
       "      <td>&lt;1H OCEAN</td>\n",
       "      <td>0.0</td>\n",
       "    </tr>\n",
       "    <tr>\n",
       "      <td>15119</td>\n",
       "      <td>-116.93</td>\n",
       "      <td>32.85</td>\n",
       "      <td>15.0</td>\n",
       "      <td>3273.0</td>\n",
       "      <td>895.0</td>\n",
       "      <td>1872.0</td>\n",
       "      <td>842.0</td>\n",
       "      <td>2.5388</td>\n",
       "      <td>119000.0</td>\n",
       "      <td>&lt;1H OCEAN</td>\n",
       "      <td>0.0</td>\n",
       "    </tr>\n",
       "    <tr>\n",
       "      <td>8997</td>\n",
       "      <td>-118.34</td>\n",
       "      <td>34.00</td>\n",
       "      <td>44.0</td>\n",
       "      <td>3183.0</td>\n",
       "      <td>513.0</td>\n",
       "      <td>1183.0</td>\n",
       "      <td>473.0</td>\n",
       "      <td>5.0407</td>\n",
       "      <td>314900.0</td>\n",
       "      <td>&lt;1H OCEAN</td>\n",
       "      <td>0.0</td>\n",
       "    </tr>\n",
       "    <tr>\n",
       "      <td>12807</td>\n",
       "      <td>-121.45</td>\n",
       "      <td>38.61</td>\n",
       "      <td>34.0</td>\n",
       "      <td>438.0</td>\n",
       "      <td>116.0</td>\n",
       "      <td>263.0</td>\n",
       "      <td>100.0</td>\n",
       "      <td>0.9379</td>\n",
       "      <td>67500.0</td>\n",
       "      <td>INLAND</td>\n",
       "      <td>1.0</td>\n",
       "    </tr>\n",
       "  </tbody>\n",
       "</table>\n",
       "</div>"
      ],
      "text/plain": [
       "       longitude  latitude  housing_median_age  total_rooms  total_bedrooms  \\\n",
       "18219    -122.07     37.41                26.0       1184.0           225.0   \n",
       "10848    -117.91     33.66                26.0       5761.0          1326.0   \n",
       "15119    -116.93     32.85                15.0       3273.0           895.0   \n",
       "8997     -118.34     34.00                44.0       3183.0           513.0   \n",
       "12807    -121.45     38.61                34.0        438.0           116.0   \n",
       "\n",
       "       population  households  median_income  median_house_value  \\\n",
       "18219       815.0       218.0         5.7657            322300.0   \n",
       "10848      2681.0      1116.0         4.0341            243300.0   \n",
       "15119      1872.0       842.0         2.5388            119000.0   \n",
       "8997       1183.0       473.0         5.0407            314900.0   \n",
       "12807       263.0       100.0         0.9379             67500.0   \n",
       "\n",
       "      ocean_proximity  ocean_proximity_idx  \n",
       "18219        NEAR BAY                  3.0  \n",
       "10848       <1H OCEAN                  0.0  \n",
       "15119       <1H OCEAN                  0.0  \n",
       "8997        <1H OCEAN                  0.0  \n",
       "12807          INLAND                  1.0  "
      ]
     },
     "metadata": {},
     "output_type": "display_data"
    },
    {
     "data": {
      "text/html": [
       "<div>\n",
       "<style scoped>\n",
       "    .dataframe tbody tr th:only-of-type {\n",
       "        vertical-align: middle;\n",
       "    }\n",
       "\n",
       "    .dataframe tbody tr th {\n",
       "        vertical-align: top;\n",
       "    }\n",
       "\n",
       "    .dataframe thead th {\n",
       "        text-align: right;\n",
       "    }\n",
       "</style>\n",
       "<table border=\"1\" class=\"dataframe\">\n",
       "  <thead>\n",
       "    <tr style=\"text-align: right;\">\n",
       "      <th></th>\n",
       "      <th>longitude</th>\n",
       "      <th>latitude</th>\n",
       "      <th>housing_median_age</th>\n",
       "      <th>total_rooms</th>\n",
       "      <th>total_bedrooms</th>\n",
       "      <th>population</th>\n",
       "      <th>households</th>\n",
       "      <th>median_income</th>\n",
       "      <th>median_house_value</th>\n",
       "      <th>ocean_proximity</th>\n",
       "      <th>ocean_proximity_idx</th>\n",
       "      <th>categorical_features</th>\n",
       "    </tr>\n",
       "  </thead>\n",
       "  <tbody>\n",
       "    <tr>\n",
       "      <td>18219</td>\n",
       "      <td>-122.07</td>\n",
       "      <td>37.41</td>\n",
       "      <td>26.0</td>\n",
       "      <td>1184.0</td>\n",
       "      <td>225.0</td>\n",
       "      <td>815.0</td>\n",
       "      <td>218.0</td>\n",
       "      <td>5.7657</td>\n",
       "      <td>322300.0</td>\n",
       "      <td>NEAR BAY</td>\n",
       "      <td>3.0</td>\n",
       "      <td>(0.0, 0.0, 0.0, 1.0)</td>\n",
       "    </tr>\n",
       "    <tr>\n",
       "      <td>10848</td>\n",
       "      <td>-117.91</td>\n",
       "      <td>33.66</td>\n",
       "      <td>26.0</td>\n",
       "      <td>5761.0</td>\n",
       "      <td>1326.0</td>\n",
       "      <td>2681.0</td>\n",
       "      <td>1116.0</td>\n",
       "      <td>4.0341</td>\n",
       "      <td>243300.0</td>\n",
       "      <td>&lt;1H OCEAN</td>\n",
       "      <td>0.0</td>\n",
       "      <td>(1.0, 0.0, 0.0, 0.0)</td>\n",
       "    </tr>\n",
       "    <tr>\n",
       "      <td>15119</td>\n",
       "      <td>-116.93</td>\n",
       "      <td>32.85</td>\n",
       "      <td>15.0</td>\n",
       "      <td>3273.0</td>\n",
       "      <td>895.0</td>\n",
       "      <td>1872.0</td>\n",
       "      <td>842.0</td>\n",
       "      <td>2.5388</td>\n",
       "      <td>119000.0</td>\n",
       "      <td>&lt;1H OCEAN</td>\n",
       "      <td>0.0</td>\n",
       "      <td>(1.0, 0.0, 0.0, 0.0)</td>\n",
       "    </tr>\n",
       "    <tr>\n",
       "      <td>8997</td>\n",
       "      <td>-118.34</td>\n",
       "      <td>34.00</td>\n",
       "      <td>44.0</td>\n",
       "      <td>3183.0</td>\n",
       "      <td>513.0</td>\n",
       "      <td>1183.0</td>\n",
       "      <td>473.0</td>\n",
       "      <td>5.0407</td>\n",
       "      <td>314900.0</td>\n",
       "      <td>&lt;1H OCEAN</td>\n",
       "      <td>0.0</td>\n",
       "      <td>(1.0, 0.0, 0.0, 0.0)</td>\n",
       "    </tr>\n",
       "    <tr>\n",
       "      <td>12807</td>\n",
       "      <td>-121.45</td>\n",
       "      <td>38.61</td>\n",
       "      <td>34.0</td>\n",
       "      <td>438.0</td>\n",
       "      <td>116.0</td>\n",
       "      <td>263.0</td>\n",
       "      <td>100.0</td>\n",
       "      <td>0.9379</td>\n",
       "      <td>67500.0</td>\n",
       "      <td>INLAND</td>\n",
       "      <td>1.0</td>\n",
       "      <td>(0.0, 1.0, 0.0, 0.0)</td>\n",
       "    </tr>\n",
       "  </tbody>\n",
       "</table>\n",
       "</div>"
      ],
      "text/plain": [
       "       longitude  latitude  housing_median_age  total_rooms  total_bedrooms  \\\n",
       "18219    -122.07     37.41                26.0       1184.0           225.0   \n",
       "10848    -117.91     33.66                26.0       5761.0          1326.0   \n",
       "15119    -116.93     32.85                15.0       3273.0           895.0   \n",
       "8997     -118.34     34.00                44.0       3183.0           513.0   \n",
       "12807    -121.45     38.61                34.0        438.0           116.0   \n",
       "\n",
       "       population  households  median_income  median_house_value  \\\n",
       "18219       815.0       218.0         5.7657            322300.0   \n",
       "10848      2681.0      1116.0         4.0341            243300.0   \n",
       "15119      1872.0       842.0         2.5388            119000.0   \n",
       "8997       1183.0       473.0         5.0407            314900.0   \n",
       "12807       263.0       100.0         0.9379             67500.0   \n",
       "\n",
       "      ocean_proximity  ocean_proximity_idx  categorical_features  \n",
       "18219        NEAR BAY                  3.0  (0.0, 0.0, 0.0, 1.0)  \n",
       "10848       <1H OCEAN                  0.0  (1.0, 0.0, 0.0, 0.0)  \n",
       "15119       <1H OCEAN                  0.0  (1.0, 0.0, 0.0, 0.0)  \n",
       "8997        <1H OCEAN                  0.0  (1.0, 0.0, 0.0, 0.0)  \n",
       "12807          INLAND                  1.0  (0.0, 1.0, 0.0, 0.0)  "
      ]
     },
     "metadata": {},
     "output_type": "display_data"
    }
   ],
   "source": [
    "numerical_cols = ['longitude', 'latitude', 'housing_median_age', 'total_rooms',\n",
    "                    'total_bedrooms', 'population', 'households', 'median_income']\n",
    "target = \"median_house_value\"\n",
    "\n",
    "display(df.toPandas().sample(5, random_state=12345))\n",
    "\n",
    "indexer = StringIndexer(inputCol='ocean_proximity', outputCol='ocean_proximity_idx')\n",
    "df = indexer.fit(df).transform(df)\n",
    "\n",
    "display(df.toPandas().sample(5, random_state=12345))\n",
    "\n",
    "encoder = OneHotEncoderEstimator(inputCols=['ocean_proximity_idx'], outputCols=['categorical_features'])\n",
    "df = encoder.fit(df).transform(df)\n",
    "\n",
    "display(df.toPandas().sample(5, random_state=12345))"
   ]
  },
  {
   "cell_type": "markdown",
   "id": "69547a03",
   "metadata": {},
   "source": [
    "Векторизуем числовые столбцы, а затем выполняем их шкалирование через `StandardScaler`:"
   ]
  },
  {
   "cell_type": "code",
   "execution_count": 7,
   "id": "26a51f9f",
   "metadata": {},
   "outputs": [],
   "source": [
    "numerical_assembler = VectorAssembler(inputCols=numerical_cols, outputCol=\"numerical_features_raw\")\n",
    "df = numerical_assembler.transform(df)\n",
    "\n",
    "standardScaler = StandardScaler(inputCol='numerical_features_raw', outputCol=\"numerical_features\")\n",
    "df = standardScaler.fit(df).transform(df)"
   ]
  },
  {
   "cell_type": "markdown",
   "id": "6b264305",
   "metadata": {},
   "source": [
    "Формируем набор данных со всеми признаками (включая преобразованный категориальный), получая тем самым `df_all_features`, а также набор данных только с числовыми признаками, получая `df_numerical_features`:"
   ]
  },
  {
   "cell_type": "code",
   "execution_count": 8,
   "id": "a3a6fe94",
   "metadata": {},
   "outputs": [
    {
     "data": {
      "text/html": [
       "<div>\n",
       "<style scoped>\n",
       "    .dataframe tbody tr th:only-of-type {\n",
       "        vertical-align: middle;\n",
       "    }\n",
       "\n",
       "    .dataframe tbody tr th {\n",
       "        vertical-align: top;\n",
       "    }\n",
       "\n",
       "    .dataframe thead th {\n",
       "        text-align: right;\n",
       "    }\n",
       "</style>\n",
       "<table border=\"1\" class=\"dataframe\">\n",
       "  <thead>\n",
       "    <tr style=\"text-align: right;\">\n",
       "      <th></th>\n",
       "      <th>features</th>\n",
       "      <th>numerical_features</th>\n",
       "      <th>median_house_value</th>\n",
       "    </tr>\n",
       "  </thead>\n",
       "  <tbody>\n",
       "    <tr>\n",
       "      <td>0</td>\n",
       "      <td>[0.0, 0.0, 0.0, 1.0, -61.00726959606955, 17.734477624640412, 3.2577023016083064, 0.40337085073160667, 0.30768013087921575, 0.2843362208866199, 0.3295584480852433, 4.382095394195227]</td>\n",
       "      <td>[-61.00726959606955, 17.734477624640412, 3.2577023016083064, 0.40337085073160667, 0.30768013087921575, 0.2843362208866199, 0.3295584480852433, 4.382095394195227]</td>\n",
       "      <td>452600.0</td>\n",
       "    </tr>\n",
       "    <tr>\n",
       "      <td>1</td>\n",
       "      <td>[0.0, 0.0, 0.0, 1.0, -61.002278409814444, 17.725114120086744, 1.668579227653035, 3.2540109878905406, 2.6379397267628883, 2.1201592122632746, 2.9764882057222772, 4.369567902917918]</td>\n",
       "      <td>[-61.002278409814444, 17.725114120086744, 1.668579227653035, 3.2540109878905406, 2.6379397267628883, 2.1201592122632746, 2.9764882057222772, 4.369567902917918]</td>\n",
       "      <td>358500.0</td>\n",
       "    </tr>\n",
       "    <tr>\n",
       "      <td>2</td>\n",
       "      <td>[0.0, 0.0, 0.0, 1.0, -61.012260782324645, 17.720432367809913, 4.131719992283705, 0.6724375432082579, 0.453172285791093, 0.4379837439744208, 0.4629511532626037, 3.820042655291457]</td>\n",
       "      <td>[-61.012260782324645, 17.720432367809913, 4.131719992283705, 0.6724375432082579, 0.453172285791093, 0.4379837439744208, 0.4629511532626037, 3.820042655291457]</td>\n",
       "      <td>352100.0</td>\n",
       "    </tr>\n",
       "    <tr>\n",
       "      <td>3</td>\n",
       "      <td>[0.0, 0.0, 0.0, 1.0, -61.01725196857974, 17.720432367809913, 4.131719992283705, 0.5839709816273487, 0.5605025640047729, 0.4927317119712234, 0.5728039692910182, 2.970331345671345]</td>\n",
       "      <td>[-61.01725196857974, 17.720432367809913, 4.131719992283705, 0.5839709816273487, 0.5605025640047729, 0.4927317119712234, 0.5728039692910182, 2.970331345671345]</td>\n",
       "      <td>341300.0</td>\n",
       "    </tr>\n",
       "    <tr>\n",
       "      <td>4</td>\n",
       "      <td>[0.0, 0.0, 0.0, 1.0, -61.01725196857974, 17.720432367809913, 4.131719992283705, 0.7457776978867319, 0.6678328422184528, 0.4989129341644108, 0.6774256988418891, 2.024505754234575]</td>\n",
       "      <td>[-61.01725196857974, 17.720432367809913, 4.131719992283705, 0.7457776978867319, 0.6678328422184528, 0.4989129341644108, 0.6774256988418891, 2.024505754234575]</td>\n",
       "      <td>342200.0</td>\n",
       "    </tr>\n",
       "  </tbody>\n",
       "</table>\n",
       "</div>"
      ],
      "text/plain": [
       "                                                                                                                                                                                features  \\\n",
       "0  [0.0, 0.0, 0.0, 1.0, -61.00726959606955, 17.734477624640412, 3.2577023016083064, 0.40337085073160667, 0.30768013087921575, 0.2843362208866199, 0.3295584480852433, 4.382095394195227]   \n",
       "1    [0.0, 0.0, 0.0, 1.0, -61.002278409814444, 17.725114120086744, 1.668579227653035, 3.2540109878905406, 2.6379397267628883, 2.1201592122632746, 2.9764882057222772, 4.369567902917918]   \n",
       "2     [0.0, 0.0, 0.0, 1.0, -61.012260782324645, 17.720432367809913, 4.131719992283705, 0.6724375432082579, 0.453172285791093, 0.4379837439744208, 0.4629511532626037, 3.820042655291457]   \n",
       "3     [0.0, 0.0, 0.0, 1.0, -61.01725196857974, 17.720432367809913, 4.131719992283705, 0.5839709816273487, 0.5605025640047729, 0.4927317119712234, 0.5728039692910182, 2.970331345671345]   \n",
       "4     [0.0, 0.0, 0.0, 1.0, -61.01725196857974, 17.720432367809913, 4.131719992283705, 0.7457776978867319, 0.6678328422184528, 0.4989129341644108, 0.6774256988418891, 2.024505754234575]   \n",
       "\n",
       "                                                                                                                                                  numerical_features  \\\n",
       "0  [-61.00726959606955, 17.734477624640412, 3.2577023016083064, 0.40337085073160667, 0.30768013087921575, 0.2843362208866199, 0.3295584480852433, 4.382095394195227]   \n",
       "1    [-61.002278409814444, 17.725114120086744, 1.668579227653035, 3.2540109878905406, 2.6379397267628883, 2.1201592122632746, 2.9764882057222772, 4.369567902917918]   \n",
       "2     [-61.012260782324645, 17.720432367809913, 4.131719992283705, 0.6724375432082579, 0.453172285791093, 0.4379837439744208, 0.4629511532626037, 3.820042655291457]   \n",
       "3     [-61.01725196857974, 17.720432367809913, 4.131719992283705, 0.5839709816273487, 0.5605025640047729, 0.4927317119712234, 0.5728039692910182, 2.970331345671345]   \n",
       "4     [-61.01725196857974, 17.720432367809913, 4.131719992283705, 0.7457776978867319, 0.6678328422184528, 0.4989129341644108, 0.6774256988418891, 2.024505754234575]   \n",
       "\n",
       "   median_house_value  \n",
       "0            452600.0  \n",
       "1            358500.0  \n",
       "2            352100.0  \n",
       "3            341300.0  \n",
       "4            342200.0  "
      ]
     },
     "metadata": {},
     "output_type": "display_data"
    }
   ],
   "source": [
    "all_features = 'features'\n",
    "numerical_features = 'numerical_features'\n",
    "\n",
    "final_assembler = VectorAssembler(inputCols=['categorical_features', 'numerical_features'], outputCol=all_features)\n",
    "df_final = final_assembler.transform(df)[all_features, numerical_features, target]\n",
    "\n",
    "display(df_final.toPandas().head(5))"
   ]
  },
  {
   "cell_type": "markdown",
   "id": "f703012e",
   "metadata": {
    "id": "9f0a82f3"
   },
   "source": [
    "# Обучение моделей"
   ]
  },
  {
   "cell_type": "markdown",
   "id": "71e13fd2",
   "metadata": {},
   "source": [
    "Выполним разделение наборов данных на тренировочную и тестовую части:"
   ]
  },
  {
   "cell_type": "code",
   "execution_count": 9,
   "id": "afc2ff79",
   "metadata": {
    "id": "bddb08c4"
   },
   "outputs": [
    {
     "name": "stdout",
     "output_type": "stream",
     "text": [
      "Train datset split size 16437:\n"
     ]
    },
    {
     "data": {
      "text/html": [
       "<div>\n",
       "<style scoped>\n",
       "    .dataframe tbody tr th:only-of-type {\n",
       "        vertical-align: middle;\n",
       "    }\n",
       "\n",
       "    .dataframe tbody tr th {\n",
       "        vertical-align: top;\n",
       "    }\n",
       "\n",
       "    .dataframe thead th {\n",
       "        text-align: right;\n",
       "    }\n",
       "</style>\n",
       "<table border=\"1\" class=\"dataframe\">\n",
       "  <thead>\n",
       "    <tr style=\"text-align: right;\">\n",
       "      <th></th>\n",
       "      <th>features</th>\n",
       "      <th>median_house_value</th>\n",
       "    </tr>\n",
       "  </thead>\n",
       "  <tbody>\n",
       "    <tr>\n",
       "      <td>655</td>\n",
       "      <td>[0.0, 0.0, 0.0, 1.0, -61.042207899855235, 17.7766133951319, 2.780965379421725, 0.8301188757669768, 0.899189219701274, 0.8044419168562447, 0.8892847011824027, 1.7764824815510607]</td>\n",
       "      <td>149700.0</td>\n",
       "    </tr>\n",
       "    <tr>\n",
       "      <td>4799</td>\n",
       "      <td>[0.0, 1.0, 0.0, 0.0, -60.642912999447354, 18.024746265804005, 2.3042284572351437, 0.9392123558512069, 0.7870887069003194, 0.6949459808626394, 0.8082028607804776, 1.969342683400041]</td>\n",
       "      <td>98500.0</td>\n",
       "    </tr>\n",
       "    <tr>\n",
       "      <td>3334</td>\n",
       "      <td>[0.0, 0.0, 1.0, 0.0, -58.506685282265174, 15.332738706625486, 2.7015092257239615, 2.750714176409513, 2.6498653132310754, 2.3435662429599047, 2.80386235196334, 2.414858171514061]</td>\n",
       "      <td>291000.0</td>\n",
       "    </tr>\n",
       "    <tr>\n",
       "      <td>6984</td>\n",
       "      <td>[0.0, 1.0, 0.0, 0.0, -59.674622865958234, 16.901125719364277, 2.3042284572351437, 0.19435140989795593, 0.18603914890371184, 0.2507810146950313, 0.19093465643033938, 0.8060229997034487]</td>\n",
       "      <td>43800.0</td>\n",
       "    </tr>\n",
       "    <tr>\n",
       "      <td>1743</td>\n",
       "      <td>[0.0, 0.0, 0.0, 1.0, -60.90744587096758, 17.58466155178178, 1.9069476887463257, 3.870526663156462, 3.5585950021068986, 3.9259591244158765, 3.8997749690087127, 2.4727583412831327]</td>\n",
       "      <td>240300.0</td>\n",
       "    </tr>\n",
       "  </tbody>\n",
       "</table>\n",
       "</div>"
      ],
      "text/plain": [
       "                                                                                                                                                                                      features  \\\n",
       "655          [0.0, 0.0, 0.0, 1.0, -61.042207899855235, 17.7766133951319, 2.780965379421725, 0.8301188757669768, 0.899189219701274, 0.8044419168562447, 0.8892847011824027, 1.7764824815510607]   \n",
       "4799      [0.0, 1.0, 0.0, 0.0, -60.642912999447354, 18.024746265804005, 2.3042284572351437, 0.9392123558512069, 0.7870887069003194, 0.6949459808626394, 0.8082028607804776, 1.969342683400041]   \n",
       "3334         [0.0, 0.0, 1.0, 0.0, -58.506685282265174, 15.332738706625486, 2.7015092257239615, 2.750714176409513, 2.6498653132310754, 2.3435662429599047, 2.80386235196334, 2.414858171514061]   \n",
       "6984  [0.0, 1.0, 0.0, 0.0, -59.674622865958234, 16.901125719364277, 2.3042284572351437, 0.19435140989795593, 0.18603914890371184, 0.2507810146950313, 0.19093465643033938, 0.8060229997034487]   \n",
       "1743        [0.0, 0.0, 0.0, 1.0, -60.90744587096758, 17.58466155178178, 1.9069476887463257, 3.870526663156462, 3.5585950021068986, 3.9259591244158765, 3.8997749690087127, 2.4727583412831327]   \n",
       "\n",
       "      median_house_value  \n",
       "655             149700.0  \n",
       "4799             98500.0  \n",
       "3334            291000.0  \n",
       "6984             43800.0  \n",
       "1743            240300.0  "
      ]
     },
     "metadata": {},
     "output_type": "display_data"
    },
    {
     "data": {
      "text/html": [
       "<div>\n",
       "<style scoped>\n",
       "    .dataframe tbody tr th:only-of-type {\n",
       "        vertical-align: middle;\n",
       "    }\n",
       "\n",
       "    .dataframe tbody tr th {\n",
       "        vertical-align: top;\n",
       "    }\n",
       "\n",
       "    .dataframe thead th {\n",
       "        text-align: right;\n",
       "    }\n",
       "</style>\n",
       "<table border=\"1\" class=\"dataframe\">\n",
       "  <thead>\n",
       "    <tr style=\"text-align: right;\">\n",
       "      <th></th>\n",
       "      <th>numerical_features</th>\n",
       "      <th>median_house_value</th>\n",
       "    </tr>\n",
       "  </thead>\n",
       "  <tbody>\n",
       "    <tr>\n",
       "      <td>655</td>\n",
       "      <td>[-61.042207899855235, 17.7766133951319, 2.780965379421725, 0.8301188757669768, 0.899189219701274, 0.8044419168562447, 0.8892847011824027, 1.7764824815510607]</td>\n",
       "      <td>149700.0</td>\n",
       "    </tr>\n",
       "    <tr>\n",
       "      <td>4799</td>\n",
       "      <td>[-60.642912999447354, 18.024746265804005, 2.3042284572351437, 0.9392123558512069, 0.7870887069003194, 0.6949459808626394, 0.8082028607804776, 1.969342683400041]</td>\n",
       "      <td>98500.0</td>\n",
       "    </tr>\n",
       "    <tr>\n",
       "      <td>3334</td>\n",
       "      <td>[-58.506685282265174, 15.332738706625486, 2.7015092257239615, 2.750714176409513, 2.6498653132310754, 2.3435662429599047, 2.80386235196334, 2.414858171514061]</td>\n",
       "      <td>291000.0</td>\n",
       "    </tr>\n",
       "    <tr>\n",
       "      <td>6984</td>\n",
       "      <td>[-59.674622865958234, 16.901125719364277, 2.3042284572351437, 0.19435140989795593, 0.18603914890371184, 0.2507810146950313, 0.19093465643033938, 0.8060229997034487]</td>\n",
       "      <td>43800.0</td>\n",
       "    </tr>\n",
       "    <tr>\n",
       "      <td>1743</td>\n",
       "      <td>[-60.90744587096758, 17.58466155178178, 1.9069476887463257, 3.870526663156462, 3.5585950021068986, 3.9259591244158765, 3.8997749690087127, 2.4727583412831327]</td>\n",
       "      <td>240300.0</td>\n",
       "    </tr>\n",
       "  </tbody>\n",
       "</table>\n",
       "</div>"
      ],
      "text/plain": [
       "                                                                                                                                                        numerical_features  \\\n",
       "655          [-61.042207899855235, 17.7766133951319, 2.780965379421725, 0.8301188757669768, 0.899189219701274, 0.8044419168562447, 0.8892847011824027, 1.7764824815510607]   \n",
       "4799      [-60.642912999447354, 18.024746265804005, 2.3042284572351437, 0.9392123558512069, 0.7870887069003194, 0.6949459808626394, 0.8082028607804776, 1.969342683400041]   \n",
       "3334         [-58.506685282265174, 15.332738706625486, 2.7015092257239615, 2.750714176409513, 2.6498653132310754, 2.3435662429599047, 2.80386235196334, 2.414858171514061]   \n",
       "6984  [-59.674622865958234, 16.901125719364277, 2.3042284572351437, 0.19435140989795593, 0.18603914890371184, 0.2507810146950313, 0.19093465643033938, 0.8060229997034487]   \n",
       "1743        [-60.90744587096758, 17.58466155178178, 1.9069476887463257, 3.870526663156462, 3.5585950021068986, 3.9259591244158765, 3.8997749690087127, 2.4727583412831327]   \n",
       "\n",
       "      median_house_value  \n",
       "655             149700.0  \n",
       "4799             98500.0  \n",
       "3334            291000.0  \n",
       "6984             43800.0  \n",
       "1743            240300.0  "
      ]
     },
     "metadata": {},
     "output_type": "display_data"
    },
    {
     "name": "stdout",
     "output_type": "stream",
     "text": [
      "Test datset split size 4203:\n"
     ]
    },
    {
     "data": {
      "text/html": [
       "<div>\n",
       "<style scoped>\n",
       "    .dataframe tbody tr th:only-of-type {\n",
       "        vertical-align: middle;\n",
       "    }\n",
       "\n",
       "    .dataframe tbody tr th {\n",
       "        vertical-align: top;\n",
       "    }\n",
       "\n",
       "    .dataframe thead th {\n",
       "        text-align: right;\n",
       "    }\n",
       "</style>\n",
       "<table border=\"1\" class=\"dataframe\">\n",
       "  <thead>\n",
       "    <tr style=\"text-align: right;\">\n",
       "      <th></th>\n",
       "      <th>features</th>\n",
       "      <th>median_house_value</th>\n",
       "    </tr>\n",
       "  </thead>\n",
       "  <tbody>\n",
       "    <tr>\n",
       "      <td>2184</td>\n",
       "      <td>[0.0, 1.0, 0.0, 0.0, -58.58155307609165, 15.978820520828332, 1.3507546128619807, 1.228905966831179, 1.1210051280095459, 1.4313944535938228, 1.2005343465962435, 2.039665071410477]</td>\n",
       "      <td>118500.0</td>\n",
       "    </tr>\n",
       "    <tr>\n",
       "      <td>2636</td>\n",
       "      <td>[1.0, 0.0, 0.0, 0.0, -60.77767502833501, 17.28971115834135, 1.5891230739552715, 1.1858186259575756, 1.3046591596196202, 1.3545706920499223, 1.412393348936757, 1.283015125564655]</td>\n",
       "      <td>190400.0</td>\n",
       "    </tr>\n",
       "    <tr>\n",
       "      <td>2628</td>\n",
       "      <td>[1.0, 0.0, 0.0, 0.0, -60.79264858710031, 17.467617744860974, 1.1918423054664535, 0.828285371900015, 0.9015743369949113, 1.1276315343857568, 0.8919002444211744, 2.3710119520434825]</td>\n",
       "      <td>164500.0</td>\n",
       "    </tr>\n",
       "    <tr>\n",
       "      <td>1864</td>\n",
       "      <td>[0.0, 1.0, 0.0, 0.0, -59.529878464560376, 16.624902335031177, 2.22477230353738, 0.4991714277803632, 0.4269359955610823, 0.4803692675848486, 0.4969532153666368, 1.6990541636144203]</td>\n",
       "      <td>95800.0</td>\n",
       "    </tr>\n",
       "    <tr>\n",
       "      <td>2562</td>\n",
       "      <td>[1.0, 0.0, 0.0, 0.0, -60.8375692633962, 17.537844029013456, 0.3972807684888179, 0.696273093478762, 0.44363181661654366, 0.6225373780281586, 0.48649104241154967, 5.463565292445541]</td>\n",
       "      <td>500001.0</td>\n",
       "    </tr>\n",
       "  </tbody>\n",
       "</table>\n",
       "</div>"
      ],
      "text/plain": [
       "                                                                                                                                                                                 features  \\\n",
       "2184   [0.0, 1.0, 0.0, 0.0, -58.58155307609165, 15.978820520828332, 1.3507546128619807, 1.228905966831179, 1.1210051280095459, 1.4313944535938228, 1.2005343465962435, 2.039665071410477]   \n",
       "2636    [1.0, 0.0, 0.0, 0.0, -60.77767502833501, 17.28971115834135, 1.5891230739552715, 1.1858186259575756, 1.3046591596196202, 1.3545706920499223, 1.412393348936757, 1.283015125564655]   \n",
       "2628  [1.0, 0.0, 0.0, 0.0, -60.79264858710031, 17.467617744860974, 1.1918423054664535, 0.828285371900015, 0.9015743369949113, 1.1276315343857568, 0.8919002444211744, 2.3710119520434825]   \n",
       "1864  [0.0, 1.0, 0.0, 0.0, -59.529878464560376, 16.624902335031177, 2.22477230353738, 0.4991714277803632, 0.4269359955610823, 0.4803692675848486, 0.4969532153666368, 1.6990541636144203]   \n",
       "2562  [1.0, 0.0, 0.0, 0.0, -60.8375692633962, 17.537844029013456, 0.3972807684888179, 0.696273093478762, 0.44363181661654366, 0.6225373780281586, 0.48649104241154967, 5.463565292445541]   \n",
       "\n",
       "      median_house_value  \n",
       "2184            118500.0  \n",
       "2636            190400.0  \n",
       "2628            164500.0  \n",
       "1864             95800.0  \n",
       "2562            500001.0  "
      ]
     },
     "metadata": {},
     "output_type": "display_data"
    },
    {
     "data": {
      "text/html": [
       "<div>\n",
       "<style scoped>\n",
       "    .dataframe tbody tr th:only-of-type {\n",
       "        vertical-align: middle;\n",
       "    }\n",
       "\n",
       "    .dataframe tbody tr th {\n",
       "        vertical-align: top;\n",
       "    }\n",
       "\n",
       "    .dataframe thead th {\n",
       "        text-align: right;\n",
       "    }\n",
       "</style>\n",
       "<table border=\"1\" class=\"dataframe\">\n",
       "  <thead>\n",
       "    <tr style=\"text-align: right;\">\n",
       "      <th></th>\n",
       "      <th>numerical_features</th>\n",
       "      <th>median_house_value</th>\n",
       "    </tr>\n",
       "  </thead>\n",
       "  <tbody>\n",
       "    <tr>\n",
       "      <td>2184</td>\n",
       "      <td>[-58.58155307609165, 15.978820520828332, 1.3507546128619807, 1.228905966831179, 1.1210051280095459, 1.4313944535938228, 1.2005343465962435, 2.039665071410477]</td>\n",
       "      <td>118500.0</td>\n",
       "    </tr>\n",
       "    <tr>\n",
       "      <td>2636</td>\n",
       "      <td>[-60.77767502833501, 17.28971115834135, 1.5891230739552715, 1.1858186259575756, 1.3046591596196202, 1.3545706920499223, 1.412393348936757, 1.283015125564655]</td>\n",
       "      <td>190400.0</td>\n",
       "    </tr>\n",
       "    <tr>\n",
       "      <td>2628</td>\n",
       "      <td>[-60.79264858710031, 17.467617744860974, 1.1918423054664535, 0.828285371900015, 0.9015743369949113, 1.1276315343857568, 0.8919002444211744, 2.3710119520434825]</td>\n",
       "      <td>164500.0</td>\n",
       "    </tr>\n",
       "    <tr>\n",
       "      <td>1864</td>\n",
       "      <td>[-59.529878464560376, 16.624902335031177, 2.22477230353738, 0.4991714277803632, 0.4269359955610823, 0.4803692675848486, 0.4969532153666368, 1.6990541636144203]</td>\n",
       "      <td>95800.0</td>\n",
       "    </tr>\n",
       "    <tr>\n",
       "      <td>2562</td>\n",
       "      <td>[-60.8375692633962, 17.537844029013456, 0.3972807684888179, 0.696273093478762, 0.44363181661654366, 0.6225373780281586, 0.48649104241154967, 5.463565292445541]</td>\n",
       "      <td>500001.0</td>\n",
       "    </tr>\n",
       "  </tbody>\n",
       "</table>\n",
       "</div>"
      ],
      "text/plain": [
       "                                                                                                                                                   numerical_features  \\\n",
       "2184   [-58.58155307609165, 15.978820520828332, 1.3507546128619807, 1.228905966831179, 1.1210051280095459, 1.4313944535938228, 1.2005343465962435, 2.039665071410477]   \n",
       "2636    [-60.77767502833501, 17.28971115834135, 1.5891230739552715, 1.1858186259575756, 1.3046591596196202, 1.3545706920499223, 1.412393348936757, 1.283015125564655]   \n",
       "2628  [-60.79264858710031, 17.467617744860974, 1.1918423054664535, 0.828285371900015, 0.9015743369949113, 1.1276315343857568, 0.8919002444211744, 2.3710119520434825]   \n",
       "1864  [-59.529878464560376, 16.624902335031177, 2.22477230353738, 0.4991714277803632, 0.4269359955610823, 0.4803692675848486, 0.4969532153666368, 1.6990541636144203]   \n",
       "2562  [-60.8375692633962, 17.537844029013456, 0.3972807684888179, 0.696273093478762, 0.44363181661654366, 0.6225373780281586, 0.48649104241154967, 5.463565292445541]   \n",
       "\n",
       "      median_house_value  \n",
       "2184            118500.0  \n",
       "2636            190400.0  \n",
       "2628            164500.0  \n",
       "1864             95800.0  \n",
       "2562            500001.0  "
      ]
     },
     "metadata": {},
     "output_type": "display_data"
    }
   ],
   "source": [
    "train_data, test_data = df_final.randomSplit([0.8, 0.2], seed=RANDOM_SEED)\n",
    "\n",
    "train_data_all_features = train_data[all_features, target]\n",
    "test_data_all_features = test_data[all_features, target]\n",
    "\n",
    "train_data_numerical_features = train_data[numerical_features, target]\n",
    "test_data_numerical_features = test_data[numerical_features, target]\n",
    "\n",
    "print(f'Train datset split size {train_data.count()}:')\n",
    "display(train_data_all_features.toPandas().sample(5, random_state=12345))\n",
    "display(train_data_numerical_features.toPandas().sample(5, random_state=12345))\n",
    "\n",
    "print(f'Test datset split size {test_data.count()}:')\n",
    "display(test_data_all_features.toPandas().sample(5, random_state=12345))\n",
    "display(test_data_numerical_features.toPandas().sample(5, random_state=12345))"
   ]
  },
  {
   "cell_type": "markdown",
   "id": "619817b8",
   "metadata": {},
   "source": [
    "Обучаем на тренировочных наборах две модели линейной регрессии - одну на наборе данных со всеми признаками, и вторую - на наборе данных только с числовыми признаками:"
   ]
  },
  {
   "cell_type": "code",
   "execution_count": 10,
   "id": "11aa3c86",
   "metadata": {},
   "outputs": [],
   "source": [
    "lr_model_all_features = (LinearRegression(featuresCol=all_features, labelCol=target)\n",
    "                             .fit(train_data_all_features))\n",
    "lr_model_numerical_features = (LinearRegression(featuresCol=numerical_features, labelCol=target)\n",
    "                                   .fit(train_data_numerical_features))"
   ]
  },
  {
   "cell_type": "markdown",
   "id": "930821b4",
   "metadata": {},
   "source": [
    "Делаем предсказания на тестовых выборках:"
   ]
  },
  {
   "cell_type": "code",
   "execution_count": 11,
   "id": "ce6c844f",
   "metadata": {},
   "outputs": [
    {
     "data": {
      "text/html": [
       "<div>\n",
       "<style scoped>\n",
       "    .dataframe tbody tr th:only-of-type {\n",
       "        vertical-align: middle;\n",
       "    }\n",
       "\n",
       "    .dataframe tbody tr th {\n",
       "        vertical-align: top;\n",
       "    }\n",
       "\n",
       "    .dataframe thead th {\n",
       "        text-align: right;\n",
       "    }\n",
       "</style>\n",
       "<table border=\"1\" class=\"dataframe\">\n",
       "  <thead>\n",
       "    <tr style=\"text-align: right;\">\n",
       "      <th></th>\n",
       "      <th>prediction</th>\n",
       "      <th>median_house_value</th>\n",
       "    </tr>\n",
       "  </thead>\n",
       "  <tbody>\n",
       "    <tr>\n",
       "      <td>0</td>\n",
       "      <td>56720.563620</td>\n",
       "      <td>14999.0</td>\n",
       "    </tr>\n",
       "    <tr>\n",
       "      <td>1</td>\n",
       "      <td>151837.258589</td>\n",
       "      <td>22500.0</td>\n",
       "    </tr>\n",
       "    <tr>\n",
       "      <td>2</td>\n",
       "      <td>-12506.432852</td>\n",
       "      <td>25000.0</td>\n",
       "    </tr>\n",
       "    <tr>\n",
       "      <td>3</td>\n",
       "      <td>143144.503754</td>\n",
       "      <td>26900.0</td>\n",
       "    </tr>\n",
       "    <tr>\n",
       "      <td>4</td>\n",
       "      <td>71838.427295</td>\n",
       "      <td>32500.0</td>\n",
       "    </tr>\n",
       "  </tbody>\n",
       "</table>\n",
       "</div>"
      ],
      "text/plain": [
       "      prediction  median_house_value\n",
       "0   56720.563620             14999.0\n",
       "1  151837.258589             22500.0\n",
       "2  -12506.432852             25000.0\n",
       "3  143144.503754             26900.0\n",
       "4   71838.427295             32500.0"
      ]
     },
     "metadata": {},
     "output_type": "display_data"
    },
    {
     "data": {
      "text/html": [
       "<div>\n",
       "<style scoped>\n",
       "    .dataframe tbody tr th:only-of-type {\n",
       "        vertical-align: middle;\n",
       "    }\n",
       "\n",
       "    .dataframe tbody tr th {\n",
       "        vertical-align: top;\n",
       "    }\n",
       "\n",
       "    .dataframe thead th {\n",
       "        text-align: right;\n",
       "    }\n",
       "</style>\n",
       "<table border=\"1\" class=\"dataframe\">\n",
       "  <thead>\n",
       "    <tr style=\"text-align: right;\">\n",
       "      <th></th>\n",
       "      <th>prediction</th>\n",
       "      <th>median_house_value</th>\n",
       "    </tr>\n",
       "  </thead>\n",
       "  <tbody>\n",
       "    <tr>\n",
       "      <td>0</td>\n",
       "      <td>61036.316310</td>\n",
       "      <td>14999.0</td>\n",
       "    </tr>\n",
       "    <tr>\n",
       "      <td>1</td>\n",
       "      <td>148148.672206</td>\n",
       "      <td>22500.0</td>\n",
       "    </tr>\n",
       "    <tr>\n",
       "      <td>2</td>\n",
       "      <td>-18312.056778</td>\n",
       "      <td>25000.0</td>\n",
       "    </tr>\n",
       "    <tr>\n",
       "      <td>3</td>\n",
       "      <td>175756.884199</td>\n",
       "      <td>26900.0</td>\n",
       "    </tr>\n",
       "    <tr>\n",
       "      <td>4</td>\n",
       "      <td>77464.172454</td>\n",
       "      <td>32500.0</td>\n",
       "    </tr>\n",
       "  </tbody>\n",
       "</table>\n",
       "</div>"
      ],
      "text/plain": [
       "      prediction  median_house_value\n",
       "0   61036.316310             14999.0\n",
       "1  148148.672206             22500.0\n",
       "2  -18312.056778             25000.0\n",
       "3  175756.884199             26900.0\n",
       "4   77464.172454             32500.0"
      ]
     },
     "metadata": {},
     "output_type": "display_data"
    }
   ],
   "source": [
    "predictions_all_features = lr_model_all_features.transform(test_data_all_features)\n",
    "predictions_numeric_features = lr_model_numerical_features.transform(test_data_numerical_features)\n",
    "\n",
    "display(predictions_all_features.select('prediction', target)\n",
    "                                .orderBy('median_house_value')\n",
    "                                .toPandas()\n",
    "                                .head(5))\n",
    "display(predictions_numeric_features.select('prediction', target)\n",
    "                                    .orderBy('median_house_value')\n",
    "                                    .toPandas()\n",
    "                                    .head(5))"
   ]
  },
  {
   "cell_type": "markdown",
   "id": "0461b083",
   "metadata": {},
   "source": [
    "Оценим качество наших моделей по метрикам качества `RMSE`, `MAE` и `R2`:"
   ]
  },
  {
   "cell_type": "code",
   "execution_count": 12,
   "id": "23fa1bab",
   "metadata": {},
   "outputs": [
    {
     "name": "stdout",
     "output_type": "stream",
     "text": [
      "RMSE:\n",
      "\tMetric \"RMSE\" for dataset with features \"ALL\" = 68135.01224890398\n",
      "\tMetric \"RMSE\" for dataset with features \"NUMERIC\" = 69347.88195014803\n",
      "\n",
      "MAE:\n",
      "\tMetric \"MAE\" for dataset with features \"ALL\" = 49634.74027664459\n",
      "\tMetric \"MAE\" for dataset with features \"NUMERIC\" = 50810.477940772354\n",
      "\n",
      "R2:\n",
      "\tMetric \"R2\" for dataset with features \"ALL\" = 0.6490707068972161\n",
      "\tMetric \"R2\" for dataset with features \"NUMERIC\" = 0.6364657385915713\n",
      "\n"
     ]
    }
   ],
   "source": [
    "def evaluate_for_metric(df_predictions, features_col_name, metric_name):\n",
    "    evaluator = RegressionEvaluator(labelCol=target, predictionCol='prediction', metricName=metric_name)\n",
    "    metric_value = evaluator.evaluate(df_predictions)\n",
    "    features_used = \"all\" if features_col_name == all_features else \"numeric\"\n",
    "    print(f'\\tMetric \"{metric_name.upper()}\" for dataset with features \"{features_used.upper()}\" = {metric_value}')\n",
    "\n",
    "# RMSE\n",
    "print('RMSE:')\n",
    "evaluate_for_metric(predictions_all_features, all_features, 'rmse')\n",
    "evaluate_for_metric(predictions_numeric_features, numerical_features, 'rmse')\n",
    "print()\n",
    "\n",
    "# MAE\n",
    "print('MAE:')\n",
    "evaluate_for_metric(predictions_all_features, all_features, 'mae')\n",
    "evaluate_for_metric(predictions_numeric_features, numerical_features, 'mae')\n",
    "print()\n",
    "\n",
    "# R2\n",
    "print('R2:')\n",
    "evaluate_for_metric(predictions_all_features, all_features, 'r2')\n",
    "evaluate_for_metric(predictions_numeric_features, numerical_features, 'r2')\n",
    "print()"
   ]
  },
  {
   "cell_type": "markdown",
   "id": "ff8d2161",
   "metadata": {
    "id": "757fd103"
   },
   "source": [
    "# Анализ результатов"
   ]
  },
  {
   "cell_type": "markdown",
   "id": "2b9886b9",
   "metadata": {},
   "source": [
    "Можно видеть, что для показателей `RMSE` и `MAE` более точное прогнозирование наблюдается для модели линейной регрессии, в которой используются только числовые признаки (т.е. признак близости к океану не учитывается):\n",
    "\n",
    "- `68135` против `69347` по `RMSE`;\n",
    "- `49634` против `50810` по `MAE`.\n",
    "\n",
    "Что касается метрики `R2`, то для неё более высокое качество получается при использовании всех доступных признаков, в том числе признака близости к океану:\n",
    "\n",
    "- `0.649` против `0.636` по `R2`."
   ]
  }
 ],
 "metadata": {
  "ExecuteTimeLog": [
   {
    "duration": 391,
    "start_time": "2022-03-11T16:54:34.318Z"
   },
   {
    "duration": 4,
    "start_time": "2022-03-11T16:54:47.613Z"
   },
   {
    "duration": 15210,
    "start_time": "2022-03-11T16:56:11.368Z"
   },
   {
    "duration": 4,
    "start_time": "2022-03-11T17:43:57.629Z"
   },
   {
    "duration": 9975,
    "start_time": "2022-03-11T17:44:20.732Z"
   },
   {
    "duration": 1405,
    "start_time": "2022-03-11T17:45:39.165Z"
   },
   {
    "duration": 331,
    "start_time": "2022-03-11T17:45:47.650Z"
   },
   {
    "duration": 4,
    "start_time": "2022-03-11T17:53:32.783Z"
   },
   {
    "duration": 1118,
    "start_time": "2022-03-11T17:53:33.671Z"
   },
   {
    "duration": 488,
    "start_time": "2022-03-11T17:53:36.200Z"
   },
   {
    "duration": 23,
    "start_time": "2022-03-11T17:53:57.501Z"
   },
   {
    "duration": 1241,
    "start_time": "2022-03-11T17:53:58.429Z"
   },
   {
    "duration": 2277,
    "start_time": "2022-03-11T17:54:00.489Z"
   },
   {
    "duration": 430,
    "start_time": "2022-03-11T17:54:12.319Z"
   },
   {
    "duration": 1335,
    "start_time": "2022-03-11T17:54:21.923Z"
   },
   {
    "duration": 3956,
    "start_time": "2022-03-11T17:55:33.810Z"
   },
   {
    "duration": 2629,
    "start_time": "2022-03-11T17:55:47.731Z"
   },
   {
    "duration": 2304,
    "start_time": "2022-03-11T17:56:23.064Z"
   },
   {
    "duration": 1149,
    "start_time": "2022-03-11T17:56:43.406Z"
   },
   {
    "duration": 1485,
    "start_time": "2022-03-11T17:57:39.888Z"
   },
   {
    "duration": 371,
    "start_time": "2022-03-11T17:59:02.588Z"
   },
   {
    "duration": 317,
    "start_time": "2022-03-11T17:59:14.039Z"
   },
   {
    "duration": 868,
    "start_time": "2022-03-11T17:59:27.410Z"
   },
   {
    "duration": 1073,
    "start_time": "2022-03-11T17:59:29.214Z"
   },
   {
    "duration": 426,
    "start_time": "2022-03-11T17:59:30.352Z"
   },
   {
    "duration": 531,
    "start_time": "2022-03-11T18:00:26.850Z"
   },
   {
    "duration": 3737,
    "start_time": "2022-03-11T18:01:27.615Z"
   },
   {
    "duration": 79,
    "start_time": "2022-03-11T18:01:41.616Z"
   },
   {
    "duration": 2900,
    "start_time": "2022-03-11T18:01:50.255Z"
   },
   {
    "duration": 2436,
    "start_time": "2022-03-11T18:02:12.017Z"
   },
   {
    "duration": 97,
    "start_time": "2022-03-11T18:18:10.394Z"
   },
   {
    "duration": 487,
    "start_time": "2022-03-11T18:18:16.078Z"
   },
   {
    "duration": 451,
    "start_time": "2022-03-11T18:18:30.235Z"
   },
   {
    "duration": 420,
    "start_time": "2022-03-11T18:18:43.634Z"
   },
   {
    "duration": 80,
    "start_time": "2022-03-11T18:18:50.828Z"
   },
   {
    "duration": 307,
    "start_time": "2022-03-11T18:18:54.002Z"
   },
   {
    "duration": 517,
    "start_time": "2022-03-11T18:19:01.273Z"
   },
   {
    "duration": 1623,
    "start_time": "2022-03-11T18:19:53.931Z"
   },
   {
    "duration": 1301,
    "start_time": "2022-03-11T18:20:05.538Z"
   },
   {
    "duration": 1027,
    "start_time": "2022-03-11T18:20:26.845Z"
   },
   {
    "duration": 431,
    "start_time": "2022-03-11T18:20:47.023Z"
   },
   {
    "duration": 1927,
    "start_time": "2022-03-11T18:21:10.731Z"
   },
   {
    "duration": 5,
    "start_time": "2022-03-11T18:21:18.167Z"
   },
   {
    "duration": 704,
    "start_time": "2022-03-11T18:21:18.787Z"
   },
   {
    "duration": 1016,
    "start_time": "2022-03-11T18:21:19.494Z"
   },
   {
    "duration": 2040,
    "start_time": "2022-03-11T18:21:20.513Z"
   },
   {
    "duration": 1670,
    "start_time": "2022-03-11T18:21:22.555Z"
   },
   {
    "duration": 244,
    "start_time": "2022-03-11T18:22:40.349Z"
   },
   {
    "duration": 292,
    "start_time": "2022-03-11T18:22:45.779Z"
   },
   {
    "duration": 182,
    "start_time": "2022-03-11T18:23:13.955Z"
   },
   {
    "duration": 645,
    "start_time": "2022-03-11T18:23:15.406Z"
   },
   {
    "duration": 1130,
    "start_time": "2022-03-11T18:23:16.054Z"
   },
   {
    "duration": 2264,
    "start_time": "2022-03-11T18:23:17.187Z"
   },
   {
    "duration": 1639,
    "start_time": "2022-03-11T18:23:19.455Z"
   },
   {
    "duration": 282,
    "start_time": "2022-03-11T18:23:21.096Z"
   },
   {
    "duration": 263,
    "start_time": "2022-03-11T18:23:47.507Z"
   },
   {
    "duration": 434,
    "start_time": "2022-03-11T18:23:53.817Z"
   },
   {
    "duration": 4,
    "start_time": "2022-03-11T18:27:24.172Z"
   },
   {
    "duration": 4,
    "start_time": "2022-03-11T18:29:01.809Z"
   },
   {
    "duration": 247,
    "start_time": "2022-03-11T18:29:12.623Z"
   },
   {
    "duration": 287,
    "start_time": "2022-03-11T18:29:21.622Z"
   },
   {
    "duration": 4,
    "start_time": "2022-03-11T18:29:46.373Z"
   },
   {
    "duration": 309,
    "start_time": "2022-03-11T18:30:16.621Z"
   },
   {
    "duration": 272,
    "start_time": "2022-03-11T18:31:12.112Z"
   },
   {
    "duration": 5,
    "start_time": "2022-03-11T18:31:45.500Z"
   },
   {
    "duration": 708,
    "start_time": "2022-03-11T18:31:46.766Z"
   },
   {
    "duration": 826,
    "start_time": "2022-03-11T18:31:47.478Z"
   },
   {
    "duration": 1884,
    "start_time": "2022-03-11T18:31:48.307Z"
   },
   {
    "duration": 1614,
    "start_time": "2022-03-11T18:31:50.194Z"
   },
   {
    "duration": 4,
    "start_time": "2022-03-11T18:31:51.811Z"
   },
   {
    "duration": 296,
    "start_time": "2022-03-11T18:31:51.817Z"
   },
   {
    "duration": 263,
    "start_time": "2022-03-11T18:32:07.188Z"
   },
   {
    "duration": 277,
    "start_time": "2022-03-11T18:32:20.445Z"
   },
   {
    "duration": 5,
    "start_time": "2022-03-11T18:32:29.466Z"
   },
   {
    "duration": 4,
    "start_time": "2022-03-11T18:32:43.846Z"
   },
   {
    "duration": 409,
    "start_time": "2022-03-12T12:44:33.618Z"
   },
   {
    "duration": 18862,
    "start_time": "2022-03-12T12:58:02.863Z"
   },
   {
    "duration": 540,
    "start_time": "2022-03-13T09:07:27.096Z"
   },
   {
    "duration": 24809,
    "start_time": "2022-03-13T09:07:28.703Z"
   },
   {
    "duration": 3973,
    "start_time": "2022-03-13T09:11:51.742Z"
   },
   {
    "duration": 3137,
    "start_time": "2022-03-13T09:17:13.322Z"
   },
   {
    "duration": 2207,
    "start_time": "2022-03-13T09:17:18.313Z"
   },
   {
    "duration": 3,
    "start_time": "2022-03-13T09:17:28.361Z"
   },
   {
    "duration": 3,
    "start_time": "2022-03-13T09:23:30.566Z"
   },
   {
    "duration": 374,
    "start_time": "2022-03-13T09:23:30.774Z"
   },
   {
    "duration": 275,
    "start_time": "2022-03-13T09:23:39.038Z"
   },
   {
    "duration": 3,
    "start_time": "2022-03-13T11:02:49.110Z"
   },
   {
    "duration": 958,
    "start_time": "2022-03-13T11:02:49.887Z"
   },
   {
    "duration": 1359,
    "start_time": "2022-03-13T11:02:50.847Z"
   },
   {
    "duration": 2503,
    "start_time": "2022-03-13T11:02:52.208Z"
   },
   {
    "duration": 1893,
    "start_time": "2022-03-13T11:02:54.712Z"
   },
   {
    "duration": 2,
    "start_time": "2022-03-13T11:02:56.607Z"
   },
   {
    "duration": 321,
    "start_time": "2022-03-13T11:02:56.611Z"
   },
   {
    "duration": 391,
    "start_time": "2022-03-13T11:03:17.077Z"
   },
   {
    "duration": 312,
    "start_time": "2022-03-13T11:03:54.318Z"
   },
   {
    "duration": 302,
    "start_time": "2022-03-13T11:05:10.390Z"
   },
   {
    "duration": 3,
    "start_time": "2022-03-13T11:14:24.750Z"
   },
   {
    "duration": 371,
    "start_time": "2022-03-13T11:14:25.014Z"
   },
   {
    "duration": 326,
    "start_time": "2022-03-13T11:15:04.381Z"
   },
   {
    "duration": 1223,
    "start_time": "2022-03-13T11:15:41.893Z"
   },
   {
    "duration": 302,
    "start_time": "2022-03-13T11:16:14.725Z"
   },
   {
    "duration": 4,
    "start_time": "2022-03-13T11:16:23.220Z"
   },
   {
    "duration": 584,
    "start_time": "2022-03-13T11:16:23.956Z"
   },
   {
    "duration": 1102,
    "start_time": "2022-03-13T11:16:24.542Z"
   },
   {
    "duration": 1765,
    "start_time": "2022-03-13T11:16:25.646Z"
   },
   {
    "duration": 1634,
    "start_time": "2022-03-13T11:16:27.413Z"
   },
   {
    "duration": 3,
    "start_time": "2022-03-13T11:16:29.048Z"
   },
   {
    "duration": 702,
    "start_time": "2022-03-13T11:16:29.052Z"
   },
   {
    "duration": 314,
    "start_time": "2022-03-13T11:16:43.693Z"
   },
   {
    "duration": 3,
    "start_time": "2022-03-13T11:16:49.821Z"
   },
   {
    "duration": 448,
    "start_time": "2022-03-13T11:16:50.020Z"
   },
   {
    "duration": 904,
    "start_time": "2022-03-13T11:16:50.470Z"
   },
   {
    "duration": 1539,
    "start_time": "2022-03-13T11:16:51.376Z"
   },
   {
    "duration": 1271,
    "start_time": "2022-03-13T11:16:52.917Z"
   },
   {
    "duration": 3,
    "start_time": "2022-03-13T11:16:54.190Z"
   },
   {
    "duration": 606,
    "start_time": "2022-03-13T11:16:54.194Z"
   },
   {
    "duration": 96,
    "start_time": "2022-03-13T11:17:14.629Z"
   },
   {
    "duration": 324,
    "start_time": "2022-03-13T11:17:17.236Z"
   },
   {
    "duration": 3,
    "start_time": "2022-03-13T11:17:21.188Z"
   },
   {
    "duration": 409,
    "start_time": "2022-03-13T11:17:21.348Z"
   },
   {
    "duration": 906,
    "start_time": "2022-03-13T11:17:21.759Z"
   },
   {
    "duration": 1161,
    "start_time": "2022-03-13T11:17:22.667Z"
   },
   {
    "duration": 1072,
    "start_time": "2022-03-13T11:17:23.830Z"
   },
   {
    "duration": 2,
    "start_time": "2022-03-13T11:17:24.904Z"
   },
   {
    "duration": 644,
    "start_time": "2022-03-13T11:17:24.908Z"
   },
   {
    "duration": 3,
    "start_time": "2022-03-13T11:37:27.775Z"
   },
   {
    "duration": 585,
    "start_time": "2022-03-13T11:37:28.063Z"
   },
   {
    "duration": 781,
    "start_time": "2022-03-13T11:37:28.650Z"
   },
   {
    "duration": 1283,
    "start_time": "2022-03-13T11:37:29.433Z"
   },
   {
    "duration": 1190,
    "start_time": "2022-03-13T11:37:30.718Z"
   },
   {
    "duration": 4,
    "start_time": "2022-03-13T11:37:31.910Z"
   },
   {
    "duration": 4052,
    "start_time": "2022-03-13T11:39:45.830Z"
   },
   {
    "duration": 3,
    "start_time": "2022-03-13T11:55:06.216Z"
   },
   {
    "duration": 714,
    "start_time": "2022-03-13T11:55:06.221Z"
   },
   {
    "duration": 818,
    "start_time": "2022-03-13T11:55:06.936Z"
   },
   {
    "duration": 1253,
    "start_time": "2022-03-13T11:55:07.756Z"
   },
   {
    "duration": 1103,
    "start_time": "2022-03-13T11:55:09.011Z"
   },
   {
    "duration": 3,
    "start_time": "2022-03-13T11:55:10.115Z"
   },
   {
    "duration": 2,
    "start_time": "2022-03-13T11:55:14.339Z"
   },
   {
    "duration": 3218,
    "start_time": "2022-03-13T11:55:15.220Z"
   },
   {
    "duration": 1561,
    "start_time": "2022-03-13T11:55:31.308Z"
   },
   {
    "duration": 3,
    "start_time": "2022-03-13T11:56:01.307Z"
   },
   {
    "duration": 455,
    "start_time": "2022-03-13T11:56:01.312Z"
   },
   {
    "duration": 782,
    "start_time": "2022-03-13T11:56:01.770Z"
   },
   {
    "duration": 1016,
    "start_time": "2022-03-13T11:56:02.553Z"
   },
   {
    "duration": 1029,
    "start_time": "2022-03-13T11:56:03.571Z"
   },
   {
    "duration": 3,
    "start_time": "2022-03-13T11:56:04.604Z"
   },
   {
    "duration": 2,
    "start_time": "2022-03-13T11:59:13.457Z"
   },
   {
    "duration": 302,
    "start_time": "2022-03-13T11:59:13.889Z"
   },
   {
    "duration": 2165,
    "start_time": "2022-03-13T11:59:24.361Z"
   },
   {
    "duration": 1578,
    "start_time": "2022-03-13T11:59:29.602Z"
   },
   {
    "duration": 1315,
    "start_time": "2022-03-13T11:59:54.634Z"
   },
   {
    "duration": 4,
    "start_time": "2022-03-13T12:00:07.881Z"
   },
   {
    "duration": 413,
    "start_time": "2022-03-13T12:00:07.887Z"
   },
   {
    "duration": 747,
    "start_time": "2022-03-13T12:00:08.306Z"
   },
   {
    "duration": 1063,
    "start_time": "2022-03-13T12:00:09.054Z"
   },
   {
    "duration": 1000,
    "start_time": "2022-03-13T12:00:10.119Z"
   },
   {
    "duration": 2,
    "start_time": "2022-03-13T12:00:11.121Z"
   },
   {
    "duration": 3,
    "start_time": "2022-03-13T12:00:12.960Z"
   },
   {
    "duration": 2397,
    "start_time": "2022-03-13T12:00:13.794Z"
   },
   {
    "duration": 2251,
    "start_time": "2022-03-13T12:08:04.444Z"
   },
   {
    "duration": 4926,
    "start_time": "2022-03-13T12:12:19.130Z"
   },
   {
    "duration": 3,
    "start_time": "2022-03-13T12:12:50.825Z"
   },
   {
    "duration": 525,
    "start_time": "2022-03-13T12:12:50.830Z"
   },
   {
    "duration": 583,
    "start_time": "2022-03-13T12:12:51.357Z"
   },
   {
    "duration": 1264,
    "start_time": "2022-03-13T12:12:51.941Z"
   },
   {
    "duration": 968,
    "start_time": "2022-03-13T12:12:53.207Z"
   },
   {
    "duration": 3,
    "start_time": "2022-03-13T12:12:54.177Z"
   },
   {
    "duration": 3,
    "start_time": "2022-03-13T12:13:43.167Z"
   },
   {
    "duration": 2260,
    "start_time": "2022-03-13T12:13:43.856Z"
   },
   {
    "duration": 1754,
    "start_time": "2022-03-13T12:13:51.871Z"
   },
   {
    "duration": 299,
    "start_time": "2022-03-13T12:14:33.519Z"
   },
   {
    "duration": 4,
    "start_time": "2022-03-13T12:14:42.214Z"
   },
   {
    "duration": 420,
    "start_time": "2022-03-13T12:14:42.219Z"
   },
   {
    "duration": 496,
    "start_time": "2022-03-13T12:14:42.640Z"
   },
   {
    "duration": 1267,
    "start_time": "2022-03-13T12:14:43.138Z"
   },
   {
    "duration": 780,
    "start_time": "2022-03-13T12:14:44.407Z"
   },
   {
    "duration": 17,
    "start_time": "2022-03-13T12:14:45.189Z"
   },
   {
    "duration": 2102,
    "start_time": "2022-03-13T12:14:45.207Z"
   },
   {
    "duration": 2751,
    "start_time": "2022-03-13T12:17:37.198Z"
   },
   {
    "duration": 405,
    "start_time": "2022-03-13T12:18:11.533Z"
   },
   {
    "duration": 3,
    "start_time": "2022-03-13T12:19:05.269Z"
   },
   {
    "duration": 382,
    "start_time": "2022-03-13T12:19:05.273Z"
   },
   {
    "duration": 607,
    "start_time": "2022-03-13T12:19:05.657Z"
   },
   {
    "duration": 1222,
    "start_time": "2022-03-13T12:19:06.266Z"
   },
   {
    "duration": 993,
    "start_time": "2022-03-13T12:19:07.489Z"
   },
   {
    "duration": 3,
    "start_time": "2022-03-13T12:19:08.483Z"
   },
   {
    "duration": 2292,
    "start_time": "2022-03-13T12:19:08.487Z"
   },
   {
    "duration": 4,
    "start_time": "2022-03-13T12:24:54.121Z"
   },
   {
    "duration": 406,
    "start_time": "2022-03-13T12:24:54.128Z"
   },
   {
    "duration": 671,
    "start_time": "2022-03-13T12:24:54.537Z"
   },
   {
    "duration": 1116,
    "start_time": "2022-03-13T12:24:55.210Z"
   },
   {
    "duration": 1005,
    "start_time": "2022-03-13T12:24:56.328Z"
   },
   {
    "duration": 3,
    "start_time": "2022-03-13T12:24:57.334Z"
   },
   {
    "duration": 2216,
    "start_time": "2022-03-13T12:24:57.338Z"
   },
   {
    "duration": 298,
    "start_time": "2022-03-13T12:24:59.557Z"
   },
   {
    "duration": 6519,
    "start_time": "2022-03-13T12:25:25.679Z"
   },
   {
    "duration": 3202,
    "start_time": "2022-03-13T12:26:08.608Z"
   },
   {
    "duration": 3331,
    "start_time": "2022-03-13T12:27:00.664Z"
   },
   {
    "duration": 3137,
    "start_time": "2022-03-13T12:29:48.070Z"
   },
   {
    "duration": 515,
    "start_time": "2022-03-13T12:30:53.956Z"
   },
   {
    "duration": 483,
    "start_time": "2022-03-13T12:31:24.221Z"
   },
   {
    "duration": 501,
    "start_time": "2022-03-13T12:31:27.156Z"
   },
   {
    "duration": 2009,
    "start_time": "2022-03-13T12:31:59.436Z"
   },
   {
    "duration": 1738,
    "start_time": "2022-03-13T12:32:08.427Z"
   },
   {
    "duration": 332,
    "start_time": "2022-03-13T12:33:32.402Z"
   },
   {
    "duration": 3,
    "start_time": "2022-03-13T12:33:57.555Z"
   },
   {
    "duration": 23,
    "start_time": "2022-03-13T12:34:32.699Z"
   },
   {
    "duration": 2552,
    "start_time": "2022-03-13T12:35:13.386Z"
   },
   {
    "duration": 4,
    "start_time": "2022-03-13T12:42:39.830Z"
   },
   {
    "duration": 601,
    "start_time": "2022-03-13T12:42:39.836Z"
   },
   {
    "duration": 1833,
    "start_time": "2022-03-13T12:42:40.440Z"
   },
   {
    "duration": 2262,
    "start_time": "2022-03-13T12:42:42.275Z"
   },
   {
    "duration": 946,
    "start_time": "2022-03-13T12:42:44.539Z"
   },
   {
    "duration": 3,
    "start_time": "2022-03-13T12:42:45.487Z"
   },
   {
    "duration": 3021,
    "start_time": "2022-03-13T12:42:45.492Z"
   },
   {
    "duration": 498,
    "start_time": "2022-03-13T12:42:48.515Z"
   },
   {
    "duration": 314,
    "start_time": "2022-03-13T12:42:54.806Z"
   },
   {
    "duration": 4,
    "start_time": "2022-03-13T12:43:04.693Z"
   },
   {
    "duration": 567,
    "start_time": "2022-03-13T12:43:04.699Z"
   },
   {
    "duration": 823,
    "start_time": "2022-03-13T12:43:05.269Z"
   },
   {
    "duration": 1625,
    "start_time": "2022-03-13T12:43:06.094Z"
   },
   {
    "duration": 1551,
    "start_time": "2022-03-13T12:43:07.720Z"
   },
   {
    "duration": 7,
    "start_time": "2022-03-13T12:43:09.274Z"
   },
   {
    "duration": 3024,
    "start_time": "2022-03-13T12:43:09.283Z"
   },
   {
    "duration": 441,
    "start_time": "2022-03-13T12:43:14.886Z"
   },
   {
    "duration": 509,
    "start_time": "2022-03-13T12:43:17.662Z"
   },
   {
    "duration": 319,
    "start_time": "2022-03-13T12:43:44.157Z"
   },
   {
    "duration": 4,
    "start_time": "2022-03-13T12:43:51.742Z"
   },
   {
    "duration": 522,
    "start_time": "2022-03-13T12:43:51.749Z"
   },
   {
    "duration": 681,
    "start_time": "2022-03-13T12:43:52.273Z"
   },
   {
    "duration": 1180,
    "start_time": "2022-03-13T12:43:52.957Z"
   },
   {
    "duration": 942,
    "start_time": "2022-03-13T12:43:54.139Z"
   },
   {
    "duration": 3,
    "start_time": "2022-03-13T12:43:55.083Z"
   },
   {
    "duration": 2904,
    "start_time": "2022-03-13T12:43:55.088Z"
   },
   {
    "duration": 342,
    "start_time": "2022-03-13T12:43:57.994Z"
   },
   {
    "duration": 437,
    "start_time": "2022-03-13T12:44:03.918Z"
   },
   {
    "duration": 123,
    "start_time": "2022-03-13T12:44:16.684Z"
   },
   {
    "duration": 377,
    "start_time": "2022-03-13T12:44:21.900Z"
   },
   {
    "duration": 4,
    "start_time": "2022-03-13T12:44:29.637Z"
   },
   {
    "duration": 534,
    "start_time": "2022-03-13T12:44:29.644Z"
   },
   {
    "duration": 826,
    "start_time": "2022-03-13T12:44:30.181Z"
   },
   {
    "duration": 1456,
    "start_time": "2022-03-13T12:44:31.010Z"
   },
   {
    "duration": 1342,
    "start_time": "2022-03-13T12:44:32.469Z"
   },
   {
    "duration": 4,
    "start_time": "2022-03-13T12:44:33.813Z"
   },
   {
    "duration": 3237,
    "start_time": "2022-03-13T12:44:33.819Z"
   },
   {
    "duration": 570,
    "start_time": "2022-03-13T12:44:37.058Z"
   },
   {
    "duration": 3860,
    "start_time": "2022-03-13T12:44:52.356Z"
   },
   {
    "duration": 2703,
    "start_time": "2022-03-13T12:45:04.156Z"
   },
   {
    "duration": 301,
    "start_time": "2022-03-13T12:45:16.284Z"
   },
   {
    "duration": 447,
    "start_time": "2022-03-13T12:45:28.117Z"
   },
   {
    "duration": 325,
    "start_time": "2022-03-13T12:46:55.835Z"
   },
   {
    "duration": 4,
    "start_time": "2022-03-13T12:46:59.095Z"
   },
   {
    "duration": 556,
    "start_time": "2022-03-13T12:46:59.100Z"
   },
   {
    "duration": 712,
    "start_time": "2022-03-13T12:46:59.657Z"
   },
   {
    "duration": 1345,
    "start_time": "2022-03-13T12:47:00.371Z"
   },
   {
    "duration": 986,
    "start_time": "2022-03-13T12:47:01.717Z"
   },
   {
    "duration": 3,
    "start_time": "2022-03-13T12:47:02.705Z"
   },
   {
    "duration": 3373,
    "start_time": "2022-03-13T12:47:02.710Z"
   },
   {
    "duration": 320,
    "start_time": "2022-03-13T12:47:06.086Z"
   },
   {
    "duration": 339,
    "start_time": "2022-03-13T12:47:11.090Z"
   },
   {
    "duration": 5,
    "start_time": "2022-03-13T12:47:28.071Z"
   },
   {
    "duration": 440,
    "start_time": "2022-03-13T12:47:28.078Z"
   },
   {
    "duration": 715,
    "start_time": "2022-03-13T12:47:28.521Z"
   },
   {
    "duration": 1440,
    "start_time": "2022-03-13T12:47:29.239Z"
   },
   {
    "duration": 952,
    "start_time": "2022-03-13T12:47:30.680Z"
   },
   {
    "duration": 3,
    "start_time": "2022-03-13T12:47:31.634Z"
   },
   {
    "duration": 2452,
    "start_time": "2022-03-13T12:47:34.259Z"
   },
   {
    "duration": 257,
    "start_time": "2022-03-13T12:47:37.155Z"
   },
   {
    "duration": 439,
    "start_time": "2022-03-13T12:47:39.251Z"
   },
   {
    "duration": 331,
    "start_time": "2022-03-13T12:47:57.842Z"
   },
   {
    "duration": 5,
    "start_time": "2022-03-13T12:48:07.138Z"
   },
   {
    "duration": 400,
    "start_time": "2022-03-13T12:48:07.145Z"
   },
   {
    "duration": 594,
    "start_time": "2022-03-13T12:48:07.547Z"
   },
   {
    "duration": 1015,
    "start_time": "2022-03-13T12:48:08.143Z"
   },
   {
    "duration": 862,
    "start_time": "2022-03-13T12:48:09.159Z"
   },
   {
    "duration": 3,
    "start_time": "2022-03-13T12:48:10.023Z"
   },
   {
    "duration": 2222,
    "start_time": "2022-03-13T12:48:10.028Z"
   },
   {
    "duration": 342,
    "start_time": "2022-03-13T12:48:12.252Z"
   },
   {
    "duration": 2088,
    "start_time": "2022-03-13T12:48:12.596Z"
   },
   {
    "duration": 1645,
    "start_time": "2022-03-13T12:48:14.685Z"
   },
   {
    "duration": 3047,
    "start_time": "2022-03-13T12:48:16.332Z"
   },
   {
    "duration": 296,
    "start_time": "2022-03-13T12:48:58.289Z"
   },
   {
    "duration": 106,
    "start_time": "2022-03-13T12:49:06.105Z"
   },
   {
    "duration": 4,
    "start_time": "2022-03-13T12:49:09.786Z"
   },
   {
    "duration": 6,
    "start_time": "2022-03-13T12:49:14.889Z"
   },
   {
    "duration": 640,
    "start_time": "2022-03-13T12:49:14.898Z"
   },
   {
    "duration": 866,
    "start_time": "2022-03-13T12:49:15.542Z"
   },
   {
    "duration": 1160,
    "start_time": "2022-03-13T12:49:16.410Z"
   },
   {
    "duration": 960,
    "start_time": "2022-03-13T12:49:17.572Z"
   },
   {
    "duration": 3,
    "start_time": "2022-03-13T12:49:18.534Z"
   },
   {
    "duration": 2600,
    "start_time": "2022-03-13T12:49:18.539Z"
   },
   {
    "duration": 296,
    "start_time": "2022-03-13T12:49:21.141Z"
   },
   {
    "duration": 1611,
    "start_time": "2022-03-13T12:49:21.439Z"
   },
   {
    "duration": 1596,
    "start_time": "2022-03-13T12:49:23.052Z"
   },
   {
    "duration": 2499,
    "start_time": "2022-03-13T12:49:24.650Z"
   },
   {
    "duration": 3886,
    "start_time": "2022-03-13T12:50:18.531Z"
   },
   {
    "duration": 3318,
    "start_time": "2022-03-13T12:50:42.688Z"
   },
   {
    "duration": 3438,
    "start_time": "2022-03-13T12:52:30.713Z"
   },
   {
    "duration": 1147,
    "start_time": "2022-03-13T12:52:34.903Z"
   },
   {
    "duration": 642,
    "start_time": "2022-03-13T12:52:41.710Z"
   },
   {
    "duration": 1185,
    "start_time": "2022-03-13T12:53:02.535Z"
   },
   {
    "duration": 986,
    "start_time": "2022-03-13T12:53:23.471Z"
   },
   {
    "duration": 1065,
    "start_time": "2022-03-13T12:54:10.703Z"
   },
   {
    "duration": 3,
    "start_time": "2022-03-13T12:56:04.453Z"
   },
   {
    "duration": 530,
    "start_time": "2022-03-13T13:01:55.666Z"
   },
   {
    "duration": 525,
    "start_time": "2022-03-13T13:02:04.985Z"
   },
   {
    "duration": 862,
    "start_time": "2022-03-13T13:02:35.673Z"
   },
   {
    "duration": 946,
    "start_time": "2022-03-13T13:02:48.665Z"
   },
   {
    "duration": 2451,
    "start_time": "2022-03-13T13:02:54.857Z"
   },
   {
    "duration": 595,
    "start_time": "2022-03-13T13:03:12.544Z"
   },
   {
    "duration": 533,
    "start_time": "2022-03-13T13:03:29.752Z"
   },
   {
    "duration": 1666,
    "start_time": "2022-03-13T13:03:41.816Z"
   },
   {
    "duration": 1602,
    "start_time": "2022-03-13T13:04:26.263Z"
   },
   {
    "duration": 1448,
    "start_time": "2022-03-13T13:04:31.368Z"
   },
   {
    "duration": 1753,
    "start_time": "2022-03-13T13:04:34.016Z"
   },
   {
    "duration": 1495,
    "start_time": "2022-03-13T13:04:50.319Z"
   },
   {
    "duration": 1548,
    "start_time": "2022-03-13T13:05:16.359Z"
   },
   {
    "duration": 2805,
    "start_time": "2022-03-13T14:03:39.166Z"
   },
   {
    "duration": 3742,
    "start_time": "2022-03-13T14:04:12.266Z"
   },
   {
    "duration": 3290,
    "start_time": "2022-03-13T14:05:05.322Z"
   },
   {
    "duration": 2557,
    "start_time": "2022-03-13T14:07:06.488Z"
   },
   {
    "duration": 2270,
    "start_time": "2022-03-13T14:07:26.144Z"
   },
   {
    "duration": 2250,
    "start_time": "2022-03-13T14:07:58.560Z"
   },
   {
    "duration": 985,
    "start_time": "2022-03-13T14:10:56.662Z"
   },
   {
    "duration": 991,
    "start_time": "2022-03-13T14:11:16.437Z"
   },
   {
    "duration": 929,
    "start_time": "2022-03-13T14:11:57.837Z"
   },
   {
    "duration": 1221,
    "start_time": "2022-03-13T14:14:07.212Z"
   },
   {
    "duration": 786,
    "start_time": "2022-03-13T14:14:23.795Z"
   },
   {
    "duration": 785,
    "start_time": "2022-03-13T14:14:36.563Z"
   },
   {
    "duration": 1253,
    "start_time": "2022-03-13T14:15:13.059Z"
   },
   {
    "duration": 1447,
    "start_time": "2022-03-13T14:16:22.740Z"
   },
   {
    "duration": 105,
    "start_time": "2022-03-13T14:19:38.080Z"
   },
   {
    "duration": 438,
    "start_time": "2022-03-13T14:19:54.847Z"
   },
   {
    "duration": 5,
    "start_time": "2022-03-13T14:20:00.136Z"
   },
   {
    "duration": 465,
    "start_time": "2022-03-13T14:20:00.143Z"
   },
   {
    "duration": 1233,
    "start_time": "2022-03-13T14:20:00.610Z"
   },
   {
    "duration": 946,
    "start_time": "2022-03-13T14:20:01.844Z"
   },
   {
    "duration": 924,
    "start_time": "2022-03-13T14:20:02.791Z"
   },
   {
    "duration": 2930,
    "start_time": "2022-03-13T14:20:03.717Z"
   },
   {
    "duration": 303,
    "start_time": "2022-03-13T14:20:06.649Z"
   },
   {
    "duration": 2993,
    "start_time": "2022-03-13T14:20:07.943Z"
   },
   {
    "duration": 4,
    "start_time": "2022-03-13T14:20:41.535Z"
   },
   {
    "duration": 406,
    "start_time": "2022-03-13T14:20:41.541Z"
   },
   {
    "duration": 836,
    "start_time": "2022-03-13T14:20:41.949Z"
   },
   {
    "duration": 978,
    "start_time": "2022-03-13T14:20:42.787Z"
   },
   {
    "duration": 752,
    "start_time": "2022-03-13T14:20:43.767Z"
   },
   {
    "duration": 2467,
    "start_time": "2022-03-13T14:20:44.521Z"
   },
   {
    "duration": 289,
    "start_time": "2022-03-13T14:20:46.989Z"
   },
   {
    "duration": 2114,
    "start_time": "2022-03-13T14:21:38.552Z"
   },
   {
    "duration": 107,
    "start_time": "2022-03-13T14:21:48.734Z"
   },
   {
    "duration": 4860,
    "start_time": "2022-03-13T14:22:01.798Z"
   },
   {
    "duration": 5198,
    "start_time": "2022-03-13T14:22:58.455Z"
   },
   {
    "duration": 3619,
    "start_time": "2022-03-13T14:23:26.710Z"
   },
   {
    "duration": 3563,
    "start_time": "2022-03-13T14:23:48.014Z"
   },
   {
    "duration": 4129,
    "start_time": "2022-03-13T14:24:04.716Z"
   },
   {
    "duration": 3015,
    "start_time": "2022-03-13T14:24:11.131Z"
   },
   {
    "duration": 4541,
    "start_time": "2022-03-13T14:25:12.404Z"
   },
   {
    "duration": 4456,
    "start_time": "2022-03-13T14:25:18.291Z"
   },
   {
    "duration": 2210,
    "start_time": "2022-03-13T14:25:36.906Z"
   },
   {
    "duration": 811,
    "start_time": "2022-03-13T14:27:07.496Z"
   },
   {
    "duration": 20996,
    "start_time": "2022-03-13T14:27:08.309Z"
   },
   {
    "duration": 3436,
    "start_time": "2022-03-13T14:27:29.308Z"
   },
   {
    "duration": 3402,
    "start_time": "2022-03-13T14:27:32.806Z"
   },
   {
    "duration": 2605,
    "start_time": "2022-03-13T14:27:36.210Z"
   },
   {
    "duration": 5677,
    "start_time": "2022-03-13T14:27:38.817Z"
   },
   {
    "duration": 1023,
    "start_time": "2022-03-13T14:27:44.496Z"
   },
   {
    "duration": 2940,
    "start_time": "2022-03-13T14:27:45.523Z"
   },
   {
    "duration": 6841,
    "start_time": "2022-03-13T14:27:48.465Z"
   },
   {
    "duration": 7233,
    "start_time": "2022-03-13T14:27:55.308Z"
   },
   {
    "duration": 7787,
    "start_time": "2022-03-13T14:28:02.543Z"
   },
   {
    "duration": 3114,
    "start_time": "2022-03-13T14:28:10.331Z"
   },
   {
    "duration": 805,
    "start_time": "2022-03-13T14:29:30.958Z"
   },
   {
    "duration": 23005,
    "start_time": "2022-03-13T14:29:31.765Z"
   },
   {
    "duration": 4453,
    "start_time": "2022-03-13T14:29:54.772Z"
   },
   {
    "duration": 4209,
    "start_time": "2022-03-13T14:29:59.228Z"
   },
   {
    "duration": 2789,
    "start_time": "2022-03-13T14:30:03.439Z"
   },
   {
    "duration": 6034,
    "start_time": "2022-03-13T14:30:06.230Z"
   },
   {
    "duration": 1262,
    "start_time": "2022-03-13T14:30:12.265Z"
   },
   {
    "duration": 3629,
    "start_time": "2022-03-13T14:30:13.529Z"
   },
   {
    "duration": 7995,
    "start_time": "2022-03-13T14:30:17.160Z"
   },
   {
    "duration": 7706,
    "start_time": "2022-03-13T14:30:25.157Z"
   },
   {
    "duration": 7519,
    "start_time": "2022-03-13T14:30:32.905Z"
   },
   {
    "duration": 3534,
    "start_time": "2022-03-13T14:30:40.426Z"
   }
  ],
  "colab": {
   "name": "PySparkSprint.ipynb",
   "provenance": []
  },
  "kernelspec": {
   "display_name": "Python 3 (ipykernel)",
   "language": "python",
   "name": "python3"
  },
  "language_info": {
   "codemirror_mode": {
    "name": "ipython",
    "version": 3
   },
   "file_extension": ".py",
   "mimetype": "text/x-python",
   "name": "python",
   "nbconvert_exporter": "python",
   "pygments_lexer": "ipython3",
   "version": "3.10.10"
  },
  "toc": {
   "base_numbering": 1,
   "nav_menu": {},
   "number_sections": true,
   "sideBar": true,
   "skip_h1_title": false,
   "title_cell": "Table of Contents",
   "title_sidebar": "Contents",
   "toc_cell": false,
   "toc_position": {},
   "toc_section_display": true,
   "toc_window_display": false
  }
 },
 "nbformat": 4,
 "nbformat_minor": 5
}
