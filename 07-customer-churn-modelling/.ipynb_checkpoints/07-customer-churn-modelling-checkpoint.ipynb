{
 "cells": [
  {
   "cell_type": "markdown",
   "metadata": {
    "toc": true
   },
   "source": [
    "<h1>Содержание<span class=\"tocSkip\"></span></h1>\n",
    "<div class=\"toc\"><ul class=\"toc-item\"><li><span><a href=\"#Подготовка-данных\" data-toc-modified-id=\"Подготовка-данных-1\"><span class=\"toc-item-num\">1&nbsp;&nbsp;</span>Подготовка данных</a></span></li><li><span><a href=\"#Исследование-задачи\" data-toc-modified-id=\"Исследование-задачи-2\"><span class=\"toc-item-num\">2&nbsp;&nbsp;</span>Исследование задачи</a></span></li><li><span><a href=\"#Борьба-с-дисбалансом\" data-toc-modified-id=\"Борьба-с-дисбалансом-3\"><span class=\"toc-item-num\">3&nbsp;&nbsp;</span>Борьба с дисбалансом</a></span></li><li><span><a href=\"#Тестирование-модели\" data-toc-modified-id=\"Тестирование-модели-4\"><span class=\"toc-item-num\">4&nbsp;&nbsp;</span>Тестирование модели</a></span></li><li><span><a href=\"#Чек-лист-готовности-проекта\" data-toc-modified-id=\"Чек-лист-готовности-проекта-5\"><span class=\"toc-item-num\">5&nbsp;&nbsp;</span>Чек-лист готовности проекта</a></span></li></ul></div>"
   ]
  },
  {
   "cell_type": "markdown",
   "metadata": {},
   "source": [
    "# Отток клиентов"
   ]
  },
  {
   "cell_type": "markdown",
   "metadata": {},
   "source": [
    "Из «Бета-Банка» стали уходить клиенты. Каждый месяц. Немного, но заметно. Банковские маркетологи посчитали: сохранять текущих клиентов дешевле, чем привлекать новых.\n",
    "\n",
    "Нужно спрогнозировать, уйдёт клиент из банка в ближайшее время или нет. Вам предоставлены исторические данные о поведении клиентов и расторжении договоров с банком. \n",
    "\n",
    "Постройте модель с предельно большим значением *F1*-меры. Чтобы сдать проект успешно, нужно довести метрику до 0.59. Проверьте *F1*-меру на тестовой выборке самостоятельно.\n",
    "\n",
    "Дополнительно измеряйте *AUC-ROC*, сравнивайте её значение с *F1*-мерой.\n",
    "\n",
    "Источник данных: [https://www.kaggle.com/barelydedicated/bank-customer-churn-modeling](https://www.kaggle.com/barelydedicated/bank-customer-churn-modeling)"
   ]
  },
  {
   "cell_type": "markdown",
   "metadata": {},
   "source": [
    "## Подготовка данных"
   ]
  },
  {
   "cell_type": "code",
   "execution_count": 1,
   "metadata": {},
   "outputs": [],
   "source": [
    "import itertools\n",
    "\n",
    "import pandas as pd\n",
    "import numpy as np\n",
    "import matplotlib.pyplot as plt\n",
    "import seaborn as sns\n",
    "\n",
    "from sklearn.model_selection import train_test_split\n",
    "from sklearn.model_selection import RandomizedSearchCV\n",
    "from sklearn.model_selection import GridSearchCV\n",
    "\n",
    "from sklearn.linear_model import LogisticRegression\n",
    "from sklearn.tree import DecisionTreeClassifier\n",
    "from sklearn.ensemble import RandomForestClassifier\n",
    "\n",
    "from sklearn.metrics import f1_score\n",
    "from sklearn.metrics import roc_curve\n",
    "from sklearn.metrics import roc_auc_score\n",
    "\n",
    "from sklearn.utils import shuffle"
   ]
  },
  {
   "cell_type": "markdown",
   "metadata": {},
   "source": [
    "Читаем данные из CSV файла, смотрим на шапку получившегося DataFrame'а:"
   ]
  },
  {
   "cell_type": "code",
   "execution_count": 2,
   "metadata": {},
   "outputs": [
    {
     "data": {
      "text/html": [
       "<div>\n",
       "<style scoped>\n",
       "    .dataframe tbody tr th:only-of-type {\n",
       "        vertical-align: middle;\n",
       "    }\n",
       "\n",
       "    .dataframe tbody tr th {\n",
       "        vertical-align: top;\n",
       "    }\n",
       "\n",
       "    .dataframe thead th {\n",
       "        text-align: right;\n",
       "    }\n",
       "</style>\n",
       "<table border=\"1\" class=\"dataframe\">\n",
       "  <thead>\n",
       "    <tr style=\"text-align: right;\">\n",
       "      <th></th>\n",
       "      <th>RowNumber</th>\n",
       "      <th>CustomerId</th>\n",
       "      <th>Surname</th>\n",
       "      <th>CreditScore</th>\n",
       "      <th>Geography</th>\n",
       "      <th>Gender</th>\n",
       "      <th>Age</th>\n",
       "      <th>Tenure</th>\n",
       "      <th>Balance</th>\n",
       "      <th>NumOfProducts</th>\n",
       "      <th>HasCrCard</th>\n",
       "      <th>IsActiveMember</th>\n",
       "      <th>EstimatedSalary</th>\n",
       "      <th>Exited</th>\n",
       "    </tr>\n",
       "  </thead>\n",
       "  <tbody>\n",
       "    <tr>\n",
       "      <th>0</th>\n",
       "      <td>1</td>\n",
       "      <td>15634602</td>\n",
       "      <td>Hargrave</td>\n",
       "      <td>619</td>\n",
       "      <td>France</td>\n",
       "      <td>Female</td>\n",
       "      <td>42</td>\n",
       "      <td>2</td>\n",
       "      <td>0.00</td>\n",
       "      <td>1</td>\n",
       "      <td>1</td>\n",
       "      <td>1</td>\n",
       "      <td>101348.88</td>\n",
       "      <td>1</td>\n",
       "    </tr>\n",
       "    <tr>\n",
       "      <th>1</th>\n",
       "      <td>2</td>\n",
       "      <td>15647311</td>\n",
       "      <td>Hill</td>\n",
       "      <td>608</td>\n",
       "      <td>Spain</td>\n",
       "      <td>Female</td>\n",
       "      <td>41</td>\n",
       "      <td>1</td>\n",
       "      <td>83807.86</td>\n",
       "      <td>1</td>\n",
       "      <td>0</td>\n",
       "      <td>1</td>\n",
       "      <td>112542.58</td>\n",
       "      <td>0</td>\n",
       "    </tr>\n",
       "    <tr>\n",
       "      <th>2</th>\n",
       "      <td>3</td>\n",
       "      <td>15619304</td>\n",
       "      <td>Onio</td>\n",
       "      <td>502</td>\n",
       "      <td>France</td>\n",
       "      <td>Female</td>\n",
       "      <td>42</td>\n",
       "      <td>8</td>\n",
       "      <td>159660.80</td>\n",
       "      <td>3</td>\n",
       "      <td>1</td>\n",
       "      <td>0</td>\n",
       "      <td>113931.57</td>\n",
       "      <td>1</td>\n",
       "    </tr>\n",
       "    <tr>\n",
       "      <th>3</th>\n",
       "      <td>4</td>\n",
       "      <td>15701354</td>\n",
       "      <td>Boni</td>\n",
       "      <td>699</td>\n",
       "      <td>France</td>\n",
       "      <td>Female</td>\n",
       "      <td>39</td>\n",
       "      <td>1</td>\n",
       "      <td>0.00</td>\n",
       "      <td>2</td>\n",
       "      <td>0</td>\n",
       "      <td>0</td>\n",
       "      <td>93826.63</td>\n",
       "      <td>0</td>\n",
       "    </tr>\n",
       "    <tr>\n",
       "      <th>4</th>\n",
       "      <td>5</td>\n",
       "      <td>15737888</td>\n",
       "      <td>Mitchell</td>\n",
       "      <td>850</td>\n",
       "      <td>Spain</td>\n",
       "      <td>Female</td>\n",
       "      <td>43</td>\n",
       "      <td>2</td>\n",
       "      <td>125510.82</td>\n",
       "      <td>1</td>\n",
       "      <td>1</td>\n",
       "      <td>1</td>\n",
       "      <td>79084.10</td>\n",
       "      <td>0</td>\n",
       "    </tr>\n",
       "  </tbody>\n",
       "</table>\n",
       "</div>"
      ],
      "text/plain": [
       "   RowNumber  CustomerId   Surname  CreditScore Geography  Gender  Age  \\\n",
       "0          1    15634602  Hargrave          619    France  Female   42   \n",
       "1          2    15647311      Hill          608     Spain  Female   41   \n",
       "2          3    15619304      Onio          502    France  Female   42   \n",
       "3          4    15701354      Boni          699    France  Female   39   \n",
       "4          5    15737888  Mitchell          850     Spain  Female   43   \n",
       "\n",
       "   Tenure    Balance  NumOfProducts  HasCrCard  IsActiveMember  \\\n",
       "0       2       0.00              1          1               1   \n",
       "1       1   83807.86              1          0               1   \n",
       "2       8  159660.80              3          1               0   \n",
       "3       1       0.00              2          0               0   \n",
       "4       2  125510.82              1          1               1   \n",
       "\n",
       "   EstimatedSalary  Exited  \n",
       "0        101348.88       1  \n",
       "1        112542.58       0  \n",
       "2        113931.57       1  \n",
       "3         93826.63       0  \n",
       "4         79084.10       0  "
      ]
     },
     "metadata": {},
     "output_type": "display_data"
    }
   ],
   "source": [
    "data = pd.read_csv('...')\n",
    "display(data.head())"
   ]
  },
  {
   "cell_type": "markdown",
   "metadata": {},
   "source": [
    "Приведём здесь пояснения к каждому из признаков-столбцов:\n",
    "\n",
    "Входные признаки:\n",
    "\n",
    "- `RowNumber` — индекс строки в данных;\n",
    "- `CustomerId` — уникальный идентификатор клиента;\n",
    "- `Surname` — фамилия;\n",
    "- `CreditScore` — кредитный рейтинг;\n",
    "- `Geography` — страна проживания;\n",
    "- `Gender` — пол;\n",
    "- `Age` — возраст;\n",
    "- `Tenure` — сколько лет человек является клиентом банка;\n",
    "- `Balance` — баланс на счёте;\n",
    "- `NumOfProducts` — количество продуктов банка, используемых клиентом;\n",
    "- `HasCrCard` — наличие кредитной карты;\n",
    "- `IsActiveMember` — активность клиента;\n",
    "- `EstimatedSalary` — предполагаемая зарплата\n",
    "\n",
    "Целевой признак:\n",
    "\n",
    "- `Exited` — факт ухода клиента\n"
   ]
  },
  {
   "cell_type": "markdown",
   "metadata": {},
   "source": [
    "Теперь выполним переименование столбцов для приведения их имён к \"_змеиному регистру_\":"
   ]
  },
  {
   "cell_type": "code",
   "execution_count": 3,
   "metadata": {},
   "outputs": [
    {
     "data": {
      "text/html": [
       "<div>\n",
       "<style scoped>\n",
       "    .dataframe tbody tr th:only-of-type {\n",
       "        vertical-align: middle;\n",
       "    }\n",
       "\n",
       "    .dataframe tbody tr th {\n",
       "        vertical-align: top;\n",
       "    }\n",
       "\n",
       "    .dataframe thead th {\n",
       "        text-align: right;\n",
       "    }\n",
       "</style>\n",
       "<table border=\"1\" class=\"dataframe\">\n",
       "  <thead>\n",
       "    <tr style=\"text-align: right;\">\n",
       "      <th></th>\n",
       "      <th>row_number</th>\n",
       "      <th>customer_id</th>\n",
       "      <th>surname</th>\n",
       "      <th>credit_score</th>\n",
       "      <th>geography</th>\n",
       "      <th>gender</th>\n",
       "      <th>age_in_years</th>\n",
       "      <th>tenure_in_years</th>\n",
       "      <th>balance</th>\n",
       "      <th>num_of_products</th>\n",
       "      <th>has_cr_card</th>\n",
       "      <th>is_active_member</th>\n",
       "      <th>estimated_salary</th>\n",
       "      <th>exited</th>\n",
       "    </tr>\n",
       "  </thead>\n",
       "  <tbody>\n",
       "    <tr>\n",
       "      <th>0</th>\n",
       "      <td>1</td>\n",
       "      <td>15634602</td>\n",
       "      <td>Hargrave</td>\n",
       "      <td>619</td>\n",
       "      <td>France</td>\n",
       "      <td>Female</td>\n",
       "      <td>42</td>\n",
       "      <td>2</td>\n",
       "      <td>0.00</td>\n",
       "      <td>1</td>\n",
       "      <td>1</td>\n",
       "      <td>1</td>\n",
       "      <td>101348.88</td>\n",
       "      <td>1</td>\n",
       "    </tr>\n",
       "    <tr>\n",
       "      <th>1</th>\n",
       "      <td>2</td>\n",
       "      <td>15647311</td>\n",
       "      <td>Hill</td>\n",
       "      <td>608</td>\n",
       "      <td>Spain</td>\n",
       "      <td>Female</td>\n",
       "      <td>41</td>\n",
       "      <td>1</td>\n",
       "      <td>83807.86</td>\n",
       "      <td>1</td>\n",
       "      <td>0</td>\n",
       "      <td>1</td>\n",
       "      <td>112542.58</td>\n",
       "      <td>0</td>\n",
       "    </tr>\n",
       "    <tr>\n",
       "      <th>2</th>\n",
       "      <td>3</td>\n",
       "      <td>15619304</td>\n",
       "      <td>Onio</td>\n",
       "      <td>502</td>\n",
       "      <td>France</td>\n",
       "      <td>Female</td>\n",
       "      <td>42</td>\n",
       "      <td>8</td>\n",
       "      <td>159660.80</td>\n",
       "      <td>3</td>\n",
       "      <td>1</td>\n",
       "      <td>0</td>\n",
       "      <td>113931.57</td>\n",
       "      <td>1</td>\n",
       "    </tr>\n",
       "    <tr>\n",
       "      <th>3</th>\n",
       "      <td>4</td>\n",
       "      <td>15701354</td>\n",
       "      <td>Boni</td>\n",
       "      <td>699</td>\n",
       "      <td>France</td>\n",
       "      <td>Female</td>\n",
       "      <td>39</td>\n",
       "      <td>1</td>\n",
       "      <td>0.00</td>\n",
       "      <td>2</td>\n",
       "      <td>0</td>\n",
       "      <td>0</td>\n",
       "      <td>93826.63</td>\n",
       "      <td>0</td>\n",
       "    </tr>\n",
       "    <tr>\n",
       "      <th>4</th>\n",
       "      <td>5</td>\n",
       "      <td>15737888</td>\n",
       "      <td>Mitchell</td>\n",
       "      <td>850</td>\n",
       "      <td>Spain</td>\n",
       "      <td>Female</td>\n",
       "      <td>43</td>\n",
       "      <td>2</td>\n",
       "      <td>125510.82</td>\n",
       "      <td>1</td>\n",
       "      <td>1</td>\n",
       "      <td>1</td>\n",
       "      <td>79084.10</td>\n",
       "      <td>0</td>\n",
       "    </tr>\n",
       "  </tbody>\n",
       "</table>\n",
       "</div>"
      ],
      "text/plain": [
       "   row_number  customer_id   surname  credit_score geography  gender  \\\n",
       "0           1     15634602  Hargrave           619    France  Female   \n",
       "1           2     15647311      Hill           608     Spain  Female   \n",
       "2           3     15619304      Onio           502    France  Female   \n",
       "3           4     15701354      Boni           699    France  Female   \n",
       "4           5     15737888  Mitchell           850     Spain  Female   \n",
       "\n",
       "   age_in_years  tenure_in_years    balance  num_of_products  has_cr_card  \\\n",
       "0            42                2       0.00                1            1   \n",
       "1            41                1   83807.86                1            0   \n",
       "2            42                8  159660.80                3            1   \n",
       "3            39                1       0.00                2            0   \n",
       "4            43                2  125510.82                1            1   \n",
       "\n",
       "   is_active_member  estimated_salary  exited  \n",
       "0                 1         101348.88       1  \n",
       "1                 1         112542.58       0  \n",
       "2                 0         113931.57       1  \n",
       "3                 0          93826.63       0  \n",
       "4                 1          79084.10       0  "
      ]
     },
     "metadata": {},
     "output_type": "display_data"
    }
   ],
   "source": [
    "data = data.rename(columns={\n",
    "    'RowNumber': 'row_number', # Судя по названию, выглядит лишним, но пока переименуем и его\n",
    "    'CustomerId': 'customer_id',\n",
    "    'Surname': 'surname',\n",
    "    'CreditScore': 'credit_score',\n",
    "    'Geography': 'geography',\n",
    "    'Gender': 'gender',\n",
    "    'Age': 'age_in_years', # На всякий случай добавим постфикс \"_in_years\" - для ясности\n",
    "    'Tenure': 'tenure_in_years', # Аналогично\n",
    "    'Balance': 'balance',\n",
    "    'NumOfProducts': 'num_of_products',\n",
    "    'HasCrCard': 'has_cr_card',\n",
    "    'IsActiveMember': 'is_active_member',\n",
    "    'EstimatedSalary': 'estimated_salary',\n",
    "    'Exited': 'exited'})\n",
    "\n",
    "display(data.head())"
   ]
  },
  {
   "cell_type": "markdown",
   "metadata": {},
   "source": [
    "Попробуем окончательно убедиться, что столбец `row_number` действительно является излишним, т.е. не несёт никакой полезной для решения поставленной задачи информации. Для этого выведим конец таблицы, а также количество уникальных значений в данном столбце:"
   ]
  },
  {
   "cell_type": "code",
   "execution_count": 4,
   "metadata": {},
   "outputs": [
    {
     "data": {
      "text/html": [
       "<div>\n",
       "<style scoped>\n",
       "    .dataframe tbody tr th:only-of-type {\n",
       "        vertical-align: middle;\n",
       "    }\n",
       "\n",
       "    .dataframe tbody tr th {\n",
       "        vertical-align: top;\n",
       "    }\n",
       "\n",
       "    .dataframe thead th {\n",
       "        text-align: right;\n",
       "    }\n",
       "</style>\n",
       "<table border=\"1\" class=\"dataframe\">\n",
       "  <thead>\n",
       "    <tr style=\"text-align: right;\">\n",
       "      <th></th>\n",
       "      <th>row_number</th>\n",
       "      <th>customer_id</th>\n",
       "      <th>surname</th>\n",
       "      <th>credit_score</th>\n",
       "      <th>geography</th>\n",
       "      <th>gender</th>\n",
       "      <th>age_in_years</th>\n",
       "      <th>tenure_in_years</th>\n",
       "      <th>balance</th>\n",
       "      <th>num_of_products</th>\n",
       "      <th>has_cr_card</th>\n",
       "      <th>is_active_member</th>\n",
       "      <th>estimated_salary</th>\n",
       "      <th>exited</th>\n",
       "    </tr>\n",
       "  </thead>\n",
       "  <tbody>\n",
       "    <tr>\n",
       "      <th>9997</th>\n",
       "      <td>9998</td>\n",
       "      <td>15584532</td>\n",
       "      <td>Liu</td>\n",
       "      <td>709</td>\n",
       "      <td>France</td>\n",
       "      <td>Female</td>\n",
       "      <td>36</td>\n",
       "      <td>7</td>\n",
       "      <td>0.00</td>\n",
       "      <td>1</td>\n",
       "      <td>0</td>\n",
       "      <td>1</td>\n",
       "      <td>42085.58</td>\n",
       "      <td>1</td>\n",
       "    </tr>\n",
       "    <tr>\n",
       "      <th>9998</th>\n",
       "      <td>9999</td>\n",
       "      <td>15682355</td>\n",
       "      <td>Sabbatini</td>\n",
       "      <td>772</td>\n",
       "      <td>Germany</td>\n",
       "      <td>Male</td>\n",
       "      <td>42</td>\n",
       "      <td>3</td>\n",
       "      <td>75075.31</td>\n",
       "      <td>2</td>\n",
       "      <td>1</td>\n",
       "      <td>0</td>\n",
       "      <td>92888.52</td>\n",
       "      <td>1</td>\n",
       "    </tr>\n",
       "    <tr>\n",
       "      <th>9999</th>\n",
       "      <td>10000</td>\n",
       "      <td>15628319</td>\n",
       "      <td>Walker</td>\n",
       "      <td>792</td>\n",
       "      <td>France</td>\n",
       "      <td>Female</td>\n",
       "      <td>28</td>\n",
       "      <td>4</td>\n",
       "      <td>130142.79</td>\n",
       "      <td>1</td>\n",
       "      <td>1</td>\n",
       "      <td>0</td>\n",
       "      <td>38190.78</td>\n",
       "      <td>0</td>\n",
       "    </tr>\n",
       "  </tbody>\n",
       "</table>\n",
       "</div>"
      ],
      "text/plain": [
       "      row_number  customer_id    surname  credit_score geography  gender  \\\n",
       "9997        9998     15584532        Liu           709    France  Female   \n",
       "9998        9999     15682355  Sabbatini           772   Germany    Male   \n",
       "9999       10000     15628319     Walker           792    France  Female   \n",
       "\n",
       "      age_in_years  tenure_in_years    balance  num_of_products  has_cr_card  \\\n",
       "9997            36                7       0.00                1            0   \n",
       "9998            42                3   75075.31                2            1   \n",
       "9999            28                4  130142.79                1            1   \n",
       "\n",
       "      is_active_member  estimated_salary  exited  \n",
       "9997                 1          42085.58       1  \n",
       "9998                 0          92888.52       1  \n",
       "9999                 0          38190.78       0  "
      ]
     },
     "metadata": {},
     "output_type": "display_data"
    },
    {
     "name": "stdout",
     "output_type": "stream",
     "text": [
      "Уникальных значений в столбце 'row_number': 10000\n"
     ]
    }
   ],
   "source": [
    "display(data.tail(3))\n",
    "print(f\"Уникальных значений в столбце 'row_number': {len(data['row_number'].unique())}\")"
   ]
  },
  {
   "cell_type": "markdown",
   "metadata": {},
   "source": [
    "Судя по всему, столбец `row_number` действительно можно удалить как лишний, сделаем это:"
   ]
  },
  {
   "cell_type": "code",
   "execution_count": 5,
   "metadata": {},
   "outputs": [
    {
     "data": {
      "text/html": [
       "<div>\n",
       "<style scoped>\n",
       "    .dataframe tbody tr th:only-of-type {\n",
       "        vertical-align: middle;\n",
       "    }\n",
       "\n",
       "    .dataframe tbody tr th {\n",
       "        vertical-align: top;\n",
       "    }\n",
       "\n",
       "    .dataframe thead th {\n",
       "        text-align: right;\n",
       "    }\n",
       "</style>\n",
       "<table border=\"1\" class=\"dataframe\">\n",
       "  <thead>\n",
       "    <tr style=\"text-align: right;\">\n",
       "      <th></th>\n",
       "      <th>customer_id</th>\n",
       "      <th>surname</th>\n",
       "      <th>credit_score</th>\n",
       "      <th>geography</th>\n",
       "      <th>gender</th>\n",
       "      <th>age_in_years</th>\n",
       "      <th>tenure_in_years</th>\n",
       "      <th>balance</th>\n",
       "      <th>num_of_products</th>\n",
       "      <th>has_cr_card</th>\n",
       "      <th>is_active_member</th>\n",
       "      <th>estimated_salary</th>\n",
       "      <th>exited</th>\n",
       "    </tr>\n",
       "  </thead>\n",
       "  <tbody>\n",
       "    <tr>\n",
       "      <th>0</th>\n",
       "      <td>15634602</td>\n",
       "      <td>Hargrave</td>\n",
       "      <td>619</td>\n",
       "      <td>France</td>\n",
       "      <td>Female</td>\n",
       "      <td>42</td>\n",
       "      <td>2</td>\n",
       "      <td>0.00</td>\n",
       "      <td>1</td>\n",
       "      <td>1</td>\n",
       "      <td>1</td>\n",
       "      <td>101348.88</td>\n",
       "      <td>1</td>\n",
       "    </tr>\n",
       "    <tr>\n",
       "      <th>1</th>\n",
       "      <td>15647311</td>\n",
       "      <td>Hill</td>\n",
       "      <td>608</td>\n",
       "      <td>Spain</td>\n",
       "      <td>Female</td>\n",
       "      <td>41</td>\n",
       "      <td>1</td>\n",
       "      <td>83807.86</td>\n",
       "      <td>1</td>\n",
       "      <td>0</td>\n",
       "      <td>1</td>\n",
       "      <td>112542.58</td>\n",
       "      <td>0</td>\n",
       "    </tr>\n",
       "    <tr>\n",
       "      <th>2</th>\n",
       "      <td>15619304</td>\n",
       "      <td>Onio</td>\n",
       "      <td>502</td>\n",
       "      <td>France</td>\n",
       "      <td>Female</td>\n",
       "      <td>42</td>\n",
       "      <td>8</td>\n",
       "      <td>159660.80</td>\n",
       "      <td>3</td>\n",
       "      <td>1</td>\n",
       "      <td>0</td>\n",
       "      <td>113931.57</td>\n",
       "      <td>1</td>\n",
       "    </tr>\n",
       "    <tr>\n",
       "      <th>3</th>\n",
       "      <td>15701354</td>\n",
       "      <td>Boni</td>\n",
       "      <td>699</td>\n",
       "      <td>France</td>\n",
       "      <td>Female</td>\n",
       "      <td>39</td>\n",
       "      <td>1</td>\n",
       "      <td>0.00</td>\n",
       "      <td>2</td>\n",
       "      <td>0</td>\n",
       "      <td>0</td>\n",
       "      <td>93826.63</td>\n",
       "      <td>0</td>\n",
       "    </tr>\n",
       "    <tr>\n",
       "      <th>4</th>\n",
       "      <td>15737888</td>\n",
       "      <td>Mitchell</td>\n",
       "      <td>850</td>\n",
       "      <td>Spain</td>\n",
       "      <td>Female</td>\n",
       "      <td>43</td>\n",
       "      <td>2</td>\n",
       "      <td>125510.82</td>\n",
       "      <td>1</td>\n",
       "      <td>1</td>\n",
       "      <td>1</td>\n",
       "      <td>79084.10</td>\n",
       "      <td>0</td>\n",
       "    </tr>\n",
       "  </tbody>\n",
       "</table>\n",
       "</div>"
      ],
      "text/plain": [
       "   customer_id   surname  credit_score geography  gender  age_in_years  \\\n",
       "0     15634602  Hargrave           619    France  Female            42   \n",
       "1     15647311      Hill           608     Spain  Female            41   \n",
       "2     15619304      Onio           502    France  Female            42   \n",
       "3     15701354      Boni           699    France  Female            39   \n",
       "4     15737888  Mitchell           850     Spain  Female            43   \n",
       "\n",
       "   tenure_in_years    balance  num_of_products  has_cr_card  is_active_member  \\\n",
       "0                2       0.00                1            1                 1   \n",
       "1                1   83807.86                1            0                 1   \n",
       "2                8  159660.80                3            1                 0   \n",
       "3                1       0.00                2            0                 0   \n",
       "4                2  125510.82                1            1                 1   \n",
       "\n",
       "   estimated_salary  exited  \n",
       "0         101348.88       1  \n",
       "1         112542.58       0  \n",
       "2         113931.57       1  \n",
       "3          93826.63       0  \n",
       "4          79084.10       0  "
      ]
     },
     "metadata": {},
     "output_type": "display_data"
    }
   ],
   "source": [
    "data = data.drop(columns=['row_number'], axis=1)\n",
    "display(data.head())"
   ]
  },
  {
   "cell_type": "markdown",
   "metadata": {},
   "source": [
    "Теперь посмотрим на информацию о данных в нашем наборе с помощью `DataFrame.info()`:"
   ]
  },
  {
   "cell_type": "code",
   "execution_count": 6,
   "metadata": {},
   "outputs": [
    {
     "name": "stdout",
     "output_type": "stream",
     "text": [
      "<class 'pandas.core.frame.DataFrame'>\n",
      "RangeIndex: 10000 entries, 0 to 9999\n",
      "Data columns (total 13 columns):\n",
      " #   Column            Non-Null Count  Dtype  \n",
      "---  ------            --------------  -----  \n",
      " 0   customer_id       10000 non-null  int64  \n",
      " 1   surname           10000 non-null  object \n",
      " 2   credit_score      10000 non-null  int64  \n",
      " 3   geography         10000 non-null  object \n",
      " 4   gender            10000 non-null  object \n",
      " 5   age_in_years      10000 non-null  int64  \n",
      " 6   tenure_in_years   10000 non-null  int64  \n",
      " 7   balance           10000 non-null  float64\n",
      " 8   num_of_products   10000 non-null  int64  \n",
      " 9   has_cr_card       10000 non-null  int64  \n",
      " 10  is_active_member  10000 non-null  int64  \n",
      " 11  estimated_salary  10000 non-null  float64\n",
      " 12  exited            10000 non-null  int64  \n",
      "dtypes: float64(2), int64(8), object(3)\n",
      "memory usage: 1015.8+ KB\n"
     ]
    },
    {
     "data": {
      "text/plain": [
       "None"
      ]
     },
     "metadata": {},
     "output_type": "display_data"
    }
   ],
   "source": [
    "display(data.info())"
   ]
  },
  {
   "cell_type": "markdown",
   "metadata": {},
   "source": [
    "Можно заметить, что:\n",
    "\n",
    "1. В данных `10000` строк (описаний действующих клиентов банка);\n",
    "\n",
    "\n",
    "2. В данных отсутствуют пропуски, все значения в каждом из столбцов ненулевые;\n",
    "\n",
    "\n",
    "3. Выставленные автоматически типы выглядят корректно, разве что для признаков `has_cr_card` (входной), `is_active_member` (входной) и `exited` (целевой) мы подразумеваем булево значение, в то время как сейчас оно кодируется в виде целого числа с возможными значениями `0` и `1` . Но это будет не лишне проверить, поэтому убедимся, что в этих двух полях все значения действительно только `0` и `1`:"
   ]
  },
  {
   "cell_type": "code",
   "execution_count": 7,
   "metadata": {},
   "outputs": [
    {
     "data": {
      "text/plain": [
       "1    5151\n",
       "0    4849\n",
       "Name: is_active_member, dtype: int64"
      ]
     },
     "metadata": {},
     "output_type": "display_data"
    },
    {
     "data": {
      "text/plain": [
       "0    7963\n",
       "1    2037\n",
       "Name: exited, dtype: int64"
      ]
     },
     "metadata": {},
     "output_type": "display_data"
    },
    {
     "data": {
      "text/plain": [
       "1    7055\n",
       "0    2945\n",
       "Name: has_cr_card, dtype: int64"
      ]
     },
     "metadata": {},
     "output_type": "display_data"
    }
   ],
   "source": [
    "display(data['is_active_member'].value_counts())\n",
    "display(data['exited'].value_counts())\n",
    "display(data['has_cr_card'].value_counts())"
   ]
  },
  {
   "cell_type": "markdown",
   "metadata": {},
   "source": [
    "Судя по выводу выше, значения действительно состоят исключительно из нулей и единиц.\n",
    "\n",
    "Теперь попробуем узнать, есть ли в нашем наборе данных дубли. Начнём с самого простого - проверим, что все значения в поле `customer_id` (уникальный идентификатор клиента) на самом деле являются уникальными:"
   ]
  },
  {
   "cell_type": "code",
   "execution_count": 8,
   "metadata": {},
   "outputs": [
    {
     "name": "stdout",
     "output_type": "stream",
     "text": [
      "Количество дубликатов в столбце 'customer_id': 0\n"
     ]
    }
   ],
   "source": [
    "print(f\"Количество дубликатов в столбце 'customer_id': {data['customer_id'].duplicated().sum()}\")"
   ]
  },
  {
   "cell_type": "markdown",
   "metadata": {},
   "source": [
    "Ещё опционально убедимся, что даже без учёта столбца `customer_id` все строки являются уникальными:"
   ]
  },
  {
   "cell_type": "code",
   "execution_count": 9,
   "metadata": {},
   "outputs": [
    {
     "name": "stdout",
     "output_type": "stream",
     "text": [
      "Количество дубликатов без учёта столбца 'customer_id':      0\n"
     ]
    }
   ],
   "source": [
    "columns_without_customer_id = list(data.columns.values)\n",
    "columns_without_customer_id.remove('customer_id')\n",
    "\n",
    "print(f\"Количество дубликатов без учёта столбца 'customer_id':\\\n",
    "      {data.loc[:, columns_without_customer_id].duplicated().sum()}\")"
   ]
  },
  {
   "cell_type": "markdown",
   "metadata": {},
   "source": [
    "Из этого сделаем вывод, что дубликатов в нашем наборе данных нет, и все `10000` строк задают уникальных клиентов банка."
   ]
  },
  {
   "cell_type": "markdown",
   "metadata": {},
   "source": [
    "### Исследовательский анализ данных\n",
    "\n",
    "Теперь попробуем сделать некоторый поверхностный исследовательский анализ данных: получить некоторую информацию о распределениях количественных признаков с помощью `DataFrame.describe()`:"
   ]
  },
  {
   "cell_type": "code",
   "execution_count": 10,
   "metadata": {},
   "outputs": [],
   "source": [
    "numeric_columns = ['credit_score', 'age_in_years', 'tenure_in_years',\n",
    "                   'balance', 'num_of_products', 'estimated_salary']"
   ]
  },
  {
   "cell_type": "code",
   "execution_count": 11,
   "metadata": {},
   "outputs": [
    {
     "data": {
      "text/html": [
       "<div>\n",
       "<style scoped>\n",
       "    .dataframe tbody tr th:only-of-type {\n",
       "        vertical-align: middle;\n",
       "    }\n",
       "\n",
       "    .dataframe tbody tr th {\n",
       "        vertical-align: top;\n",
       "    }\n",
       "\n",
       "    .dataframe thead th {\n",
       "        text-align: right;\n",
       "    }\n",
       "</style>\n",
       "<table border=\"1\" class=\"dataframe\">\n",
       "  <thead>\n",
       "    <tr style=\"text-align: right;\">\n",
       "      <th></th>\n",
       "      <th>credit_score</th>\n",
       "      <th>age_in_years</th>\n",
       "      <th>tenure_in_years</th>\n",
       "      <th>balance</th>\n",
       "      <th>num_of_products</th>\n",
       "      <th>has_cr_card</th>\n",
       "      <th>is_active_member</th>\n",
       "      <th>estimated_salary</th>\n",
       "      <th>exited</th>\n",
       "    </tr>\n",
       "  </thead>\n",
       "  <tbody>\n",
       "    <tr>\n",
       "      <th>count</th>\n",
       "      <td>10000.000000</td>\n",
       "      <td>10000.000000</td>\n",
       "      <td>10000.000000</td>\n",
       "      <td>10000.000000</td>\n",
       "      <td>10000.000000</td>\n",
       "      <td>10000.00000</td>\n",
       "      <td>10000.000000</td>\n",
       "      <td>10000.000000</td>\n",
       "      <td>10000.000000</td>\n",
       "    </tr>\n",
       "    <tr>\n",
       "      <th>mean</th>\n",
       "      <td>650.528800</td>\n",
       "      <td>38.921800</td>\n",
       "      <td>5.012800</td>\n",
       "      <td>76485.889288</td>\n",
       "      <td>1.530200</td>\n",
       "      <td>0.70550</td>\n",
       "      <td>0.515100</td>\n",
       "      <td>100090.239881</td>\n",
       "      <td>0.203700</td>\n",
       "    </tr>\n",
       "    <tr>\n",
       "      <th>std</th>\n",
       "      <td>96.653299</td>\n",
       "      <td>10.487806</td>\n",
       "      <td>2.892174</td>\n",
       "      <td>62397.405202</td>\n",
       "      <td>0.581654</td>\n",
       "      <td>0.45584</td>\n",
       "      <td>0.499797</td>\n",
       "      <td>57510.492818</td>\n",
       "      <td>0.402769</td>\n",
       "    </tr>\n",
       "    <tr>\n",
       "      <th>min</th>\n",
       "      <td>350.000000</td>\n",
       "      <td>18.000000</td>\n",
       "      <td>0.000000</td>\n",
       "      <td>0.000000</td>\n",
       "      <td>1.000000</td>\n",
       "      <td>0.00000</td>\n",
       "      <td>0.000000</td>\n",
       "      <td>11.580000</td>\n",
       "      <td>0.000000</td>\n",
       "    </tr>\n",
       "    <tr>\n",
       "      <th>25%</th>\n",
       "      <td>584.000000</td>\n",
       "      <td>32.000000</td>\n",
       "      <td>3.000000</td>\n",
       "      <td>0.000000</td>\n",
       "      <td>1.000000</td>\n",
       "      <td>0.00000</td>\n",
       "      <td>0.000000</td>\n",
       "      <td>51002.110000</td>\n",
       "      <td>0.000000</td>\n",
       "    </tr>\n",
       "    <tr>\n",
       "      <th>50%</th>\n",
       "      <td>652.000000</td>\n",
       "      <td>37.000000</td>\n",
       "      <td>5.000000</td>\n",
       "      <td>97198.540000</td>\n",
       "      <td>1.000000</td>\n",
       "      <td>1.00000</td>\n",
       "      <td>1.000000</td>\n",
       "      <td>100193.915000</td>\n",
       "      <td>0.000000</td>\n",
       "    </tr>\n",
       "    <tr>\n",
       "      <th>75%</th>\n",
       "      <td>718.000000</td>\n",
       "      <td>44.000000</td>\n",
       "      <td>7.000000</td>\n",
       "      <td>127644.240000</td>\n",
       "      <td>2.000000</td>\n",
       "      <td>1.00000</td>\n",
       "      <td>1.000000</td>\n",
       "      <td>149388.247500</td>\n",
       "      <td>0.000000</td>\n",
       "    </tr>\n",
       "    <tr>\n",
       "      <th>max</th>\n",
       "      <td>850.000000</td>\n",
       "      <td>92.000000</td>\n",
       "      <td>10.000000</td>\n",
       "      <td>250898.090000</td>\n",
       "      <td>4.000000</td>\n",
       "      <td>1.00000</td>\n",
       "      <td>1.000000</td>\n",
       "      <td>199992.480000</td>\n",
       "      <td>1.000000</td>\n",
       "    </tr>\n",
       "  </tbody>\n",
       "</table>\n",
       "</div>"
      ],
      "text/plain": [
       "       credit_score  age_in_years  tenure_in_years        balance  \\\n",
       "count  10000.000000  10000.000000     10000.000000   10000.000000   \n",
       "mean     650.528800     38.921800         5.012800   76485.889288   \n",
       "std       96.653299     10.487806         2.892174   62397.405202   \n",
       "min      350.000000     18.000000         0.000000       0.000000   \n",
       "25%      584.000000     32.000000         3.000000       0.000000   \n",
       "50%      652.000000     37.000000         5.000000   97198.540000   \n",
       "75%      718.000000     44.000000         7.000000  127644.240000   \n",
       "max      850.000000     92.000000        10.000000  250898.090000   \n",
       "\n",
       "       num_of_products  has_cr_card  is_active_member  estimated_salary  \\\n",
       "count     10000.000000  10000.00000      10000.000000      10000.000000   \n",
       "mean          1.530200      0.70550          0.515100     100090.239881   \n",
       "std           0.581654      0.45584          0.499797      57510.492818   \n",
       "min           1.000000      0.00000          0.000000         11.580000   \n",
       "25%           1.000000      0.00000          0.000000      51002.110000   \n",
       "50%           1.000000      1.00000          1.000000     100193.915000   \n",
       "75%           2.000000      1.00000          1.000000     149388.247500   \n",
       "max           4.000000      1.00000          1.000000     199992.480000   \n",
       "\n",
       "             exited  \n",
       "count  10000.000000  \n",
       "mean       0.203700  \n",
       "std        0.402769  \n",
       "min        0.000000  \n",
       "25%        0.000000  \n",
       "50%        0.000000  \n",
       "75%        0.000000  \n",
       "max        1.000000  "
      ]
     },
     "metadata": {},
     "output_type": "display_data"
    }
   ],
   "source": [
    "display(data.loc[:, columns_without_customer_id].describe()) # столбец `customer_id` не учитываем"
   ]
  },
  {
   "cell_type": "markdown",
   "metadata": {},
   "source": [
    "Сделаем определённые выводы по таблице выше, рассматривая столбцы слева направо:\n",
    "\n",
    "- `credit_score` (кредитный рейтинг) - можно видеть, что медиана почти совпадает со средним значением, но делать вывод об отсутствии каких-то заметно выбивающихся значений пока не стоит - наверное, лучше сначала посмотреть на гистограмму: минимальное значение равно `350`, максимальное - `850`;\n",
    "\n",
    "- `age_in_years` (возраст в годах) - среднее значение (`38.92`) вновь весьма близко к медиане (`37`); минимальное значение в `18` лет не вызывает вопросов, максимальный же возраст в `92` года кажется неожиданно большим;\n",
    "\n",
    "- `tenure_in_years` (сколько лет человек является клиентом банка) - по среднему и медиана можно видеть, что среднестатистический клиент банка является таковым в течение `5` лет, максимальное значение равно `10` годам, а минимальное - нулю - для недавно подключившихся клиентов;\n",
    "\n",
    "- `balance` (баланс) - здесь сразу бросается в глаза, что медиана (`97198`) значительно превосходит среднее значение (`76485`); можно предположить, что какие-то выбивающиеся значения утягивают распределение влево; присутствуют клиенты с нулевым балансом (это минимальное значение), максимумом же является `250898` - неожиданно не очень большое значение, превосходящие медиану лишь в 2.5 раза;\n",
    "\n",
    "- `num_of_products` (количество продуктов банка, которым пользуется клиент) - видно, что в среднем клиенты пользуются чуть больше чем одним продуктом банка (среднее равно `1.5`), с минимальные значением `1` (ноль здесь, надо полагать, невозможен, иначе человек не был бы клиентом банка) и максимальным значением `4`;\n",
    "\n",
    "- `has_cr_card` (булево поле, говорящее о том, есть ли у клиента кредитная карта) - мимнмальное значение `0` и максимальное `1` выглядят корректно, также видно, что у примерно `70%` клиентов есть кредитная карта (среднее значение равно `0.70550`);\n",
    "\n",
    "- `is_active_member` (булево поле, говорящее о том, является ли клиент активным пользователем) - здесь вновь ожидаемые минимум `0` и максимум `1`, среднее значение в `0.5151` говорит о том, что в средем лишь половина клиентов являются активными пользователями продуктов и сервисов банка;\n",
    "\n",
    "- `estimated_salary` (предполагаемая зарплата) - здесь сразу бросается в глаза очень низкое минимальное значение - `11.58`, это похоже на выборос, который, возможно, негативно повлияет на обучение модели; среднее значнение (`100090`) и медиана (`100193`) очень близки между собой (даже несмотря на наличие такого низкого минимального значения); максимальное значение (`199992`) не очень сильно превосходит медиану, всего лишь в два раза;\n",
    "\n",
    "- `exited` (факт ухода клиента, булево поле) - видим, что с минимальным и максимальным значениями здесь всё корректно (`0` и `1` соответственно), в то же время среднее значение в `0.203700` говорит нам о том, что в нашем наборе из 10000 клиентов лишь около `20%` перестали быть клиентами банка, в то время как `80%` продолжили оставаться его клиентами; такое распределение говорит о том, что нам может потребоваться дополнительная балансировка данных, чтобы предоставить более равномерное количество клиентов покинувших банк и клиентов, продолживших пользоваться его услугами."
   ]
  },
  {
   "cell_type": "code",
   "execution_count": 12,
   "metadata": {},
   "outputs": [
    {
     "data": {
      "image/png": "[encoded data removed]",
      "text/plain": [
       "<Figure size 1152x432 with 2 Axes>"
      ]
     },
     "metadata": {
      "needs_background": "light"
     },
     "output_type": "display_data"
    }
   ],
   "source": [
    "fig, ax = plt.subplots(figsize=(16, 6))\n",
    "heatmap = sns.heatmap(data[numeric_columns + ['exited']].corr(), annot=True, ax=ax)\n",
    "_ = heatmap.set_title('Тепловая карта для корреляции')"
   ]
  },
  {
   "cell_type": "markdown",
   "metadata": {},
   "source": [
    "Глядя на тепловую карту корреляции признаков, хочется обратить внимание на признак `age_in_years`. Видно, что корреляция между данным признаком и нашим целевым признаком `exited` велика по абсолютной величине и является положительной - `0.29`: напрашивается вывод о том, что с увеличением возраста возрастает вероятный уход клиента из банка.\n",
    "\n",
    "Теперь построим гистограммы количественных признаков:"
   ]
  },
  {
   "cell_type": "code",
   "execution_count": 13,
   "metadata": {},
   "outputs": [
    {
     "data": {
      "image/png": "[encoded data removed]",
      "text/plain": [
       "<Figure size 720x1152 with 6 Axes>"
      ]
     },
     "metadata": {
      "needs_background": "light"
     },
     "output_type": "display_data"
    }
   ],
   "source": [
    "row_indices = range(0, 3)\n",
    "col_indices = range(0, 2)\n",
    "\n",
    "fig, axs = plt.subplots(nrows=len(row_indices), ncols=len(col_indices), figsize=(10, 16))\n",
    "\n",
    "col_name_index = 0\n",
    "for row_col in itertools.product(row_indices, col_indices):\n",
    "    row = row_col[0]\n",
    "    col = row_col[1]\n",
    "    numeric_column = numeric_columns[col_name_index]\n",
    "    \n",
    "    ax = ax=axs[row][col]\n",
    "    data[numeric_column].plot(kind='hist', bins=100, grid=True, ax=ax)\n",
    "    _ = ax.set_title(f\"Гистограмма для '{numeric_column}'\")\n",
    "    _ = ax.set_ylabel('Частота')\n",
    "        \n",
    "    col_name_index += 1    "
   ]
  },
  {
   "cell_type": "markdown",
   "metadata": {},
   "source": [
    "Кратко опишем полученные гистограммы:\n",
    "\n",
    "- `credit_score` - сразу же виден пик в правой части гистограммы, судя по всему, это те самые клиенты, которым был выставлен максимальный рейтинг в `850` единиц, их более 250 человек, в остальном распределение напоминает нормальное;\n",
    "\n",
    "\n",
    "- `age_in_years` - распределение унимодально и напоминает нормальное, но имеет весьма заметный правый хвост, который, однако, не помешал среднему значению оказатся очень близким к медиане;\n",
    "\n",
    "\n",
    "- `tenure_in_years` - здесь заметно примерно одинаковая частота в районе `1000` для пользователей, являющихся клиентами банка от `1` до `9` лет включительно; для `0` и `10` лет частота примерно вдвое меньше;\n",
    "\n",
    "\n",
    "- `balance` - клиенты с нулевым балансом, вернее, их большое количество (более `3500`) - то, что здесь заметно прежде всего, в то время как в остальном распределение выглядит крайне похожим на нормальное;\n",
    "\n",
    "\n",
    "- `num_of_products` - здесь всё довольно предсказуемо - большинство клиентов пользуется `1` либо `2` продуктами банка, в то время как `3` и `4` продуктами уже значительно (в разы) меньше;\n",
    "\n",
    "\n",
    "- `estimated_salary` - очень интересное распределение: по сути все возможные его значения имеют частоту, колеблющуюся в районе 100.\n",
    "\n",
    "Заканчивая раздел подготовки данных, можно задуматься о целесообразности хранения поля `surname` (фамилия клиента). Если категориальные признаки вроде пола/рода (`gender`) и страны проживания (`geography`) могут содержать необходимую информацию для разделения клиентов на тех, кто потенциально может перестать быть клиентом банка, то фамилия, на мой взгляд, не представляет совершенно никакой ценности, поэтому здесь же удалим её из нашего набора данных. Также удалим столбец, содержащий уникальный идентификатор клиента - он тоже никак не поможет нам создать более качественную модель прогнозирования оттока клиентов:"
   ]
  },
  {
   "cell_type": "code",
   "execution_count": 14,
   "metadata": {},
   "outputs": [
    {
     "data": {
      "text/html": [
       "<div>\n",
       "<style scoped>\n",
       "    .dataframe tbody tr th:only-of-type {\n",
       "        vertical-align: middle;\n",
       "    }\n",
       "\n",
       "    .dataframe tbody tr th {\n",
       "        vertical-align: top;\n",
       "    }\n",
       "\n",
       "    .dataframe thead th {\n",
       "        text-align: right;\n",
       "    }\n",
       "</style>\n",
       "<table border=\"1\" class=\"dataframe\">\n",
       "  <thead>\n",
       "    <tr style=\"text-align: right;\">\n",
       "      <th></th>\n",
       "      <th>credit_score</th>\n",
       "      <th>geography</th>\n",
       "      <th>gender</th>\n",
       "      <th>age_in_years</th>\n",
       "      <th>tenure_in_years</th>\n",
       "      <th>balance</th>\n",
       "      <th>num_of_products</th>\n",
       "      <th>has_cr_card</th>\n",
       "      <th>is_active_member</th>\n",
       "      <th>estimated_salary</th>\n",
       "      <th>exited</th>\n",
       "    </tr>\n",
       "  </thead>\n",
       "  <tbody>\n",
       "    <tr>\n",
       "      <th>0</th>\n",
       "      <td>619</td>\n",
       "      <td>France</td>\n",
       "      <td>Female</td>\n",
       "      <td>42</td>\n",
       "      <td>2</td>\n",
       "      <td>0.00</td>\n",
       "      <td>1</td>\n",
       "      <td>1</td>\n",
       "      <td>1</td>\n",
       "      <td>101348.88</td>\n",
       "      <td>1</td>\n",
       "    </tr>\n",
       "    <tr>\n",
       "      <th>1</th>\n",
       "      <td>608</td>\n",
       "      <td>Spain</td>\n",
       "      <td>Female</td>\n",
       "      <td>41</td>\n",
       "      <td>1</td>\n",
       "      <td>83807.86</td>\n",
       "      <td>1</td>\n",
       "      <td>0</td>\n",
       "      <td>1</td>\n",
       "      <td>112542.58</td>\n",
       "      <td>0</td>\n",
       "    </tr>\n",
       "    <tr>\n",
       "      <th>2</th>\n",
       "      <td>502</td>\n",
       "      <td>France</td>\n",
       "      <td>Female</td>\n",
       "      <td>42</td>\n",
       "      <td>8</td>\n",
       "      <td>159660.80</td>\n",
       "      <td>3</td>\n",
       "      <td>1</td>\n",
       "      <td>0</td>\n",
       "      <td>113931.57</td>\n",
       "      <td>1</td>\n",
       "    </tr>\n",
       "    <tr>\n",
       "      <th>3</th>\n",
       "      <td>699</td>\n",
       "      <td>France</td>\n",
       "      <td>Female</td>\n",
       "      <td>39</td>\n",
       "      <td>1</td>\n",
       "      <td>0.00</td>\n",
       "      <td>2</td>\n",
       "      <td>0</td>\n",
       "      <td>0</td>\n",
       "      <td>93826.63</td>\n",
       "      <td>0</td>\n",
       "    </tr>\n",
       "    <tr>\n",
       "      <th>4</th>\n",
       "      <td>850</td>\n",
       "      <td>Spain</td>\n",
       "      <td>Female</td>\n",
       "      <td>43</td>\n",
       "      <td>2</td>\n",
       "      <td>125510.82</td>\n",
       "      <td>1</td>\n",
       "      <td>1</td>\n",
       "      <td>1</td>\n",
       "      <td>79084.10</td>\n",
       "      <td>0</td>\n",
       "    </tr>\n",
       "  </tbody>\n",
       "</table>\n",
       "</div>"
      ],
      "text/plain": [
       "   credit_score geography  gender  age_in_years  tenure_in_years    balance  \\\n",
       "0           619    France  Female            42                2       0.00   \n",
       "1           608     Spain  Female            41                1   83807.86   \n",
       "2           502    France  Female            42                8  159660.80   \n",
       "3           699    France  Female            39                1       0.00   \n",
       "4           850     Spain  Female            43                2  125510.82   \n",
       "\n",
       "   num_of_products  has_cr_card  is_active_member  estimated_salary  exited  \n",
       "0                1            1                 1         101348.88       1  \n",
       "1                1            0                 1         112542.58       0  \n",
       "2                3            1                 0         113931.57       1  \n",
       "3                2            0                 0          93826.63       0  \n",
       "4                1            1                 1          79084.10       0  "
      ]
     },
     "execution_count": 14,
     "metadata": {},
     "output_type": "execute_result"
    }
   ],
   "source": [
    "data = data.drop(['surname', 'customer_id'], axis=1)\n",
    "data.head()"
   ]
  },
  {
   "cell_type": "markdown",
   "metadata": {},
   "source": [
    "## Исследование задачи"
   ]
  },
  {
   "cell_type": "markdown",
   "metadata": {},
   "source": [
    "Теперь мы можем начать исследование задачи и построить первую модель бинарной классификации, которая будет предсказывать уйдёт клиент из банка в ближайшее время или нет.\n",
    "\n",
    "Наша первая модель никак не будет учитывать факт дисбаланса двух классов нашей задачи. Однако, как было отмечено в предыдущем разделе, в нашем наборе из `10000` клиентов лишь около `20%` перестали быть клиентами банка, в то время как `80%` продолжили оставаться его клиентами, что говорит о наличии такого дисбаланса. Попробуем выяснить, как он влияет на качество построенной модели, и влияет ли вообще.\n",
    "\n",
    "Начнём с того, что преобразуем категориальные признаки `geography` и `gender` в числовые с помощью техники _One-Hot Encoding_. Сначала оценим, сколько новых столбцов с данными будет сгенерировано, для чего оценим количество уникальных значений в столбцах `geography` и `gender` (последний столбец проверим на всякий случай, чтобы убедиться, что там нет каких-нибудь неожиданных значений пола/рода):"
   ]
  },
  {
   "cell_type": "code",
   "execution_count": 15,
   "metadata": {},
   "outputs": [
    {
     "data": {
      "text/plain": [
       "France     5014\n",
       "Germany    2509\n",
       "Spain      2477\n",
       "Name: geography, dtype: int64"
      ]
     },
     "metadata": {},
     "output_type": "display_data"
    },
    {
     "data": {
      "text/plain": [
       "Male      5457\n",
       "Female    4543\n",
       "Name: gender, dtype: int64"
      ]
     },
     "metadata": {},
     "output_type": "display_data"
    }
   ],
   "source": [
    "display(data['geography'].value_counts())\n",
    "display(data['gender'].value_counts())"
   ]
  },
  {
   "cell_type": "markdown",
   "metadata": {},
   "source": [
    "Как видно на выводе выше, стран всего `3`, и пол, как и ожидалось, преставлен значениями мужского и женского. Таким образом, у нас будет добавлено 2 столбца для страны и 1 столбец для пола (всё это при условии выставления флага `drop_first=True`, который удалит первый столбец для каждой из категорий, являющийся излишним):"
   ]
  },
  {
   "cell_type": "code",
   "execution_count": 16,
   "metadata": {},
   "outputs": [
    {
     "data": {
      "text/html": [
       "<div>\n",
       "<style scoped>\n",
       "    .dataframe tbody tr th:only-of-type {\n",
       "        vertical-align: middle;\n",
       "    }\n",
       "\n",
       "    .dataframe tbody tr th {\n",
       "        vertical-align: top;\n",
       "    }\n",
       "\n",
       "    .dataframe thead th {\n",
       "        text-align: right;\n",
       "    }\n",
       "</style>\n",
       "<table border=\"1\" class=\"dataframe\">\n",
       "  <thead>\n",
       "    <tr style=\"text-align: right;\">\n",
       "      <th></th>\n",
       "      <th>credit_score</th>\n",
       "      <th>age_in_years</th>\n",
       "      <th>tenure_in_years</th>\n",
       "      <th>balance</th>\n",
       "      <th>num_of_products</th>\n",
       "      <th>has_cr_card</th>\n",
       "      <th>is_active_member</th>\n",
       "      <th>estimated_salary</th>\n",
       "      <th>exited</th>\n",
       "      <th>geography_Germany</th>\n",
       "      <th>geography_Spain</th>\n",
       "      <th>gender_Male</th>\n",
       "    </tr>\n",
       "  </thead>\n",
       "  <tbody>\n",
       "    <tr>\n",
       "      <th>0</th>\n",
       "      <td>619</td>\n",
       "      <td>42</td>\n",
       "      <td>2</td>\n",
       "      <td>0.00</td>\n",
       "      <td>1</td>\n",
       "      <td>1</td>\n",
       "      <td>1</td>\n",
       "      <td>101348.88</td>\n",
       "      <td>1</td>\n",
       "      <td>0</td>\n",
       "      <td>0</td>\n",
       "      <td>0</td>\n",
       "    </tr>\n",
       "    <tr>\n",
       "      <th>1</th>\n",
       "      <td>608</td>\n",
       "      <td>41</td>\n",
       "      <td>1</td>\n",
       "      <td>83807.86</td>\n",
       "      <td>1</td>\n",
       "      <td>0</td>\n",
       "      <td>1</td>\n",
       "      <td>112542.58</td>\n",
       "      <td>0</td>\n",
       "      <td>0</td>\n",
       "      <td>1</td>\n",
       "      <td>0</td>\n",
       "    </tr>\n",
       "    <tr>\n",
       "      <th>2</th>\n",
       "      <td>502</td>\n",
       "      <td>42</td>\n",
       "      <td>8</td>\n",
       "      <td>159660.80</td>\n",
       "      <td>3</td>\n",
       "      <td>1</td>\n",
       "      <td>0</td>\n",
       "      <td>113931.57</td>\n",
       "      <td>1</td>\n",
       "      <td>0</td>\n",
       "      <td>0</td>\n",
       "      <td>0</td>\n",
       "    </tr>\n",
       "    <tr>\n",
       "      <th>3</th>\n",
       "      <td>699</td>\n",
       "      <td>39</td>\n",
       "      <td>1</td>\n",
       "      <td>0.00</td>\n",
       "      <td>2</td>\n",
       "      <td>0</td>\n",
       "      <td>0</td>\n",
       "      <td>93826.63</td>\n",
       "      <td>0</td>\n",
       "      <td>0</td>\n",
       "      <td>0</td>\n",
       "      <td>0</td>\n",
       "    </tr>\n",
       "    <tr>\n",
       "      <th>4</th>\n",
       "      <td>850</td>\n",
       "      <td>43</td>\n",
       "      <td>2</td>\n",
       "      <td>125510.82</td>\n",
       "      <td>1</td>\n",
       "      <td>1</td>\n",
       "      <td>1</td>\n",
       "      <td>79084.10</td>\n",
       "      <td>0</td>\n",
       "      <td>0</td>\n",
       "      <td>1</td>\n",
       "      <td>0</td>\n",
       "    </tr>\n",
       "  </tbody>\n",
       "</table>\n",
       "</div>"
      ],
      "text/plain": [
       "   credit_score  age_in_years  tenure_in_years    balance  num_of_products  \\\n",
       "0           619            42                2       0.00                1   \n",
       "1           608            41                1   83807.86                1   \n",
       "2           502            42                8  159660.80                3   \n",
       "3           699            39                1       0.00                2   \n",
       "4           850            43                2  125510.82                1   \n",
       "\n",
       "   has_cr_card  is_active_member  estimated_salary  exited  geography_Germany  \\\n",
       "0            1                 1         101348.88       1                  0   \n",
       "1            0                 1         112542.58       0                  0   \n",
       "2            1                 0         113931.57       1                  0   \n",
       "3            0                 0          93826.63       0                  0   \n",
       "4            1                 1          79084.10       0                  0   \n",
       "\n",
       "   geography_Spain  gender_Male  \n",
       "0                0            0  \n",
       "1                1            0  \n",
       "2                0            0  \n",
       "3                0            0  \n",
       "4                1            0  "
      ]
     },
     "execution_count": 16,
     "metadata": {},
     "output_type": "execute_result"
    }
   ],
   "source": [
    "data = pd.get_dummies(data, columns=['geography', 'gender'], drop_first=True)\n",
    "data.head()"
   ]
  },
  {
   "cell_type": "markdown",
   "metadata": {},
   "source": [
    "Теперь набор данных в датафрейме `data` выглядит подготовленным для того, чтобы построить первую модель предсказания оттока. Но прежде нужно выполнить разделение нашей выборки на признаки для обучения (`features`) и целевой признак, который мы хотели бы предсказывать нашей моделью (`target`):"
   ]
  },
  {
   "cell_type": "code",
   "execution_count": 17,
   "metadata": {},
   "outputs": [
    {
     "data": {
      "text/html": [
       "<div>\n",
       "<style scoped>\n",
       "    .dataframe tbody tr th:only-of-type {\n",
       "        vertical-align: middle;\n",
       "    }\n",
       "\n",
       "    .dataframe tbody tr th {\n",
       "        vertical-align: top;\n",
       "    }\n",
       "\n",
       "    .dataframe thead th {\n",
       "        text-align: right;\n",
       "    }\n",
       "</style>\n",
       "<table border=\"1\" class=\"dataframe\">\n",
       "  <thead>\n",
       "    <tr style=\"text-align: right;\">\n",
       "      <th></th>\n",
       "      <th>credit_score</th>\n",
       "      <th>age_in_years</th>\n",
       "      <th>tenure_in_years</th>\n",
       "      <th>balance</th>\n",
       "      <th>num_of_products</th>\n",
       "      <th>has_cr_card</th>\n",
       "      <th>is_active_member</th>\n",
       "      <th>estimated_salary</th>\n",
       "      <th>geography_Germany</th>\n",
       "      <th>geography_Spain</th>\n",
       "      <th>gender_Male</th>\n",
       "    </tr>\n",
       "  </thead>\n",
       "  <tbody>\n",
       "    <tr>\n",
       "      <th>0</th>\n",
       "      <td>619</td>\n",
       "      <td>42</td>\n",
       "      <td>2</td>\n",
       "      <td>0.00</td>\n",
       "      <td>1</td>\n",
       "      <td>1</td>\n",
       "      <td>1</td>\n",
       "      <td>101348.88</td>\n",
       "      <td>0</td>\n",
       "      <td>0</td>\n",
       "      <td>0</td>\n",
       "    </tr>\n",
       "    <tr>\n",
       "      <th>1</th>\n",
       "      <td>608</td>\n",
       "      <td>41</td>\n",
       "      <td>1</td>\n",
       "      <td>83807.86</td>\n",
       "      <td>1</td>\n",
       "      <td>0</td>\n",
       "      <td>1</td>\n",
       "      <td>112542.58</td>\n",
       "      <td>0</td>\n",
       "      <td>1</td>\n",
       "      <td>0</td>\n",
       "    </tr>\n",
       "    <tr>\n",
       "      <th>2</th>\n",
       "      <td>502</td>\n",
       "      <td>42</td>\n",
       "      <td>8</td>\n",
       "      <td>159660.80</td>\n",
       "      <td>3</td>\n",
       "      <td>1</td>\n",
       "      <td>0</td>\n",
       "      <td>113931.57</td>\n",
       "      <td>0</td>\n",
       "      <td>0</td>\n",
       "      <td>0</td>\n",
       "    </tr>\n",
       "    <tr>\n",
       "      <th>3</th>\n",
       "      <td>699</td>\n",
       "      <td>39</td>\n",
       "      <td>1</td>\n",
       "      <td>0.00</td>\n",
       "      <td>2</td>\n",
       "      <td>0</td>\n",
       "      <td>0</td>\n",
       "      <td>93826.63</td>\n",
       "      <td>0</td>\n",
       "      <td>0</td>\n",
       "      <td>0</td>\n",
       "    </tr>\n",
       "    <tr>\n",
       "      <th>4</th>\n",
       "      <td>850</td>\n",
       "      <td>43</td>\n",
       "      <td>2</td>\n",
       "      <td>125510.82</td>\n",
       "      <td>1</td>\n",
       "      <td>1</td>\n",
       "      <td>1</td>\n",
       "      <td>79084.10</td>\n",
       "      <td>0</td>\n",
       "      <td>1</td>\n",
       "      <td>0</td>\n",
       "    </tr>\n",
       "  </tbody>\n",
       "</table>\n",
       "</div>"
      ],
      "text/plain": [
       "   credit_score  age_in_years  tenure_in_years    balance  num_of_products  \\\n",
       "0           619            42                2       0.00                1   \n",
       "1           608            41                1   83807.86                1   \n",
       "2           502            42                8  159660.80                3   \n",
       "3           699            39                1       0.00                2   \n",
       "4           850            43                2  125510.82                1   \n",
       "\n",
       "   has_cr_card  is_active_member  estimated_salary  geography_Germany  \\\n",
       "0            1                 1         101348.88                  0   \n",
       "1            0                 1         112542.58                  0   \n",
       "2            1                 0         113931.57                  0   \n",
       "3            0                 0          93826.63                  0   \n",
       "4            1                 1          79084.10                  0   \n",
       "\n",
       "   geography_Spain  gender_Male  \n",
       "0                0            0  \n",
       "1                1            0  \n",
       "2                0            0  \n",
       "3                0            0  \n",
       "4                1            0  "
      ]
     },
     "metadata": {},
     "output_type": "display_data"
    },
    {
     "data": {
      "text/html": [
       "<div>\n",
       "<style scoped>\n",
       "    .dataframe tbody tr th:only-of-type {\n",
       "        vertical-align: middle;\n",
       "    }\n",
       "\n",
       "    .dataframe tbody tr th {\n",
       "        vertical-align: top;\n",
       "    }\n",
       "\n",
       "    .dataframe thead th {\n",
       "        text-align: right;\n",
       "    }\n",
       "</style>\n",
       "<table border=\"1\" class=\"dataframe\">\n",
       "  <thead>\n",
       "    <tr style=\"text-align: right;\">\n",
       "      <th></th>\n",
       "      <th>exited</th>\n",
       "    </tr>\n",
       "  </thead>\n",
       "  <tbody>\n",
       "    <tr>\n",
       "      <th>0</th>\n",
       "      <td>1</td>\n",
       "    </tr>\n",
       "    <tr>\n",
       "      <th>1</th>\n",
       "      <td>0</td>\n",
       "    </tr>\n",
       "    <tr>\n",
       "      <th>2</th>\n",
       "      <td>1</td>\n",
       "    </tr>\n",
       "    <tr>\n",
       "      <th>3</th>\n",
       "      <td>0</td>\n",
       "    </tr>\n",
       "    <tr>\n",
       "      <th>4</th>\n",
       "      <td>0</td>\n",
       "    </tr>\n",
       "  </tbody>\n",
       "</table>\n",
       "</div>"
      ],
      "text/plain": [
       "   exited\n",
       "0       1\n",
       "1       0\n",
       "2       1\n",
       "3       0\n",
       "4       0"
      ]
     },
     "metadata": {},
     "output_type": "display_data"
    }
   ],
   "source": [
    "features = data.drop('exited', axis=1)\n",
    "display(features.head())\n",
    "\n",
    "target = data['exited']\n",
    "display(target.to_frame().head())"
   ]
  },
  {
   "cell_type": "markdown",
   "metadata": {},
   "source": [
    "Теперь делаем разбиение набора данных на обучающую, валидационную и тестовую выборки в пропорции `3:1:1`:"
   ]
  },
  {
   "cell_type": "code",
   "execution_count": 18,
   "metadata": {},
   "outputs": [
    {
     "name": "stdout",
     "output_type": "stream",
     "text": [
      "Размер набора данных \"features_train\": (6000, 11)\n",
      "Размер набора данных \"features_valid\": (2000, 11)\n",
      "Размер набора данных \"features_test\": (2000, 11)\n",
      "--------------------------------------------------\n",
      "Размер набора данных \"target_train\": (6000,)\n",
      "Размер набора данных \"target_valid\": (2000,)\n",
      "Размер набора данных \"target_test\": (2000,)\n"
     ]
    }
   ],
   "source": [
    "features_train, features_valid_test, target_train, target_valid_test =\\\n",
    "    train_test_split(features, target, test_size=0.4, random_state=12345)\n",
    "\n",
    "features_valid, features_test, target_valid, target_test =\\\n",
    "    train_test_split(features_valid_test, target_valid_test, test_size=0.5, random_state=12345)\n",
    "\n",
    "def print_dataset_size(dataset_name, dataset):\n",
    "    print(f'Размер набора данных \"{dataset_name}\": {dataset.shape}')\n",
    "\n",
    "print_dataset_size('features_train', features_train)\n",
    "print_dataset_size('features_valid', features_valid)\n",
    "print_dataset_size('features_test', features_test)\n",
    "\n",
    "print('-' * 50)\n",
    "\n",
    "print_dataset_size('target_train', target_train)\n",
    "print_dataset_size('target_valid', target_valid)\n",
    "print_dataset_size('target_test', target_test)"
   ]
  },
  {
   "cell_type": "markdown",
   "metadata": {},
   "source": [
    "Для построения наилучшей модели будем рассматривать логистическую регрессию, дерево решений и случайный лес с последующим выбором наилучшей из них с точки зрения качества.\n",
    "\n",
    "Начнём с того, что подготовим словари, которые будут задавать настраиваемые гиперпараметры каждой из этих трёх моделей:"
   ]
  },
  {
   "cell_type": "code",
   "execution_count": 19,
   "metadata": {},
   "outputs": [],
   "source": [
    "logreg_params = dict(C=[200, 150, 100, 50, 30, 20, 10, 5, 1.0, 0.5, 0.1, 0.01])\n",
    "\n",
    "tree_params = dict(max_depth=range(3, 20),\n",
    "                   min_samples_split=range(2, 50),\n",
    "                   min_samples_leaf=range(2, 50))\n",
    "\n",
    "forest_params = tree_params.copy()\n",
    "forest_params['n_estimators'] = range(3, 800)"
   ]
  },
  {
   "cell_type": "markdown",
   "metadata": {},
   "source": [
    "Теперь попробуем обучить несколько моделей на обучающей выборке для того, чтобы затем выбрать среди них лучшую. Для перебора возможных комбинаций гиперпараметров будем использовать рандомизированный поиск (класс `RandomizedSearchCV`), а в качестве оценки качества модели с той или иной комбинацией гиперпараметров будем использовать **_F1-меру_** (`scoring='f1'`), поскольку по умолчанию (если я правильно понял документацию) использовалась бы \"_верность_\" (\"_accuracy_\"), что может быть не очень хорошо для наборов данных с дисбалансом классов, как в нашем случае.\n",
    "\n",
    "Создадим вспомогательную функцию для обучения моделей и подбора лучших значений гиперпараметров, затем сохраним наилучшие с точки зрения F1-меры модели в переменные `best_logreg_model`, `best_tree_model` и `best_forest_model`:"
   ]
  },
  {
   "cell_type": "code",
   "execution_count": 20,
   "metadata": {},
   "outputs": [],
   "source": [
    "def get_best_model_by_hyperparams_search(name, model, features_used, target_used, params):\n",
    "    random_search = RandomizedSearchCV(model, params, scoring='f1', random_state=12345)\n",
    "    random_search.fit(features_used, target_used)\n",
    "    print(f'Best hyperparameters for model \"{name}\" are:\\n\\t{random_search.best_params_}\\n')\n",
    "    return random_search.best_estimator_"
   ]
  },
  {
   "cell_type": "code",
   "execution_count": 21,
   "metadata": {},
   "outputs": [
    {
     "name": "stdout",
     "output_type": "stream",
     "text": [
      "Best hyperparameters for model \"Logistic Regression\" are:\n",
      "\t{'C': 1.0}\n",
      "\n",
      "Best hyperparameters for model \"Decision Tree Classifier\" are:\n",
      "\t{'min_samples_split': 36, 'min_samples_leaf': 18, 'max_depth': 10}\n",
      "\n",
      "Best hyperparameters for model \"Random Forest Classifier\" are:\n",
      "\t{'n_estimators': 63, 'min_samples_split': 7, 'min_samples_leaf': 5, 'max_depth': 12}\n",
      "\n"
     ]
    }
   ],
   "source": [
    "best_logreg_model = get_best_model_by_hyperparams_search(\n",
    "        'Logistic Regression',\n",
    "        LogisticRegression(random_state=12345),\n",
    "        features_train,\n",
    "        target_train,\n",
    "        logreg_params)\n",
    "\n",
    "best_tree_model = get_best_model_by_hyperparams_search(\n",
    "        'Decision Tree Classifier',\n",
    "        DecisionTreeClassifier(random_state=12345),\n",
    "        features_train,\n",
    "        target_train,\n",
    "        tree_params)\n",
    "\n",
    "best_forest_model = get_best_model_by_hyperparams_search(\n",
    "        'Random Forest Classifier',\n",
    "        RandomForestClassifier(random_state=12345),\n",
    "        features_train,\n",
    "        target_train,\n",
    "        forest_params)"
   ]
  },
  {
   "cell_type": "markdown",
   "metadata": {},
   "source": [
    "Получив лучшие модели, можем оценить их качество на валидационной выборке, сделаем это с помощью вспомогательной функции:"
   ]
  },
  {
   "cell_type": "code",
   "execution_count": 22,
   "metadata": {},
   "outputs": [],
   "source": [
    "def calculate_quality_measures(model, features_set, target_set):\n",
    "    predicted = model.predict(features_set)\n",
    "    predicted_proba = model.predict_proba(features_set)[:, 1]\n",
    "    f1 = f1_score(target_set, predicted)\n",
    "    roc_auc = roc_auc_score(target_set, predicted_proba)\n",
    "    return f1.round(3), roc_auc.round(3)\n",
    "    \n",
    "def print_quality_measures(name, f1, roc_auc):\n",
    "    print(f'Качество модели \"{name}\":\\n\\tF1-мера = {f1}\\n\\tAUC-ROC = {roc_auc}')"
   ]
  },
  {
   "cell_type": "code",
   "execution_count": 23,
   "metadata": {},
   "outputs": [
    {
     "name": "stdout",
     "output_type": "stream",
     "text": [
      "Качество модели \"Logistic Regression, original\":\n",
      "\tF1-мера = 0.088\n",
      "\tAUC-ROC = 0.674\n",
      "Качество модели \"Decision Tree Classifier, original\":\n",
      "\tF1-мера = 0.529\n",
      "\tAUC-ROC = 0.796\n",
      "Качество модели \"Random Forest Classifier, original\":\n",
      "\tF1-мера = 0.572\n",
      "\tAUC-ROC = 0.849\n"
     ]
    }
   ],
   "source": [
    "f1_logreg_original, roc_auc_logreg_original = calculate_quality_measures(best_logreg_model,\n",
    "                                                                         features_valid,\n",
    "                                                                         target_valid)\n",
    "f1_tree_original,   roc_auc_tree_original   = calculate_quality_measures(best_tree_model,\n",
    "                                                                         features_valid,\n",
    "                                                                         target_valid)\n",
    "f1_forest_original, roc_auc_forest_original = calculate_quality_measures(best_forest_model,\n",
    "                                                                         features_valid,\n",
    "                                                                         target_valid)\n",
    "\n",
    "\n",
    "print_quality_measures('Logistic Regression, original', f1_logreg_original, roc_auc_logreg_original)\n",
    "print_quality_measures('Decision Tree Classifier, original', f1_tree_original, roc_auc_tree_original)\n",
    "print_quality_measures('Random Forest Classifier, original', f1_forest_original, roc_auc_forest_original)"
   ]
  },
  {
   "cell_type": "markdown",
   "metadata": {},
   "source": [
    "#### Промежуточные выводы\n",
    "\n",
    "Логистическая регрессия демонстрирует очень низкое качество: лишь около `0.09` по F1-мере и `0.67` по ROC-AUC. Можно предположить, что модель переобучилась на тренировочном наборе и не оказалась способна _генерализироваться_ на новые для неё данные из валидационной выбрки.\n",
    "\n",
    "Качество модели на базе дерева решений и на базе случайного леса уже заметно выше:\n",
    "- около `0.53` и `0.57` соотвественно по F1-мере;\n",
    "- около `0.79` и `0.85` соответственно по AUC-ROC.\n",
    "\n",
    "Тем не менее, обе последние модели всё же не достигают приемлемого уровня в `0.59` по F1-мере на валидационной выборке (и мы пока не знаем, как себя поведёт модель на тестовой выборке).\n",
    "\n",
    "Можно предположить, что проблемы с качеством возникают из-за имеющегося **дисбаланса классов** в нашем наборе данных. Напомним, что около `20%` данных принадлежат к положительному классу (пользователь перестал быть клиентом банка), и аж `80%` - к отрицательному классу (пользователь остался клиентом банка).\n",
    "\n",
    "Данный дисбаланс мы постараемся нейтрализовать в следующем разделе."
   ]
  },
  {
   "cell_type": "markdown",
   "metadata": {},
   "source": [
    "## Борьба с дисбалансом"
   ]
  },
  {
   "cell_type": "markdown",
   "metadata": {},
   "source": [
    "Рассмотрим три способа борьбы с дисбалансом классов:\n",
    "    \n",
    "- взвешивание классов обучающих примеров;\n",
    "\n",
    "- увеличение выборки (upsampling);\n",
    "\n",
    "- уменьшение выборки (downsampling)\n",
    "\n",
    "И выясним, какой из них поможет достичь более высокого качества метрики F1 (также оценивая AUC-ROC метрику).\n",
    "\n",
    "### Взвешивание классов\n",
    "\n",
    "Начнём с самого простого для реализации способа устранения эффекта дисбаланса - взвешивания классов, для чего будем использовать аргумент `class_weight='balanced'` для наших трёх моделей. Выбор признаков как и ранее будем производить с помощью рандомизированного поиска:"
   ]
  },
  {
   "cell_type": "code",
   "execution_count": 24,
   "metadata": {},
   "outputs": [
    {
     "name": "stdout",
     "output_type": "stream",
     "text": [
      "Best hyperparameters for model \"Logistic Regression\" are:\n",
      "\t{'C': 1.0}\n",
      "\n",
      "Best hyperparameters for model \"Decision Tree Classifier\" are:\n",
      "\t{'min_samples_split': 39, 'min_samples_leaf': 6, 'max_depth': 8}\n",
      "\n",
      "Best hyperparameters for model \"Random Forest Classifier\" are:\n",
      "\t{'n_estimators': 63, 'min_samples_split': 7, 'min_samples_leaf': 5, 'max_depth': 12}\n",
      "\n"
     ]
    }
   ],
   "source": [
    "best_weighted_logreg_model = get_best_model_by_hyperparams_search(\n",
    "        'Logistic Regression',\n",
    "        LogisticRegression(class_weight='balanced', random_state=12345),\n",
    "        features_train,\n",
    "        target_train,\n",
    "        logreg_params)\n",
    "\n",
    "best_weighted_tree_model = get_best_model_by_hyperparams_search(\n",
    "        'Decision Tree Classifier',\n",
    "        DecisionTreeClassifier(class_weight='balanced', random_state=12345),\n",
    "        features_train,\n",
    "        target_train,\n",
    "        tree_params)\n",
    "\n",
    "best_weighted_forest_model = get_best_model_by_hyperparams_search(\n",
    "        'Random Forest Classifier',\n",
    "        RandomForestClassifier(class_weight='balanced', random_state=12345),\n",
    "        features_train,\n",
    "        target_train,\n",
    "        forest_params)"
   ]
  },
  {
   "cell_type": "code",
   "execution_count": 25,
   "metadata": {},
   "outputs": [
    {
     "name": "stdout",
     "output_type": "stream",
     "text": [
      "Качество модели \"Logistic Regression, weighted\":\n",
      "\tF1-мера = 0.447\n",
      "\tAUC-ROC = 0.713\n",
      "Качество модели \"Decision Tree Classifier, weighted\":\n",
      "\tF1-мера = 0.556\n",
      "\tAUC-ROC = 0.819\n",
      "Качество модели \"Random Forest Classifier, weighted\":\n",
      "\tF1-мера = 0.635\n",
      "\tAUC-ROC = 0.851\n"
     ]
    }
   ],
   "source": [
    "f1_logreg_weighted, roc_auc_logreg_weighted = calculate_quality_measures(best_weighted_logreg_model,\n",
    "                                                                         features_valid,\n",
    "                                                                         target_valid)\n",
    "f1_tree_weighted,   roc_auc_tree_weighted   = calculate_quality_measures(best_weighted_tree_model,\n",
    "                                                                         features_valid,\n",
    "                                                                         target_valid)\n",
    "f1_forest_weighted, roc_auc_forest_weighted = calculate_quality_measures(best_weighted_forest_model,\n",
    "                                                                         features_valid,\n",
    "                                                                         target_valid)\n",
    "\n",
    "\n",
    "print_quality_measures('Logistic Regression, weighted', f1_logreg_weighted, roc_auc_logreg_weighted)\n",
    "print_quality_measures('Decision Tree Classifier, weighted', f1_tree_weighted, roc_auc_tree_weighted)\n",
    "print_quality_measures('Random Forest Classifier, weighted', f1_forest_weighted, roc_auc_forest_weighted)"
   ]
  },
  {
   "cell_type": "markdown",
   "metadata": {},
   "source": [
    "#### Промежуточные выводы\n",
    "\n",
    "Можно видеть, что по результату от взвешивания F1-мера логистической регрессии выросло очень сильно - с `0.09` до `0.447`. При этом AUC-ROC метрика также подросла, но совсем незначительно: с `0.674` до `0.713`.\n",
    "\n",
    "Качество остальных двух моделей тоже увеличилось по обеим метрикам подросло, но уже не так значительно:\n",
    "\n",
    "- качество дерева решений выросло с `0.529` до `0.556` (F1-мера) и с `0.796` до `0.819` (AUC-ROC);\n",
    "- качество случайного леса выросло с `0.572` до `0.635` (F1-мера) и с `0.849` до `0.851` (AUC-ROC)\n",
    "\n",
    "Таким образом, взвешивание классов привела к улучшению качества модели, но прежде чем переходить к тестированию на тестовой выборке посмотрим какого качества мы можем достичь другими способами нейтрализации дисбаланса. И первый из оставшихся - увеличение выборки."
   ]
  },
  {
   "cell_type": "markdown",
   "metadata": {},
   "source": [
    "### Увеличение выборки (upsampling)"
   ]
  },
  {
   "cell_type": "markdown",
   "metadata": {},
   "source": [
    "Начнём с того, что из обучающей выборки выделим отдельно обучающие примеры для каждого из классов:"
   ]
  },
  {
   "cell_type": "code",
   "execution_count": 26,
   "metadata": {},
   "outputs": [],
   "source": [
    "features_train_zeros = features_train[target_train == 0]\n",
    "features_train_ones = features_train[target_train == 1]\n",
    "target_train_zeros = target_train[target_train == 0]\n",
    "target_train_ones = target_train[target_train == 1]"
   ]
  },
  {
   "cell_type": "markdown",
   "metadata": {},
   "source": [
    "Далее, расширим положительный класс, продублировав примеры из него 4 раза, это позволит добиться более-менее равномерного распределения примеров:"
   ]
  },
  {
   "cell_type": "code",
   "execution_count": 27,
   "metadata": {},
   "outputs": [
    {
     "name": "stdout",
     "output_type": "stream",
     "text": [
      "Размерность примеров для 0 класса исходной обучающей выборки:    (4804, 11)\n",
      "Размерность примеров для 1 класса исходной обучающей выборки:    (1196, 11)\n",
      "\n",
      "Размерность увеличенного обучающего набора (оба класса, входные признаки):    (9588, 11)\n",
      "Размерность увеличенного обучающего набора (оба класса, целевой признак):    (9588,)\n"
     ]
    }
   ],
   "source": [
    "features_train_upsampled = pd.concat([features_train_zeros] + [features_train_ones] * 4)\n",
    "target_train_upsampled = pd.concat([target_train_zeros] + [target_train_ones] * 4)\n",
    "\n",
    "features_train_upsampled, target_train_upsampled = shuffle(\n",
    "    features_train_upsampled, target_train_upsampled, random_state=12345)\n",
    "\n",
    "print(f'Размерность примеров для 0 класса исходной обучающей выборки:\\\n",
    "    {features_train_zeros.shape}')\n",
    "print(f'Размерность примеров для 1 класса исходной обучающей выборки:\\\n",
    "    {features_train_ones.shape}')\n",
    "\n",
    "print()\n",
    "\n",
    "print(f'Размерность увеличенного обучающего набора (оба класса, входные признаки):\\\n",
    "    {features_train_upsampled.shape}')\n",
    "print(f'Размерность увеличенного обучающего набора (оба класса, целевой признак):\\\n",
    "    {target_train_upsampled.shape}')"
   ]
  },
  {
   "cell_type": "markdown",
   "metadata": {},
   "source": [
    "Теперь, используя полученную upsampled-выборку из `features_train_upsampled` и `target_train_upsampled`, произведём обучение наших трёх моделей классификации с поиском наилучших гиперпараметров методом рандомизированного поиска:"
   ]
  },
  {
   "cell_type": "code",
   "execution_count": 28,
   "metadata": {},
   "outputs": [
    {
     "name": "stdout",
     "output_type": "stream",
     "text": [
      "Best hyperparameters for model \"Logistic Regression\" are:\n",
      "\t{'C': 1.0}\n",
      "\n",
      "Best hyperparameters for model \"Decision Tree Classifier\" are:\n",
      "\t{'min_samples_split': 24, 'min_samples_leaf': 4, 'max_depth': 15}\n",
      "\n",
      "Best hyperparameters for model \"Random Forest Classifier\" are:\n",
      "\t{'n_estimators': 63, 'min_samples_split': 7, 'min_samples_leaf': 5, 'max_depth': 12}\n",
      "\n"
     ]
    }
   ],
   "source": [
    "best_upsampled_logreg_model = get_best_model_by_hyperparams_search(\n",
    "        'Logistic Regression',\n",
    "        LogisticRegression(random_state=12345),\n",
    "        features_train_upsampled,\n",
    "        target_train_upsampled,\n",
    "        logreg_params)\n",
    "\n",
    "best_upsampled_tree_model = get_best_model_by_hyperparams_search(\n",
    "        'Decision Tree Classifier',\n",
    "        DecisionTreeClassifier(random_state=12345),\n",
    "        features_train_upsampled,\n",
    "        target_train_upsampled,\n",
    "        tree_params)\n",
    "\n",
    "best_upsampled_forest_model = get_best_model_by_hyperparams_search(\n",
    "        'Random Forest Classifier',\n",
    "        RandomForestClassifier(random_state=12345),\n",
    "        features_train_upsampled,\n",
    "        target_train_upsampled,\n",
    "        forest_params)"
   ]
  },
  {
   "cell_type": "markdown",
   "metadata": {},
   "source": [
    "Наконец, используем валидационную выборку, чтобы определиться, какая из 3 моделей показывает себя наиболее качественно:"
   ]
  },
  {
   "cell_type": "code",
   "execution_count": 29,
   "metadata": {},
   "outputs": [
    {
     "name": "stdout",
     "output_type": "stream",
     "text": [
      "Качество модели \"Logistic Regression, upsampled\":\n",
      "\tF1-мера = 0.447\n",
      "\tAUC-ROC = 0.713\n",
      "Качество модели \"Decision Tree Classifier, upsampled\":\n",
      "\tF1-мера = 0.537\n",
      "\tAUC-ROC = 0.773\n",
      "Качество модели \"Random Forest Classifier, upsampled\":\n",
      "\tF1-мера = 0.621\n",
      "\tAUC-ROC = 0.853\n"
     ]
    }
   ],
   "source": [
    "f1_logreg_upsampled, roc_auc_logreg_upsampled = calculate_quality_measures(best_upsampled_logreg_model,\n",
    "                                                                         features_valid,\n",
    "                                                                         target_valid)\n",
    "f1_tree_upsampled,   roc_auc_tree_upsampled   = calculate_quality_measures(best_upsampled_tree_model,\n",
    "                                                                         features_valid,\n",
    "                                                                         target_valid)\n",
    "f1_forest_upsampled, roc_auc_forest_upsampled = calculate_quality_measures(best_upsampled_forest_model,\n",
    "                                                                         features_valid,\n",
    "                                                                         target_valid)\n",
    "\n",
    "\n",
    "print_quality_measures('Logistic Regression, upsampled', f1_logreg_upsampled, roc_auc_logreg_upsampled)\n",
    "print_quality_measures('Decision Tree Classifier, upsampled', f1_tree_upsampled, roc_auc_tree_upsampled)\n",
    "print_quality_measures('Random Forest Classifier, upsampled', f1_forest_upsampled, roc_auc_forest_upsampled)"
   ]
  },
  {
   "cell_type": "markdown",
   "metadata": {},
   "source": [
    "#### Промежуточные выводы\n",
    "\n",
    "Модель случайного леса вновь демонстрирует наиболее высокое качество (`0.621` по F1-мере, `0.853` по AUC-ROC) по сравнению с деревом решений (`0.537` по F1-мере, `0.773` по AUC-ROC) и с логистической регрессией (`0.447` по F1-мере, `0.713` по AUC-ROC).\n",
    "\n",
    "Пока воздержимся от сравнения этих результатов с результатами, полученными после взвешивания классов - сделаем это в самом конце раздела с построением таблицы."
   ]
  },
  {
   "cell_type": "markdown",
   "metadata": {},
   "source": [
    "### Уменьшение выборки (downsampling)"
   ]
  },
  {
   "cell_type": "markdown",
   "metadata": {},
   "source": [
    "Теперь проведём _Downsampling_ - уменьшим количество обучающих примеров для б_о_льшего класса (в нашем случае это отрицательный класс - пользователи, решившие остаться клиентами банка):"
   ]
  },
  {
   "cell_type": "code",
   "execution_count": 30,
   "metadata": {},
   "outputs": [
    {
     "name": "stdout",
     "output_type": "stream",
     "text": [
      "(4804, 11)\n",
      "(1196, 11)\n",
      "\n",
      "(2397, 11)\n",
      "(2397,)\n"
     ]
    }
   ],
   "source": [
    "features_train_downsampled = pd.concat(\n",
    "    [features_train_zeros.sample(frac=0.25, random_state=12345)] + [features_train_ones])\n",
    "target_train_downsampled = pd.concat(\n",
    "    [target_train_zeros.sample(frac=0.25, random_state=12345)] + [target_train_ones])\n",
    "\n",
    "features_train_downsampled, target_train_downsampled = shuffle(\n",
    "    features_train_downsampled, target_train_downsampled, random_state=12345)\n",
    "\n",
    "print(features_train_zeros.shape)\n",
    "print(features_train_ones.shape)\n",
    "print()\n",
    "print(features_train_downsampled.shape)\n",
    "print(target_train_downsampled.shape)"
   ]
  },
  {
   "cell_type": "markdown",
   "metadata": {},
   "source": [
    "Как и прежде, подбёрем наиболее качественные наборы параметров для каждой из моделей с помощью случайного поиска:"
   ]
  },
  {
   "cell_type": "code",
   "execution_count": 31,
   "metadata": {},
   "outputs": [
    {
     "name": "stdout",
     "output_type": "stream",
     "text": [
      "Best hyperparameters for model \"Logistic Regression\" are:\n",
      "\t{'C': 0.01}\n",
      "\n",
      "Best hyperparameters for model \"Decision Tree Classifier\" are:\n",
      "\t{'min_samples_split': 6, 'min_samples_leaf': 32, 'max_depth': 11}\n",
      "\n",
      "Best hyperparameters for model \"Random Forest Classifier\" are:\n",
      "\t{'n_estimators': 63, 'min_samples_split': 7, 'min_samples_leaf': 5, 'max_depth': 12}\n",
      "\n"
     ]
    }
   ],
   "source": [
    "best_downsampled_logreg_model = get_best_model_by_hyperparams_search(\n",
    "        'Logistic Regression',\n",
    "        LogisticRegression(random_state=12345),\n",
    "        features_train_downsampled,\n",
    "        target_train_downsampled,\n",
    "        logreg_params)\n",
    "\n",
    "best_downsampled_tree_model = get_best_model_by_hyperparams_search(\n",
    "        'Decision Tree Classifier',\n",
    "        DecisionTreeClassifier(random_state=12345),\n",
    "        features_train_downsampled,\n",
    "        target_train_downsampled,\n",
    "        tree_params)\n",
    "\n",
    "best_downsampled_forest_model = get_best_model_by_hyperparams_search(\n",
    "        'Random Forest Classifier',\n",
    "        RandomForestClassifier(random_state=12345),\n",
    "        features_train_downsampled,\n",
    "        target_train_downsampled,\n",
    "        forest_params)"
   ]
  },
  {
   "cell_type": "markdown",
   "metadata": {},
   "source": [
    "... и подсчитаем метрики качества:"
   ]
  },
  {
   "cell_type": "code",
   "execution_count": 32,
   "metadata": {},
   "outputs": [
    {
     "name": "stdout",
     "output_type": "stream",
     "text": [
      "Качество модели \"Logistic Regression, downsampled\":\n",
      "\tF1-мера = 0.447\n",
      "\tAUC-ROC = 0.712\n",
      "Качество модели \"Decision Tree Classifier, downsampled\":\n",
      "\tF1-мера = 0.554\n",
      "\tAUC-ROC = 0.823\n",
      "Качество модели \"Random Forest Classifier, downsampled\":\n",
      "\tF1-мера = 0.59\n",
      "\tAUC-ROC = 0.849\n"
     ]
    }
   ],
   "source": [
    "f1_logreg_downsampled, roc_auc_logreg_downsampled = calculate_quality_measures(best_downsampled_logreg_model,\n",
    "                                                                               features_valid,\n",
    "                                                                               target_valid)\n",
    "f1_tree_downsampled,   roc_auc_tree_downsampled   = calculate_quality_measures(best_downsampled_tree_model,\n",
    "                                                                               features_valid,\n",
    "                                                                               target_valid)\n",
    "f1_forest_downsampled, roc_auc_forest_downsampled = calculate_quality_measures(best_downsampled_forest_model,\n",
    "                                                                               features_valid,\n",
    "                                                                               target_valid)\n",
    "\n",
    "print_quality_measures('Logistic Regression, downsampled',\n",
    "                       f1_logreg_downsampled,\n",
    "                       roc_auc_logreg_downsampled)\n",
    "print_quality_measures('Decision Tree Classifier, downsampled',\n",
    "                       f1_tree_downsampled,\n",
    "                       roc_auc_tree_downsampled)\n",
    "print_quality_measures('Random Forest Classifier, downsampled',\n",
    "                       f1_forest_downsampled,\n",
    "                       roc_auc_forest_downsampled)"
   ]
  },
  {
   "cell_type": "markdown",
   "metadata": {},
   "source": [
    "Прежде чем переходить к выводам, выведем показатели качества наших моделей в виде таблицы - для б_о_льшей наглядности:"
   ]
  },
  {
   "cell_type": "code",
   "execution_count": 33,
   "metadata": {},
   "outputs": [
    {
     "data": {
      "text/html": [
       "<div>\n",
       "<style scoped>\n",
       "    .dataframe tbody tr th:only-of-type {\n",
       "        vertical-align: middle;\n",
       "    }\n",
       "\n",
       "    .dataframe tbody tr th {\n",
       "        vertical-align: top;\n",
       "    }\n",
       "\n",
       "    .dataframe thead th {\n",
       "        text-align: right;\n",
       "    }\n",
       "</style>\n",
       "<table border=\"1\" class=\"dataframe\">\n",
       "  <thead>\n",
       "    <tr style=\"text-align: right;\">\n",
       "      <th></th>\n",
       "      <th>F1-мера</th>\n",
       "      <th>AUC-ROC</th>\n",
       "    </tr>\n",
       "    <tr>\n",
       "      <th>Модель</th>\n",
       "      <th></th>\n",
       "      <th></th>\n",
       "    </tr>\n",
       "  </thead>\n",
       "  <tbody>\n",
       "    <tr>\n",
       "      <th>Логистическая регрессия (оригинал)</th>\n",
       "      <td>0.088</td>\n",
       "      <td>0.674</td>\n",
       "    </tr>\n",
       "    <tr>\n",
       "      <th>Логистическая регрессия (взвешенная)</th>\n",
       "      <td>0.447</td>\n",
       "      <td>0.713</td>\n",
       "    </tr>\n",
       "    <tr>\n",
       "      <th>Логистическая регрессия (upsampled)</th>\n",
       "      <td>0.447</td>\n",
       "      <td>0.713</td>\n",
       "    </tr>\n",
       "    <tr>\n",
       "      <th>Логистическая регрессия (downsampled)</th>\n",
       "      <td>0.447</td>\n",
       "      <td>0.712</td>\n",
       "    </tr>\n",
       "    <tr>\n",
       "      <th>Дерево решений (оригинал)</th>\n",
       "      <td>0.529</td>\n",
       "      <td>0.796</td>\n",
       "    </tr>\n",
       "    <tr>\n",
       "      <th>Дерево решений (взвешенное)</th>\n",
       "      <td>0.556</td>\n",
       "      <td>0.819</td>\n",
       "    </tr>\n",
       "    <tr>\n",
       "      <th>Дерево решений (upsampled)</th>\n",
       "      <td>0.537</td>\n",
       "      <td>0.773</td>\n",
       "    </tr>\n",
       "    <tr>\n",
       "      <th>Дерево решений (downsampled)</th>\n",
       "      <td>0.554</td>\n",
       "      <td>0.823</td>\n",
       "    </tr>\n",
       "    <tr>\n",
       "      <th>Случайный лес (оригинал)</th>\n",
       "      <td>0.572</td>\n",
       "      <td>0.849</td>\n",
       "    </tr>\n",
       "    <tr>\n",
       "      <th>Случайный лес (взвешенный)</th>\n",
       "      <td>0.635</td>\n",
       "      <td>0.851</td>\n",
       "    </tr>\n",
       "    <tr>\n",
       "      <th>Случайный лес (upsampled)</th>\n",
       "      <td>0.621</td>\n",
       "      <td>0.853</td>\n",
       "    </tr>\n",
       "    <tr>\n",
       "      <th>Случайный лес (downsampled)</th>\n",
       "      <td>0.590</td>\n",
       "      <td>0.849</td>\n",
       "    </tr>\n",
       "  </tbody>\n",
       "</table>\n",
       "</div>"
      ],
      "text/plain": [
       "                                       F1-мера  AUC-ROC\n",
       "Модель                                                 \n",
       "Логистическая регрессия (оригинал)       0.088    0.674\n",
       "Логистическая регрессия (взвешенная)     0.447    0.713\n",
       "Логистическая регрессия (upsampled)      0.447    0.713\n",
       "Логистическая регрессия (downsampled)    0.447    0.712\n",
       "Дерево решений (оригинал)                0.529    0.796\n",
       "Дерево решений (взвешенное)              0.556    0.819\n",
       "Дерево решений (upsampled)               0.537    0.773\n",
       "Дерево решений (downsampled)             0.554    0.823\n",
       "Случайный лес (оригинал)                 0.572    0.849\n",
       "Случайный лес (взвешенный)               0.635    0.851\n",
       "Случайный лес (upsampled)                0.621    0.853\n",
       "Случайный лес (downsampled)              0.590    0.849"
      ]
     },
     "execution_count": 33,
     "metadata": {},
     "output_type": "execute_result"
    }
   ],
   "source": [
    "measures_table = pd.DataFrame({'Модель' :\n",
    "                                   [\n",
    "                                        'Логистическая регрессия (оригинал)',\n",
    "                                        'Логистическая регрессия (взвешенная)',\n",
    "                                        'Логистическая регрессия (upsampled)',\n",
    "                                        'Логистическая регрессия (downsampled)',\n",
    "\n",
    "                                        'Дерево решений (оригинал)',\n",
    "                                        'Дерево решений (взвешенное)',\n",
    "                                        'Дерево решений (upsampled)',\n",
    "                                        'Дерево решений (downsampled)',\n",
    "                                       \n",
    "                                        'Случайный лес (оригинал)',\n",
    "                                        'Случайный лес (взвешенный)',\n",
    "                                        'Случайный лес (upsampled)',\n",
    "                                        'Случайный лес (downsampled)',\n",
    "                                   ],\n",
    "                               'F1-мера':\n",
    "                                   [\n",
    "                                        f1_logreg_original,\n",
    "                                        f1_logreg_weighted,\n",
    "                                        f1_logreg_upsampled,\n",
    "                                        f1_logreg_downsampled,\n",
    "                                       \n",
    "                                        f1_tree_original,\n",
    "                                        f1_tree_weighted,\n",
    "                                        f1_tree_upsampled,\n",
    "                                        f1_tree_downsampled,\n",
    "                                       \n",
    "                                        f1_forest_original,\n",
    "                                        f1_forest_weighted,\n",
    "                                        f1_forest_upsampled,\n",
    "                                        f1_forest_downsampled\n",
    "                                   ],\n",
    "                               'AUC-ROC':\n",
    "                                   [\n",
    "                                        roc_auc_logreg_original,\n",
    "                                        roc_auc_logreg_weighted,\n",
    "                                        roc_auc_logreg_upsampled,\n",
    "                                        roc_auc_logreg_downsampled,\n",
    "                                       \n",
    "                                        roc_auc_tree_original,\n",
    "                                        roc_auc_tree_weighted,\n",
    "                                        roc_auc_tree_upsampled,\n",
    "                                        roc_auc_tree_downsampled,\n",
    "                                       \n",
    "                                        roc_auc_forest_original,\n",
    "                                        roc_auc_forest_weighted,\n",
    "                                        roc_auc_forest_upsampled,\n",
    "                                        roc_auc_forest_downsampled\n",
    "                                   ]})\n",
    "\n",
    "measures_table.set_index('Модель')"
   ]
  },
  {
   "cell_type": "markdown",
   "metadata": {},
   "source": [
    "#### Промежуточные выводы\n",
    "\n",
    "Глядя на таблицу выше, можно сделать незамедлительный вывод о том, что лидером по F1-мере является модель случайного леса, обученная на взвешенных классах оригинальной обучающей выборки (`0.635`).\n",
    "\n",
    "Тем не менее, метрика AUC-ROC демонстрирует свой максимум на другой модели - случайном лесе на увеличенной выборке (_upsampled_, `0.853`). В то же время это значение превосходит значение данной метрики для взвешенного случайного леса (модель с максимумом по F1-мере) лишь незначительно - на `0,002`. В то время как по F1-мере отрыв взвешенного случайного леса более явный: `0.635` против `0.621` для upsampled-случайного леса.\n",
    "\n",
    "Учитывая это, остановимся на взвешенной модели случайного леса (`best_weighted_forest_model`) и именно её будем использовать в самом последнем нашем шаге - прогоне модели на тестовой выборке, которую мы прятали до сего момента."
   ]
  },
  {
   "cell_type": "markdown",
   "metadata": {},
   "source": [
    "## Тестирование модели"
   ]
  },
  {
   "cell_type": "code",
   "execution_count": 34,
   "metadata": {},
   "outputs": [
    {
     "name": "stdout",
     "output_type": "stream",
     "text": [
      "===========================================================\n",
      "РЕЗУЛЬТАТЫ НА ТЕСТОВОЙ ВЫБОРКЕ ДЛЯ ВЫБРАННОЙ В ИТОГЕ МОДЕЛИ\n",
      "===========================================================\n",
      "Качество модели \"Random Forest Classifier, weighted\":\n",
      "\tF1-мера = 0.614\n",
      "\tAUC-ROC = 0.856\n"
     ]
    }
   ],
   "source": [
    "f1_test, roc_auc_test = calculate_quality_measures(best_weighted_forest_model, features_test, target_test)\n",
    "\n",
    "print('===========================================================')\n",
    "print('РЕЗУЛЬТАТЫ НА ТЕСТОВОЙ ВЫБОРКЕ ДЛЯ ВЫБРАННОЙ В ИТОГЕ МОДЕЛИ')\n",
    "print('===========================================================')\n",
    "\n",
    "print_quality_measures('Random Forest Classifier, weighted', f1_test, roc_auc_test)"
   ]
  },
  {
   "cell_type": "markdown",
   "metadata": {},
   "source": [
    "## Выводы\n",
    "\n",
    "Как было отмечено, в данном проекте имел место случай дисбаланса классов в обучающем наборе - около `20%` данных принадлежат к положительному классу, `80%` - к отрицательному классу.\n",
    "\n",
    "Для нейтрализации негативного эффекта, возникающего от дисбаланса классов, были опробованы 3 известные мне стратегии:\n",
    "\n",
    "- взвешивание классов;\n",
    "\n",
    "- увеличение выборки;\n",
    "\n",
    "- уменьшение выборки\n",
    "\n",
    "Каждая из этих стратегий исследовалась на трёх моделях машинного обучения: логистический регрессии, дереве решений и случайном лесе. В свою очередь для каждой из данных моделей производился подбор наиболее оптимальных по F1-мере гиперпараметров с помощью рандомизированного поиска.\n",
    "\n",
    "На валидационной выборке наиболее качественной с точки зрения F1-меры показала себя модель взвешенного случайного леса, которая и была использована впоследствии для прогона на тестовой выборке. Данный прогон продемонстрировал следующие результаты:\n",
    "\n",
    "- **`F1-мера на тестовом наборе = 0.614`**\n",
    "- **`AUC-ROC на тестовом наборе = 0.856`**\n",
    "\n",
    "Наконец, также приведём здесь значения гиперпараметров, которые были подобраны рандомизированным поиском для наилучшей модели взвешенного случайного леса:\n",
    "\n",
    "- `'n_estimators'      : 63`\n",
    "- `'min_samples_split' : 7`\n",
    "- `'min_samples_leaf'  : 5`\n",
    "- `'max_depth'         : 12`\n"
   ]
  },
  {
   "cell_type": "markdown",
   "metadata": {},
   "source": [
    "## Чек-лист готовности проекта"
   ]
  },
  {
   "cell_type": "markdown",
   "metadata": {},
   "source": [
    "Поставьте 'x' в выполненных пунктах. Далее нажмите Shift+Enter."
   ]
  },
  {
   "cell_type": "markdown",
   "metadata": {},
   "source": [
    "- [x]  Jupyter Notebook открыт\n",
    "- [x]  Весь код выполняется без ошибок\n",
    "- [x]  Ячейки с кодом расположены в порядке исполнения\n",
    "- [x]  Выполнен шаг 1: данные подготовлены\n",
    "- [x]  Выполнен шаг 2: задача исследована\n",
    "    - [x]  Исследован баланс классов\n",
    "    - [x]  Изучены модели без учёта дисбаланса\n",
    "    - [x]  Написаны выводы по результатам исследования\n",
    "- [x]  Выполнен шаг 3: учтён дисбаланс\n",
    "    - [x]  Применено несколько способов борьбы с дисбалансом\n",
    "    - [x]  Написаны выводы по результатам исследования\n",
    "- [x]  Выполнен шаг 4: проведено тестирование\n",
    "- [x]  Удалось достичь *F1*-меры не менее 0.59\n",
    "- [x]  Исследована метрика *AUC-ROC*"
   ]
  }
 ],
 "metadata": {
  "kernelspec": {
   "display_name": "Python 3 (ipykernel)",
   "language": "python",
   "name": "python3"
  },
  "language_info": {
   "codemirror_mode": {
    "name": "ipython",
    "version": 3
   },
   "file_extension": ".py",
   "mimetype": "text/x-python",
   "name": "python",
   "nbconvert_exporter": "python",
   "pygments_lexer": "ipython3",
   "version": "3.10.10"
  },
  "toc": {
   "base_numbering": 1,
   "nav_menu": {},
   "number_sections": true,
   "sideBar": true,
   "skip_h1_title": true,
   "title_cell": "Содержание",
   "title_sidebar": "Contents",
   "toc_cell": true,
   "toc_position": {},
   "toc_section_display": true,
   "toc_window_display": true
  }
 },
 "nbformat": 4,
 "nbformat_minor": 4
}
