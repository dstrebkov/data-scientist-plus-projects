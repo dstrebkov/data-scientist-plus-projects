{
 "cells": [
  {
   "cell_type": "markdown",
   "metadata": {},
   "source": [
    "# Выбор локации для скважины"
   ]
  },
  {
   "cell_type": "markdown",
   "metadata": {},
   "source": [
    "Допустим, вы работаете в добывающей компании «ГлавРосГосНефть». Нужно решить, где бурить новую скважину.\n",
    "\n",
    "Вам предоставлены пробы нефти в трёх регионах: в каждом 10 000 месторождений, где измерили качество нефти и объём её запасов. Постройте модель машинного обучения, которая поможет определить регион, где добыча принесёт наибольшую прибыль. Проанализируйте возможную прибыль и риски техникой *Bootstrap.*\n",
    "\n",
    "Шаги для выбора локации:\n",
    "\n",
    "- В избранном регионе ищут месторождения, для каждого определяют значения признаков;\n",
    "- Строят модель и оценивают объём запасов;\n",
    "- Выбирают месторождения с самым высокими оценками значений. Количество месторождений зависит от бюджета компании и стоимости разработки одной скважины;\n",
    "- Прибыль равна суммарной прибыли отобранных месторождений."
   ]
  },
  {
   "cell_type": "markdown",
   "metadata": {},
   "source": [
    "## Описание данных\n",
    "### Описание:\n",
    "Данные геологоразведки трёх регионов находятся в файлах со следующими полями:\n",
    "\n",
    "- `id` — уникальный идентификатор скважины;\n",
    "- `f0`, `f1`, `f2` — три признака точек (неважно, что они означают, но сами признаки значимы);\n",
    "- `product` — объём запасов в скважине (тыс. баррелей).\n",
    "\n",
    "### Условия задачи:\n",
    "\n",
    "- Для обучения модели подходит только линейная регрессия (остальные — недостаточно предсказуемые).\n",
    "- При разведке региона исследуют 500 точек, из которых с помощью машинного обучения выбирают 200 лучших для разработки.\n",
    "- Бюджет на разработку скважин в регионе — 10 млрд рублей.\n",
    "- При нынешних ценах один баррель сырья приносит 450 рублей дохода. Доход с каждой единицы продукта составляет 450 тыс. рублей, поскольку объём указан в тысячах баррелей.\n",
    "- После оценки рисков нужно оставить лишь те регионы, в которых вероятность убытков меньше 2.5%. Среди них выбирают регион с наибольшей средней прибылью.\n",
    "\n",
    "\n",
    "Данные синтетические: детали контрактов и характеристики месторождений не разглашаются."
   ]
  },
  {
   "cell_type": "markdown",
   "metadata": {},
   "source": [
    "## Загрузка и подготовка данных\n",
    "\n",
    "### 1. Загрузите и подготовьте данные. Поясните порядок действий.\n",
    "\n",
    "Подключаем необходимые модули:"
   ]
  },
  {
   "cell_type": "code",
   "execution_count": 94,
   "metadata": {},
   "outputs": [],
   "source": [
    "import pandas as pd\n",
    "import numpy as np\n",
    "import seaborn as sns\n",
    "import matplotlib.pyplot as plt\n",
    "\n",
    "from sklearn.model_selection import train_test_split\n",
    "from sklearn.linear_model import LinearRegression\n",
    "from sklearn.metrics import mean_squared_error\n",
    "\n",
    "np.set_printoptions(suppress=True)"
   ]
  },
  {
   "cell_type": "markdown",
   "metadata": {},
   "source": [
    "Загружаем наши наборы данных:"
   ]
  },
  {
   "cell_type": "code",
   "execution_count": 95,
   "metadata": {},
   "outputs": [],
   "source": [
    "REGIONS_COUNT = 3\n",
    "\n",
    "dfs = list()\n",
    "for i in range(REGIONS_COUNT):\n",
    "    dfs.append(pd.read_csv('...'))"
   ]
  },
  {
   "cell_type": "markdown",
   "metadata": {},
   "source": [
    "#### 1.1 Базовое исследование наборов данных"
   ]
  },
  {
   "cell_type": "markdown",
   "metadata": {},
   "source": [
    "Посмотрим на _шапку_ каждого из наборов данных:"
   ]
  },
  {
   "cell_type": "code",
   "execution_count": 96,
   "metadata": {},
   "outputs": [
    {
     "data": {
      "text/html": [
       "<div>\n",
       "<style scoped>\n",
       "    .dataframe tbody tr th:only-of-type {\n",
       "        vertical-align: middle;\n",
       "    }\n",
       "\n",
       "    .dataframe tbody tr th {\n",
       "        vertical-align: top;\n",
       "    }\n",
       "\n",
       "    .dataframe thead th {\n",
       "        text-align: right;\n",
       "    }\n",
       "</style>\n",
       "<table border=\"1\" class=\"dataframe\">\n",
       "  <thead>\n",
       "    <tr style=\"text-align: right;\">\n",
       "      <th></th>\n",
       "      <th>id</th>\n",
       "      <th>f0</th>\n",
       "      <th>f1</th>\n",
       "      <th>f2</th>\n",
       "      <th>product</th>\n",
       "    </tr>\n",
       "  </thead>\n",
       "  <tbody>\n",
       "    <tr>\n",
       "      <th>0</th>\n",
       "      <td>txEyH</td>\n",
       "      <td>0.705745</td>\n",
       "      <td>-0.497823</td>\n",
       "      <td>1.221170</td>\n",
       "      <td>105.280062</td>\n",
       "    </tr>\n",
       "    <tr>\n",
       "      <th>1</th>\n",
       "      <td>2acmU</td>\n",
       "      <td>1.334711</td>\n",
       "      <td>-0.340164</td>\n",
       "      <td>4.365080</td>\n",
       "      <td>73.037750</td>\n",
       "    </tr>\n",
       "    <tr>\n",
       "      <th>2</th>\n",
       "      <td>409Wp</td>\n",
       "      <td>1.022732</td>\n",
       "      <td>0.151990</td>\n",
       "      <td>1.419926</td>\n",
       "      <td>85.265647</td>\n",
       "    </tr>\n",
       "    <tr>\n",
       "      <th>3</th>\n",
       "      <td>iJLyR</td>\n",
       "      <td>-0.032172</td>\n",
       "      <td>0.139033</td>\n",
       "      <td>2.978566</td>\n",
       "      <td>168.620776</td>\n",
       "    </tr>\n",
       "    <tr>\n",
       "      <th>4</th>\n",
       "      <td>Xdl7t</td>\n",
       "      <td>1.988431</td>\n",
       "      <td>0.155413</td>\n",
       "      <td>4.751769</td>\n",
       "      <td>154.036647</td>\n",
       "    </tr>\n",
       "  </tbody>\n",
       "</table>\n",
       "</div>"
      ],
      "text/plain": [
       "      id        f0        f1        f2     product\n",
       "0  txEyH  0.705745 -0.497823  1.221170  105.280062\n",
       "1  2acmU  1.334711 -0.340164  4.365080   73.037750\n",
       "2  409Wp  1.022732  0.151990  1.419926   85.265647\n",
       "3  iJLyR -0.032172  0.139033  2.978566  168.620776\n",
       "4  Xdl7t  1.988431  0.155413  4.751769  154.036647"
      ]
     },
     "metadata": {},
     "output_type": "display_data"
    },
    {
     "data": {
      "text/html": [
       "<div>\n",
       "<style scoped>\n",
       "    .dataframe tbody tr th:only-of-type {\n",
       "        vertical-align: middle;\n",
       "    }\n",
       "\n",
       "    .dataframe tbody tr th {\n",
       "        vertical-align: top;\n",
       "    }\n",
       "\n",
       "    .dataframe thead th {\n",
       "        text-align: right;\n",
       "    }\n",
       "</style>\n",
       "<table border=\"1\" class=\"dataframe\">\n",
       "  <thead>\n",
       "    <tr style=\"text-align: right;\">\n",
       "      <th></th>\n",
       "      <th>id</th>\n",
       "      <th>f0</th>\n",
       "      <th>f1</th>\n",
       "      <th>f2</th>\n",
       "      <th>product</th>\n",
       "    </tr>\n",
       "  </thead>\n",
       "  <tbody>\n",
       "    <tr>\n",
       "      <th>0</th>\n",
       "      <td>kBEdx</td>\n",
       "      <td>-15.001348</td>\n",
       "      <td>-8.276000</td>\n",
       "      <td>-0.005876</td>\n",
       "      <td>3.179103</td>\n",
       "    </tr>\n",
       "    <tr>\n",
       "      <th>1</th>\n",
       "      <td>62mP7</td>\n",
       "      <td>14.272088</td>\n",
       "      <td>-3.475083</td>\n",
       "      <td>0.999183</td>\n",
       "      <td>26.953261</td>\n",
       "    </tr>\n",
       "    <tr>\n",
       "      <th>2</th>\n",
       "      <td>vyE1P</td>\n",
       "      <td>6.263187</td>\n",
       "      <td>-5.948386</td>\n",
       "      <td>5.001160</td>\n",
       "      <td>134.766305</td>\n",
       "    </tr>\n",
       "    <tr>\n",
       "      <th>3</th>\n",
       "      <td>KcrkZ</td>\n",
       "      <td>-13.081196</td>\n",
       "      <td>-11.506057</td>\n",
       "      <td>4.999415</td>\n",
       "      <td>137.945408</td>\n",
       "    </tr>\n",
       "    <tr>\n",
       "      <th>4</th>\n",
       "      <td>AHL4O</td>\n",
       "      <td>12.702195</td>\n",
       "      <td>-8.147433</td>\n",
       "      <td>5.004363</td>\n",
       "      <td>134.766305</td>\n",
       "    </tr>\n",
       "  </tbody>\n",
       "</table>\n",
       "</div>"
      ],
      "text/plain": [
       "      id         f0         f1        f2     product\n",
       "0  kBEdx -15.001348  -8.276000 -0.005876    3.179103\n",
       "1  62mP7  14.272088  -3.475083  0.999183   26.953261\n",
       "2  vyE1P   6.263187  -5.948386  5.001160  134.766305\n",
       "3  KcrkZ -13.081196 -11.506057  4.999415  137.945408\n",
       "4  AHL4O  12.702195  -8.147433  5.004363  134.766305"
      ]
     },
     "metadata": {},
     "output_type": "display_data"
    },
    {
     "data": {
      "text/html": [
       "<div>\n",
       "<style scoped>\n",
       "    .dataframe tbody tr th:only-of-type {\n",
       "        vertical-align: middle;\n",
       "    }\n",
       "\n",
       "    .dataframe tbody tr th {\n",
       "        vertical-align: top;\n",
       "    }\n",
       "\n",
       "    .dataframe thead th {\n",
       "        text-align: right;\n",
       "    }\n",
       "</style>\n",
       "<table border=\"1\" class=\"dataframe\">\n",
       "  <thead>\n",
       "    <tr style=\"text-align: right;\">\n",
       "      <th></th>\n",
       "      <th>id</th>\n",
       "      <th>f0</th>\n",
       "      <th>f1</th>\n",
       "      <th>f2</th>\n",
       "      <th>product</th>\n",
       "    </tr>\n",
       "  </thead>\n",
       "  <tbody>\n",
       "    <tr>\n",
       "      <th>0</th>\n",
       "      <td>fwXo0</td>\n",
       "      <td>-1.146987</td>\n",
       "      <td>0.963328</td>\n",
       "      <td>-0.828965</td>\n",
       "      <td>27.758673</td>\n",
       "    </tr>\n",
       "    <tr>\n",
       "      <th>1</th>\n",
       "      <td>WJtFt</td>\n",
       "      <td>0.262778</td>\n",
       "      <td>0.269839</td>\n",
       "      <td>-2.530187</td>\n",
       "      <td>56.069697</td>\n",
       "    </tr>\n",
       "    <tr>\n",
       "      <th>2</th>\n",
       "      <td>ovLUW</td>\n",
       "      <td>0.194587</td>\n",
       "      <td>0.289035</td>\n",
       "      <td>-5.586433</td>\n",
       "      <td>62.871910</td>\n",
       "    </tr>\n",
       "    <tr>\n",
       "      <th>3</th>\n",
       "      <td>q6cA6</td>\n",
       "      <td>2.236060</td>\n",
       "      <td>-0.553760</td>\n",
       "      <td>0.930038</td>\n",
       "      <td>114.572842</td>\n",
       "    </tr>\n",
       "    <tr>\n",
       "      <th>4</th>\n",
       "      <td>WPMUX</td>\n",
       "      <td>-0.515993</td>\n",
       "      <td>1.716266</td>\n",
       "      <td>5.899011</td>\n",
       "      <td>149.600746</td>\n",
       "    </tr>\n",
       "  </tbody>\n",
       "</table>\n",
       "</div>"
      ],
      "text/plain": [
       "      id        f0        f1        f2     product\n",
       "0  fwXo0 -1.146987  0.963328 -0.828965   27.758673\n",
       "1  WJtFt  0.262778  0.269839 -2.530187   56.069697\n",
       "2  ovLUW  0.194587  0.289035 -5.586433   62.871910\n",
       "3  q6cA6  2.236060 -0.553760  0.930038  114.572842\n",
       "4  WPMUX -0.515993  1.716266  5.899011  149.600746"
      ]
     },
     "metadata": {},
     "output_type": "display_data"
    }
   ],
   "source": [
    "for i in range(REGIONS_COUNT):\n",
    "    display(dfs[i].head())"
   ]
  },
  {
   "cell_type": "markdown",
   "metadata": {},
   "source": [
    "Типы данных кажутся очевидными - строковый для `id`, вещественный для признаков точек `f0`, `f1` и `f2`, и вещественный (неотрицательный?) для `product`. Убедимся в этом:"
   ]
  },
  {
   "cell_type": "code",
   "execution_count": 97,
   "metadata": {},
   "outputs": [
    {
     "name": "stdout",
     "output_type": "stream",
     "text": [
      "<class 'pandas.core.frame.DataFrame'>\n",
      "RangeIndex: 100000 entries, 0 to 99999\n",
      "Data columns (total 5 columns):\n",
      " #   Column   Non-Null Count   Dtype  \n",
      "---  ------   --------------   -----  \n",
      " 0   id       100000 non-null  object \n",
      " 1   f0       100000 non-null  float64\n",
      " 2   f1       100000 non-null  float64\n",
      " 3   f2       100000 non-null  float64\n",
      " 4   product  100000 non-null  float64\n",
      "dtypes: float64(4), object(1)\n",
      "memory usage: 3.8+ MB\n"
     ]
    },
    {
     "data": {
      "text/plain": [
       "None"
      ]
     },
     "metadata": {},
     "output_type": "display_data"
    },
    {
     "name": "stdout",
     "output_type": "stream",
     "text": [
      "<class 'pandas.core.frame.DataFrame'>\n",
      "RangeIndex: 100000 entries, 0 to 99999\n",
      "Data columns (total 5 columns):\n",
      " #   Column   Non-Null Count   Dtype  \n",
      "---  ------   --------------   -----  \n",
      " 0   id       100000 non-null  object \n",
      " 1   f0       100000 non-null  float64\n",
      " 2   f1       100000 non-null  float64\n",
      " 3   f2       100000 non-null  float64\n",
      " 4   product  100000 non-null  float64\n",
      "dtypes: float64(4), object(1)\n",
      "memory usage: 3.8+ MB\n"
     ]
    },
    {
     "data": {
      "text/plain": [
       "None"
      ]
     },
     "metadata": {},
     "output_type": "display_data"
    },
    {
     "name": "stdout",
     "output_type": "stream",
     "text": [
      "<class 'pandas.core.frame.DataFrame'>\n",
      "RangeIndex: 100000 entries, 0 to 99999\n",
      "Data columns (total 5 columns):\n",
      " #   Column   Non-Null Count   Dtype  \n",
      "---  ------   --------------   -----  \n",
      " 0   id       100000 non-null  object \n",
      " 1   f0       100000 non-null  float64\n",
      " 2   f1       100000 non-null  float64\n",
      " 3   f2       100000 non-null  float64\n",
      " 4   product  100000 non-null  float64\n",
      "dtypes: float64(4), object(1)\n",
      "memory usage: 3.8+ MB\n"
     ]
    },
    {
     "data": {
      "text/plain": [
       "None"
      ]
     },
     "metadata": {},
     "output_type": "display_data"
    }
   ],
   "source": [
    "for i in range(REGIONS_COUNT):\n",
    "    display(dfs[i].info())"
   ]
  },
  {
   "cell_type": "markdown",
   "metadata": {},
   "source": [
    "Также выведем базовые статистические характеристики для каждого из столбцов каждого из регионов:"
   ]
  },
  {
   "cell_type": "code",
   "execution_count": 98,
   "metadata": {},
   "outputs": [
    {
     "data": {
      "text/html": [
       "<div>\n",
       "<style scoped>\n",
       "    .dataframe tbody tr th:only-of-type {\n",
       "        vertical-align: middle;\n",
       "    }\n",
       "\n",
       "    .dataframe tbody tr th {\n",
       "        vertical-align: top;\n",
       "    }\n",
       "\n",
       "    .dataframe thead th {\n",
       "        text-align: right;\n",
       "    }\n",
       "</style>\n",
       "<table border=\"1\" class=\"dataframe\">\n",
       "  <thead>\n",
       "    <tr style=\"text-align: right;\">\n",
       "      <th></th>\n",
       "      <th>f0</th>\n",
       "      <th>f1</th>\n",
       "      <th>f2</th>\n",
       "      <th>product</th>\n",
       "    </tr>\n",
       "  </thead>\n",
       "  <tbody>\n",
       "    <tr>\n",
       "      <th>count</th>\n",
       "      <td>100000.000000</td>\n",
       "      <td>100000.000000</td>\n",
       "      <td>100000.000000</td>\n",
       "      <td>100000.000000</td>\n",
       "    </tr>\n",
       "    <tr>\n",
       "      <th>mean</th>\n",
       "      <td>0.500419</td>\n",
       "      <td>0.250143</td>\n",
       "      <td>2.502647</td>\n",
       "      <td>92.500000</td>\n",
       "    </tr>\n",
       "    <tr>\n",
       "      <th>std</th>\n",
       "      <td>0.871832</td>\n",
       "      <td>0.504433</td>\n",
       "      <td>3.248248</td>\n",
       "      <td>44.288691</td>\n",
       "    </tr>\n",
       "    <tr>\n",
       "      <th>min</th>\n",
       "      <td>-1.408605</td>\n",
       "      <td>-0.848218</td>\n",
       "      <td>-12.088328</td>\n",
       "      <td>0.000000</td>\n",
       "    </tr>\n",
       "    <tr>\n",
       "      <th>25%</th>\n",
       "      <td>-0.072580</td>\n",
       "      <td>-0.200881</td>\n",
       "      <td>0.287748</td>\n",
       "      <td>56.497507</td>\n",
       "    </tr>\n",
       "    <tr>\n",
       "      <th>50%</th>\n",
       "      <td>0.502360</td>\n",
       "      <td>0.250252</td>\n",
       "      <td>2.515969</td>\n",
       "      <td>91.849972</td>\n",
       "    </tr>\n",
       "    <tr>\n",
       "      <th>75%</th>\n",
       "      <td>1.073581</td>\n",
       "      <td>0.700646</td>\n",
       "      <td>4.715088</td>\n",
       "      <td>128.564089</td>\n",
       "    </tr>\n",
       "    <tr>\n",
       "      <th>max</th>\n",
       "      <td>2.362331</td>\n",
       "      <td>1.343769</td>\n",
       "      <td>16.003790</td>\n",
       "      <td>185.364347</td>\n",
       "    </tr>\n",
       "  </tbody>\n",
       "</table>\n",
       "</div>"
      ],
      "text/plain": [
       "                  f0             f1             f2        product\n",
       "count  100000.000000  100000.000000  100000.000000  100000.000000\n",
       "mean        0.500419       0.250143       2.502647      92.500000\n",
       "std         0.871832       0.504433       3.248248      44.288691\n",
       "min        -1.408605      -0.848218     -12.088328       0.000000\n",
       "25%        -0.072580      -0.200881       0.287748      56.497507\n",
       "50%         0.502360       0.250252       2.515969      91.849972\n",
       "75%         1.073581       0.700646       4.715088     128.564089\n",
       "max         2.362331       1.343769      16.003790     185.364347"
      ]
     },
     "metadata": {},
     "output_type": "display_data"
    },
    {
     "data": {
      "text/html": [
       "<div>\n",
       "<style scoped>\n",
       "    .dataframe tbody tr th:only-of-type {\n",
       "        vertical-align: middle;\n",
       "    }\n",
       "\n",
       "    .dataframe tbody tr th {\n",
       "        vertical-align: top;\n",
       "    }\n",
       "\n",
       "    .dataframe thead th {\n",
       "        text-align: right;\n",
       "    }\n",
       "</style>\n",
       "<table border=\"1\" class=\"dataframe\">\n",
       "  <thead>\n",
       "    <tr style=\"text-align: right;\">\n",
       "      <th></th>\n",
       "      <th>f0</th>\n",
       "      <th>f1</th>\n",
       "      <th>f2</th>\n",
       "      <th>product</th>\n",
       "    </tr>\n",
       "  </thead>\n",
       "  <tbody>\n",
       "    <tr>\n",
       "      <th>count</th>\n",
       "      <td>100000.000000</td>\n",
       "      <td>100000.000000</td>\n",
       "      <td>100000.000000</td>\n",
       "      <td>100000.000000</td>\n",
       "    </tr>\n",
       "    <tr>\n",
       "      <th>mean</th>\n",
       "      <td>1.141296</td>\n",
       "      <td>-4.796579</td>\n",
       "      <td>2.494541</td>\n",
       "      <td>68.825000</td>\n",
       "    </tr>\n",
       "    <tr>\n",
       "      <th>std</th>\n",
       "      <td>8.965932</td>\n",
       "      <td>5.119872</td>\n",
       "      <td>1.703572</td>\n",
       "      <td>45.944423</td>\n",
       "    </tr>\n",
       "    <tr>\n",
       "      <th>min</th>\n",
       "      <td>-31.609576</td>\n",
       "      <td>-26.358598</td>\n",
       "      <td>-0.018144</td>\n",
       "      <td>0.000000</td>\n",
       "    </tr>\n",
       "    <tr>\n",
       "      <th>25%</th>\n",
       "      <td>-6.298551</td>\n",
       "      <td>-8.267985</td>\n",
       "      <td>1.000021</td>\n",
       "      <td>26.953261</td>\n",
       "    </tr>\n",
       "    <tr>\n",
       "      <th>50%</th>\n",
       "      <td>1.153055</td>\n",
       "      <td>-4.813172</td>\n",
       "      <td>2.011479</td>\n",
       "      <td>57.085625</td>\n",
       "    </tr>\n",
       "    <tr>\n",
       "      <th>75%</th>\n",
       "      <td>8.621015</td>\n",
       "      <td>-1.332816</td>\n",
       "      <td>3.999904</td>\n",
       "      <td>107.813044</td>\n",
       "    </tr>\n",
       "    <tr>\n",
       "      <th>max</th>\n",
       "      <td>29.421755</td>\n",
       "      <td>18.734063</td>\n",
       "      <td>5.019721</td>\n",
       "      <td>137.945408</td>\n",
       "    </tr>\n",
       "  </tbody>\n",
       "</table>\n",
       "</div>"
      ],
      "text/plain": [
       "                  f0             f1             f2        product\n",
       "count  100000.000000  100000.000000  100000.000000  100000.000000\n",
       "mean        1.141296      -4.796579       2.494541      68.825000\n",
       "std         8.965932       5.119872       1.703572      45.944423\n",
       "min       -31.609576     -26.358598      -0.018144       0.000000\n",
       "25%        -6.298551      -8.267985       1.000021      26.953261\n",
       "50%         1.153055      -4.813172       2.011479      57.085625\n",
       "75%         8.621015      -1.332816       3.999904     107.813044\n",
       "max        29.421755      18.734063       5.019721     137.945408"
      ]
     },
     "metadata": {},
     "output_type": "display_data"
    },
    {
     "data": {
      "text/html": [
       "<div>\n",
       "<style scoped>\n",
       "    .dataframe tbody tr th:only-of-type {\n",
       "        vertical-align: middle;\n",
       "    }\n",
       "\n",
       "    .dataframe tbody tr th {\n",
       "        vertical-align: top;\n",
       "    }\n",
       "\n",
       "    .dataframe thead th {\n",
       "        text-align: right;\n",
       "    }\n",
       "</style>\n",
       "<table border=\"1\" class=\"dataframe\">\n",
       "  <thead>\n",
       "    <tr style=\"text-align: right;\">\n",
       "      <th></th>\n",
       "      <th>f0</th>\n",
       "      <th>f1</th>\n",
       "      <th>f2</th>\n",
       "      <th>product</th>\n",
       "    </tr>\n",
       "  </thead>\n",
       "  <tbody>\n",
       "    <tr>\n",
       "      <th>count</th>\n",
       "      <td>100000.000000</td>\n",
       "      <td>100000.000000</td>\n",
       "      <td>100000.000000</td>\n",
       "      <td>100000.000000</td>\n",
       "    </tr>\n",
       "    <tr>\n",
       "      <th>mean</th>\n",
       "      <td>0.002023</td>\n",
       "      <td>-0.002081</td>\n",
       "      <td>2.495128</td>\n",
       "      <td>95.000000</td>\n",
       "    </tr>\n",
       "    <tr>\n",
       "      <th>std</th>\n",
       "      <td>1.732045</td>\n",
       "      <td>1.730417</td>\n",
       "      <td>3.473445</td>\n",
       "      <td>44.749921</td>\n",
       "    </tr>\n",
       "    <tr>\n",
       "      <th>min</th>\n",
       "      <td>-8.760004</td>\n",
       "      <td>-7.084020</td>\n",
       "      <td>-11.970335</td>\n",
       "      <td>0.000000</td>\n",
       "    </tr>\n",
       "    <tr>\n",
       "      <th>25%</th>\n",
       "      <td>-1.162288</td>\n",
       "      <td>-1.174820</td>\n",
       "      <td>0.130359</td>\n",
       "      <td>59.450441</td>\n",
       "    </tr>\n",
       "    <tr>\n",
       "      <th>50%</th>\n",
       "      <td>0.009424</td>\n",
       "      <td>-0.009482</td>\n",
       "      <td>2.484236</td>\n",
       "      <td>94.925613</td>\n",
       "    </tr>\n",
       "    <tr>\n",
       "      <th>75%</th>\n",
       "      <td>1.158535</td>\n",
       "      <td>1.163678</td>\n",
       "      <td>4.858794</td>\n",
       "      <td>130.595027</td>\n",
       "    </tr>\n",
       "    <tr>\n",
       "      <th>max</th>\n",
       "      <td>7.238262</td>\n",
       "      <td>7.844801</td>\n",
       "      <td>16.739402</td>\n",
       "      <td>190.029838</td>\n",
       "    </tr>\n",
       "  </tbody>\n",
       "</table>\n",
       "</div>"
      ],
      "text/plain": [
       "                  f0             f1             f2        product\n",
       "count  100000.000000  100000.000000  100000.000000  100000.000000\n",
       "mean        0.002023      -0.002081       2.495128      95.000000\n",
       "std         1.732045       1.730417       3.473445      44.749921\n",
       "min        -8.760004      -7.084020     -11.970335       0.000000\n",
       "25%        -1.162288      -1.174820       0.130359      59.450441\n",
       "50%         0.009424      -0.009482       2.484236      94.925613\n",
       "75%         1.158535       1.163678       4.858794     130.595027\n",
       "max         7.238262       7.844801      16.739402     190.029838"
      ]
     },
     "metadata": {},
     "output_type": "display_data"
    }
   ],
   "source": [
    "for i in range(REGIONS_COUNT):\n",
    "    display(dfs[i].describe())"
   ]
  },
  {
   "cell_type": "markdown",
   "metadata": {},
   "source": [
    "Видим, что, судя по всему, минимальным значением для объёмов запасов (`product`) является `0` для всех трёх регионов. Максимальное значение объёмов запасов также не выглядит подозрительным (выбивающимся).\n",
    "\n",
    "Также обратим внимание, что в наборах данных отсутствуют пропуски - для всех признаков в выдаче выше мы видим пометку `100000 non-null`.\n",
    "\n",
    "#### 1.2 Поиск дубликатов\n",
    "\n",
    "Теперь попробуем определить, есть ли среди данных дубли:"
   ]
  },
  {
   "cell_type": "code",
   "execution_count": 99,
   "metadata": {},
   "outputs": [
    {
     "name": "stdout",
     "output_type": "stream",
     "text": [
      "Число полных дублей для региона №0: 0\n",
      "Число полных дублей для региона №1: 0\n",
      "Число полных дублей для региона №2: 0\n"
     ]
    }
   ],
   "source": [
    "for i in range(REGIONS_COUNT):\n",
    "    print(f'Число полных дублей для региона №{i}: {dfs[i].duplicated().sum()}')"
   ]
  },
  {
   "cell_type": "markdown",
   "metadata": {},
   "source": [
    "Видим, что полных дублей в данных нет ни для одного региона из трёх. Однако прежде чем успокоиться на этом, попробуем также узнать, если в наборе данных дубли только по полю с уникальным идентификатором скважины (`id`):"
   ]
  },
  {
   "cell_type": "code",
   "execution_count": 100,
   "metadata": {},
   "outputs": [
    {
     "name": "stdout",
     "output_type": "stream",
     "text": [
      "Число дублей по полю \"id\" для региона №0: 10\n",
      "Число дублей по полю \"id\" для региона №1: 4\n",
      "Число дублей по полю \"id\" для региона №2: 4\n"
     ]
    }
   ],
   "source": [
    "for i in range(REGIONS_COUNT):\n",
    "    print(f'Число дублей по полю \"id\" для региона №{i}: {dfs[i].duplicated(subset=[\"id\"]).sum()}')"
   ]
  },
  {
   "cell_type": "markdown",
   "metadata": {},
   "source": [
    "И мы видим, что дубли присутствуют. Их очень мало в сравнении с объёмом всего набора данных, тем не менее попробуем от них избавиться.\n",
    "\n",
    "Самым простым решением могло бы быть удаление повторов с сохранением только какой-то одной записи из дублирующихся. Однако, если принять во внимание возможную причину появления таких дублей - повторная геологоразведка одной и той же скважины дважды (или более раз), которая (_возможно_) могла бы привести к получение немного разных показателей для каждой из проб. Если это так, то выглядит разумным использование единственной записи для повтроно пробированной скважины с усреднёнными значениями каждого из показателей скважины (`f0`, `f1`, `f2`, `product`) по всем её пробам.\n",
    "\n",
    "Напишем вспомогательную фунцию, которая поможет реализовать то, что было описано выше:"
   ]
  },
  {
   "cell_type": "code",
   "execution_count": 101,
   "metadata": {},
   "outputs": [
    {
     "name": "stdout",
     "output_type": "stream",
     "text": [
      "Дублирующиеся \"id\":\n"
     ]
    },
    {
     "data": {
      "text/html": [
       "<div>\n",
       "<style scoped>\n",
       "    .dataframe tbody tr th:only-of-type {\n",
       "        vertical-align: middle;\n",
       "    }\n",
       "\n",
       "    .dataframe tbody tr th {\n",
       "        vertical-align: top;\n",
       "    }\n",
       "\n",
       "    .dataframe thead th {\n",
       "        text-align: right;\n",
       "    }\n",
       "</style>\n",
       "<table border=\"1\" class=\"dataframe\">\n",
       "  <thead>\n",
       "    <tr style=\"text-align: right;\">\n",
       "      <th></th>\n",
       "      <th>id</th>\n",
       "    </tr>\n",
       "  </thead>\n",
       "  <tbody>\n",
       "    <tr>\n",
       "      <th>7530</th>\n",
       "      <td>HZww2</td>\n",
       "    </tr>\n",
       "    <tr>\n",
       "      <th>41724</th>\n",
       "      <td>bxg6G</td>\n",
       "    </tr>\n",
       "    <tr>\n",
       "      <th>51970</th>\n",
       "      <td>A5aEY</td>\n",
       "    </tr>\n",
       "    <tr>\n",
       "      <th>63593</th>\n",
       "      <td>QcMuo</td>\n",
       "    </tr>\n",
       "    <tr>\n",
       "      <th>66136</th>\n",
       "      <td>74z30</td>\n",
       "    </tr>\n",
       "    <tr>\n",
       "      <th>69163</th>\n",
       "      <td>AGS9W</td>\n",
       "    </tr>\n",
       "    <tr>\n",
       "      <th>75715</th>\n",
       "      <td>Tdehs</td>\n",
       "    </tr>\n",
       "    <tr>\n",
       "      <th>90815</th>\n",
       "      <td>fiKDv</td>\n",
       "    </tr>\n",
       "    <tr>\n",
       "      <th>92341</th>\n",
       "      <td>TtcGQ</td>\n",
       "    </tr>\n",
       "    <tr>\n",
       "      <th>97785</th>\n",
       "      <td>bsk9y</td>\n",
       "    </tr>\n",
       "  </tbody>\n",
       "</table>\n",
       "</div>"
      ],
      "text/plain": [
       "          id\n",
       "7530   HZww2\n",
       "41724  bxg6G\n",
       "51970  A5aEY\n",
       "63593  QcMuo\n",
       "66136  74z30\n",
       "69163  AGS9W\n",
       "75715  Tdehs\n",
       "90815  fiKDv\n",
       "92341  TtcGQ\n",
       "97785  bsk9y"
      ]
     },
     "metadata": {},
     "output_type": "display_data"
    },
    {
     "name": "stdout",
     "output_type": "stream",
     "text": [
      "Берём некоторый \"id\" среди дублировавшихся:\n"
     ]
    },
    {
     "data": {
      "text/plain": [
       "'HZww2'"
      ]
     },
     "metadata": {},
     "output_type": "display_data"
    },
    {
     "name": "stdout",
     "output_type": "stream",
     "text": [
      "Смотрим дублирующиеся записи для него:\n"
     ]
    },
    {
     "data": {
      "text/html": [
       "<div>\n",
       "<style scoped>\n",
       "    .dataframe tbody tr th:only-of-type {\n",
       "        vertical-align: middle;\n",
       "    }\n",
       "\n",
       "    .dataframe tbody tr th {\n",
       "        vertical-align: top;\n",
       "    }\n",
       "\n",
       "    .dataframe thead th {\n",
       "        text-align: right;\n",
       "    }\n",
       "</style>\n",
       "<table border=\"1\" class=\"dataframe\">\n",
       "  <thead>\n",
       "    <tr style=\"text-align: right;\">\n",
       "      <th></th>\n",
       "      <th>id</th>\n",
       "      <th>f0</th>\n",
       "      <th>f1</th>\n",
       "      <th>f2</th>\n",
       "      <th>product</th>\n",
       "    </tr>\n",
       "  </thead>\n",
       "  <tbody>\n",
       "    <tr>\n",
       "      <th>931</th>\n",
       "      <td>HZww2</td>\n",
       "      <td>0.755284</td>\n",
       "      <td>0.368511</td>\n",
       "      <td>1.863211</td>\n",
       "      <td>30.681774</td>\n",
       "    </tr>\n",
       "    <tr>\n",
       "      <th>7530</th>\n",
       "      <td>HZww2</td>\n",
       "      <td>1.061194</td>\n",
       "      <td>-0.373969</td>\n",
       "      <td>10.430210</td>\n",
       "      <td>158.828695</td>\n",
       "    </tr>\n",
       "  </tbody>\n",
       "</table>\n",
       "</div>"
      ],
      "text/plain": [
       "         id        f0        f1         f2     product\n",
       "931   HZww2  0.755284  0.368511   1.863211   30.681774\n",
       "7530  HZww2  1.061194 -0.373969  10.430210  158.828695"
      ]
     },
     "metadata": {},
     "output_type": "display_data"
    },
    {
     "name": "stdout",
     "output_type": "stream",
     "text": [
      "Создаём группировку по всем полям таблицы кроме \"id\", смотрим получившуюся запись для нашего id:\n"
     ]
    },
    {
     "data": {
      "text/html": [
       "<div>\n",
       "<style scoped>\n",
       "    .dataframe tbody tr th:only-of-type {\n",
       "        vertical-align: middle;\n",
       "    }\n",
       "\n",
       "    .dataframe tbody tr th {\n",
       "        vertical-align: top;\n",
       "    }\n",
       "\n",
       "    .dataframe thead th {\n",
       "        text-align: right;\n",
       "    }\n",
       "</style>\n",
       "<table border=\"1\" class=\"dataframe\">\n",
       "  <thead>\n",
       "    <tr style=\"text-align: right;\">\n",
       "      <th></th>\n",
       "      <th>id</th>\n",
       "      <th>f0</th>\n",
       "      <th>f1</th>\n",
       "      <th>f2</th>\n",
       "      <th>product</th>\n",
       "    </tr>\n",
       "  </thead>\n",
       "  <tbody>\n",
       "    <tr>\n",
       "      <th>28446</th>\n",
       "      <td>HZww2</td>\n",
       "      <td>0.908239</td>\n",
       "      <td>-0.002729</td>\n",
       "      <td>6.146711</td>\n",
       "      <td>94.755235</td>\n",
       "    </tr>\n",
       "  </tbody>\n",
       "</table>\n",
       "</div>"
      ],
      "text/plain": [
       "          id        f0        f1        f2    product\n",
       "28446  HZww2  0.908239 -0.002729  6.146711  94.755235"
      ]
     },
     "metadata": {},
     "output_type": "display_data"
    },
    {
     "name": "stdout",
     "output_type": "stream",
     "text": [
      "Оставляем в нашей группировке только строки с теми \"id\", которые дублировались:\n"
     ]
    },
    {
     "data": {
      "text/html": [
       "<div>\n",
       "<style scoped>\n",
       "    .dataframe tbody tr th:only-of-type {\n",
       "        vertical-align: middle;\n",
       "    }\n",
       "\n",
       "    .dataframe tbody tr th {\n",
       "        vertical-align: top;\n",
       "    }\n",
       "\n",
       "    .dataframe thead th {\n",
       "        text-align: right;\n",
       "    }\n",
       "</style>\n",
       "<table border=\"1\" class=\"dataframe\">\n",
       "  <thead>\n",
       "    <tr style=\"text-align: right;\">\n",
       "      <th></th>\n",
       "      <th>id</th>\n",
       "      <th>f0</th>\n",
       "      <th>f1</th>\n",
       "      <th>f2</th>\n",
       "      <th>product</th>\n",
       "    </tr>\n",
       "  </thead>\n",
       "  <tbody>\n",
       "    <tr>\n",
       "      <th>11459</th>\n",
       "      <td>74z30</td>\n",
       "      <td>0.913209</td>\n",
       "      <td>0.073436</td>\n",
       "      <td>6.071940</td>\n",
       "      <td>134.207410</td>\n",
       "    </tr>\n",
       "    <tr>\n",
       "      <th>16375</th>\n",
       "      <td>A5aEY</td>\n",
       "      <td>-0.110142</td>\n",
       "      <td>0.546210</td>\n",
       "      <td>-0.942456</td>\n",
       "      <td>61.134785</td>\n",
       "    </tr>\n",
       "    <tr>\n",
       "      <th>16646</th>\n",
       "      <td>AGS9W</td>\n",
       "      <td>0.260476</td>\n",
       "      <td>-0.181729</td>\n",
       "      <td>-1.486258</td>\n",
       "      <td>72.800479</td>\n",
       "    </tr>\n",
       "    <tr>\n",
       "      <th>28446</th>\n",
       "      <td>HZww2</td>\n",
       "      <td>0.908239</td>\n",
       "      <td>-0.002729</td>\n",
       "      <td>6.146711</td>\n",
       "      <td>94.755235</td>\n",
       "    </tr>\n",
       "    <tr>\n",
       "      <th>43066</th>\n",
       "      <td>QcMuo</td>\n",
       "      <td>0.571099</td>\n",
       "      <td>-0.398598</td>\n",
       "      <td>-0.676457</td>\n",
       "      <td>70.037589</td>\n",
       "    </tr>\n",
       "    <tr>\n",
       "      <th>47844</th>\n",
       "      <td>Tdehs</td>\n",
       "      <td>0.470743</td>\n",
       "      <td>0.364552</td>\n",
       "      <td>1.584715</td>\n",
       "      <td>78.499663</td>\n",
       "    </tr>\n",
       "    <tr>\n",
       "      <th>48255</th>\n",
       "      <td>TtcGQ</td>\n",
       "      <td>0.339993</td>\n",
       "      <td>0.458906</td>\n",
       "      <td>3.675798</td>\n",
       "      <td>93.334097</td>\n",
       "    </tr>\n",
       "    <tr>\n",
       "      <th>61070</th>\n",
       "      <td>bsk9y</td>\n",
       "      <td>0.388668</td>\n",
       "      <td>-0.197208</td>\n",
       "      <td>5.141602</td>\n",
       "      <td>162.035190</td>\n",
       "    </tr>\n",
       "    <tr>\n",
       "      <th>61187</th>\n",
       "      <td>bxg6G</td>\n",
       "      <td>-0.206053</td>\n",
       "      <td>0.701574</td>\n",
       "      <td>-0.011480</td>\n",
       "      <td>83.306029</td>\n",
       "    </tr>\n",
       "    <tr>\n",
       "      <th>67248</th>\n",
       "      <td>fiKDv</td>\n",
       "      <td>0.103612</td>\n",
       "      <td>0.934836</td>\n",
       "      <td>5.990099</td>\n",
       "      <td>116.582238</td>\n",
       "    </tr>\n",
       "  </tbody>\n",
       "</table>\n",
       "</div>"
      ],
      "text/plain": [
       "          id        f0        f1        f2     product\n",
       "11459  74z30  0.913209  0.073436  6.071940  134.207410\n",
       "16375  A5aEY -0.110142  0.546210 -0.942456   61.134785\n",
       "16646  AGS9W  0.260476 -0.181729 -1.486258   72.800479\n",
       "28446  HZww2  0.908239 -0.002729  6.146711   94.755235\n",
       "43066  QcMuo  0.571099 -0.398598 -0.676457   70.037589\n",
       "47844  Tdehs  0.470743  0.364552  1.584715   78.499663\n",
       "48255  TtcGQ  0.339993  0.458906  3.675798   93.334097\n",
       "61070  bsk9y  0.388668 -0.197208  5.141602  162.035190\n",
       "61187  bxg6G -0.206053  0.701574 -0.011480   83.306029\n",
       "67248  fiKDv  0.103612  0.934836  5.990099  116.582238"
      ]
     },
     "metadata": {},
     "output_type": "display_data"
    },
    {
     "name": "stdout",
     "output_type": "stream",
     "text": [
      "Добавляем то, что осталось в группировке (аппендикс) в исходный набор, смотрим на него:\n"
     ]
    },
    {
     "data": {
      "text/html": [
       "<div>\n",
       "<style scoped>\n",
       "    .dataframe tbody tr th:only-of-type {\n",
       "        vertical-align: middle;\n",
       "    }\n",
       "\n",
       "    .dataframe tbody tr th {\n",
       "        vertical-align: top;\n",
       "    }\n",
       "\n",
       "    .dataframe thead th {\n",
       "        text-align: right;\n",
       "    }\n",
       "</style>\n",
       "<table border=\"1\" class=\"dataframe\">\n",
       "  <thead>\n",
       "    <tr style=\"text-align: right;\">\n",
       "      <th></th>\n",
       "      <th>id</th>\n",
       "      <th>f0</th>\n",
       "      <th>f1</th>\n",
       "      <th>f2</th>\n",
       "      <th>product</th>\n",
       "    </tr>\n",
       "  </thead>\n",
       "  <tbody>\n",
       "    <tr>\n",
       "      <th>0</th>\n",
       "      <td>txEyH</td>\n",
       "      <td>0.705745</td>\n",
       "      <td>-0.497823</td>\n",
       "      <td>1.221170</td>\n",
       "      <td>105.280062</td>\n",
       "    </tr>\n",
       "    <tr>\n",
       "      <th>1</th>\n",
       "      <td>2acmU</td>\n",
       "      <td>1.334711</td>\n",
       "      <td>-0.340164</td>\n",
       "      <td>4.365080</td>\n",
       "      <td>73.037750</td>\n",
       "    </tr>\n",
       "    <tr>\n",
       "      <th>2</th>\n",
       "      <td>409Wp</td>\n",
       "      <td>1.022732</td>\n",
       "      <td>0.151990</td>\n",
       "      <td>1.419926</td>\n",
       "      <td>85.265647</td>\n",
       "    </tr>\n",
       "    <tr>\n",
       "      <th>3</th>\n",
       "      <td>iJLyR</td>\n",
       "      <td>-0.032172</td>\n",
       "      <td>0.139033</td>\n",
       "      <td>2.978566</td>\n",
       "      <td>168.620776</td>\n",
       "    </tr>\n",
       "    <tr>\n",
       "      <th>4</th>\n",
       "      <td>Xdl7t</td>\n",
       "      <td>1.988431</td>\n",
       "      <td>0.155413</td>\n",
       "      <td>4.751769</td>\n",
       "      <td>154.036647</td>\n",
       "    </tr>\n",
       "    <tr>\n",
       "      <th>...</th>\n",
       "      <td>...</td>\n",
       "      <td>...</td>\n",
       "      <td>...</td>\n",
       "      <td>...</td>\n",
       "      <td>...</td>\n",
       "    </tr>\n",
       "    <tr>\n",
       "      <th>47844</th>\n",
       "      <td>Tdehs</td>\n",
       "      <td>0.470743</td>\n",
       "      <td>0.364552</td>\n",
       "      <td>1.584715</td>\n",
       "      <td>78.499663</td>\n",
       "    </tr>\n",
       "    <tr>\n",
       "      <th>48255</th>\n",
       "      <td>TtcGQ</td>\n",
       "      <td>0.339993</td>\n",
       "      <td>0.458906</td>\n",
       "      <td>3.675798</td>\n",
       "      <td>93.334097</td>\n",
       "    </tr>\n",
       "    <tr>\n",
       "      <th>61070</th>\n",
       "      <td>bsk9y</td>\n",
       "      <td>0.388668</td>\n",
       "      <td>-0.197208</td>\n",
       "      <td>5.141602</td>\n",
       "      <td>162.035190</td>\n",
       "    </tr>\n",
       "    <tr>\n",
       "      <th>61187</th>\n",
       "      <td>bxg6G</td>\n",
       "      <td>-0.206053</td>\n",
       "      <td>0.701574</td>\n",
       "      <td>-0.011480</td>\n",
       "      <td>83.306029</td>\n",
       "    </tr>\n",
       "    <tr>\n",
       "      <th>67248</th>\n",
       "      <td>fiKDv</td>\n",
       "      <td>0.103612</td>\n",
       "      <td>0.934836</td>\n",
       "      <td>5.990099</td>\n",
       "      <td>116.582238</td>\n",
       "    </tr>\n",
       "  </tbody>\n",
       "</table>\n",
       "<p>100010 rows × 5 columns</p>\n",
       "</div>"
      ],
      "text/plain": [
       "          id        f0        f1        f2     product\n",
       "0      txEyH  0.705745 -0.497823  1.221170  105.280062\n",
       "1      2acmU  1.334711 -0.340164  4.365080   73.037750\n",
       "2      409Wp  1.022732  0.151990  1.419926   85.265647\n",
       "3      iJLyR -0.032172  0.139033  2.978566  168.620776\n",
       "4      Xdl7t  1.988431  0.155413  4.751769  154.036647\n",
       "...      ...       ...       ...       ...         ...\n",
       "47844  Tdehs  0.470743  0.364552  1.584715   78.499663\n",
       "48255  TtcGQ  0.339993  0.458906  3.675798   93.334097\n",
       "61070  bsk9y  0.388668 -0.197208  5.141602  162.035190\n",
       "61187  bxg6G -0.206053  0.701574 -0.011480   83.306029\n",
       "67248  fiKDv  0.103612  0.934836  5.990099  116.582238\n",
       "\n",
       "[100010 rows x 5 columns]"
      ]
     },
     "metadata": {},
     "output_type": "display_data"
    },
    {
     "name": "stdout",
     "output_type": "stream",
     "text": [
      "Выводим записи для нашего выбранного дублированного \"id\" (их должно быть больше двух):\n"
     ]
    },
    {
     "data": {
      "text/html": [
       "<div>\n",
       "<style scoped>\n",
       "    .dataframe tbody tr th:only-of-type {\n",
       "        vertical-align: middle;\n",
       "    }\n",
       "\n",
       "    .dataframe tbody tr th {\n",
       "        vertical-align: top;\n",
       "    }\n",
       "\n",
       "    .dataframe thead th {\n",
       "        text-align: right;\n",
       "    }\n",
       "</style>\n",
       "<table border=\"1\" class=\"dataframe\">\n",
       "  <thead>\n",
       "    <tr style=\"text-align: right;\">\n",
       "      <th></th>\n",
       "      <th>id</th>\n",
       "      <th>f0</th>\n",
       "      <th>f1</th>\n",
       "      <th>f2</th>\n",
       "      <th>product</th>\n",
       "    </tr>\n",
       "  </thead>\n",
       "  <tbody>\n",
       "    <tr>\n",
       "      <th>931</th>\n",
       "      <td>HZww2</td>\n",
       "      <td>0.755284</td>\n",
       "      <td>0.368511</td>\n",
       "      <td>1.863211</td>\n",
       "      <td>30.681774</td>\n",
       "    </tr>\n",
       "    <tr>\n",
       "      <th>7530</th>\n",
       "      <td>HZww2</td>\n",
       "      <td>1.061194</td>\n",
       "      <td>-0.373969</td>\n",
       "      <td>10.430210</td>\n",
       "      <td>158.828695</td>\n",
       "    </tr>\n",
       "    <tr>\n",
       "      <th>28446</th>\n",
       "      <td>HZww2</td>\n",
       "      <td>0.908239</td>\n",
       "      <td>-0.002729</td>\n",
       "      <td>6.146711</td>\n",
       "      <td>94.755235</td>\n",
       "    </tr>\n",
       "  </tbody>\n",
       "</table>\n",
       "</div>"
      ],
      "text/plain": [
       "          id        f0        f1         f2     product\n",
       "931    HZww2  0.755284  0.368511   1.863211   30.681774\n",
       "7530   HZww2  1.061194 -0.373969  10.430210  158.828695\n",
       "28446  HZww2  0.908239 -0.002729   6.146711   94.755235"
      ]
     },
     "metadata": {},
     "output_type": "display_data"
    },
    {
     "name": "stdout",
     "output_type": "stream",
     "text": [
      "Удаляем дубли в получившемся наборе, сохраняя при этом последнюю запись для дублей -\n",
      "            она хранит те самые средние значения по полям, которые мы хотели бы оставить:\n",
      "Выводим получившуюся в итоге таблицу, её размер:\n"
     ]
    },
    {
     "data": {
      "text/html": [
       "<div>\n",
       "<style scoped>\n",
       "    .dataframe tbody tr th:only-of-type {\n",
       "        vertical-align: middle;\n",
       "    }\n",
       "\n",
       "    .dataframe tbody tr th {\n",
       "        vertical-align: top;\n",
       "    }\n",
       "\n",
       "    .dataframe thead th {\n",
       "        text-align: right;\n",
       "    }\n",
       "</style>\n",
       "<table border=\"1\" class=\"dataframe\">\n",
       "  <thead>\n",
       "    <tr style=\"text-align: right;\">\n",
       "      <th></th>\n",
       "      <th>id</th>\n",
       "      <th>f0</th>\n",
       "      <th>f1</th>\n",
       "      <th>f2</th>\n",
       "      <th>product</th>\n",
       "    </tr>\n",
       "  </thead>\n",
       "  <tbody>\n",
       "    <tr>\n",
       "      <th>0</th>\n",
       "      <td>txEyH</td>\n",
       "      <td>0.705745</td>\n",
       "      <td>-0.497823</td>\n",
       "      <td>1.221170</td>\n",
       "      <td>105.280062</td>\n",
       "    </tr>\n",
       "    <tr>\n",
       "      <th>1</th>\n",
       "      <td>2acmU</td>\n",
       "      <td>1.334711</td>\n",
       "      <td>-0.340164</td>\n",
       "      <td>4.365080</td>\n",
       "      <td>73.037750</td>\n",
       "    </tr>\n",
       "    <tr>\n",
       "      <th>2</th>\n",
       "      <td>409Wp</td>\n",
       "      <td>1.022732</td>\n",
       "      <td>0.151990</td>\n",
       "      <td>1.419926</td>\n",
       "      <td>85.265647</td>\n",
       "    </tr>\n",
       "    <tr>\n",
       "      <th>3</th>\n",
       "      <td>iJLyR</td>\n",
       "      <td>-0.032172</td>\n",
       "      <td>0.139033</td>\n",
       "      <td>2.978566</td>\n",
       "      <td>168.620776</td>\n",
       "    </tr>\n",
       "    <tr>\n",
       "      <th>4</th>\n",
       "      <td>Xdl7t</td>\n",
       "      <td>1.988431</td>\n",
       "      <td>0.155413</td>\n",
       "      <td>4.751769</td>\n",
       "      <td>154.036647</td>\n",
       "    </tr>\n",
       "    <tr>\n",
       "      <th>...</th>\n",
       "      <td>...</td>\n",
       "      <td>...</td>\n",
       "      <td>...</td>\n",
       "      <td>...</td>\n",
       "      <td>...</td>\n",
       "    </tr>\n",
       "    <tr>\n",
       "      <th>47844</th>\n",
       "      <td>Tdehs</td>\n",
       "      <td>0.470743</td>\n",
       "      <td>0.364552</td>\n",
       "      <td>1.584715</td>\n",
       "      <td>78.499663</td>\n",
       "    </tr>\n",
       "    <tr>\n",
       "      <th>48255</th>\n",
       "      <td>TtcGQ</td>\n",
       "      <td>0.339993</td>\n",
       "      <td>0.458906</td>\n",
       "      <td>3.675798</td>\n",
       "      <td>93.334097</td>\n",
       "    </tr>\n",
       "    <tr>\n",
       "      <th>61070</th>\n",
       "      <td>bsk9y</td>\n",
       "      <td>0.388668</td>\n",
       "      <td>-0.197208</td>\n",
       "      <td>5.141602</td>\n",
       "      <td>162.035190</td>\n",
       "    </tr>\n",
       "    <tr>\n",
       "      <th>61187</th>\n",
       "      <td>bxg6G</td>\n",
       "      <td>-0.206053</td>\n",
       "      <td>0.701574</td>\n",
       "      <td>-0.011480</td>\n",
       "      <td>83.306029</td>\n",
       "    </tr>\n",
       "    <tr>\n",
       "      <th>67248</th>\n",
       "      <td>fiKDv</td>\n",
       "      <td>0.103612</td>\n",
       "      <td>0.934836</td>\n",
       "      <td>5.990099</td>\n",
       "      <td>116.582238</td>\n",
       "    </tr>\n",
       "  </tbody>\n",
       "</table>\n",
       "<p>99990 rows × 5 columns</p>\n",
       "</div>"
      ],
      "text/plain": [
       "          id        f0        f1        f2     product\n",
       "0      txEyH  0.705745 -0.497823  1.221170  105.280062\n",
       "1      2acmU  1.334711 -0.340164  4.365080   73.037750\n",
       "2      409Wp  1.022732  0.151990  1.419926   85.265647\n",
       "3      iJLyR -0.032172  0.139033  2.978566  168.620776\n",
       "4      Xdl7t  1.988431  0.155413  4.751769  154.036647\n",
       "...      ...       ...       ...       ...         ...\n",
       "47844  Tdehs  0.470743  0.364552  1.584715   78.499663\n",
       "48255  TtcGQ  0.339993  0.458906  3.675798   93.334097\n",
       "61070  bsk9y  0.388668 -0.197208  5.141602  162.035190\n",
       "61187  bxg6G -0.206053  0.701574 -0.011480   83.306029\n",
       "67248  fiKDv  0.103612  0.934836  5.990099  116.582238\n",
       "\n",
       "[99990 rows x 5 columns]"
      ]
     },
     "metadata": {},
     "output_type": "display_data"
    },
    {
     "name": "stdout",
     "output_type": "stream",
     "text": [
      "(99990, 5)\n",
      "Смотрим на записи, которые остались для нашего выбранного \"id\" (она должна быть одна):\n"
     ]
    },
    {
     "data": {
      "text/html": [
       "<div>\n",
       "<style scoped>\n",
       "    .dataframe tbody tr th:only-of-type {\n",
       "        vertical-align: middle;\n",
       "    }\n",
       "\n",
       "    .dataframe tbody tr th {\n",
       "        vertical-align: top;\n",
       "    }\n",
       "\n",
       "    .dataframe thead th {\n",
       "        text-align: right;\n",
       "    }\n",
       "</style>\n",
       "<table border=\"1\" class=\"dataframe\">\n",
       "  <thead>\n",
       "    <tr style=\"text-align: right;\">\n",
       "      <th></th>\n",
       "      <th>id</th>\n",
       "      <th>f0</th>\n",
       "      <th>f1</th>\n",
       "      <th>f2</th>\n",
       "      <th>product</th>\n",
       "    </tr>\n",
       "  </thead>\n",
       "  <tbody>\n",
       "    <tr>\n",
       "      <th>28446</th>\n",
       "      <td>HZww2</td>\n",
       "      <td>0.908239</td>\n",
       "      <td>-0.002729</td>\n",
       "      <td>6.146711</td>\n",
       "      <td>94.755235</td>\n",
       "    </tr>\n",
       "  </tbody>\n",
       "</table>\n",
       "</div>"
      ],
      "text/plain": [
       "          id        f0        f1        f2    product\n",
       "28446  HZww2  0.908239 -0.002729  6.146711  94.755235"
      ]
     },
     "metadata": {},
     "output_type": "display_data"
    }
   ],
   "source": [
    "def replace_duplicated_probes_with_mean(df, silent):\n",
    "    duplicated_ids = df[df.duplicated(subset=['id'])]['id']\n",
    "    if not silent:\n",
    "        print('Дублирующиеся \"id\":')\n",
    "        display(duplicated_ids.to_frame())\n",
    "        print('Берём некоторый \"id\" среди дублировавшихся:')\n",
    "    duplicated_id = duplicated_ids.iloc[0]\n",
    "    if not silent:\n",
    "        display(duplicated_id)\n",
    "        print('Смотрим дублирующиеся записи для него:')\n",
    "        display(df[df['id'] == duplicated_id])\n",
    "        print('Создаём группировку по всем полям таблицы кроме \"id\", смотрим получившуюся запись для нашего id:')\n",
    "    gb = df.groupby('id')[['f0', 'f1', 'f2', 'product']].mean().reset_index()\n",
    "    if not silent:\n",
    "        display(gb[gb['id'] == duplicated_id])\n",
    "    appendix = gb.query('id in(@duplicated_ids)')\n",
    "    if not silent:\n",
    "        print('Оставляем в нашей группировке только строки с теми \"id\", которые дублировались:')\n",
    "        display(appendix)\n",
    "        print('Добавляем то, что осталось в группировке (аппендикс) в исходный набор, смотрим на него:')\n",
    "    df_updated = df.append(appendix)\n",
    "    if not silent:\n",
    "        display(df_updated)\n",
    "        print('Выводим записи для нашего выбранного дублированного \"id\" (их должно быть больше двух):')\n",
    "        display(df_updated[df_updated['id'] == duplicated_id])\n",
    "        print('''Удаляем дубли в получившемся наборе, сохраняя при этом последнюю запись для дублей -\n",
    "            она хранит те самые средние значения по полям, которые мы хотели бы оставить:''')\n",
    "    df_updated = df_updated.drop_duplicates(subset=['id'], keep='last')\n",
    "    if not silent:\n",
    "        print('Выводим получившуюся в итоге таблицу, её размер:')\n",
    "        display(df_updated)\n",
    "        print(df_updated.shape)\n",
    "        print('Смотрим на записи, которые остались для нашего выбранного \"id\" (она должна быть одна):')\n",
    "        display(df_updated[df_updated['id'] == duplicated_id])\n",
    "    return df_updated\n",
    "\n",
    "dfs[0] = replace_duplicated_probes_with_mean(dfs[0], silent=False)"
   ]
  },
  {
   "cell_type": "markdown",
   "metadata": {},
   "source": [
    "Повторим эту же процедуру для двух остальных таблиц, разве что отключим вывод, чтобы не перегружать тетрадку:"
   ]
  },
  {
   "cell_type": "code",
   "execution_count": 102,
   "metadata": {},
   "outputs": [],
   "source": [
    "for i in range(1, REGIONS_COUNT):\n",
    "    dfs[i] = replace_duplicated_probes_with_mean(dfs[i], silent=True)"
   ]
  },
  {
   "cell_type": "markdown",
   "metadata": {},
   "source": [
    "Теперь выведем вместе размеры таблиц, а также убедимся, что дублей по полю уникального идентификатора скважины (`id`) не осталось:"
   ]
  },
  {
   "cell_type": "code",
   "execution_count": 103,
   "metadata": {},
   "outputs": [
    {
     "name": "stdout",
     "output_type": "stream",
     "text": [
      "(99990, 5)\n",
      "Число дублей по полю \"id\" для региона №0: 0\n",
      "(99996, 5)\n",
      "Число дублей по полю \"id\" для региона №1: 0\n",
      "(99996, 5)\n",
      "Число дублей по полю \"id\" для региона №2: 0\n"
     ]
    }
   ],
   "source": [
    "for i in range(REGIONS_COUNT):\n",
    "    print(dfs[i].shape)\n",
    "    print(f'Число дублей по полю \"id\" для региона №{i}: {dfs[i].duplicated(subset=[\"id\"]).sum()}')"
   ]
  },
  {
   "cell_type": "markdown",
   "metadata": {},
   "source": [
    "В целом, безусловно, количество дублей по полю `id` было крайне невелико, поэтому реализованная выше процедура их устранения может выглядеть как не стоящая вложенных в неё усилий. Можно рассмотреть её разве что как дополнительную практику по Python/pandas для закрепления навыков."
   ]
  },
  {
   "cell_type": "markdown",
   "metadata": {},
   "source": [
    "## Обучение и проверка модели\n",
    "\n",
    "### 2. Обучите и проверьте модель для каждого региона:\n",
    "#### 2.1. Разбейте данные на обучающую и валидационную выборки в соотношении 75:25.\n",
    "#### 2.2. Обучите модель и сделайте предсказания на валидационной выборке.\n",
    "#### 2.3. Сохраните предсказания и правильные ответы на валидационной выборке."
   ]
  },
  {
   "cell_type": "code",
   "execution_count": 104,
   "metadata": {},
   "outputs": [],
   "source": [
    "def train_predict_for_region(df):\n",
    "    features = df.drop(['id', 'product'], axis=1)\n",
    "    target = df['product']\n",
    "    \n",
    "    features_train, features_valid, target_train, target_valid = train_test_split(features,\n",
    "                                                                                  target,\n",
    "                                                                                  random_state=12345)\n",
    "    model = LinearRegression()\n",
    "    model.fit(features_train, target_train)\n",
    "    \n",
    "    predictions_valid = model.predict(features_valid)\n",
    "    return target_valid, predictions_valid\n",
    "\n",
    "def measure_quality_on_valid_for_region(target_valid, predictions_valid):\n",
    "    rmse = np.sqrt(mean_squared_error(target_valid, predictions_valid))\n",
    "    mean_predicted_product = sum(predictions_valid) / len(predictions_valid)\n",
    "    return rmse, mean_predicted_product\n",
    "\n",
    "KEY_TARGETS = 'target_valid'\n",
    "KEY_PREDICTIONS = 'predictions_valid'\n",
    "KEY_RMSE = 'rmse'\n",
    "KEY_MEAN_PREDICTED_PRODUCT = 'mean_predicted_product'\n",
    "KEY_MEAN_BOOTSTRAPPED_INCOME = 'mean_bootstrapped_income'\n",
    "KEY_CONFIDENCE_INTERVAL = 'confidence_interval'\n",
    "KEY_LOSS_RISK = 'loss_risk'\n",
    "\n",
    "region_results = []\n",
    "\n",
    "for i in range(REGIONS_COUNT):\n",
    "    region_result = {}\n",
    "    \n",
    "    target_valid, predictions_valid = train_predict_for_region(dfs[i])\n",
    "    rmse, mean_predicted_product = measure_quality_on_valid_for_region(target_valid, predictions_valid)\n",
    "    \n",
    "    target_valid = target_valid.reset_index(drop=True)\n",
    "    predictions_valid = pd.Series(predictions_valid)\n",
    "\n",
    "    region_result[KEY_TARGETS] = target_valid\n",
    "    region_result[KEY_PREDICTIONS] = pd.Series(predictions_valid)\n",
    "    region_result[KEY_RMSE] = rmse\n",
    "    region_result[KEY_MEAN_PREDICTED_PRODUCT] = mean_predicted_product\n",
    "    \n",
    "    region_results.append(region_result)"
   ]
  },
  {
   "cell_type": "markdown",
   "metadata": {},
   "source": [
    "#### 2.4. Напечатайте на экране средний запас предсказанного сырья и RMSE модели"
   ]
  },
  {
   "cell_type": "code",
   "execution_count": 105,
   "metadata": {},
   "outputs": [
    {
     "name": "stdout",
     "output_type": "stream",
     "text": [
      "------------------------------------------------------\n",
      "Результаты для региона №0 на валидационной выборке:\n",
      "------------------------------------------------------\n",
      "RMSE модели                        : 37.596292172424036\n",
      "Средний запас предсказанного сырья : 92.26909373260747\n",
      "\n",
      "------------------------------------------------------\n",
      "Результаты для региона №1 на валидационной выборке:\n",
      "------------------------------------------------------\n",
      "RMSE модели                        : 0.8901712829734965\n",
      "Средний запас предсказанного сырья : 68.72565656924304\n",
      "\n",
      "------------------------------------------------------\n",
      "Результаты для региона №2 на валидационной выборке:\n",
      "------------------------------------------------------\n",
      "RMSE модели                        : 40.15018763637819\n",
      "Средний запас предсказанного сырья : 95.04994858742441\n",
      "\n"
     ]
    }
   ],
   "source": [
    "model_results_dict = {}\n",
    "model_results_dict['Номер региона'] = []\n",
    "model_results_dict['Средний запас предсказанного сырья'] = []\n",
    "model_results_dict['RMSE модели'] = []\n",
    "\n",
    "for i in range(REGIONS_COUNT):\n",
    "    model_results_dict['Номер региона'].append(i)\n",
    "    model_results_dict['Средний запас предсказанного сырья'].append(\n",
    "        region_results[i][KEY_MEAN_PREDICTED_PRODUCT])\n",
    "    model_results_dict['RMSE модели'].append(region_results[i][KEY_RMSE])\n",
    "    \n",
    "    print('------------------------------------------------------')\n",
    "    print(f'Результаты для региона №{i} на валидационной выборке:')\n",
    "    print('------------------------------------------------------')\n",
    "    print(f'RMSE модели                        : {region_results[i][KEY_RMSE]}')\n",
    "    print(f'Средний запас предсказанного сырья : {region_results[i][KEY_MEAN_PREDICTED_PRODUCT]}')\n",
    "    print()"
   ]
  },
  {
   "cell_type": "markdown",
   "metadata": {},
   "source": [
    "Также выведем результаты в виде таблицы:"
   ]
  },
  {
   "cell_type": "code",
   "execution_count": 106,
   "metadata": {},
   "outputs": [
    {
     "data": {
      "text/html": [
       "<div>\n",
       "<style scoped>\n",
       "    .dataframe tbody tr th:only-of-type {\n",
       "        vertical-align: middle;\n",
       "    }\n",
       "\n",
       "    .dataframe tbody tr th {\n",
       "        vertical-align: top;\n",
       "    }\n",
       "\n",
       "    .dataframe thead th {\n",
       "        text-align: right;\n",
       "    }\n",
       "</style>\n",
       "<table border=\"1\" class=\"dataframe\">\n",
       "  <thead>\n",
       "    <tr style=\"text-align: right;\">\n",
       "      <th></th>\n",
       "      <th>Средний запас предсказанного сырья</th>\n",
       "      <th>RMSE модели</th>\n",
       "    </tr>\n",
       "    <tr>\n",
       "      <th>Номер региона</th>\n",
       "      <th></th>\n",
       "      <th></th>\n",
       "    </tr>\n",
       "  </thead>\n",
       "  <tbody>\n",
       "    <tr>\n",
       "      <th>0</th>\n",
       "      <td>92.269094</td>\n",
       "      <td>37.596292</td>\n",
       "    </tr>\n",
       "    <tr>\n",
       "      <th>1</th>\n",
       "      <td>68.725657</td>\n",
       "      <td>0.890171</td>\n",
       "    </tr>\n",
       "    <tr>\n",
       "      <th>2</th>\n",
       "      <td>95.049949</td>\n",
       "      <td>40.150188</td>\n",
       "    </tr>\n",
       "  </tbody>\n",
       "</table>\n",
       "</div>"
      ],
      "text/plain": [
       "               Средний запас предсказанного сырья  RMSE модели\n",
       "Номер региона                                                 \n",
       "0                                       92.269094    37.596292\n",
       "1                                       68.725657     0.890171\n",
       "2                                       95.049949    40.150188"
      ]
     },
     "metadata": {},
     "output_type": "display_data"
    }
   ],
   "source": [
    "model_results_df = pd.DataFrame(model_results_dict).set_index('Номер региона')\n",
    "display(model_results_df)"
   ]
  },
  {
   "cell_type": "markdown",
   "metadata": {},
   "source": [
    "#### 2.5. Проанализируйте результаты."
   ]
  },
  {
   "cell_type": "markdown",
   "metadata": {},
   "source": [
    "Можно видеть, что наиболее перспективным с точки зрения предсказанного сырья выглядит регион №2 (значение `95.04`), но в то же время именно у этого региона наблюдается и наиболее большая ошибка по RMSE-метрике.\n",
    "\n",
    "Одновременно с этим наименее перспективный по предсказанному сырью регион №1 имеет самую маленькую RMSE-ошибку, причём её значение `0.89` существенно меньше значений ошибки для двух остальных регионов (`37.59` для региона №0 и `40.15` для региона №2)."
   ]
  },
  {
   "cell_type": "markdown",
   "metadata": {},
   "source": [
    "## Подготовка к расчёту прибыли\n",
    "### 3. Подготовьтесь к расчёту прибыли:\n",
    "#### 3.1. Все ключевые значения для расчётов сохраните в отдельных переменных."
   ]
  },
  {
   "cell_type": "code",
   "execution_count": 107,
   "metadata": {},
   "outputs": [],
   "source": [
    "# Бюджет на разработку скважин в регионе — 10 млрд рублей\n",
    "BUDGET = 10_000_000_000\n",
    "\n",
    "# Доход с каждой единицы продукта составляет 450 тыс. рублей, поскольку объём указан в тысячах баррелей\n",
    "INCOME_PER_PRODUCT_UNIT = 450_000\n",
    "\n",
    "# При разведке региона исследуют 500 точек ...\n",
    "SCOUTING_LOCATIONS_COUNT = 500\n",
    "\n",
    "# ... из которых с помощью машинного обучения выбирают 200 лучших для разработки\n",
    "BEST_LOCATIONS_COUNT = 200\n",
    "\n",
    "# Примените технику Bootstrap с 1000 выборок\n",
    "BOOTSTRAPPED_SAMPLES_COUNT = 1_000"
   ]
  },
  {
   "cell_type": "markdown",
   "metadata": {},
   "source": [
    "#### 3.2. Рассчитайте достаточный объём сырья для безубыточной разработки новой скважины. Сравните полученный объём сырья со средним запасом в каждом регионе."
   ]
  },
  {
   "cell_type": "markdown",
   "metadata": {},
   "source": [
    "Поделив бюджет региона (`BUDGET`) на доход с одной единицы продукта (тысячах баррелей, `INCOME_PER_PRODUCT_UNIT`), получим тот объём единиц продукта, который необходимо получить в регионе, чтобы обеспечить безубыточную разработку и покрыть бюджет:"
   ]
  },
  {
   "cell_type": "code",
   "execution_count": 108,
   "metadata": {},
   "outputs": [
    {
     "name": "stdout",
     "output_type": "stream",
     "text": [
      "22222.2\n"
     ]
    }
   ],
   "source": [
    "PRODUCT_UNITS_AMOUNT_FOR_BREAKTHROUGH = round((BUDGET / INCOME_PER_PRODUCT_UNIT), 1)\n",
    "print(PRODUCT_UNITS_AMOUNT_FOR_BREAKTHROUGH)"
   ]
  },
  {
   "cell_type": "markdown",
   "metadata": {},
   "source": [
    "Итак, нам необходимо обеспечить добычу как минимум `22222.2` тысяч баррелей, чтобы обеспечить безубыточность добычи в регионе. Тамже нам известно, что для разработки будет выбрано `200` наиболее перспективных точек (`BEST_LOCATIONS_COUNT`), и поделив необходимое для безубыточной добычи количество сырья на число точек для разработки, получим то **среднее** количество сырья, которое должна обеспечить одна скважина:"
   ]
  },
  {
   "cell_type": "code",
   "execution_count": 109,
   "metadata": {},
   "outputs": [
    {
     "name": "stdout",
     "output_type": "stream",
     "text": [
      "111.1\n"
     ]
    }
   ],
   "source": [
    "PRODUCT_UNITS_AMOUNT_PER_WELL = round((PRODUCT_UNITS_AMOUNT_FOR_BREAKTHROUGH / BEST_LOCATIONS_COUNT), 1)\n",
    "print(PRODUCT_UNITS_AMOUNT_PER_WELL)"
   ]
  },
  {
   "cell_type": "markdown",
   "metadata": {},
   "source": [
    "Таким образом, среднее количество сырья для безубыточного функционирования скважины - `111.1` единиц (тысяч баррелей).\n",
    "\n",
    "#### 3.3. Напишите выводы по этапу подготовки расчёта прибыли.\n",
    "\n",
    "Сравнивая данное значение со средним запасом предсказанного сырья по каждому из наших 3 регионов ...\n",
    "\n",
    "- `92.2` единиц, регион №0;\n",
    "- `68.7` единиц, регион №1;\n",
    "- `95.0` единиц, регион №2\n",
    "\n",
    "... можно сделать вывод о том, что **ни в одном из регионов средний объём предсказанного сырья не достигает среднего значения для безубыточного функционирования**."
   ]
  },
  {
   "cell_type": "markdown",
   "metadata": {},
   "source": [
    "### 4. Напишите функцию для расчёта прибыли по выбранным скважинам и предсказаниям модели:\n",
    "#### 4.1. Выберите скважины с максимальными значениями предсказаний.\n",
    "#### 4.2. Просуммируйте целевое значение объёма сырья, соответствующее этим предсказаниям.\n",
    "#### 4.3. Рассчитайте прибыль для полученного объёма сырья."
   ]
  },
  {
   "cell_type": "code",
   "execution_count": 110,
   "metadata": {},
   "outputs": [],
   "source": [
    "def calculate_income(target, predicted):\n",
    "    sorted_predicted = predicted.sort_values(ascending=False)\n",
    "    target_sorted = target[sorted_predicted.index][:BEST_LOCATIONS_COUNT]\n",
    "    revenue = INCOME_PER_PRODUCT_UNIT * sum(target_sorted)\n",
    "    return revenue - BUDGET"
   ]
  },
  {
   "cell_type": "markdown",
   "metadata": {},
   "source": [
    "## Расчёт прибыли и рисков \n",
    "\n",
    "### 5. Посчитайте риски и прибыль для каждого региона:\n",
    "\n",
    "#### 5.1. Примените технику Bootstrap с 1000 выборок, чтобы найти распределение прибыли.\n",
    "#### 5.2. Найдите среднюю прибыль, 95%-й доверительный интервал и риск убытков. Убыток — это отрицательная прибыль."
   ]
  },
  {
   "cell_type": "markdown",
   "metadata": {},
   "source": [
    "Напишем вспомогательную функцию `bootstrap_income_distribution_for_region()`, которая по переданному индексу региона будет строить распределение прибыли с применением Bootstrap'а, а затем подсчитывать нужные показатели:"
   ]
  },
  {
   "cell_type": "code",
   "execution_count": 111,
   "metadata": {},
   "outputs": [],
   "source": [
    "state = np.random.RandomState(12345)\n",
    "\n",
    "def bootstrap_income_distribution_for_region(region_index):\n",
    "    region_result = region_results[region_index]\n",
    "    region_target = region_result[KEY_TARGETS]\n",
    "    region_predictions = region_result[KEY_PREDICTIONS]\n",
    "    \n",
    "    bootstrap_samples_incomes_list = []\n",
    "    for i in range(BOOTSTRAPPED_SAMPLES_COUNT):\n",
    "        bootstrap_sample_target = region_target.sample(n=SCOUTING_LOCATIONS_COUNT,\n",
    "                                                       replace=True,\n",
    "                                                       random_state=state)\n",
    "        bootstrap_sample_predictions = region_predictions[bootstrap_sample_target.index]\n",
    "        bootstrap_sample_income = calculate_income(bootstrap_sample_target, bootstrap_sample_predictions)\n",
    "        bootstrap_samples_incomes_list.append(bootstrap_sample_income)\n",
    "\n",
    "    bootstrap_samples_incomes = pd.Series(bootstrap_samples_incomes_list)\n",
    "    region_incomes_mean = bootstrap_samples_incomes.mean()\n",
    "    lower_bound = bootstrap_samples_incomes.quantile(q=0.025)\n",
    "    upper_bound = bootstrap_samples_incomes.quantile(q=0.975)\n",
    "    loss_risk = sum(1 if x < 0 else 0 for x in bootstrap_samples_incomes) / BOOTSTRAPPED_SAMPLES_COUNT\n",
    "    \n",
    "    mean_str = f'{region_incomes_mean:.2f}'\n",
    "    interval_str = f'[{lower_bound:.2f}, {upper_bound:.2f}]'\n",
    "    loss_risk_percent_str = f'{loss_risk:.2%}'\n",
    "    \n",
    "    region_result[KEY_MEAN_BOOTSTRAPPED_INCOME] = mean_str\n",
    "    region_result[KEY_CONFIDENCE_INTERVAL] = interval_str\n",
    "    region_result[KEY_LOSS_RISK] = loss_risk_percent_str"
   ]
  },
  {
   "cell_type": "markdown",
   "metadata": {},
   "source": [
    "Теперь в цикле вызовем нашу функцию для каждого из регионов, напечатаем результаты и сохраним их во вспомогательный словарь для последующего построения таблицы:"
   ]
  },
  {
   "cell_type": "code",
   "execution_count": 112,
   "metadata": {},
   "outputs": [
    {
     "name": "stdout",
     "output_type": "stream",
     "text": [
      "Результаты для региона №0:\n",
      "445340183.59\n",
      "[-83990482.69, 987188278.10]\n",
      "5.80%\n",
      "\n",
      "Результаты для региона №1:\n",
      "517287870.10\n",
      "[125244934.15, 942151107.81]\n",
      "0.60%\n",
      "\n",
      "Результаты для региона №2:\n",
      "357122018.70\n",
      "[-231410319.39, 917869507.90]\n",
      "11.30%\n",
      "\n"
     ]
    }
   ],
   "source": [
    "income_results_df = {}\n",
    "income_results_df['Номер региона'] = []\n",
    "income_results_df['Средняя прибыль'] = []\n",
    "income_results_df['95% доверительный интервал'] = []\n",
    "income_results_df['Риск убытков (%)'] = []\n",
    "\n",
    "for i in range(REGIONS_COUNT):\n",
    "    bootstrap_income_distribution_for_region(i)\n",
    "    \n",
    "    income_results_df['Номер региона'].append(i)\n",
    "    income_results_df['Средняя прибыль'].append(region_results[i][KEY_MEAN_BOOTSTRAPPED_INCOME])\n",
    "    income_results_df['95% доверительный интервал'].append(region_results[i][KEY_CONFIDENCE_INTERVAL])\n",
    "    income_results_df['Риск убытков (%)'].append(region_results[i][KEY_LOSS_RISK])\n",
    "\n",
    "    print(f'Результаты для региона №{i}:')\n",
    "    print(region_results[i][KEY_MEAN_BOOTSTRAPPED_INCOME])\n",
    "    print(region_results[i][KEY_CONFIDENCE_INTERVAL])\n",
    "    print(region_results[i][KEY_LOSS_RISK])\n",
    "    print()"
   ]
  },
  {
   "cell_type": "markdown",
   "metadata": {},
   "source": [
    "Наконец, выводим итоговую таблицу, с помощью которой будем окончательно определяться с регионом для разработки:"
   ]
  },
  {
   "cell_type": "code",
   "execution_count": 113,
   "metadata": {},
   "outputs": [
    {
     "data": {
      "text/html": [
       "<div>\n",
       "<style scoped>\n",
       "    .dataframe tbody tr th:only-of-type {\n",
       "        vertical-align: middle;\n",
       "    }\n",
       "\n",
       "    .dataframe tbody tr th {\n",
       "        vertical-align: top;\n",
       "    }\n",
       "\n",
       "    .dataframe thead th {\n",
       "        text-align: right;\n",
       "    }\n",
       "</style>\n",
       "<table border=\"1\" class=\"dataframe\">\n",
       "  <thead>\n",
       "    <tr style=\"text-align: right;\">\n",
       "      <th></th>\n",
       "      <th>Средняя прибыль</th>\n",
       "      <th>95% доверительный интервал</th>\n",
       "      <th>Риск убытков (%)</th>\n",
       "    </tr>\n",
       "    <tr>\n",
       "      <th>Номер региона</th>\n",
       "      <th></th>\n",
       "      <th></th>\n",
       "      <th></th>\n",
       "    </tr>\n",
       "  </thead>\n",
       "  <tbody>\n",
       "    <tr>\n",
       "      <th>0</th>\n",
       "      <td>445340183.59</td>\n",
       "      <td>[-83990482.69, 987188278.10]</td>\n",
       "      <td>5.80%</td>\n",
       "    </tr>\n",
       "    <tr>\n",
       "      <th>1</th>\n",
       "      <td>517287870.10</td>\n",
       "      <td>[125244934.15, 942151107.81]</td>\n",
       "      <td>0.60%</td>\n",
       "    </tr>\n",
       "    <tr>\n",
       "      <th>2</th>\n",
       "      <td>357122018.70</td>\n",
       "      <td>[-231410319.39, 917869507.90]</td>\n",
       "      <td>11.30%</td>\n",
       "    </tr>\n",
       "  </tbody>\n",
       "</table>\n",
       "</div>"
      ],
      "text/plain": [
       "              Средняя прибыль     95% доверительный интервал Риск убытков (%)\n",
       "Номер региона                                                                \n",
       "0                445340183.59   [-83990482.69, 987188278.10]            5.80%\n",
       "1                517287870.10   [125244934.15, 942151107.81]            0.60%\n",
       "2                357122018.70  [-231410319.39, 917869507.90]           11.30%"
      ]
     },
     "metadata": {},
     "output_type": "display_data"
    }
   ],
   "source": [
    "income_results = pd.DataFrame(income_results_df).set_index('Номер региона')\n",
    "display(income_results)"
   ]
  },
  {
   "cell_type": "markdown",
   "metadata": {},
   "source": [
    "#### 5.3. Напишите выводы: предложите регион для разработки скважин и обоснуйте выбор."
   ]
  },
  {
   "cell_type": "markdown",
   "metadata": {},
   "source": [
    "Прежде всего нужно отметить, что по условию поставленной в проекте задачи требовалось после оценки рисков оставить для рассмотрения лишь те регионы, в которых вероятность убытков меньше `2.5%`.\n",
    "\n",
    "Как видно из таблицы выше, такой регион только один - это регион **№1** (риск убытков - `0.60%`), причём это тот самый регион, который выглядел наименее перспективным с точки зрения среднего запаса предсказанного сырья (`68.7` единиц, тысяч баррелей).\n",
    "\n",
    "Одновременно с этим можно заметить, что среднее значение прибыли для данного региона, полученное с помощью технологии Bootstrap (`517287870.10`), является максимальным среди всех регионов.\n",
    "\n",
    "Исходя из всего этого, для разработки новой скважины можно рекомендовать регион **№1**."
   ]
  },
  {
   "cell_type": "markdown",
   "metadata": {},
   "source": [
    "## Чек-лист готовности проекта"
   ]
  },
  {
   "cell_type": "markdown",
   "metadata": {},
   "source": [
    "Поставьте 'x' в выполненных пунктах. Далее нажмите Shift+Enter."
   ]
  },
  {
   "cell_type": "markdown",
   "metadata": {},
   "source": [
    "- [x]  Jupyter Notebook открыт\n",
    "- [ ]  Весь код выполняется без ошибок\n",
    "- [ ]  Ячейки с кодом расположены в порядке исполнения\n",
    "- [ ]  Выполнен шаг 1: данные подготовлены\n",
    "- [ ]  Выполнен шаг 2: модели обучены и проверены\n",
    "    - [ ]  Данные корректно разбиты на обучающую и валидационную выборки\n",
    "    - [ ]  Модели обучены, предсказания сделаны\n",
    "    - [ ]  Предсказания и правильные ответы на валидационной выборке сохранены\n",
    "    - [ ]  На экране напечатаны результаты\n",
    "    - [ ]  Сделаны выводы\n",
    "- [ ]  Выполнен шаг 3: проведена подготовка к расчёту прибыли\n",
    "    - [ ]  Для всех ключевых значений созданы константы Python\n",
    "    - [ ]  Посчитано минимальное среднее количество продукта в месторождениях региона, достаточное для разработки\n",
    "    - [ ]  По предыдущему пункту сделаны выводы\n",
    "    - [ ]  Написана функция расчёта прибыли\n",
    "- [ ]  Выполнен шаг 4: посчитаны риски и прибыль\n",
    "    - [ ]  Проведена процедура *Bootstrap*\n",
    "    - [ ]  Все параметры бутстрепа соответствуют условию\n",
    "    - [ ]  Найдены все нужные величины\n",
    "    - [ ]  Предложен регион для разработки месторождения\n",
    "    - [ ]  Выбор региона обоснован"
   ]
  }
 ],
 "metadata": {
  "kernelspec": {
   "display_name": "Python 3 (ipykernel)",
   "language": "python",
   "name": "python3"
  },
  "language_info": {
   "codemirror_mode": {
    "name": "ipython",
    "version": 3
   },
   "file_extension": ".py",
   "mimetype": "text/x-python",
   "name": "python",
   "nbconvert_exporter": "python",
   "pygments_lexer": "ipython3",
   "version": "3.10.10"
  },
  "toc": {
   "base_numbering": 1,
   "nav_menu": {},
   "number_sections": true,
   "sideBar": true,
   "skip_h1_title": true,
   "title_cell": "Table of Contents",
   "title_sidebar": "Contents",
   "toc_cell": false,
   "toc_position": {},
   "toc_section_display": true,
   "toc_window_display": false
  }
 },
 "nbformat": 4,
 "nbformat_minor": 4
}
