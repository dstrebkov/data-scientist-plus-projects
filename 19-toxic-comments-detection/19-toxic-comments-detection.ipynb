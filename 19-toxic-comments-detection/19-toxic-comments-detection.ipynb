{
 "cells": [
  {
   "cell_type": "markdown",
   "id": "17f7cb43-ee60-4d5f-a080-7155d8237e85",
   "metadata": {},
   "source": [
    "<div class=\"alert alert-block alert-info\">\n",
    "<h2> Комментарий студента <a class=\"tocSkip\"> </h2>\n",
    "\n",
    "Доброго времени суток!\n",
    "    \n",
    "Хотел бы обратиться к уважаемому ревьюеру в этом своеобразном эпиграфе и сказать несколько слов ещё перед началом ревью.\n",
    "    \n",
    "К сожалению, мне не удалось добиться того, чтобы мой проект отрабатывал на машине Яндекс.Практикума. Код доходит до <code>TfidfVectorizer</code> и там появляется сообщение, что ядро погибло. Мне показалось, что машине просто не хватает памяти для моей реализации проекта.\n",
    "    \n",
    "Из-за этого я добавил этот же код в Google Colab, где он прогоняется:\n",
    "\n",
    "...\n",
    "\n",
    "Если успешный прогон на машине Яндекс.Практикума является обязательным условием сдачи проекта, тогда буду переделывать мою работу, ничего не поделаешь.\n",
    "\n",
    "Возможно, моя проблема в том, что я стал пробовать добавить дополнительные признаки в модель помимо <code>TF-IDF</code>, в частности, синтаксические связи. Я когда-то работал лингвистом, и желание добавить в модель некоторую лингвистику меня одолело. Впрочем, ни к чему хорошему в плане качества модели это желание меня не привело (разве что привнесло ряд сопутствующих проблем), но удалять всё сделанное мне уже было как-то жалко. Может быть в будущем пригодится где-то, кто знает.\n",
    "\n",
    "</div>"
   ]
  },
  {
   "cell_type": "markdown",
   "id": "b509fdcc-dcdc-43ec-902a-1d21d2095cfa",
   "metadata": {},
   "source": [
    "# <b>Проект для «Викишоп»</b> <u><b>без BERT</u></b>\n",
    "\n",
    "## <b>Описание проекта<b>\n",
    "\n",
    "Интернет-магазин _«Викишоп»_ запускает новый сервис. Теперь пользователи могут редактировать и дополнять описания товаров, как в вики-сообществах. То есть клиенты предлагают свои правки и комментируют изменения других. Магазину нужен инструмент, который будет искать токсичные комментарии и отправлять их на модерацию. \n",
    "Обучите модель классифицировать комментарии на позитивные и негативные. В вашем распоряжении набор данных с разметкой о токсичности правок.\n",
    "\n",
    "Постройте модель со значением метрики качества `F1` не меньше `0.75`.\n",
    "\n",
    "## <b>Описание данных<b/>\n",
    "Данные находятся в файле `/datasets/toxic_comments.csv`.\n",
    "    \n",
    "Столбец `text` в нём содержит текст комментария, а `toxic` — целевой признак."
   ]
  },
  {
   "cell_type": "markdown",
   "id": "889a72f6-3b1b-4caa-9d1a-36061bcb143d",
   "metadata": {},
   "source": [
    "### Шаг 0.1. Подключение необходимых модулей."
   ]
  },
  {
   "cell_type": "code",
   "execution_count": 2,
   "id": "ffbeca92-5f6a-4dd6-b14f-0559968d983d",
   "metadata": {
    "tags": []
   },
   "outputs": [
    {
     "name": "stdout",
     "output_type": "stream",
     "text": [
      "Requirement already satisfied: ipywidgets in /home/dstrebkov/anaconda3/envs/pytorch_py39_env/lib/python3.9/site-packages (8.0.4)\n",
      "Requirement already satisfied: lightgbm in /home/dstrebkov/anaconda3/envs/pytorch_py39_env/lib/python3.9/site-packages (3.3.5)\n",
      "Requirement already satisfied: nltk in /home/dstrebkov/anaconda3/envs/pytorch_py39_env/lib/python3.9/site-packages (3.8.1)\n",
      "Requirement already satisfied: spacy==3.5.0 in /home/dstrebkov/anaconda3/envs/pytorch_py39_env/lib/python3.9/site-packages (3.5.0)\n",
      "Requirement already satisfied: afinn in /home/dstrebkov/anaconda3/envs/pytorch_py39_env/lib/python3.9/site-packages (0.1)\n",
      "Requirement already satisfied: NRCLex in /home/dstrebkov/anaconda3/envs/pytorch_py39_env/lib/python3.9/site-packages (3.0.0)\n",
      "Requirement already satisfied: srsly<3.0.0,>=2.4.3 in /home/dstrebkov/anaconda3/envs/pytorch_py39_env/lib/python3.9/site-packages (from spacy==3.5.0) (2.4.5)\n",
      "Requirement already satisfied: smart-open<7.0.0,>=5.2.1 in /home/dstrebkov/anaconda3/envs/pytorch_py39_env/lib/python3.9/site-packages (from spacy==3.5.0) (6.3.0)\n",
      "Requirement already satisfied: langcodes<4.0.0,>=3.2.0 in /home/dstrebkov/anaconda3/envs/pytorch_py39_env/lib/python3.9/site-packages (from spacy==3.5.0) (3.3.0)\n",
      "Requirement already satisfied: spacy-loggers<2.0.0,>=1.0.0 in /home/dstrebkov/anaconda3/envs/pytorch_py39_env/lib/python3.9/site-packages (from spacy==3.5.0) (1.0.4)\n",
      "Requirement already satisfied: cymem<2.1.0,>=2.0.2 in /home/dstrebkov/anaconda3/envs/pytorch_py39_env/lib/python3.9/site-packages (from spacy==3.5.0) (2.0.7)\n",
      "Requirement already satisfied: thinc<8.2.0,>=8.1.0 in /home/dstrebkov/anaconda3/envs/pytorch_py39_env/lib/python3.9/site-packages (from spacy==3.5.0) (8.1.7)\n",
      "Requirement already satisfied: pydantic!=1.8,!=1.8.1,<1.11.0,>=1.7.4 in /home/dstrebkov/anaconda3/envs/pytorch_py39_env/lib/python3.9/site-packages (from spacy==3.5.0) (1.10.5)\n",
      "Requirement already satisfied: wasabi<1.2.0,>=0.9.1 in /home/dstrebkov/anaconda3/envs/pytorch_py39_env/lib/python3.9/site-packages (from spacy==3.5.0) (1.1.1)\n",
      "Requirement already satisfied: tqdm<5.0.0,>=4.38.0 in /home/dstrebkov/anaconda3/envs/pytorch_py39_env/lib/python3.9/site-packages (from spacy==3.5.0) (4.64.1)\n",
      "Requirement already satisfied: murmurhash<1.1.0,>=0.28.0 in /home/dstrebkov/anaconda3/envs/pytorch_py39_env/lib/python3.9/site-packages (from spacy==3.5.0) (1.0.9)\n",
      "Requirement already satisfied: pathy>=0.10.0 in /home/dstrebkov/anaconda3/envs/pytorch_py39_env/lib/python3.9/site-packages (from spacy==3.5.0) (0.10.1)\n",
      "Requirement already satisfied: preshed<3.1.0,>=3.0.2 in /home/dstrebkov/anaconda3/envs/pytorch_py39_env/lib/python3.9/site-packages (from spacy==3.5.0) (3.0.8)\n",
      "Requirement already satisfied: numpy>=1.15.0 in /home/dstrebkov/anaconda3/envs/pytorch_py39_env/lib/python3.9/site-packages (from spacy==3.5.0) (1.24.2)\n",
      "Requirement already satisfied: jinja2 in /home/dstrebkov/anaconda3/envs/pytorch_py39_env/lib/python3.9/site-packages (from spacy==3.5.0) (3.1.2)\n",
      "Requirement already satisfied: packaging>=20.0 in /home/dstrebkov/anaconda3/envs/pytorch_py39_env/lib/python3.9/site-packages (from spacy==3.5.0) (23.0)\n",
      "Requirement already satisfied: typer<0.8.0,>=0.3.0 in /home/dstrebkov/anaconda3/envs/pytorch_py39_env/lib/python3.9/site-packages (from spacy==3.5.0) (0.7.0)\n",
      "Requirement already satisfied: setuptools in /home/dstrebkov/anaconda3/envs/pytorch_py39_env/lib/python3.9/site-packages (from spacy==3.5.0) (65.6.3)\n",
      "Requirement already satisfied: requests<3.0.0,>=2.13.0 in /home/dstrebkov/anaconda3/envs/pytorch_py39_env/lib/python3.9/site-packages (from spacy==3.5.0) (2.28.2)\n",
      "Requirement already satisfied: catalogue<2.1.0,>=2.0.6 in /home/dstrebkov/anaconda3/envs/pytorch_py39_env/lib/python3.9/site-packages (from spacy==3.5.0) (2.0.8)\n",
      "Requirement already satisfied: spacy-legacy<3.1.0,>=3.0.11 in /home/dstrebkov/anaconda3/envs/pytorch_py39_env/lib/python3.9/site-packages (from spacy==3.5.0) (3.0.12)\n",
      "Requirement already satisfied: ipykernel>=4.5.1 in /home/dstrebkov/anaconda3/envs/pytorch_py39_env/lib/python3.9/site-packages (from ipywidgets) (6.21.2)\n",
      "Requirement already satisfied: widgetsnbextension~=4.0 in /home/dstrebkov/anaconda3/envs/pytorch_py39_env/lib/python3.9/site-packages (from ipywidgets) (4.0.5)\n",
      "Requirement already satisfied: ipython>=6.1.0 in /home/dstrebkov/anaconda3/envs/pytorch_py39_env/lib/python3.9/site-packages (from ipywidgets) (8.10.0)\n",
      "Requirement already satisfied: jupyterlab-widgets~=3.0 in /home/dstrebkov/anaconda3/envs/pytorch_py39_env/lib/python3.9/site-packages (from ipywidgets) (3.0.5)\n",
      "Requirement already satisfied: traitlets>=4.3.1 in /home/dstrebkov/anaconda3/envs/pytorch_py39_env/lib/python3.9/site-packages (from ipywidgets) (5.9.0)\n",
      "Requirement already satisfied: scipy in /home/dstrebkov/anaconda3/envs/pytorch_py39_env/lib/python3.9/site-packages (from lightgbm) (1.10.1)\n",
      "Requirement already satisfied: scikit-learn!=0.22.0 in /home/dstrebkov/anaconda3/envs/pytorch_py39_env/lib/python3.9/site-packages (from lightgbm) (1.2.1)\n",
      "Requirement already satisfied: wheel in /home/dstrebkov/anaconda3/envs/pytorch_py39_env/lib/python3.9/site-packages (from lightgbm) (0.38.4)\n",
      "Requirement already satisfied: joblib in /home/dstrebkov/anaconda3/envs/pytorch_py39_env/lib/python3.9/site-packages (from nltk) (1.2.0)\n",
      "Requirement already satisfied: click in /home/dstrebkov/anaconda3/envs/pytorch_py39_env/lib/python3.9/site-packages (from nltk) (8.1.3)\n",
      "Requirement already satisfied: regex>=2021.8.3 in /home/dstrebkov/anaconda3/envs/pytorch_py39_env/lib/python3.9/site-packages (from nltk) (2022.10.31)\n",
      "Requirement already satisfied: textblob in /home/dstrebkov/anaconda3/envs/pytorch_py39_env/lib/python3.9/site-packages (from NRCLex) (0.17.1)\n",
      "Requirement already satisfied: tornado>=6.1 in /home/dstrebkov/anaconda3/envs/pytorch_py39_env/lib/python3.9/site-packages (from ipykernel>=4.5.1->ipywidgets) (6.2)\n",
      "Requirement already satisfied: jupyter-core!=5.0.*,>=4.12 in /home/dstrebkov/anaconda3/envs/pytorch_py39_env/lib/python3.9/site-packages (from ipykernel>=4.5.1->ipywidgets) (5.2.0)\n",
      "Requirement already satisfied: jupyter-client>=6.1.12 in /home/dstrebkov/anaconda3/envs/pytorch_py39_env/lib/python3.9/site-packages (from ipykernel>=4.5.1->ipywidgets) (8.0.3)\n",
      "Requirement already satisfied: debugpy>=1.6.5 in /home/dstrebkov/anaconda3/envs/pytorch_py39_env/lib/python3.9/site-packages (from ipykernel>=4.5.1->ipywidgets) (1.6.6)\n",
      "Requirement already satisfied: matplotlib-inline>=0.1 in /home/dstrebkov/anaconda3/envs/pytorch_py39_env/lib/python3.9/site-packages (from ipykernel>=4.5.1->ipywidgets) (0.1.6)\n",
      "Requirement already satisfied: nest-asyncio in /home/dstrebkov/anaconda3/envs/pytorch_py39_env/lib/python3.9/site-packages (from ipykernel>=4.5.1->ipywidgets) (1.5.6)\n",
      "Requirement already satisfied: pyzmq>=20 in /home/dstrebkov/anaconda3/envs/pytorch_py39_env/lib/python3.9/site-packages (from ipykernel>=4.5.1->ipywidgets) (25.0.0)\n",
      "Requirement already satisfied: psutil in /home/dstrebkov/anaconda3/envs/pytorch_py39_env/lib/python3.9/site-packages (from ipykernel>=4.5.1->ipywidgets) (5.9.4)\n",
      "Requirement already satisfied: comm>=0.1.1 in /home/dstrebkov/anaconda3/envs/pytorch_py39_env/lib/python3.9/site-packages (from ipykernel>=4.5.1->ipywidgets) (0.1.2)\n",
      "Requirement already satisfied: pickleshare in /home/dstrebkov/anaconda3/envs/pytorch_py39_env/lib/python3.9/site-packages (from ipython>=6.1.0->ipywidgets) (0.7.5)\n",
      "Requirement already satisfied: pygments>=2.4.0 in /home/dstrebkov/anaconda3/envs/pytorch_py39_env/lib/python3.9/site-packages (from ipython>=6.1.0->ipywidgets) (2.14.0)\n",
      "Requirement already satisfied: prompt-toolkit<3.1.0,>=3.0.30 in /home/dstrebkov/anaconda3/envs/pytorch_py39_env/lib/python3.9/site-packages (from ipython>=6.1.0->ipywidgets) (3.0.37)\n",
      "Requirement already satisfied: backcall in /home/dstrebkov/anaconda3/envs/pytorch_py39_env/lib/python3.9/site-packages (from ipython>=6.1.0->ipywidgets) (0.2.0)\n",
      "Requirement already satisfied: stack-data in /home/dstrebkov/anaconda3/envs/pytorch_py39_env/lib/python3.9/site-packages (from ipython>=6.1.0->ipywidgets) (0.6.2)\n",
      "Requirement already satisfied: pexpect>4.3 in /home/dstrebkov/anaconda3/envs/pytorch_py39_env/lib/python3.9/site-packages (from ipython>=6.1.0->ipywidgets) (4.8.0)\n",
      "Requirement already satisfied: decorator in /home/dstrebkov/anaconda3/envs/pytorch_py39_env/lib/python3.9/site-packages (from ipython>=6.1.0->ipywidgets) (5.1.1)\n",
      "Requirement already satisfied: jedi>=0.16 in /home/dstrebkov/anaconda3/envs/pytorch_py39_env/lib/python3.9/site-packages (from ipython>=6.1.0->ipywidgets) (0.18.2)\n",
      "Requirement already satisfied: typing-extensions>=4.2.0 in /home/dstrebkov/anaconda3/envs/pytorch_py39_env/lib/python3.9/site-packages (from pydantic!=1.8,!=1.8.1,<1.11.0,>=1.7.4->spacy==3.5.0) (4.5.0)\n",
      "Requirement already satisfied: charset-normalizer<4,>=2 in /home/dstrebkov/anaconda3/envs/pytorch_py39_env/lib/python3.9/site-packages (from requests<3.0.0,>=2.13.0->spacy==3.5.0) (3.0.1)\n",
      "Requirement already satisfied: certifi>=2017.4.17 in /home/dstrebkov/anaconda3/envs/pytorch_py39_env/lib/python3.9/site-packages (from requests<3.0.0,>=2.13.0->spacy==3.5.0) (2022.12.7)\n",
      "Requirement already satisfied: urllib3<1.27,>=1.21.1 in /home/dstrebkov/anaconda3/envs/pytorch_py39_env/lib/python3.9/site-packages (from requests<3.0.0,>=2.13.0->spacy==3.5.0) (1.26.14)\n",
      "Requirement already satisfied: idna<4,>=2.5 in /home/dstrebkov/anaconda3/envs/pytorch_py39_env/lib/python3.9/site-packages (from requests<3.0.0,>=2.13.0->spacy==3.5.0) (3.4)\n",
      "Requirement already satisfied: threadpoolctl>=2.0.0 in /home/dstrebkov/anaconda3/envs/pytorch_py39_env/lib/python3.9/site-packages (from scikit-learn!=0.22.0->lightgbm) (3.1.0)\n",
      "Requirement already satisfied: blis<0.8.0,>=0.7.8 in /home/dstrebkov/anaconda3/envs/pytorch_py39_env/lib/python3.9/site-packages (from thinc<8.2.0,>=8.1.0->spacy==3.5.0) (0.7.9)\n",
      "Requirement already satisfied: confection<1.0.0,>=0.0.1 in /home/dstrebkov/anaconda3/envs/pytorch_py39_env/lib/python3.9/site-packages (from thinc<8.2.0,>=8.1.0->spacy==3.5.0) (0.0.4)\n",
      "Requirement already satisfied: MarkupSafe>=2.0 in /home/dstrebkov/anaconda3/envs/pytorch_py39_env/lib/python3.9/site-packages (from jinja2->spacy==3.5.0) (2.1.2)\n",
      "Requirement already satisfied: parso<0.9.0,>=0.8.0 in /home/dstrebkov/anaconda3/envs/pytorch_py39_env/lib/python3.9/site-packages (from jedi>=0.16->ipython>=6.1.0->ipywidgets) (0.8.3)\n",
      "Requirement already satisfied: python-dateutil>=2.8.2 in /home/dstrebkov/anaconda3/envs/pytorch_py39_env/lib/python3.9/site-packages (from jupyter-client>=6.1.12->ipykernel>=4.5.1->ipywidgets) (2.8.2)\n",
      "Requirement already satisfied: importlib-metadata>=4.8.3 in /home/dstrebkov/anaconda3/envs/pytorch_py39_env/lib/python3.9/site-packages (from jupyter-client>=6.1.12->ipykernel>=4.5.1->ipywidgets) (6.0.0)\n",
      "Requirement already satisfied: platformdirs>=2.5 in /home/dstrebkov/anaconda3/envs/pytorch_py39_env/lib/python3.9/site-packages (from jupyter-core!=5.0.*,>=4.12->ipykernel>=4.5.1->ipywidgets) (3.0.0)\n",
      "Requirement already satisfied: ptyprocess>=0.5 in /home/dstrebkov/anaconda3/envs/pytorch_py39_env/lib/python3.9/site-packages (from pexpect>4.3->ipython>=6.1.0->ipywidgets) (0.7.0)\n",
      "Requirement already satisfied: wcwidth in /home/dstrebkov/anaconda3/envs/pytorch_py39_env/lib/python3.9/site-packages (from prompt-toolkit<3.1.0,>=3.0.30->ipython>=6.1.0->ipywidgets) (0.2.6)\n",
      "Requirement already satisfied: executing>=1.2.0 in /home/dstrebkov/anaconda3/envs/pytorch_py39_env/lib/python3.9/site-packages (from stack-data->ipython>=6.1.0->ipywidgets) (1.2.0)\n",
      "Requirement already satisfied: asttokens>=2.1.0 in /home/dstrebkov/anaconda3/envs/pytorch_py39_env/lib/python3.9/site-packages (from stack-data->ipython>=6.1.0->ipywidgets) (2.2.1)\n",
      "Requirement already satisfied: pure-eval in /home/dstrebkov/anaconda3/envs/pytorch_py39_env/lib/python3.9/site-packages (from stack-data->ipython>=6.1.0->ipywidgets) (0.2.2)\n",
      "Requirement already satisfied: six in /home/dstrebkov/anaconda3/envs/pytorch_py39_env/lib/python3.9/site-packages (from asttokens>=2.1.0->stack-data->ipython>=6.1.0->ipywidgets) (1.16.0)\n",
      "Requirement already satisfied: zipp>=0.5 in /home/dstrebkov/anaconda3/envs/pytorch_py39_env/lib/python3.9/site-packages (from importlib-metadata>=4.8.3->jupyter-client>=6.1.12->ipykernel>=4.5.1->ipywidgets) (3.14.0)\n"
     ]
    }
   ],
   "source": [
    "!pip install ipywidgets lightgbm nltk spacy==3.5.0 afinn NRCLex"
   ]
  },
  {
   "cell_type": "code",
   "execution_count": 3,
   "id": "da519cd4-035c-4513-a570-386efea0b7c0",
   "metadata": {
    "tags": []
   },
   "outputs": [
    {
     "name": "stderr",
     "output_type": "stream",
     "text": [
      "2023-03-04 18:34:16.220560: I tensorflow/core/platform/cpu_feature_guard.cc:193] This TensorFlow binary is optimized with oneAPI Deep Neural Network Library (oneDNN) to use the following CPU instructions in performance-critical operations:  AVX2 FMA\n",
      "To enable them in other operations, rebuild TensorFlow with the appropriate compiler flags.\n",
      "2023-03-04 18:34:17.328006: W tensorflow/compiler/xla/stream_executor/platform/default/dso_loader.cc:64] Could not load dynamic library 'libnvinfer.so.7'; dlerror: libnvinfer.so.7: cannot open shared object file: No such file or directory\n",
      "2023-03-04 18:34:17.328101: W tensorflow/compiler/xla/stream_executor/platform/default/dso_loader.cc:64] Could not load dynamic library 'libnvinfer_plugin.so.7'; dlerror: libnvinfer_plugin.so.7: cannot open shared object file: No such file or directory\n",
      "2023-03-04 18:34:17.328109: W tensorflow/compiler/tf2tensorrt/utils/py_utils.cc:38] TF-TRT Warning: Cannot dlopen some TensorRT libraries. If you would like to use Nvidia GPU with TensorRT, please make sure the missing libraries mentioned above are installed properly.\n",
      "2023-03-04 18:34:18.068577: W tensorflow/compiler/xla/stream_executor/platform/default/dso_loader.cc:64] Could not load dynamic library 'libcuda.so.1'; dlerror: libcuda.so.1: cannot open shared object file: No such file or directory\n",
      "2023-03-04 18:34:18.068612: W tensorflow/compiler/xla/stream_executor/cuda/cuda_driver.cc:265] failed call to cuInit: UNKNOWN ERROR (303)\n",
      "2023-03-04 18:34:18.068637: I tensorflow/compiler/xla/stream_executor/cuda/cuda_diagnostics.cc:156] kernel driver does not appear to be running on this host (dstrebkov-laptop): /proc/driver/nvidia/version does not exist\n"
     ]
    }
   ],
   "source": [
    "import os\n",
    "import re\n",
    "from collections import Counter\n",
    "import pickle\n",
    "import urllib.request\n",
    "\n",
    "import numpy as np\n",
    "import pandas as pd\n",
    "import seaborn as sns\n",
    "import matplotlib.pyplot as plt\n",
    "\n",
    "import scipy\n",
    "from sklearn.model_selection import train_test_split\n",
    "from sklearn.feature_extraction.text import CountVectorizer, TfidfVectorizer\n",
    "from sklearn.linear_model import LogisticRegression\n",
    "from sklearn.metrics import f1_score\n",
    "\n",
    "from lightgbm import LGBMClassifier\n",
    "\n",
    "import nltk\n",
    "from nltk.corpus import stopwords\n",
    "\n",
    "import spacy\n",
    "from spacy.tokens import DocBin\n",
    "from afinn import Afinn\n",
    "from nrclex import NRCLex"
   ]
  },
  {
   "cell_type": "markdown",
   "id": "41356dfc-51b7-4ee9-a785-317653a3bd1c",
   "metadata": {},
   "source": [
    "### Шаг 0.2. Скачивание дополнительных файлов"
   ]
  },
  {
   "cell_type": "code",
   "execution_count": 4,
   "id": "f47da8a9-360c-4b03-a9ee-885d7576f1b2",
   "metadata": {},
   "outputs": [
    {
     "name": "stdout",
     "output_type": "stream",
     "text": [
      "Файл \"strebkov_docs.spacy\" загружен.\n",
      "Файл \"strebkov_lexical_features.npy\" загружен.\n",
      "Все файлы загружены.\n"
     ]
    }
   ],
   "source": [
    "DOCS_SPACY_FILE       = 'strebkov_docs.spacy'            #  131 Mb\n",
    "LEXICAL_FEATURES_FILE = 'strebkov_lexical_features.npy'  #  15 Mb\n",
    "\n",
    "def download_file(url, file_path):\n",
    "    if not os.path.isfile(file_path):\n",
    "        print(f'Файл \"{file_path}\" загружается...')\n",
    "        _ = urllib.request.urlretrieve(url, file_path)\n",
    "    print(f'Файл \"{file_path}\" загружен.')\n",
    "\n",
    "download_file('https://onedrive.live.com/...', DOCS_SPACY_FILE)\n",
    "download_file('https://onedrive.live.com/...', LEXICAL_FEATURES_FILE)\n",
    "\n",
    "print('Все файлы загружены.')"
   ]
  },
  {
   "cell_type": "markdown",
   "id": "61500b22-7e58-437e-8a17-739674b02751",
   "metadata": {},
   "source": [
    "### Шаг 1. Первоначальная обработка данных.\n",
    "\n",
    "Посмотрим на данные:"
   ]
  },
  {
   "cell_type": "code",
   "execution_count": 5,
   "id": "d6b603fa-fd41-4c69-b879-e55776b11856",
   "metadata": {
    "tags": []
   },
   "outputs": [
    {
     "name": "stdout",
     "output_type": "stream",
     "text": [
      "<class 'pandas.core.frame.DataFrame'>\n",
      "RangeIndex: 159292 entries, 0 to 159291\n",
      "Data columns (total 2 columns):\n",
      " #   Column  Non-Null Count   Dtype \n",
      "---  ------  --------------   ----- \n",
      " 0   toxic   159292 non-null  int64 \n",
      " 1   text    159292 non-null  object\n",
      "dtypes: int64(1), object(1)\n",
      "memory usage: 2.4+ MB\n"
     ]
    },
    {
     "data": {
      "text/plain": [
       "None"
      ]
     },
     "metadata": {},
     "output_type": "display_data"
    },
    {
     "data": {
      "text/html": [
       "<div>\n",
       "<style scoped>\n",
       "    .dataframe tbody tr th:only-of-type {\n",
       "        vertical-align: middle;\n",
       "    }\n",
       "\n",
       "    .dataframe tbody tr th {\n",
       "        vertical-align: top;\n",
       "    }\n",
       "\n",
       "    .dataframe thead th {\n",
       "        text-align: right;\n",
       "    }\n",
       "</style>\n",
       "<table border=\"1\" class=\"dataframe\">\n",
       "  <thead>\n",
       "    <tr style=\"text-align: right;\">\n",
       "      <th></th>\n",
       "      <th>toxic</th>\n",
       "      <th>text</th>\n",
       "    </tr>\n",
       "  </thead>\n",
       "  <tbody>\n",
       "    <tr>\n",
       "      <th>0</th>\n",
       "      <td>0</td>\n",
       "      <td>Explanation\\nWhy the edits made under my usern...</td>\n",
       "    </tr>\n",
       "    <tr>\n",
       "      <th>1</th>\n",
       "      <td>0</td>\n",
       "      <td>D'aww! He matches this background colour I'm s...</td>\n",
       "    </tr>\n",
       "    <tr>\n",
       "      <th>2</th>\n",
       "      <td>0</td>\n",
       "      <td>Hey man, I'm really not trying to edit war. It...</td>\n",
       "    </tr>\n",
       "    <tr>\n",
       "      <th>3</th>\n",
       "      <td>0</td>\n",
       "      <td>\"\\nMore\\nI can't make any real suggestions on ...</td>\n",
       "    </tr>\n",
       "    <tr>\n",
       "      <th>4</th>\n",
       "      <td>0</td>\n",
       "      <td>You, sir, are my hero. Any chance you remember...</td>\n",
       "    </tr>\n",
       "    <tr>\n",
       "      <th>...</th>\n",
       "      <td>...</td>\n",
       "      <td>...</td>\n",
       "    </tr>\n",
       "    <tr>\n",
       "      <th>159287</th>\n",
       "      <td>0</td>\n",
       "      <td>\":::::And for the second time of asking, when ...</td>\n",
       "    </tr>\n",
       "    <tr>\n",
       "      <th>159288</th>\n",
       "      <td>0</td>\n",
       "      <td>You should be ashamed of yourself \\n\\nThat is ...</td>\n",
       "    </tr>\n",
       "    <tr>\n",
       "      <th>159289</th>\n",
       "      <td>0</td>\n",
       "      <td>Spitzer \\n\\nUmm, theres no actual article for ...</td>\n",
       "    </tr>\n",
       "    <tr>\n",
       "      <th>159290</th>\n",
       "      <td>0</td>\n",
       "      <td>And it looks like it was actually you who put ...</td>\n",
       "    </tr>\n",
       "    <tr>\n",
       "      <th>159291</th>\n",
       "      <td>0</td>\n",
       "      <td>\"\\nAnd ... I really don't think you understand...</td>\n",
       "    </tr>\n",
       "  </tbody>\n",
       "</table>\n",
       "<p>159292 rows × 2 columns</p>\n",
       "</div>"
      ],
      "text/plain": [
       "        toxic                                               text\n",
       "0           0  Explanation\\nWhy the edits made under my usern...\n",
       "1           0  D'aww! He matches this background colour I'm s...\n",
       "2           0  Hey man, I'm really not trying to edit war. It...\n",
       "3           0  \"\\nMore\\nI can't make any real suggestions on ...\n",
       "4           0  You, sir, are my hero. Any chance you remember...\n",
       "...       ...                                                ...\n",
       "159287      0  \":::::And for the second time of asking, when ...\n",
       "159288      0  You should be ashamed of yourself \\n\\nThat is ...\n",
       "159289      0  Spitzer \\n\\nUmm, theres no actual article for ...\n",
       "159290      0  And it looks like it was actually you who put ...\n",
       "159291      0  \"\\nAnd ... I really don't think you understand...\n",
       "\n",
       "[159292 rows x 2 columns]"
      ]
     },
     "metadata": {},
     "output_type": "display_data"
    }
   ],
   "source": [
    "csv_path = '...'\n",
    "\n",
    "data = pd.read_csv(csv_path, usecols=['text', 'toxic'])[['toxic', 'text']]\n",
    "\n",
    "USE_PRECOMPUTED_RESULTS = True\n",
    "\n",
    "display(data.info())\n",
    "display(data)"
   ]
  },
  {
   "cell_type": "markdown",
   "id": "c20cf0e6-fca7-42ff-a4ed-6489dd7b7e8f",
   "metadata": {},
   "source": [
    "Набор данных довольно большой, в нём около `159` тысяч отзывов. Сразу же можно заметить, что набор представлен комментариями на английском языке, поэтому здесь же загрузим стоп-слова для английского:"
   ]
  },
  {
   "cell_type": "code",
   "execution_count": 6,
   "id": "a13c81ce-b7c9-4f88-bccd-604355b68be1",
   "metadata": {
    "tags": []
   },
   "outputs": [],
   "source": [
    "try:\n",
    "    stop_words = list(stopwords.words('english'))\n",
    "    from nltk.tokenize import  sent_tokenize\n",
    "    _ = tokens = sent_tokenize(\"Hellow, World!\")\n",
    "except:\n",
    "    nltk.download('stopwords')\n",
    "    nltk.download('punkt')\n",
    "    stop_words = list(stopwords.words('english'))"
   ]
  },
  {
   "cell_type": "markdown",
   "id": "acd7b4b9-f9dc-44d8-88aa-04fddc62542f",
   "metadata": {
    "tags": []
   },
   "source": [
    "Начнём готовить наш набор данных с его очистки.\n",
    "\n",
    "Первоначальную очистку проведём, чтобы оставить только в тексте только токены, состоящие исключительно из символов английского алфавита и цифр. Также оставим в тексте и основную пунктуацию - концы предложений и запятые:"
   ]
  },
  {
   "cell_type": "code",
   "execution_count": 7,
   "id": "aad9a8ef-8b42-43e8-a5fc-f2d3a5690785",
   "metadata": {
    "tags": []
   },
   "outputs": [
    {
     "data": {
      "text/html": [
       "<div>\n",
       "<style scoped>\n",
       "    .dataframe tbody tr th:only-of-type {\n",
       "        vertical-align: middle;\n",
       "    }\n",
       "\n",
       "    .dataframe tbody tr th {\n",
       "        vertical-align: top;\n",
       "    }\n",
       "\n",
       "    .dataframe thead th {\n",
       "        text-align: right;\n",
       "    }\n",
       "</style>\n",
       "<table border=\"1\" class=\"dataframe\">\n",
       "  <thead>\n",
       "    <tr style=\"text-align: right;\">\n",
       "      <th></th>\n",
       "      <th>toxic</th>\n",
       "      <th>text</th>\n",
       "      <th>text_cleared_shallow</th>\n",
       "    </tr>\n",
       "  </thead>\n",
       "  <tbody>\n",
       "    <tr>\n",
       "      <th>0</th>\n",
       "      <td>0</td>\n",
       "      <td>Explanation\\nWhy the edits made under my usern...</td>\n",
       "      <td>Explanation Why the edits made under my userna...</td>\n",
       "    </tr>\n",
       "    <tr>\n",
       "      <th>1</th>\n",
       "      <td>0</td>\n",
       "      <td>D'aww! He matches this background colour I'm s...</td>\n",
       "      <td>D'aww! He matches this background colour I'm s...</td>\n",
       "    </tr>\n",
       "    <tr>\n",
       "      <th>2</th>\n",
       "      <td>0</td>\n",
       "      <td>Hey man, I'm really not trying to edit war. It...</td>\n",
       "      <td>Hey man, I'm really not trying to edit war. It...</td>\n",
       "    </tr>\n",
       "    <tr>\n",
       "      <th>3</th>\n",
       "      <td>0</td>\n",
       "      <td>\"\\nMore\\nI can't make any real suggestions on ...</td>\n",
       "      <td>More I can't make any real suggestions on impr...</td>\n",
       "    </tr>\n",
       "    <tr>\n",
       "      <th>4</th>\n",
       "      <td>0</td>\n",
       "      <td>You, sir, are my hero. Any chance you remember...</td>\n",
       "      <td>You, sir, are my hero. Any chance you remember...</td>\n",
       "    </tr>\n",
       "  </tbody>\n",
       "</table>\n",
       "</div>"
      ],
      "text/plain": [
       "   toxic                                               text  \\\n",
       "0      0  Explanation\\nWhy the edits made under my usern...   \n",
       "1      0  D'aww! He matches this background colour I'm s...   \n",
       "2      0  Hey man, I'm really not trying to edit war. It...   \n",
       "3      0  \"\\nMore\\nI can't make any real suggestions on ...   \n",
       "4      0  You, sir, are my hero. Any chance you remember...   \n",
       "\n",
       "                                text_cleared_shallow  \n",
       "0  Explanation Why the edits made under my userna...  \n",
       "1  D'aww! He matches this background colour I'm s...  \n",
       "2  Hey man, I'm really not trying to edit war. It...  \n",
       "3  More I can't make any real suggestions on impr...  \n",
       "4  You, sir, are my hero. Any chance you remember...  "
      ]
     },
     "metadata": {},
     "output_type": "display_data"
    }
   ],
   "source": [
    "def clear_text_shallow(text):\n",
    "    text = re.sub(r'[^a-zA-Z0-9.,\\'!?]', ' ', text)\n",
    "    text = re.sub(r'\\s+', ' ', text)\n",
    "    text = re.sub(r'\\s[.!?]', '.', text)\n",
    "    text = re.sub(r'[.]+', '.', text)\n",
    "    text = re.sub(r'[?]+', '?', text)\n",
    "    text = re.sub(r'[!]+', '!', text)\n",
    "    text = text.strip().lstrip(',.')\n",
    "    return ' '.join(text.strip().split(' '))\n",
    "\n",
    "data['text_cleared_shallow'] = data['text'].apply(clear_text_shallow)\n",
    "display(data.head())"
   ]
  },
  {
   "cell_type": "markdown",
   "id": "b95f369b-485f-49bf-9b04-7e75f725c979",
   "metadata": {},
   "source": [
    "### Шаг 2. NLP-пайплайн.\n",
    "\n",
    "Теперь, после некоторой первоначальной и довольно поверхностной очистки, прогоним все комментарии через Spacy NLP-пайплайн. Мы сделаем это для того чтобы:\n",
    "\n",
    "- получить леммы для всех встречающихся словоформ;\n",
    "\n",
    "- получить деревья зависимостей (dependency trees) для каждого предложения комментария. Поэтому мы не стали удалять большинство знаков препинания и приводить текст к нижнему регистру - в надежде, что это поможет синтаксическому парсеру лучше справиться со своей задачей.\n",
    "\n",
    "Результаты синтаксического разбора предложений мы попробуем использовать в ходе данного проекта далее - в надежде (возможно, совершенно тщетной) как-то улучшить Baseline модели.\n",
    "\n",
    "Итак, обрабатываем наши данные через Spacy NLP-пайплайн:"
   ]
  },
  {
   "cell_type": "code",
   "execution_count": 8,
   "id": "ad4a8d58-65ca-4f1d-8623-8785a7300a47",
   "metadata": {
    "tags": []
   },
   "outputs": [
    {
     "data": {
      "text/html": [
       "<div>\n",
       "<style scoped>\n",
       "    .dataframe tbody tr th:only-of-type {\n",
       "        vertical-align: middle;\n",
       "    }\n",
       "\n",
       "    .dataframe tbody tr th {\n",
       "        vertical-align: top;\n",
       "    }\n",
       "\n",
       "    .dataframe thead th {\n",
       "        text-align: right;\n",
       "    }\n",
       "</style>\n",
       "<table border=\"1\" class=\"dataframe\">\n",
       "  <thead>\n",
       "    <tr style=\"text-align: right;\">\n",
       "      <th></th>\n",
       "      <th>toxic</th>\n",
       "      <th>text</th>\n",
       "      <th>nlp_results</th>\n",
       "    </tr>\n",
       "  </thead>\n",
       "  <tbody>\n",
       "    <tr>\n",
       "      <th>0</th>\n",
       "      <td>0</td>\n",
       "      <td>Explanation\\nWhy the edits made under my usern...</td>\n",
       "      <td>(Explanation, Why, the, edits, made, under, my...</td>\n",
       "    </tr>\n",
       "    <tr>\n",
       "      <th>1</th>\n",
       "      <td>0</td>\n",
       "      <td>D'aww! He matches this background colour I'm s...</td>\n",
       "      <td>(D'aww, !, He, matches, this, background, colo...</td>\n",
       "    </tr>\n",
       "    <tr>\n",
       "      <th>2</th>\n",
       "      <td>0</td>\n",
       "      <td>Hey man, I'm really not trying to edit war. It...</td>\n",
       "      <td>(Hey, man, ,, I, 'm, really, not, trying, to, ...</td>\n",
       "    </tr>\n",
       "    <tr>\n",
       "      <th>3</th>\n",
       "      <td>0</td>\n",
       "      <td>\"\\nMore\\nI can't make any real suggestions on ...</td>\n",
       "      <td>(More, I, ca, n't, make, any, real, suggestion...</td>\n",
       "    </tr>\n",
       "    <tr>\n",
       "      <th>4</th>\n",
       "      <td>0</td>\n",
       "      <td>You, sir, are my hero. Any chance you remember...</td>\n",
       "      <td>(You, ,, sir, ,, are, my, hero, ., Any, chance...</td>\n",
       "    </tr>\n",
       "    <tr>\n",
       "      <th>...</th>\n",
       "      <td>...</td>\n",
       "      <td>...</td>\n",
       "      <td>...</td>\n",
       "    </tr>\n",
       "    <tr>\n",
       "      <th>159287</th>\n",
       "      <td>0</td>\n",
       "      <td>\":::::And for the second time of asking, when ...</td>\n",
       "      <td>(And, for, the, second, time, of, asking, ,, w...</td>\n",
       "    </tr>\n",
       "    <tr>\n",
       "      <th>159288</th>\n",
       "      <td>0</td>\n",
       "      <td>You should be ashamed of yourself \\n\\nThat is ...</td>\n",
       "      <td>(You, should, be, ashamed, of, yourself, That,...</td>\n",
       "    </tr>\n",
       "    <tr>\n",
       "      <th>159289</th>\n",
       "      <td>0</td>\n",
       "      <td>Spitzer \\n\\nUmm, theres no actual article for ...</td>\n",
       "      <td>(Spitzer, Umm, ,, there, s, no, actual, articl...</td>\n",
       "    </tr>\n",
       "    <tr>\n",
       "      <th>159290</th>\n",
       "      <td>0</td>\n",
       "      <td>And it looks like it was actually you who put ...</td>\n",
       "      <td>(And, it, looks, like, it, was, actually, you,...</td>\n",
       "    </tr>\n",
       "    <tr>\n",
       "      <th>159291</th>\n",
       "      <td>0</td>\n",
       "      <td>\"\\nAnd ... I really don't think you understand...</td>\n",
       "      <td>(And, ., I, really, do, n't, think, you, under...</td>\n",
       "    </tr>\n",
       "  </tbody>\n",
       "</table>\n",
       "<p>159292 rows × 3 columns</p>\n",
       "</div>"
      ],
      "text/plain": [
       "        toxic                                               text  \\\n",
       "0           0  Explanation\\nWhy the edits made under my usern...   \n",
       "1           0  D'aww! He matches this background colour I'm s...   \n",
       "2           0  Hey man, I'm really not trying to edit war. It...   \n",
       "3           0  \"\\nMore\\nI can't make any real suggestions on ...   \n",
       "4           0  You, sir, are my hero. Any chance you remember...   \n",
       "...       ...                                                ...   \n",
       "159287      0  \":::::And for the second time of asking, when ...   \n",
       "159288      0  You should be ashamed of yourself \\n\\nThat is ...   \n",
       "159289      0  Spitzer \\n\\nUmm, theres no actual article for ...   \n",
       "159290      0  And it looks like it was actually you who put ...   \n",
       "159291      0  \"\\nAnd ... I really don't think you understand...   \n",
       "\n",
       "                                              nlp_results  \n",
       "0       (Explanation, Why, the, edits, made, under, my...  \n",
       "1       (D'aww, !, He, matches, this, background, colo...  \n",
       "2       (Hey, man, ,, I, 'm, really, not, trying, to, ...  \n",
       "3       (More, I, ca, n't, make, any, real, suggestion...  \n",
       "4       (You, ,, sir, ,, are, my, hero, ., Any, chance...  \n",
       "...                                                   ...  \n",
       "159287  (And, for, the, second, time, of, asking, ,, w...  \n",
       "159288  (You, should, be, ashamed, of, yourself, That,...  \n",
       "159289  (Spitzer, Umm, ,, there, s, no, actual, articl...  \n",
       "159290  (And, it, looks, like, it, was, actually, you,...  \n",
       "159291  (And, ., I, really, do, n't, think, you, under...  \n",
       "\n",
       "[159292 rows x 3 columns]"
      ]
     },
     "metadata": {},
     "output_type": "display_data"
    }
   ],
   "source": [
    "if USE_PRECOMPUTED_RESULTS:\n",
    "    doc_bin = DocBin().from_disk(DOCS_SPACY_FILE)\n",
    "    nlp = spacy.blank(\"en\")\n",
    "else:\n",
    "    spacy_model_name = 'en_core_web_lg'\n",
    "\n",
    "    try:\n",
    "        trying_to_load_nlp = spacy.load(spacy_model_name)\n",
    "    except:\n",
    "        import spacy.cli\n",
    "        spacy.cli.download(spacy_model_name)\n",
    "\n",
    "    nlp = spacy.load(spacy_model_name)\n",
    "    doc_bin = DocBin()\n",
    "    for doc in nlp.pipe(data['text_cleared_shallow']):\n",
    "        doc_bin.add(doc)\n",
    "    doc_bin.to_disk(DOCS_SPACY_FILE)\n",
    "    pickle.dump(nlp, open(SPACY_NLP_FILE, 'wb'))\n",
    "\n",
    "docs = list(doc_bin.get_docs(nlp.vocab))\n",
    "data['nlp_results'] = docs\n",
    "\n",
    "data.drop(['text_cleared_shallow'], axis=1, inplace=True)\n",
    "display(data)"
   ]
  },
  {
   "cell_type": "markdown",
   "id": "0cf0b2c0-b35e-46c5-ad3f-01e3c686c5b7",
   "metadata": {
    "tags": []
   },
   "source": [
    "### Шаг 3. Дополнительная очистка данных.\n",
    "\n",
    "Теперь, когда NLP-пайплайн отработал, и у нас для каждого комментария сохранены результаты обработки в отдельном столбце, выполним дальнейшую очистку.\n",
    "\n",
    "Она подразумевает лемматизацию и сохранение только тех токенов в комментариях, которые содержат только латинские символы. Результаты снова запишем в новый столбец - он станет основой для нашей модели на основе «мешка слов»."
   ]
  },
  {
   "cell_type": "code",
   "execution_count": 9,
   "id": "07bb5375-f4f2-4496-940b-382359422fde",
   "metadata": {
    "tags": []
   },
   "outputs": [
    {
     "data": {
      "text/html": [
       "<div>\n",
       "<style scoped>\n",
       "    .dataframe tbody tr th:only-of-type {\n",
       "        vertical-align: middle;\n",
       "    }\n",
       "\n",
       "    .dataframe tbody tr th {\n",
       "        vertical-align: top;\n",
       "    }\n",
       "\n",
       "    .dataframe thead th {\n",
       "        text-align: right;\n",
       "    }\n",
       "</style>\n",
       "<table border=\"1\" class=\"dataframe\">\n",
       "  <thead>\n",
       "    <tr style=\"text-align: right;\">\n",
       "      <th></th>\n",
       "      <th>toxic</th>\n",
       "      <th>text</th>\n",
       "      <th>nlp_results</th>\n",
       "      <th>text_lemmas</th>\n",
       "    </tr>\n",
       "  </thead>\n",
       "  <tbody>\n",
       "    <tr>\n",
       "      <th>0</th>\n",
       "      <td>0</td>\n",
       "      <td>Explanation\\nWhy the edits made under my usern...</td>\n",
       "      <td>(Explanation, Why, the, edits, made, under, my...</td>\n",
       "      <td>explanation why the edit make under my usernam...</td>\n",
       "    </tr>\n",
       "    <tr>\n",
       "      <th>1</th>\n",
       "      <td>0</td>\n",
       "      <td>D'aww! He matches this background colour I'm s...</td>\n",
       "      <td>(D'aww, !, He, matches, this, background, colo...</td>\n",
       "      <td>D aww   he match this background colour I be s...</td>\n",
       "    </tr>\n",
       "    <tr>\n",
       "      <th>2</th>\n",
       "      <td>0</td>\n",
       "      <td>Hey man, I'm really not trying to edit war. It...</td>\n",
       "      <td>(Hey, man, ,, I, 'm, really, not, trying, to, ...</td>\n",
       "      <td>hey man   I be really not try to edit war   it...</td>\n",
       "    </tr>\n",
       "    <tr>\n",
       "      <th>3</th>\n",
       "      <td>0</td>\n",
       "      <td>\"\\nMore\\nI can't make any real suggestions on ...</td>\n",
       "      <td>(More, I, ca, n't, make, any, real, suggestion...</td>\n",
       "      <td>More I can not make any real suggestion on imp...</td>\n",
       "    </tr>\n",
       "    <tr>\n",
       "      <th>4</th>\n",
       "      <td>0</td>\n",
       "      <td>You, sir, are my hero. Any chance you remember...</td>\n",
       "      <td>(You, ,, sir, ,, are, my, hero, ., Any, chance...</td>\n",
       "      <td>you   sir   be my hero   any chance you rememb...</td>\n",
       "    </tr>\n",
       "  </tbody>\n",
       "</table>\n",
       "</div>"
      ],
      "text/plain": [
       "   toxic                                               text  \\\n",
       "0      0  Explanation\\nWhy the edits made under my usern...   \n",
       "1      0  D'aww! He matches this background colour I'm s...   \n",
       "2      0  Hey man, I'm really not trying to edit war. It...   \n",
       "3      0  \"\\nMore\\nI can't make any real suggestions on ...   \n",
       "4      0  You, sir, are my hero. Any chance you remember...   \n",
       "\n",
       "                                         nlp_results  \\\n",
       "0  (Explanation, Why, the, edits, made, under, my...   \n",
       "1  (D'aww, !, He, matches, this, background, colo...   \n",
       "2  (Hey, man, ,, I, 'm, really, not, trying, to, ...   \n",
       "3  (More, I, ca, n't, make, any, real, suggestion...   \n",
       "4  (You, ,, sir, ,, are, my, hero, ., Any, chance...   \n",
       "\n",
       "                                         text_lemmas  \n",
       "0  explanation why the edit make under my usernam...  \n",
       "1  D aww   he match this background colour I be s...  \n",
       "2  hey man   I be really not try to edit war   it...  \n",
       "3  More I can not make any real suggestion on imp...  \n",
       "4  you   sir   be my hero   any chance you rememb...  "
      ]
     },
     "metadata": {},
     "output_type": "display_data"
    }
   ],
   "source": [
    "def lemmatize(series):\n",
    "    doc = series['nlp_results']\n",
    "    lemmas = [t.lemma_ for t in doc]\n",
    "    lemmatized_text = ' '.join(lemmas)\n",
    "    lemmatized_text = re.sub(r'[^a-zA-Z]', ' ', lemmatized_text)\n",
    "    return lemmatized_text\n",
    "\n",
    "data['text_lemmas'] = data.apply(lemmatize, axis=1)\n",
    "display(data.head())"
   ]
  },
  {
   "cell_type": "markdown",
   "id": "689d0e38-8b33-4f8c-baaf-16baf57b87ec",
   "metadata": {},
   "source": [
    "### Шаг 4. Небольшой графический анализ данных.\n",
    "\n",
    "Теперь мы могли бы начать готовить признаки для обучения модели, но сначала попробуем узнать чуть больше о нашей наборе данных.\n",
    "\n",
    "Во-первых, посмотрим на распределение длин комментариев в виде гистограммы:"
   ]
  },
  {
   "cell_type": "code",
   "execution_count": 10,
   "id": "79065b4b-2c8f-4866-af93-84b66a61bad3",
   "metadata": {
    "tags": []
   },
   "outputs": [
    {
     "data": {
      "image/png": "[encoded data removed]",
      "text/plain": [
       "<Figure size 2200x400 with 2 Axes>"
      ]
     },
     "metadata": {},
     "output_type": "display_data"
    }
   ],
   "source": [
    "data['lenghts'] = data['text_lemmas'].apply(lambda x: len(x.split()))\n",
    "\n",
    "fig, axs = plt.subplots(nrows=1, ncols=2, figsize=(22, 4))\n",
    "_ = sns.histplot(data=data, x='lenghts', ax=axs[0])\n",
    "_ = axs[0].set_xticks(range(0, 1000, 25))\n",
    "_ = axs[0].xaxis.set_tick_params(rotation=45)\n",
    "_ = axs[0].set_xlabel('Длина комментария (в словах)')\n",
    "_ = axs[0].set_ylabel('Количество комментариев')\n",
    "_ = axs[0].set_title('Гистограмма распределения длин комментариев (в словах)')\n",
    "_ = axs[0].grid(True)\n",
    "\n",
    "_ = sns.histplot(data=data, x='lenghts', binrange=(0, 100), ax=axs[1])\n",
    "_ = axs[1].set_xticks(range(0, 100, 5))\n",
    "_ = axs[1].xaxis.set_tick_params(rotation=45)\n",
    "_ = axs[1].set_xlabel('Длина комментария (в словах)')\n",
    "_ = axs[1].set_ylabel('Количество комментариев')\n",
    "_ = axs[1].set_title('Гистограмма распределения длин комментариев (в словах)\\nУкрупнённая в диапазоне от 0 до 100')\n",
    "_ = axs[1].grid(True)\n",
    "\n",
    "data.drop(['lenghts'], axis=1, inplace=True)"
   ]
  },
  {
   "cell_type": "markdown",
   "id": "35dd79fa-c9d7-4408-a6ea-9f7098eca165",
   "metadata": {},
   "source": [
    "Видим, что комментарии не отличаются большой длиной, мода получившегося распределения в районе `10` слов или чуть меньше. Также бросается в глаза характер полученных гистограмм - то, что он имеет такие \"зубчики\" - всплески частоты - которые заметны на обеих гистограммах.\n",
    "\n",
    "Теперь посмотрим на распределение целевого признака, чтобы ответить на вопрос о том, насколько сбалансированным (или нет) является наш набор данных:"
   ]
  },
  {
   "cell_type": "code",
   "execution_count": 11,
   "id": "f3666d63-1fc9-45bf-af29-56a1528f69cb",
   "metadata": {},
   "outputs": [
    {
     "data": {
      "image/png": "[encoded data removed]",
      "text/plain": [
       "<Figure size 600x400 with 1 Axes>"
      ]
     },
     "metadata": {},
     "output_type": "display_data"
    }
   ],
   "source": [
    "fig, ax = plt.subplots(figsize=(6, 4))\n",
    "_ = sns.countplot(data=data, x='toxic', palette=['#609966', '#FF0000'], ax=ax)\n",
    "_ = ax.set_xticklabels(('Нет', 'Да'))\n",
    "_ = ax.set_xlabel('Комментарий был\\nтоксичным?')\n",
    "_ = ax.set_ylabel('Количество\\nкомментариев')\n",
    "_ = ax.set_title('Столбчатая диаграмма целевого признака\\nтоксичности комментариев (toxic)')\n",
    "_ = ax.grid(True)"
   ]
  },
  {
   "cell_type": "markdown",
   "id": "d0d7b3c6-028e-47b1-a6ab-ad8bf06d7894",
   "metadata": {},
   "source": [
    "Видим, что наш набор данных является несбалансированным - токсичных комментариев гораздо меньше, чем нейтральных. Оценим, насколько:"
   ]
  },
  {
   "cell_type": "code",
   "execution_count": 12,
   "id": "f902c2e9-4901-4a0b-b70a-37bd3bb0c32a",
   "metadata": {
    "tags": []
   },
   "outputs": [
    {
     "name": "stdout",
     "output_type": "stream",
     "text": [
      "Токсичных комментариев: 10.16%\n"
     ]
    }
   ],
   "source": [
    "toxic_count = data[data['toxic'] == 1]['toxic'].count()\n",
    "neutral_count = data[data['toxic'] == 0]['toxic'].count()\n",
    "\n",
    "print(f'Токсичных комментариев: {(toxic_count / (toxic_count + neutral_count)):.2%}')"
   ]
  },
  {
   "cell_type": "markdown",
   "id": "6d22ecc4-c150-4bec-b3ab-0686a3ded1f0",
   "metadata": {},
   "source": [
    "### Шаг 5. Разделение набора данных на выборки.\n",
    "\n",
    "Делим наш набор данных на тренировочную, валидационную и тестовую выборки в соотношении (`80%` на тренировочные данные и по `10%` на валидационные и тестовые):"
   ]
  },
  {
   "cell_type": "code",
   "execution_count": 13,
   "id": "a59b4d1e-1336-475e-b5e2-38c448b6c4bd",
   "metadata": {
    "tags": []
   },
   "outputs": [
    {
     "name": "stdout",
     "output_type": "stream",
     "text": [
      "train_data.shape=(127433, 4)\n",
      "valid_test_data.shape=(31859, 4)\n",
      "valid_data.shape=(15929, 4)\n",
      "test_data.shape=(15930, 4)\n"
     ]
    }
   ],
   "source": [
    "train_data, valid_test_data = train_test_split(data, train_size=0.8, random_state=0)\n",
    "valid_data, test_data = train_test_split(valid_test_data, train_size=0.5, random_state=0)\n",
    "\n",
    "print(f'train_data.shape={train_data.shape}')\n",
    "print(f'valid_test_data.shape={valid_test_data.shape}')\n",
    "print(f'valid_data.shape={valid_data.shape}')\n",
    "print(f'test_data.shape={test_data.shape}')\n",
    "\n",
    "train_data_index = train_data.index\n",
    "valid_data_index = valid_data.index\n",
    "test_data_index = test_data.index"
   ]
  },
  {
   "cell_type": "markdown",
   "id": "d9d4d77e-2973-451f-877f-01746ac85fc8",
   "metadata": {},
   "source": [
    "### Шаг 6. Обучение Baseline модели."
   ]
  },
  {
   "cell_type": "markdown",
   "id": "0701bf1e-3279-44a7-9099-2500d2764ae2",
   "metadata": {},
   "source": [
    "Для Baseline показателей будем обучать модели логистической регрессии и градиентного бустинга LGBM.\n",
    "Факт несбалансированности нашего набора данных отразим через параметры `class_weight='balanced'` для логистической регрессии и `is_unbalance=True` для LGBM:"
   ]
  },
  {
   "cell_type": "code",
   "execution_count": 14,
   "id": "54b854cc-b359-4cb1-932f-e7f251aa8f1f",
   "metadata": {},
   "outputs": [],
   "source": [
    "def evaluate_logreg(used_features_name, run_dataset_name, X_train, y_train, X_run, y_run):\n",
    "    logreg = LogisticRegression(random_state=0, n_jobs=-1, max_iter=1_000, class_weight='balanced')\n",
    "    logreg.fit(X_train, y_train)\n",
    "    y_pred = logreg.predict(X_run)\n",
    "    f1 = f1_score(y_pred, y_run)\n",
    "    result_string = f'Модель логистической регрессии, признаки \"{used_features_name}\", прогон на \"{run_dataset_name}\":' + \\\n",
    "                    f'\\n\\tF1-мера равна : {f1:.4}'\n",
    "    print(result_string)\n",
    "    return result_string, f'{f1:.4}'\n",
    "\n",
    "def evaluate_lgbmcl(used_features_name, run_dataset_name, X_train, y_train, X_run, y_run):\n",
    "    lgbm = LGBMClassifier(random_state=0, n_jobs=-1, is_unbalance=True)\n",
    "    lgbm.fit(X_train, y_train)\n",
    "    y_pred = lgbm.predict(X_run)\n",
    "    f1 = f1_score(y_pred, y_run)\n",
    "    result_string = f'Модель градиентного бустинга LGBM, признаки \"{used_features_name}\", прогон на \"{run_dataset_name}\":' + \\\n",
    "                    f'\\n\\tF1-мера равна : {f1:.4}'\n",
    "    print(result_string)\n",
    "    return result_string, f'{f1:.4}'"
   ]
  },
  {
   "cell_type": "markdown",
   "id": "0e7c9fdd-d285-482d-986f-3c3c8ec4ed3b",
   "metadata": {},
   "source": [
    "Теперь создадим наборы признаков, векторизуя столбец с леммами с помощью техники `TF-IDF`. Будем рассматривать униграммы и биграммы - по отдельности и вместе. Ограничимся биграммами (`n=2`), чтобы избежать роста размерности признаков для бóльших значений `n`."
   ]
  },
  {
   "cell_type": "code",
   "execution_count": 15,
   "id": "299a34e8-56c1-4ab9-83dd-d2f8b7735927",
   "metadata": {
    "tags": []
   },
   "outputs": [
    {
     "name": "stdout",
     "output_type": "stream",
     "text": [
      "y_train.shape=(127433,)\n",
      "y_valid.shape=(15929,)\n",
      "y_test.shape=(15930,)\n"
     ]
    }
   ],
   "source": [
    "y_train = train_data['toxic']\n",
    "y_valid = valid_data['toxic']\n",
    "y_test = test_data['toxic']\n",
    "\n",
    "print(f'y_train.shape={y_train.shape}')\n",
    "print(f'y_valid.shape={y_valid.shape}')\n",
    "print(f'y_test.shape={y_test.shape}')"
   ]
  },
  {
   "cell_type": "code",
   "execution_count": 16,
   "id": "93a06eaa-e7eb-44c3-9950-0316213b1eb0",
   "metadata": {
    "tags": []
   },
   "outputs": [
    {
     "name": "stdout",
     "output_type": "stream",
     "text": [
      "X_unig_train.shape=(127433, 15791)\n",
      "X_unig_valid.shape=(15929, 15791)\n",
      "X_unig_test.shape=(15930, 15791)\n",
      "Модель логистической регрессии, признаки \"unig\", прогон на \"valid\":\n",
      "\tF1-мера равна : 0.7536\n",
      "Модель градиентного бустинга LGBM, признаки \"unig\", прогон на \"valid\":\n",
      "\tF1-мера равна : 0.7525\n"
     ]
    }
   ],
   "source": [
    "# Только униграммы\n",
    "tf_idf_unig_vectorizer = TfidfVectorizer(ngram_range=(1, 1), min_df=10, stop_words=stop_words)\n",
    "\n",
    "X_unig_train = tf_idf_unig_vectorizer.fit_transform(train_data['text_lemmas'])\n",
    "X_unig_valid = tf_idf_unig_vectorizer.transform(valid_data['text_lemmas'])\n",
    "X_unig_test  = tf_idf_unig_vectorizer.transform(test_data['text_lemmas'])\n",
    "\n",
    "print(f'X_unig_train.shape={X_unig_train.shape}')\n",
    "print(f'X_unig_valid.shape={X_unig_valid.shape}')\n",
    "print(f'X_unig_test.shape={X_unig_test.shape}')\n",
    "\n",
    "_, eval_logreg_unig_valid_score = evaluate_logreg('unig', 'valid', X_unig_train, y_train, X_unig_valid, y_valid)\n",
    "_, eval_lgbmcl_unig_valid_score = evaluate_lgbmcl('unig', 'valid', X_unig_train, y_train, X_unig_valid, y_valid)"
   ]
  },
  {
   "cell_type": "code",
   "execution_count": 17,
   "id": "eee000e9-25ed-4617-bdb9-f73ab803c75c",
   "metadata": {
    "tags": []
   },
   "outputs": [
    {
     "name": "stdout",
     "output_type": "stream",
     "text": [
      "X_bigr_train.shape=(127433, 37970)\n",
      "X_bigr_valid.shape=(15929, 37970)\n",
      "X_bigr_test.shape=(15930, 37970)\n",
      "Модель логистической регрессии, признаки \"bigr\", прогон на \"valid\":\n",
      "\tF1-мера равна : 0.4172\n",
      "Модель градиентного бустинга LGBM, признаки \"bigr\", прогон на \"valid\":\n",
      "\tF1-мера равна : 0.2847\n"
     ]
    }
   ],
   "source": [
    "# Только биграммы\n",
    "tf_idf_bigr_vectorizer = TfidfVectorizer(ngram_range=(2, 2), min_df=10, stop_words=stop_words)\n",
    "\n",
    "X_bigr_train = tf_idf_bigr_vectorizer.fit_transform(train_data['text_lemmas'])\n",
    "X_bigr_valid = tf_idf_bigr_vectorizer.transform(valid_data['text_lemmas'])\n",
    "X_bigr_test  = tf_idf_bigr_vectorizer.transform(test_data['text_lemmas'])\n",
    "\n",
    "print(f'X_bigr_train.shape={X_bigr_train.shape}')\n",
    "print(f'X_bigr_valid.shape={X_bigr_valid.shape}')\n",
    "print(f'X_bigr_test.shape={X_bigr_test.shape}')\n",
    "\n",
    "_, eval_logreg_bigr_valid_score = evaluate_logreg('bigr', 'valid', X_bigr_train, y_train, X_bigr_valid, y_valid)\n",
    "_, eval_lgbmcl_bigr_valid_score = evaluate_lgbmcl('bigr', 'valid', X_bigr_train, y_train, X_bigr_valid, y_valid)"
   ]
  },
  {
   "cell_type": "code",
   "execution_count": 18,
   "id": "dad21c4a-7642-41b5-ade8-1bff7ad15ec8",
   "metadata": {
    "tags": []
   },
   "outputs": [
    {
     "name": "stdout",
     "output_type": "stream",
     "text": [
      "X_unig_bigr_train.shape=(127433, 53761)\n",
      "X_unig_bigr_valid.shape=(15929, 53761)\n",
      "X_unig_bigr_test.shape=(15930, 53761)\n",
      "Модель логистической регрессии, признаки \"unig_bigr\", прогон на \"valid\":\n",
      "\tF1-мера равна : 0.7723\n",
      "Модель градиентного бустинга LGBM, признаки \"unig_bigr\", прогон на \"valid\":\n",
      "\tF1-мера равна : 0.7508\n"
     ]
    }
   ],
   "source": [
    "# Униграммы и биграммы\n",
    "X_unig_bigr_train = scipy.sparse.hstack((X_unig_train, X_bigr_train))\n",
    "X_unig_bigr_valid = scipy.sparse.hstack((X_unig_valid, X_bigr_valid))\n",
    "X_unig_bigr_test  = scipy.sparse.hstack((X_unig_test,  X_bigr_test))\n",
    "\n",
    "print(f'X_unig_bigr_train.shape={X_unig_bigr_train.shape}')\n",
    "print(f'X_unig_bigr_valid.shape={X_unig_bigr_valid.shape}')\n",
    "print(f'X_unig_bigr_test.shape={X_unig_bigr_test.shape}')\n",
    "\n",
    "_, eval_logreg_unig_bigr_valid_score = evaluate_logreg('unig_bigr', 'valid', X_unig_bigr_train, y_train, X_unig_bigr_valid, y_valid)\n",
    "_, eval_lgbmcl_unig_bigr_valid_score = evaluate_lgbmcl('unig_bigr', 'valid', X_unig_bigr_train, y_train, X_unig_bigr_valid, y_valid)\n",
    "\n",
    "del X_unig_train\n",
    "del X_unig_valid\n",
    "del X_unig_test\n",
    "\n",
    "del X_bigr_train\n",
    "del X_bigr_valid\n",
    "del X_bigr_test\n",
    "\n",
    "del X_unig_bigr_train\n",
    "del X_unig_bigr_valid\n",
    "del X_unig_bigr_test"
   ]
  },
  {
   "cell_type": "markdown",
   "id": "4cf49939-9787-40e5-8ddf-373ee0231a42",
   "metadata": {
    "tags": []
   },
   "source": [
    "Сделаем промежуточные выводы по Baseline моделям, построим таблицу с результатами по мере `F1`:"
   ]
  },
  {
   "cell_type": "code",
   "execution_count": 19,
   "id": "9da27ec8-c937-4040-a331-d5953d26e6d5",
   "metadata": {
    "tags": []
   },
   "outputs": [
    {
     "data": {
      "text/html": [
       "<div>\n",
       "<style scoped>\n",
       "    .dataframe tbody tr th:only-of-type {\n",
       "        vertical-align: middle;\n",
       "    }\n",
       "\n",
       "    .dataframe tbody tr th {\n",
       "        vertical-align: top;\n",
       "    }\n",
       "\n",
       "    .dataframe thead th {\n",
       "        text-align: right;\n",
       "    }\n",
       "</style>\n",
       "<table border=\"1\" class=\"dataframe\">\n",
       "  <thead>\n",
       "    <tr style=\"text-align: right;\">\n",
       "      <th></th>\n",
       "      <th>Логистическая регрессия</th>\n",
       "      <th>Градиентный бустинг LGBM</th>\n",
       "    </tr>\n",
       "    <tr>\n",
       "      <th>Признаки</th>\n",
       "      <th></th>\n",
       "      <th></th>\n",
       "    </tr>\n",
       "  </thead>\n",
       "  <tbody>\n",
       "    <tr>\n",
       "      <th>Униграммы</th>\n",
       "      <td>0.7536</td>\n",
       "      <td>0.7525</td>\n",
       "    </tr>\n",
       "    <tr>\n",
       "      <th>Биграммы</th>\n",
       "      <td>0.4172</td>\n",
       "      <td>0.2847</td>\n",
       "    </tr>\n",
       "    <tr>\n",
       "      <th>Униграммы+Биграммы</th>\n",
       "      <td>0.7723</td>\n",
       "      <td>0.7508</td>\n",
       "    </tr>\n",
       "  </tbody>\n",
       "</table>\n",
       "</div>"
      ],
      "text/plain": [
       "                   Логистическая регрессия Градиентный бустинг LGBM\n",
       "Признаки                                                           \n",
       "Униграммы                           0.7536                   0.7525\n",
       "Биграммы                            0.4172                   0.2847\n",
       "Униграммы+Биграммы                  0.7723                   0.7508"
      ]
     },
     "execution_count": 19,
     "metadata": {},
     "output_type": "execute_result"
    }
   ],
   "source": [
    "pd.DataFrame({\n",
    "    'Признаки'                : ['Униграммы', 'Биграммы', 'Униграммы+Биграммы'],\n",
    "    'Логистическая регрессия' : [eval_logreg_unig_valid_score, eval_logreg_bigr_valid_score, eval_logreg_unig_bigr_valid_score],\n",
    "    'Градиентный бустинг LGBM': [eval_lgbmcl_unig_valid_score, eval_lgbmcl_bigr_valid_score, eval_lgbmcl_unig_bigr_valid_score]\n",
    "}).set_index('Признаки')"
   ]
  },
  {
   "cell_type": "markdown",
   "id": "f0dae413-5699-4cdb-a119-da7c2b9ad854",
   "metadata": {
    "tags": []
   },
   "source": [
    "Можно увидеть, что Baseline модели с униграммами в качестве признаков оказались способны побить целевое значение метрики качества `F1` в `0.75`. Впрочем, это был только прогон на валидационной выборке, не тестовой качество могло оказаться и ниже.\n",
    "\n",
    "Модель на основе биграмм показала крайне низкое качество, видимо, такие признаки оказались слишком специфическими. В то же время можно видеть, что добавление биграмм в модель на основе униграмм способствовало небольшому увеличению качества для модели логистической регрессии. Качество модели LGBM осталось примерно на том же уровне.\n",
    "\n",
    "---------------\n",
    "\n",
    "Попробуем всё же сделать что-то для улучшения данных базовых моделей и получения более высокого качества.\n",
    "\n",
    "Поскольку в данной работе мы не будем применять BERT, попытки будут сосредоточены вокруг имеющихся к настоящему моменту результатов работы NLP-пайплайна Spacy, а также некоторых доступных сторонних лингвистических ресурсов."
   ]
  },
  {
   "cell_type": "markdown",
   "id": "b93e23f8-01ac-46af-97a7-401cc1c49ec2",
   "metadata": {},
   "source": [
    "### Шаг 7. Использование синтаксических биграмм в качестве признаков.\n",
    "\n",
    "Мотивацией для использования синтаксических биграмм является то, что они способны дать больше информации о связи между словами.\n",
    "\n",
    "Если простейшая модель на основе \"мешка слов\" совершенно никак не учитывает совместную встречаемость двух или более слов, то факт добавления биграмм в модель уже в какой-то степени исправил этот недостаток - мы стали обладать уже некоторой информацией о том, какие фразы встречаются в тексте, а не только отдельные слова. Но такие биграммы опираются исключительно на расположение в предложении - слова должны быть рядом.\n",
    "\n",
    "Синтаксические биграммы могут помочь дать ещё больше информации, ведь расположение слов близко друг от друга ещё не гарантирует их синтаксической, а значит и смысловой, связанности. Такие биграммы будут опираться не на совместное расположение слов рядом, а на что-то более (в теории) глубокое и, возможно, для нас ценное - синтаксическую связь между словами.\n",
    "\n",
    "Для начала возьмём один короткий комментарий из нашего набора данных:"
   ]
  },
  {
   "cell_type": "code",
   "execution_count": 20,
   "id": "6b5e07f1-1b57-4f49-9f62-2703384aaca8",
   "metadata": {
    "tags": []
   },
   "outputs": [
    {
     "name": "stdout",
     "output_type": "stream",
     "text": [
      "You are a funney man.\n"
     ]
    }
   ],
   "source": [
    "sample_text = 'You are a funney man.'\n",
    "print(sample_text)"
   ]
  },
  {
   "cell_type": "markdown",
   "id": "9e3f6b29-5b3d-4715-8a0c-294d38cd8075",
   "metadata": {},
   "source": [
    "... и посмотрим на его дерево зависимостей, которое мы способны получить через NLP-пайплайн: в текстовом виде:"
   ]
  },
  {
   "cell_type": "code",
   "execution_count": 22,
   "id": "91d8422b-3bf7-4e78-9712-26f7981982c5",
   "metadata": {
    "tags": []
   },
   "outputs": [
    {
     "name": "stdout",
     "output_type": "stream",
     "text": [
      "are ---nsubj--> You\n",
      "are ---ROOT--> are\n",
      "man ---det--> a\n",
      "man ---amod--> funney\n",
      "are ---attr--> man\n",
      "are ---punct--> .\n"
     ]
    }
   ],
   "source": [
    "sample_doc = data['nlp_results'].iloc[923]\n",
    "for token in sample_doc:\n",
    "    print(f'{token.head.text} ---{token.dep_}--> {token.text}')"
   ]
  },
  {
   "cell_type": "markdown",
   "id": "f408988d-6269-4202-8765-a01909d7e04e",
   "metadata": {},
   "source": [
    "... и в более наглядном - графическом:"
   ]
  },
  {
   "cell_type": "markdown",
   "id": "0fa1bcd6-9f9a-49c3-8e76-fd854d4ef0ae",
   "metadata": {},
   "source": [
    "[![HVCr8NV.md.png](https://iili.io/HVCr8NV.md.png)](https://freeimage.host/i/HVCr8NV)"
   ]
  },
  {
   "cell_type": "markdown",
   "id": "7dfef783-0696-456c-a0ae-4b3e69c517a1",
   "metadata": {},
   "source": [
    "Теперь определимся с тем, как мы будем представлять синтаксические биграммы для использования их в нашей модели машинного обучения.\n",
    "\n",
    "Будем представлять их в таком формате:\n",
    "\n",
    "        СЛОВО_ПРЕДОК[СЛОВО_ПОТОМОК]\n",
    "\n",
    "Для нашего примера такие биграммы будут выглядеть следующим образом:\n",
    "\n",
    "`are[You], man[a], man[funney], are[man]`\n",
    "        \n",
    "Чтобы попробовать добавить информацию о типе синтаксической связи, будем кроме этого создавать биграммы, сформированные на основе типов связей. Для нашего примера они примут следующий вид:\n",
    "\n",
    "`ROOT[nsubj], attr[det], attr[compound], ROOT[attr]`\n",
    "\n",
    "Эти два вида биграмм будем сохранять в виде строки, разделяя каждую из биграмм пробелом, чтобы потом их можно было использовать с техникой `TF-IDF` при `n=1` для получения признаков:"
   ]
  },
  {
   "cell_type": "code",
   "execution_count": 23,
   "id": "07ad7a4a-e895-4001-8ca5-2ccb091805ab",
   "metadata": {
    "tags": []
   },
   "outputs": [
    {
     "name": "stdout",
     "output_type": "stream",
     "text": [
      "Биграммы для текста: \"You are a funney man.\"\n",
      "\tСинтаксические биграммы (слова): ['are[You]', 'man[a]', 'man[funney]', 'are[man]']\n",
      "\tСинтаксические биграммы (связи): ['ROOT[nsubj]', 'attr[det]', 'attr[amod]', 'ROOT[attr]']\n",
      "\n",
      "\tРезультирующая строка: are[you] man[a] man[funney] are[man] root[nsubj] attr[det] attr[amod] root[attr]\n"
     ]
    }
   ],
   "source": [
    "def create_syntactic_bigrams_string(nlp_doc, debug=False):\n",
    "    syntactic_bigrams = []\n",
    "    dep_bigrams = []\n",
    "    for token in nlp_doc:\n",
    "        if token.dep_ not in ['ROOT', 'punct']:\n",
    "            syntactic_bigram = f'{token.head.text}[{token.text}]'\n",
    "            syntactic_bigrams.append(syntactic_bigram)\n",
    "        dep_from = token.head.dep_\n",
    "        dep_to = token.dep_\n",
    "        if not (dep_from in ['ROOT', 'punct'] and dep_to in ['ROOT', 'punct']):\n",
    "            dep_bigram = f'{dep_from}[{dep_to}]'\n",
    "            dep_bigrams.append(dep_bigram)\n",
    "\n",
    "    result = str(' '.join(syntactic_bigrams) + ' ' + ' '.join(dep_bigrams)).lower()\n",
    "    if debug:\n",
    "        print(f'Биграммы для текста: \"{nlp_doc.text}\"')\n",
    "        print(f'\\tСинтаксические биграммы (слова): {syntactic_bigrams}')\n",
    "        print(f'\\tСинтаксические биграммы (связи): {dep_bigrams}')\n",
    "        print(f'\\n\\tРезультирующая строка: {result}')\n",
    "\n",
    "    return result\n",
    "\n",
    "_ = create_syntactic_bigrams_string(sample_doc, debug=True)"
   ]
  },
  {
   "cell_type": "markdown",
   "id": "148e3d1b-6c65-4018-9841-8ec1c546061b",
   "metadata": {},
   "source": [
    "Теперь получим данные синтаксические биграммы для нашего всего нашего набора данных:"
   ]
  },
  {
   "cell_type": "code",
   "execution_count": 181,
   "id": "07829d2f-331b-4d35-8343-74cc43710da6",
   "metadata": {},
   "outputs": [
    {
     "data": {
      "text/html": [
       "<div>\n",
       "<style scoped>\n",
       "    .dataframe tbody tr th:only-of-type {\n",
       "        vertical-align: middle;\n",
       "    }\n",
       "\n",
       "    .dataframe tbody tr th {\n",
       "        vertical-align: top;\n",
       "    }\n",
       "\n",
       "    .dataframe thead th {\n",
       "        text-align: right;\n",
       "    }\n",
       "</style>\n",
       "<table border=\"1\" class=\"dataframe\">\n",
       "  <thead>\n",
       "    <tr style=\"text-align: right;\">\n",
       "      <th></th>\n",
       "      <th>toxic</th>\n",
       "      <th>text</th>\n",
       "      <th>text_lemmas</th>\n",
       "      <th>syntactic_bigrams</th>\n",
       "    </tr>\n",
       "  </thead>\n",
       "  <tbody>\n",
       "    <tr>\n",
       "      <th>0</th>\n",
       "      <td>0</td>\n",
       "      <td>Explanation\\nWhy the edits made under my usern...</td>\n",
       "      <td>explanation why the edit make under my usernam...</td>\n",
       "      <td>reverted[explanation] reverted[why] edits[the]...</td>\n",
       "    </tr>\n",
       "    <tr>\n",
       "      <th>1</th>\n",
       "      <td>0</td>\n",
       "      <td>D'aww! He matches this background colour I'm s...</td>\n",
       "      <td>D aww   he match this background colour I be s...</td>\n",
       "      <td>matches[he] colour[this] colour[background] ma...</td>\n",
       "    </tr>\n",
       "    <tr>\n",
       "      <th>2</th>\n",
       "      <td>0</td>\n",
       "      <td>Hey man, I'm really not trying to edit war. It...</td>\n",
       "      <td>hey man   I be really not try to edit war   it...</td>\n",
       "      <td>trying[hey] trying[man] trying[i] trying['m] t...</td>\n",
       "    </tr>\n",
       "    <tr>\n",
       "      <th>3</th>\n",
       "      <td>0</td>\n",
       "      <td>\"\\nMore\\nI can't make any real suggestions on ...</td>\n",
       "      <td>More I can not make any real suggestion on imp...</td>\n",
       "      <td>make[more] make[i] make[ca] make[n't] suggesti...</td>\n",
       "    </tr>\n",
       "    <tr>\n",
       "      <th>4</th>\n",
       "      <td>0</td>\n",
       "      <td>You, sir, are my hero. Any chance you remember...</td>\n",
       "      <td>you   sir   be my hero   any chance you rememb...</td>\n",
       "      <td>are[you] you[sir] hero[my] are[hero] chance[an...</td>\n",
       "    </tr>\n",
       "    <tr>\n",
       "      <th>...</th>\n",
       "      <td>...</td>\n",
       "      <td>...</td>\n",
       "      <td>...</td>\n",
       "      <td>...</td>\n",
       "    </tr>\n",
       "    <tr>\n",
       "      <th>159287</th>\n",
       "      <td>0</td>\n",
       "      <td>\":::::And for the second time of asking, when ...</td>\n",
       "      <td>and for the second time of ask   when your vie...</td>\n",
       "      <td>contradicts[and] contradicts[for] time[the] ti...</td>\n",
       "    </tr>\n",
       "    <tr>\n",
       "      <th>159288</th>\n",
       "      <td>0</td>\n",
       "      <td>You should be ashamed of yourself \\n\\nThat is ...</td>\n",
       "      <td>you should be ashamed of yourself that be a ho...</td>\n",
       "      <td>be[you] be[should] be[ashamed] ashamed[of] of[...</td>\n",
       "    </tr>\n",
       "    <tr>\n",
       "      <th>159289</th>\n",
       "      <td>0</td>\n",
       "      <td>Spitzer \\n\\nUmm, theres no actual article for ...</td>\n",
       "      <td>Spitzer Umm   there s no actual article for pr...</td>\n",
       "      <td>umm[spitzer] s[umm] s[there] article[no] artic...</td>\n",
       "    </tr>\n",
       "    <tr>\n",
       "      <th>159290</th>\n",
       "      <td>0</td>\n",
       "      <td>And it looks like it was actually you who put ...</td>\n",
       "      <td>and it look like it be actually you who put on...</td>\n",
       "      <td>looks[and] looks[it] was[like] was[it] looks[w...</td>\n",
       "    </tr>\n",
       "    <tr>\n",
       "      <th>159291</th>\n",
       "      <td>0</td>\n",
       "      <td>\"\\nAnd ... I really don't think you understand...</td>\n",
       "      <td>and   I really do not think you understand   I...</td>\n",
       "      <td>think[i] think[really] think[do] think[n't] un...</td>\n",
       "    </tr>\n",
       "  </tbody>\n",
       "</table>\n",
       "<p>159292 rows × 4 columns</p>\n",
       "</div>"
      ],
      "text/plain": [
       "        toxic                                               text  \\\n",
       "0           0  Explanation\\nWhy the edits made under my usern...   \n",
       "1           0  D'aww! He matches this background colour I'm s...   \n",
       "2           0  Hey man, I'm really not trying to edit war. It...   \n",
       "3           0  \"\\nMore\\nI can't make any real suggestions on ...   \n",
       "4           0  You, sir, are my hero. Any chance you remember...   \n",
       "...       ...                                                ...   \n",
       "159287      0  \":::::And for the second time of asking, when ...   \n",
       "159288      0  You should be ashamed of yourself \\n\\nThat is ...   \n",
       "159289      0  Spitzer \\n\\nUmm, theres no actual article for ...   \n",
       "159290      0  And it looks like it was actually you who put ...   \n",
       "159291      0  \"\\nAnd ... I really don't think you understand...   \n",
       "\n",
       "                                              text_lemmas  \\\n",
       "0       explanation why the edit make under my usernam...   \n",
       "1       D aww   he match this background colour I be s...   \n",
       "2       hey man   I be really not try to edit war   it...   \n",
       "3       More I can not make any real suggestion on imp...   \n",
       "4       you   sir   be my hero   any chance you rememb...   \n",
       "...                                                   ...   \n",
       "159287  and for the second time of ask   when your vie...   \n",
       "159288  you should be ashamed of yourself that be a ho...   \n",
       "159289  Spitzer Umm   there s no actual article for pr...   \n",
       "159290  and it look like it be actually you who put on...   \n",
       "159291  and   I really do not think you understand   I...   \n",
       "\n",
       "                                        syntactic_bigrams  \n",
       "0       reverted[explanation] reverted[why] edits[the]...  \n",
       "1       matches[he] colour[this] colour[background] ma...  \n",
       "2       trying[hey] trying[man] trying[i] trying['m] t...  \n",
       "3       make[more] make[i] make[ca] make[n't] suggesti...  \n",
       "4       are[you] you[sir] hero[my] are[hero] chance[an...  \n",
       "...                                                   ...  \n",
       "159287  contradicts[and] contradicts[for] time[the] ti...  \n",
       "159288  be[you] be[should] be[ashamed] ashamed[of] of[...  \n",
       "159289  umm[spitzer] s[umm] s[there] article[no] artic...  \n",
       "159290  looks[and] looks[it] was[like] was[it] looks[w...  \n",
       "159291  think[i] think[really] think[do] think[n't] un...  \n",
       "\n",
       "[159292 rows x 4 columns]"
      ]
     },
     "metadata": {},
     "output_type": "display_data"
    }
   ],
   "source": [
    "data['syntactic_bigrams'] = data['nlp_results'].apply(create_syntactic_bigrams_string)\n",
    "data.drop(['nlp_results'], axis=1, inplace=True)\n",
    "display(data)"
   ]
  },
  {
   "cell_type": "markdown",
   "id": "89ed7d4d-78ea-4b72-b8a7-3e35d0fc3136",
   "metadata": {},
   "source": [
    "Имея разделённые пробелом синтаксические биграммы в столбце `syntactic_bigrams`, мы можем теперь векторизовать данный столбец как униграммы с применением `TF-IDF`.\n",
    "\n",
    "Наконец, обучим логистическую регрессию и модель градиентного бустинга LGBM только на признаках, полученных из синтаксических биграмм:"
   ]
  },
  {
   "cell_type": "code",
   "execution_count": 182,
   "id": "cda632ce-f765-4fe2-baef-67cd3cfee484",
   "metadata": {
    "tags": []
   },
   "outputs": [
    {
     "name": "stdout",
     "output_type": "stream",
     "text": [
      "X_synt_train.shape=(127433, 19710)\n",
      "X_synt_valid.shape=(15929, 19710)\n",
      "X_synt_test.shape=(15930, 19710)\n",
      "Модель логистической регрессии, признаки \"synt\", прогон на \"valid\":\n",
      "\tF1-мера равна : 0.7039\n",
      "Модель градиентного бустинга LGBM, признаки \"synt\", прогон на \"valid\":\n",
      "\tF1-мера равна : 0.6965\n"
     ]
    }
   ],
   "source": [
    "train_data = data.loc[train_data_index]\n",
    "valid_data = data.loc[valid_data_index]\n",
    "test_data = data.loc[test_data_index]\n",
    "\n",
    "tf_idf_vectorizer = TfidfVectorizer(ngram_range=(1, 1), min_df=10, stop_words=stop_words)\n",
    "\n",
    "X_synt_train = tf_idf_vectorizer.fit_transform(train_data['syntactic_bigrams'])\n",
    "X_synt_valid = tf_idf_vectorizer.transform(valid_data['syntactic_bigrams'])\n",
    "X_synt_test  = tf_idf_vectorizer.transform(test_data['syntactic_bigrams'])\n",
    "\n",
    "print(f'X_synt_train.shape={X_synt_train.shape}')\n",
    "print(f'X_synt_valid.shape={X_synt_valid.shape}')\n",
    "print(f'X_synt_test.shape={X_synt_test.shape}')\n",
    "\n",
    "_, eval_logreg_synt_valid_score = evaluate_logreg('synt', 'valid', X_synt_train, y_train, X_synt_valid, y_valid)\n",
    "_, eval_lgbmcl_synt_valid_score = evaluate_lgbmcl('synt', 'valid', X_synt_train, y_train, X_synt_valid, y_valid)\n",
    "\n",
    "del X_synt_train\n",
    "del X_synt_valid\n",
    "del X_synt_test"
   ]
  },
  {
   "cell_type": "markdown",
   "id": "14d84f7c-4db0-44a8-b526-7a8e595e4445",
   "metadata": {},
   "source": [
    "Полученные значения `F1` меры для синтаксических биграмм оказались значительно выше, чем значения меры `F1` для обычных биграмм.\n",
    "\n",
    "В то же время, это показатели не дотягивают даже до значений меры `F1`, полученных для модели на униграммах.\n",
    "\n",
    "Возможно, ситуация будет лучше, если мы дополним модель на основе униграмм синтаксическими биграммами, сделаем это позднее."
   ]
  },
  {
   "cell_type": "markdown",
   "id": "4c615833-9217-48a2-b034-0d75d83b9bfc",
   "metadata": {},
   "source": [
    "### Шаг 8. Использование словарей тональной лексики.\n",
    "\n",
    "Теперь попробуем воспользоваться имеющимися в открытом доступе тональными словарями для добавления новых признаков.\n",
    "\n",
    "Использовать будем два из них:\n",
    "\n",
    "1. **AFINN** - это [словарь](http://corpustext.com/reference/sentiment_afinn.html) из `3382` слов, которые имеют рейтинг от `-5` (максимальный негатив) до `+5` (максимальный позитив);\n",
    "\n",
    "2. **NRC Lexicon** - это [список](https://saifmohammad.com/WebPages/NRC-Emotion-Lexicon.htm) из `14182` слов, которые отмечены как связанные (`1`) или не связанные (`0`) с `8` эмоциями (*anger*, *fear*, *anticipation*,\n",
    "*trust*, *surprise*, *sadness*, *joy*, *disgust*) и тональностью (*отрицательные* и *положительные*).\n",
    "\n",
    "Доступ к обоим ресурсам получим через Python-модули.\n",
    "\n",
    "Попробуем данные ресурсы в деле."
   ]
  },
  {
   "cell_type": "code",
   "execution_count": 183,
   "id": "4270e0fa-9c2c-4f00-be20-7cce5da645bf",
   "metadata": {},
   "outputs": [
    {
     "name": "stdout",
     "output_type": "stream",
     "text": [
      "Негатив:\n",
      "\tbroken => -1.0\n",
      "\tweak => -2.0\n",
      "\tterrible => -3.0\n",
      "\t:( => -2.0\n",
      "Позитив:\n",
      "\tfine => 2.0\n",
      "\tSUPERB => 5.0\n",
      "\t:) => 2.0\n",
      "\t:))) => 3.0\n"
     ]
    }
   ],
   "source": [
    "# AFINN\n",
    "afinn = Afinn(language='en', emoticons=True)\n",
    "print('Негатив:')\n",
    "print(f'\\tbroken => {afinn.score(\"broken\")}')\n",
    "print(f'\\tweak => {afinn.score(\"weak\")}')\n",
    "print(f'\\tterrible => {afinn.score(\"terrible\")}')\n",
    "print(f'\\t:( => {afinn.score(\" :( \")}')\n",
    "print('Позитив:')\n",
    "print(f'\\tfine => {afinn.score(\"fine\")}')\n",
    "print(f'\\tSUPERB => {afinn.score(\"SUPERB\")}')\n",
    "print(f'\\t:) => {afinn.score(\" :) \")}')\n",
    "print(f'\\t:))) => {afinn.score(\" :))) \")}')"
   ]
  },
  {
   "cell_type": "code",
   "execution_count": 184,
   "id": "5820f2ec-c9a1-411c-97f7-2ba5be1e6224",
   "metadata": {
    "tags": []
   },
   "outputs": [
    {
     "name": "stdout",
     "output_type": "stream",
     "text": [
      "Негатив:\n",
      "\tbroken => {'anger': 1, 'fear': 1, 'negative': 1, 'sadness': 1}\n",
      "\todor => {'negative': 1}\n",
      "\tterrible => {'anger': 1, 'disgust': 1, 'fear': 1, 'negative': 1, 'sadness': 1}\n",
      "\tpanic => {'fear': 1, 'negative': 1}\n",
      "Позитив:\n",
      "\tshine => {'positive': 1}\n",
      "\texcellence => {'disgust': 1, 'joy': 1, 'positive': 1, 'trust': 1}\n",
      "\tsmile => {'joy': 1, 'positive': 1, 'surprise': 1, 'trust': 1}\n",
      "\thappiness => {'anticipation': 1, 'joy': 1, 'positive': 1}\n"
     ]
    }
   ],
   "source": [
    "# NRC Lexicon\n",
    "print('Негатив:')\n",
    "print(f'\\tbroken => {NRCLex(\"broken\").raw_emotion_scores}')\n",
    "print(f'\\todor => {NRCLex(\"odor\").raw_emotion_scores}')\n",
    "print(f'\\tterrible => {NRCLex(\"terrible\").raw_emotion_scores}')\n",
    "print(f'\\tpanic => {NRCLex(\"panic\").raw_emotion_scores}')\n",
    "print('Позитив:')\n",
    "print(f'\\tshine => {NRCLex(\"shine\").raw_emotion_scores}')\n",
    "print(f'\\texcellence => {NRCLex(\"excellence\").raw_emotion_scores}')\n",
    "print(f'\\tsmile => {NRCLex(\"smile\").raw_emotion_scores}')\n",
    "print(f'\\thappiness => {NRCLex(\"happiness\").raw_emotion_scores}')"
   ]
  },
  {
   "cell_type": "markdown",
   "id": "960b2570-fe72-4ecd-9ce3-a5420f70d079",
   "metadata": {},
   "source": [
    "Создадим лексические признаки с использованием описанных выше словарей.\n",
    "\n",
    "- для словаря AFINN будем последовательно оценивать каждый токен, формируя два накопительных итоговых признака - общий позитив и общий негатив. Значения каждого из этих признаков будут формироваться суммированием положительных и отрицательных оценок из AFINN для каждого из токенов текста. В конце выполним нормирование значения признаков, итоговую суммарную оценку на длину отзыва;\n",
    "\n",
    "- для словаря NRC будет действовать схожим образом, но будем формировать сразу `10` признаков - общий позитив, общий негатив и общую оценку по каждой из `8` эмоций, указанных выше. Итоговые значения каждого из этих признаков будем формировать аналогичным образом - выполняя накопительное суммирование соответствующих значений для каждого из токенов текста. Как и в случае выше, здесь тоже сделаем нормировку итоговых значений полученных признаков по длине отзыва."
   ]
  },
  {
   "cell_type": "code",
   "execution_count": 185,
   "id": "f9c778b9-8474-4a50-bb16-d8abcabd43eb",
   "metadata": {
    "tags": []
   },
   "outputs": [
    {
     "data": {
      "text/html": [
       "<div>\n",
       "<style scoped>\n",
       "    .dataframe tbody tr th:only-of-type {\n",
       "        vertical-align: middle;\n",
       "    }\n",
       "\n",
       "    .dataframe tbody tr th {\n",
       "        vertical-align: top;\n",
       "    }\n",
       "\n",
       "    .dataframe thead th {\n",
       "        text-align: right;\n",
       "    }\n",
       "</style>\n",
       "<table border=\"1\" class=\"dataframe\">\n",
       "  <thead>\n",
       "    <tr style=\"text-align: right;\">\n",
       "      <th></th>\n",
       "      <th>toxic</th>\n",
       "      <th>text_lemmas</th>\n",
       "      <th>syntactic_bigrams</th>\n",
       "      <th>afinn_positive</th>\n",
       "      <th>afinn_negative</th>\n",
       "      <th>nrc_anger</th>\n",
       "      <th>nrc_anticipation</th>\n",
       "      <th>nrc_disgust</th>\n",
       "      <th>nrc_fear</th>\n",
       "      <th>nrc_joy</th>\n",
       "      <th>nrc_negative</th>\n",
       "      <th>nrc_positive</th>\n",
       "      <th>nrc_sadness</th>\n",
       "      <th>nrc_surprise</th>\n",
       "      <th>nrc_trust</th>\n",
       "    </tr>\n",
       "  </thead>\n",
       "  <tbody>\n",
       "    <tr>\n",
       "      <th>0</th>\n",
       "      <td>0</td>\n",
       "      <td>explanation why the edit make under my usernam...</td>\n",
       "      <td>reverted[explanation] reverted[why] edits[the]...</td>\n",
       "      <td>0.083333</td>\n",
       "      <td>0.000000</td>\n",
       "      <td>0.020833</td>\n",
       "      <td>0.020833</td>\n",
       "      <td>0.000000</td>\n",
       "      <td>0.020833</td>\n",
       "      <td>0.020833</td>\n",
       "      <td>0.020833</td>\n",
       "      <td>0.041667</td>\n",
       "      <td>0.041667</td>\n",
       "      <td>0.000000</td>\n",
       "      <td>0.000000</td>\n",
       "    </tr>\n",
       "    <tr>\n",
       "      <th>1</th>\n",
       "      <td>0</td>\n",
       "      <td>D aww   he match this background colour I be s...</td>\n",
       "      <td>matches[he] colour[this] colour[background] ma...</td>\n",
       "      <td>0.111111</td>\n",
       "      <td>-0.111111</td>\n",
       "      <td>0.000000</td>\n",
       "      <td>0.000000</td>\n",
       "      <td>0.000000</td>\n",
       "      <td>0.000000</td>\n",
       "      <td>0.000000</td>\n",
       "      <td>0.000000</td>\n",
       "      <td>0.055556</td>\n",
       "      <td>0.000000</td>\n",
       "      <td>0.000000</td>\n",
       "      <td>0.000000</td>\n",
       "    </tr>\n",
       "    <tr>\n",
       "      <th>2</th>\n",
       "      <td>0</td>\n",
       "      <td>hey man   I be really not try to edit war   it...</td>\n",
       "      <td>trying[hey] trying[man] trying[i] trying['m] t...</td>\n",
       "      <td>0.046512</td>\n",
       "      <td>-0.046512</td>\n",
       "      <td>0.000000</td>\n",
       "      <td>0.000000</td>\n",
       "      <td>0.000000</td>\n",
       "      <td>0.023256</td>\n",
       "      <td>0.000000</td>\n",
       "      <td>0.023256</td>\n",
       "      <td>0.093023</td>\n",
       "      <td>0.000000</td>\n",
       "      <td>0.000000</td>\n",
       "      <td>0.046512</td>\n",
       "    </tr>\n",
       "    <tr>\n",
       "      <th>3</th>\n",
       "      <td>0</td>\n",
       "      <td>More I can not make any real suggestion on imp...</td>\n",
       "      <td>make[more] make[i] make[ca] make[n't] suggesti...</td>\n",
       "      <td>0.036036</td>\n",
       "      <td>-0.036036</td>\n",
       "      <td>0.009009</td>\n",
       "      <td>0.000000</td>\n",
       "      <td>0.009009</td>\n",
       "      <td>0.009009</td>\n",
       "      <td>0.009009</td>\n",
       "      <td>0.009009</td>\n",
       "      <td>0.027027</td>\n",
       "      <td>0.009009</td>\n",
       "      <td>0.009009</td>\n",
       "      <td>0.027027</td>\n",
       "    </tr>\n",
       "    <tr>\n",
       "      <th>4</th>\n",
       "      <td>0</td>\n",
       "      <td>you   sir   be my hero   any chance you rememb...</td>\n",
       "      <td>are[you] you[sir] hero[my] are[hero] chance[an...</td>\n",
       "      <td>0.285714</td>\n",
       "      <td>0.000000</td>\n",
       "      <td>0.000000</td>\n",
       "      <td>0.071429</td>\n",
       "      <td>0.000000</td>\n",
       "      <td>0.000000</td>\n",
       "      <td>0.071429</td>\n",
       "      <td>0.000000</td>\n",
       "      <td>0.142857</td>\n",
       "      <td>0.000000</td>\n",
       "      <td>0.142857</td>\n",
       "      <td>0.142857</td>\n",
       "    </tr>\n",
       "    <tr>\n",
       "      <th>...</th>\n",
       "      <td>...</td>\n",
       "      <td>...</td>\n",
       "      <td>...</td>\n",
       "      <td>...</td>\n",
       "      <td>...</td>\n",
       "      <td>...</td>\n",
       "      <td>...</td>\n",
       "      <td>...</td>\n",
       "      <td>...</td>\n",
       "      <td>...</td>\n",
       "      <td>...</td>\n",
       "      <td>...</td>\n",
       "      <td>...</td>\n",
       "      <td>...</td>\n",
       "      <td>...</td>\n",
       "    </tr>\n",
       "    <tr>\n",
       "      <th>159287</th>\n",
       "      <td>0</td>\n",
       "      <td>and for the second time of ask   when your vie...</td>\n",
       "      <td>contradicts[and] contradicts[for] time[the] ti...</td>\n",
       "      <td>0.130435</td>\n",
       "      <td>0.000000</td>\n",
       "      <td>0.021739</td>\n",
       "      <td>0.021739</td>\n",
       "      <td>0.000000</td>\n",
       "      <td>0.000000</td>\n",
       "      <td>0.000000</td>\n",
       "      <td>0.021739</td>\n",
       "      <td>0.043478</td>\n",
       "      <td>0.000000</td>\n",
       "      <td>0.000000</td>\n",
       "      <td>0.021739</td>\n",
       "    </tr>\n",
       "    <tr>\n",
       "      <th>159288</th>\n",
       "      <td>0</td>\n",
       "      <td>you should be ashamed of yourself that be a ho...</td>\n",
       "      <td>be[you] be[should] be[ashamed] ashamed[of] of[...</td>\n",
       "      <td>0.000000</td>\n",
       "      <td>-0.227273</td>\n",
       "      <td>0.045455</td>\n",
       "      <td>0.000000</td>\n",
       "      <td>0.090909</td>\n",
       "      <td>0.045455</td>\n",
       "      <td>0.000000</td>\n",
       "      <td>0.090909</td>\n",
       "      <td>0.045455</td>\n",
       "      <td>0.045455</td>\n",
       "      <td>0.000000</td>\n",
       "      <td>0.000000</td>\n",
       "    </tr>\n",
       "    <tr>\n",
       "      <th>159289</th>\n",
       "      <td>0</td>\n",
       "      <td>Spitzer Umm   there s no actual article for pr...</td>\n",
       "      <td>umm[spitzer] s[umm] s[there] article[no] artic...</td>\n",
       "      <td>0.000000</td>\n",
       "      <td>-0.083333</td>\n",
       "      <td>0.083333</td>\n",
       "      <td>0.000000</td>\n",
       "      <td>0.083333</td>\n",
       "      <td>0.000000</td>\n",
       "      <td>0.000000</td>\n",
       "      <td>0.166667</td>\n",
       "      <td>0.166667</td>\n",
       "      <td>0.083333</td>\n",
       "      <td>0.000000</td>\n",
       "      <td>0.000000</td>\n",
       "    </tr>\n",
       "    <tr>\n",
       "      <th>159290</th>\n",
       "      <td>0</td>\n",
       "      <td>and it look like it be actually you who put on...</td>\n",
       "      <td>looks[and] looks[it] was[like] was[it] looks[w...</td>\n",
       "      <td>0.076923</td>\n",
       "      <td>0.000000</td>\n",
       "      <td>0.000000</td>\n",
       "      <td>0.000000</td>\n",
       "      <td>0.000000</td>\n",
       "      <td>0.000000</td>\n",
       "      <td>0.000000</td>\n",
       "      <td>0.000000</td>\n",
       "      <td>0.038462</td>\n",
       "      <td>0.000000</td>\n",
       "      <td>0.000000</td>\n",
       "      <td>0.000000</td>\n",
       "    </tr>\n",
       "    <tr>\n",
       "      <th>159291</th>\n",
       "      <td>0</td>\n",
       "      <td>and   I really do not think you understand   I...</td>\n",
       "      <td>think[i] think[really] think[do] think[n't] un...</td>\n",
       "      <td>0.117647</td>\n",
       "      <td>-0.176471</td>\n",
       "      <td>0.058824</td>\n",
       "      <td>0.000000</td>\n",
       "      <td>0.058824</td>\n",
       "      <td>0.058824</td>\n",
       "      <td>0.029412</td>\n",
       "      <td>0.058824</td>\n",
       "      <td>0.058824</td>\n",
       "      <td>0.058824</td>\n",
       "      <td>0.000000</td>\n",
       "      <td>0.029412</td>\n",
       "    </tr>\n",
       "  </tbody>\n",
       "</table>\n",
       "<p>159292 rows × 15 columns</p>\n",
       "</div>"
      ],
      "text/plain": [
       "        toxic                                        text_lemmas  \\\n",
       "0           0  explanation why the edit make under my usernam...   \n",
       "1           0  D aww   he match this background colour I be s...   \n",
       "2           0  hey man   I be really not try to edit war   it...   \n",
       "3           0  More I can not make any real suggestion on imp...   \n",
       "4           0  you   sir   be my hero   any chance you rememb...   \n",
       "...       ...                                                ...   \n",
       "159287      0  and for the second time of ask   when your vie...   \n",
       "159288      0  you should be ashamed of yourself that be a ho...   \n",
       "159289      0  Spitzer Umm   there s no actual article for pr...   \n",
       "159290      0  and it look like it be actually you who put on...   \n",
       "159291      0  and   I really do not think you understand   I...   \n",
       "\n",
       "                                        syntactic_bigrams  afinn_positive  \\\n",
       "0       reverted[explanation] reverted[why] edits[the]...        0.083333   \n",
       "1       matches[he] colour[this] colour[background] ma...        0.111111   \n",
       "2       trying[hey] trying[man] trying[i] trying['m] t...        0.046512   \n",
       "3       make[more] make[i] make[ca] make[n't] suggesti...        0.036036   \n",
       "4       are[you] you[sir] hero[my] are[hero] chance[an...        0.285714   \n",
       "...                                                   ...             ...   \n",
       "159287  contradicts[and] contradicts[for] time[the] ti...        0.130435   \n",
       "159288  be[you] be[should] be[ashamed] ashamed[of] of[...        0.000000   \n",
       "159289  umm[spitzer] s[umm] s[there] article[no] artic...        0.000000   \n",
       "159290  looks[and] looks[it] was[like] was[it] looks[w...        0.076923   \n",
       "159291  think[i] think[really] think[do] think[n't] un...        0.117647   \n",
       "\n",
       "        afinn_negative  nrc_anger  nrc_anticipation  nrc_disgust  nrc_fear  \\\n",
       "0             0.000000   0.020833          0.020833     0.000000  0.020833   \n",
       "1            -0.111111   0.000000          0.000000     0.000000  0.000000   \n",
       "2            -0.046512   0.000000          0.000000     0.000000  0.023256   \n",
       "3            -0.036036   0.009009          0.000000     0.009009  0.009009   \n",
       "4             0.000000   0.000000          0.071429     0.000000  0.000000   \n",
       "...                ...        ...               ...          ...       ...   \n",
       "159287        0.000000   0.021739          0.021739     0.000000  0.000000   \n",
       "159288       -0.227273   0.045455          0.000000     0.090909  0.045455   \n",
       "159289       -0.083333   0.083333          0.000000     0.083333  0.000000   \n",
       "159290        0.000000   0.000000          0.000000     0.000000  0.000000   \n",
       "159291       -0.176471   0.058824          0.000000     0.058824  0.058824   \n",
       "\n",
       "         nrc_joy  nrc_negative  nrc_positive  nrc_sadness  nrc_surprise  \\\n",
       "0       0.020833      0.020833      0.041667     0.041667      0.000000   \n",
       "1       0.000000      0.000000      0.055556     0.000000      0.000000   \n",
       "2       0.000000      0.023256      0.093023     0.000000      0.000000   \n",
       "3       0.009009      0.009009      0.027027     0.009009      0.009009   \n",
       "4       0.071429      0.000000      0.142857     0.000000      0.142857   \n",
       "...          ...           ...           ...          ...           ...   \n",
       "159287  0.000000      0.021739      0.043478     0.000000      0.000000   \n",
       "159288  0.000000      0.090909      0.045455     0.045455      0.000000   \n",
       "159289  0.000000      0.166667      0.166667     0.083333      0.000000   \n",
       "159290  0.000000      0.000000      0.038462     0.000000      0.000000   \n",
       "159291  0.029412      0.058824      0.058824     0.058824      0.000000   \n",
       "\n",
       "        nrc_trust  \n",
       "0        0.000000  \n",
       "1        0.000000  \n",
       "2        0.046512  \n",
       "3        0.027027  \n",
       "4        0.142857  \n",
       "...           ...  \n",
       "159287   0.021739  \n",
       "159288   0.000000  \n",
       "159289   0.000000  \n",
       "159290   0.000000  \n",
       "159291   0.029412  \n",
       "\n",
       "[159292 rows x 15 columns]"
      ]
     },
     "metadata": {},
     "output_type": "display_data"
    }
   ],
   "source": [
    "lexical_features = ['afinn_positive', 'afinn_negative', 'nrc_anger', 'nrc_anticipation', 'nrc_disgust', 'nrc_fear',\n",
    "                    'nrc_joy', 'nrc_negative', 'nrc_positive', 'nrc_sadness', 'nrc_surprise', 'nrc_trust']\n",
    "    \n",
    "if USE_PRECOMPUTED_RESULTS:\n",
    "    lexical_features_numpy = np.load(LEXICAL_FEATURES_FILE)\n",
    "    lexical_features_df = pd.DataFrame(lexical_features_numpy, columns=lexical_features)\n",
    "    data = pd.concat([data, lexical_features_df], axis=1)\n",
    "else:\n",
    "    afinn = Afinn(language='en', emoticons=True)\n",
    "\n",
    "    def add_lexicon_features(text):\n",
    "        tokens = re.split('[?.,\\-!\\s\\\"]', text)\n",
    "        tokens = list(filter(None, tokens))\n",
    "        afinn_scores = get_afinn_scores(tokens)\n",
    "        nrc_scores = get_nrc_scores(tokens)\n",
    "        return afinn_scores + nrc_scores \n",
    "\n",
    "    def get_afinn_scores(tokens):\n",
    "        positive_score = 0.\n",
    "        negative_score = 0.\n",
    "        for t in tokens:\n",
    "            score = afinn.score(t)\n",
    "            if score > 0.:\n",
    "                positive_score += score\n",
    "            else:\n",
    "                negative_score += score\n",
    "        positive_score /= (len(tokens) + 1)\n",
    "        negative_score /= (len(tokens) + 1)\n",
    "        return [positive_score, negative_score]\n",
    "\n",
    "    def get_nrc_scores(tokens):\n",
    "        emotions = {'anger', 'anticipation', 'disgust', 'fear', 'joy',\n",
    "                    'negative', 'positive', 'sadness', 'surprise', 'trust'}\n",
    "        nrc_scores = {k: 0 for k in emotions}\n",
    "        for t in tokens:\n",
    "            scores = NRCLex(t.lower()).raw_emotion_scores\n",
    "            nrc_scores = {k: scores.get(k, 0.) + nrc_scores.get(k, 0.) for k in nrc_scores.keys()}\n",
    "\n",
    "        nrc_scores = {k: v / (len(tokens) + 1) for (k, v) in nrc_scores.items()}\n",
    "        nrc_scores = dict(sorted(nrc_scores.items()))\n",
    "        return list(nrc_scores.values())\n",
    "\n",
    "    data['afinn_positive'],\\\n",
    "    data['afinn_negative'],\\\n",
    "    data['nrc_anger'],\\\n",
    "    data['nrc_anticipation'],\\\n",
    "    data['nrc_disgust'],\\\n",
    "    data['nrc_fear'],\\\n",
    "    data['nrc_joy'],\\\n",
    "    data['nrc_negative'],\\\n",
    "    data['nrc_positive'],\\\n",
    "    data['nrc_sadness'],\\\n",
    "    data['nrc_surprise'],\\\n",
    "    data['nrc_trust'] = zip(*data['text'].apply(add_lexicon_features))\n",
    "\n",
    "    np.save(LEXICAL_FEATURES_FILE, data[lexical_features].values)\n",
    "    \n",
    "data.drop(['text'], axis=1, inplace=True)\n",
    "display(data)"
   ]
  },
  {
   "cell_type": "markdown",
   "id": "fe7914ea-6b04-464b-9f14-652713e19a3d",
   "metadata": {},
   "source": [
    "Теперь сформируем обучающий, валидационный и тестовый наборы на основе лексических признаков.\n",
    "\n",
    "И обучим наши модели логистической регрессии и градиентного бустинга LGBM только на лексических признаках:"
   ]
  },
  {
   "cell_type": "code",
   "execution_count": 186,
   "id": "8daccbb1-34eb-450b-9b73-4b54ce1ee620",
   "metadata": {
    "tags": []
   },
   "outputs": [
    {
     "name": "stdout",
     "output_type": "stream",
     "text": [
      "X_lexi_train.shape=(127433, 12)\n",
      "X_lexi_valid.shape=(15929, 12)\n",
      "X_lexi_test.shape=(15930, 12)\n",
      "Модель логистической регрессии, признаки \"lexi\", прогон на \"valid\":\n",
      "\tF1-мера равна : 0.5379\n",
      "Модель градиентного бустинга LGBM, признаки \"lexi\", прогон на \"valid\":\n",
      "\tF1-мера равна : 0.524\n"
     ]
    }
   ],
   "source": [
    "train_data = data.loc[train_data_index]\n",
    "valid_data = data.loc[valid_data_index]\n",
    "test_data = data.loc[test_data_index]\n",
    "\n",
    "X_lexi_train = train_data[lexical_features]\n",
    "X_lexi_valid = valid_data[lexical_features]\n",
    "X_lexi_test  = test_data[lexical_features]\n",
    "\n",
    "X_lexi_train = scipy.sparse.csr_matrix(X_lexi_train.values)\n",
    "X_lexi_valid = scipy.sparse.csr_matrix(X_lexi_valid.values)\n",
    "X_lexi_test  = scipy.sparse.csr_matrix(X_lexi_test.values)\n",
    "\n",
    "print(f'X_lexi_train.shape={X_lexi_train.shape}')\n",
    "print(f'X_lexi_valid.shape={X_lexi_valid.shape}')\n",
    "print(f'X_lexi_test.shape={X_lexi_test.shape}')\n",
    "\n",
    "_, eval_logreg_lexi_valid_score = evaluate_logreg('lexi', 'valid', X_lexi_train, y_train, X_lexi_valid, y_valid)\n",
    "_, eval_lgbmcl_lexi_valid_score = evaluate_lgbmcl('lexi', 'valid', X_lexi_train, y_train, X_lexi_valid, y_valid)"
   ]
  },
  {
   "cell_type": "markdown",
   "id": "9c6b74ce-f59f-4699-9669-bcfcd588558b",
   "metadata": {},
   "source": [
    "Результаты для данной простой модели весьма посредственные: выше, чем у модели на униграммах, но ниже, чем у всех остальных моделей.\n",
    "\n",
    "Тем не менее, попробуем далее использовать эти лексические признаки для улучшения других моделей."
   ]
  },
  {
   "cell_type": "markdown",
   "id": "4213bd90-f24f-4df2-a3ed-20575631c96d",
   "metadata": {},
   "source": [
    "### Шаг 9. Попытки получения улучшенной модели.\n",
    "\n",
    "Теперь попробуем выполнить обучение наших двух моделей машинного обучения на нескольких комбинациях наборов признаков. Формируем соответствующие `X`-наборы признаков и обучаем наши модели:"
   ]
  },
  {
   "cell_type": "code",
   "execution_count": 187,
   "id": "294fb1ea-a3a8-45ed-9679-f39242ab50b3",
   "metadata": {},
   "outputs": [],
   "source": [
    "train_data = data.loc[train_data_index]\n",
    "valid_data = data.loc[valid_data_index]\n",
    "test_data = data.loc[test_data_index]\n",
    "\n",
    "tf_idf_unig_vectorizer = TfidfVectorizer(ngram_range=(1, 1), min_df=10, stop_words=stop_words)\n",
    "tf_idf_bigr_vectorizer = TfidfVectorizer(ngram_range=(2, 2), min_df=10, stop_words=stop_words)\n",
    "tf_idf_synt_vectorizer = TfidfVectorizer(ngram_range=(1, 1), min_df=10, stop_words=stop_words)\n",
    "\n",
    "X_unig_train = tf_idf_unig_vectorizer.fit_transform(train_data['text_lemmas'])\n",
    "X_unig_valid = tf_idf_unig_vectorizer.transform(valid_data['text_lemmas'])\n",
    "X_unig_test  = tf_idf_unig_vectorizer.transform(test_data['text_lemmas'])\n",
    "\n",
    "X_bigr_train = tf_idf_bigr_vectorizer.fit_transform(train_data['text_lemmas'])\n",
    "X_bigr_valid = tf_idf_bigr_vectorizer.transform(valid_data['text_lemmas'])\n",
    "X_bigr_test  = tf_idf_bigr_vectorizer.transform(test_data['text_lemmas'])\n",
    "\n",
    "X_synt_train = tf_idf_synt_vectorizer.fit_transform(train_data['syntactic_bigrams'])\n",
    "X_synt_valid = tf_idf_synt_vectorizer.transform(valid_data['syntactic_bigrams'])\n",
    "X_synt_test  = tf_idf_synt_vectorizer.transform(test_data['syntactic_bigrams'])\n",
    "\n",
    "del data"
   ]
  },
  {
   "cell_type": "code",
   "execution_count": 188,
   "id": "2e672229-17ff-4d93-bd38-0ab4b8f4a05f",
   "metadata": {
    "tags": []
   },
   "outputs": [
    {
     "name": "stdout",
     "output_type": "stream",
     "text": [
      "Модель логистической регрессии, признаки \"unig_synt\", прогон на \"valid\":\n",
      "\tF1-мера равна : 0.7593\n",
      "Модель градиентного бустинга LGBM, признаки \"unig_synt\", прогон на \"valid\":\n",
      "\tF1-мера равна : 0.7276\n"
     ]
    }
   ],
   "source": [
    "# Униграммы + Синтаксические Биграммы\n",
    "X_unig_synt_train = scipy.sparse.hstack((X_unig_train, X_synt_train))\n",
    "X_unig_synt_valid = scipy.sparse.hstack((X_unig_valid, X_synt_valid))\n",
    "\n",
    "_, eval_logreg_unig_synt_valid_score = evaluate_logreg('unig_synt', 'valid', X_unig_synt_train, y_train, X_unig_synt_valid, y_valid)\n",
    "_, eval_lgbmcl_unig_synt_valid_score = evaluate_lgbmcl('unig_synt', 'valid', X_unig_synt_train, y_train, X_unig_synt_valid, y_valid)\n",
    "\n",
    "del X_unig_synt_train\n",
    "del X_unig_synt_valid"
   ]
  },
  {
   "cell_type": "code",
   "execution_count": 189,
   "id": "190acc73-af44-4b9c-a578-3f0ee2408fd0",
   "metadata": {},
   "outputs": [
    {
     "name": "stdout",
     "output_type": "stream",
     "text": [
      "Модель логистической регрессии, признаки \"unig_lexi\", прогон на \"valid\":\n",
      "\tF1-мера равна : 0.7491\n",
      "Модель градиентного бустинга LGBM, признаки \"unig_lexi\", прогон на \"valid\":\n",
      "\tF1-мера равна : 0.695\n"
     ]
    }
   ],
   "source": [
    "# Униграммы + Словари\n",
    "X_unig_lexi_train = scipy.sparse.hstack((X_unig_train, X_lexi_train))\n",
    "X_unig_lexi_valid = scipy.sparse.hstack((X_unig_valid, X_lexi_valid))\n",
    "\n",
    "_, eval_logreg_unig_lexi_valid_score = evaluate_logreg('unig_lexi', 'valid', X_unig_lexi_train, y_train, X_unig_lexi_valid, y_valid)\n",
    "_, eval_lgbmcl_unig_lexi_valid_score = evaluate_lgbmcl('unig_lexi', 'valid', X_unig_lexi_train, y_train, X_unig_lexi_valid, y_valid)\n",
    "\n",
    "del X_unig_lexi_train\n",
    "del X_unig_lexi_valid"
   ]
  },
  {
   "cell_type": "code",
   "execution_count": 190,
   "id": "cf614acb-452a-4d1b-a1e8-a27520fe27fd",
   "metadata": {},
   "outputs": [
    {
     "name": "stdout",
     "output_type": "stream",
     "text": [
      "Модель логистической регрессии, признаки \"synt_lexi\", прогон на \"valid\":\n",
      "\tF1-мера равна : 0.7144\n",
      "Модель градиентного бустинга LGBM, признаки \"synt_lexi\", прогон на \"valid\":\n",
      "\tF1-мера равна : 0.666\n"
     ]
    }
   ],
   "source": [
    "# Синтаксические Биграммы + Словари\n",
    "X_synt_lexi_train = scipy.sparse.hstack((X_synt_train, X_lexi_train))\n",
    "X_synt_lexi_valid = scipy.sparse.hstack((X_synt_valid, X_lexi_valid))\n",
    "\n",
    "_, eval_logreg_synt_lexi_valid_score = evaluate_logreg('synt_lexi', 'valid', X_synt_lexi_train, y_train, X_synt_lexi_valid, y_valid)\n",
    "_, eval_lgbmcl_synt_lexi_valid_score = evaluate_lgbmcl('synt_lexi', 'valid', X_synt_lexi_train, y_train, X_synt_lexi_valid, y_valid)\n",
    "\n",
    "del X_synt_lexi_train\n",
    "del X_synt_lexi_valid"
   ]
  },
  {
   "cell_type": "code",
   "execution_count": 191,
   "id": "530482de-2a06-4bfd-88d4-468209428573",
   "metadata": {},
   "outputs": [
    {
     "name": "stdout",
     "output_type": "stream",
     "text": [
      "Модель логистической регрессии, признаки \"unig_synt_lexi\", прогон на \"valid\":\n",
      "\tF1-мера равна : 0.7579\n",
      "Модель градиентного бустинга LGBM, признаки \"unig_synt_lexi\", прогон на \"valid\":\n",
      "\tF1-мера равна : 0.6884\n"
     ]
    }
   ],
   "source": [
    "# Униграммы + Синтаксические Биграммы + Словари\n",
    "X_unig_synt_lexi_train = scipy.sparse.hstack((X_unig_train, X_synt_train, X_lexi_train))\n",
    "X_unig_synt_lexi_valid = scipy.sparse.hstack((X_unig_valid, X_synt_valid, X_lexi_valid))\n",
    "X_unig_synt_lexi_test  = scipy.sparse.hstack((X_unig_test,  X_synt_test,  X_lexi_test))\n",
    "\n",
    "_, eval_logreg_unig_synt_lexi_valid_score=evaluate_logreg('unig_synt_lexi', 'valid', X_unig_synt_lexi_train, y_train, X_unig_synt_lexi_valid, y_valid)\n",
    "_, eval_lgbmcl_unig_synt_lexi_valid_score=evaluate_lgbmcl('unig_synt_lexi', 'valid', X_unig_synt_lexi_train, y_train, X_unig_synt_lexi_valid, y_valid)"
   ]
  },
  {
   "cell_type": "code",
   "execution_count": 192,
   "id": "52bda638-ee39-47ea-b58b-56bc9cc7fc49",
   "metadata": {
    "tags": []
   },
   "outputs": [
    {
     "name": "stdout",
     "output_type": "stream",
     "text": [
      "Модель логистической регрессии, признаки \"unig_bigr_synt\", прогон на \"valid\":\n",
      "\tF1-мера равна : 0.7738\n",
      "Модель градиентного бустинга LGBM, признаки \"unig_bigr_synt\", прогон на \"valid\":\n",
      "\tF1-мера равна : 0.7334\n"
     ]
    }
   ],
   "source": [
    "# Униграммы + Биграммы + Синтаксические Биграммы\n",
    "X_unig_bigr_synt_train = scipy.sparse.hstack((X_unig_train, X_bigr_train, X_synt_train))\n",
    "X_unig_bigr_synt_valid = scipy.sparse.hstack((X_unig_valid, X_bigr_valid, X_synt_valid))\n",
    "X_unig_bigr_synt_test  = scipy.sparse.hstack((X_unig_test,  X_bigr_test,  X_synt_test))\n",
    "\n",
    "_, eval_logreg_unig_bigr_synt_valid_score=evaluate_logreg('unig_bigr_synt', 'valid', X_unig_bigr_synt_train, y_train, X_unig_bigr_synt_valid, y_valid)\n",
    "_, eval_lgbmcl_unig_bigr_synt_valid_score=evaluate_lgbmcl('unig_bigr_synt', 'valid', X_unig_bigr_synt_train, y_train, X_unig_bigr_synt_valid, y_valid)"
   ]
  },
  {
   "cell_type": "code",
   "execution_count": 193,
   "id": "b679356b-0a01-4fae-b5c6-d38c36fb6e76",
   "metadata": {
    "tags": []
   },
   "outputs": [
    {
     "name": "stdout",
     "output_type": "stream",
     "text": [
      "Модель логистической регрессии, признаки \"unig_bigr_lexi\", прогон на \"valid\":\n",
      "\tF1-мера равна : 0.7669\n",
      "Модель градиентного бустинга LGBM, признаки \"unig_bigr_lexi\", прогон на \"valid\":\n",
      "\tF1-мера равна : 0.6925\n"
     ]
    }
   ],
   "source": [
    "# Униграммы + Биграммы + Словари\n",
    "X_unig_bigr_lexi_train = scipy.sparse.hstack((X_unig_train, X_bigr_train, X_lexi_train))\n",
    "X_unig_bigr_lexi_valid = scipy.sparse.hstack((X_unig_valid, X_bigr_valid, X_lexi_valid))\n",
    "X_unig_bigr_lexi_test  = scipy.sparse.hstack((X_unig_test,  X_bigr_test,  X_lexi_test))\n",
    "\n",
    "_, eval_logreg_unig_bigr_lexi_valid_score=evaluate_logreg('unig_bigr_lexi', 'valid', X_unig_bigr_lexi_train, y_train, X_unig_bigr_lexi_valid, y_valid)\n",
    "_, eval_lgbmcl_unig_bigr_lexi_valid_score=evaluate_lgbmcl('unig_bigr_lexi', 'valid', X_unig_bigr_lexi_train, y_train, X_unig_bigr_lexi_valid, y_valid)"
   ]
  },
  {
   "cell_type": "code",
   "execution_count": 194,
   "id": "71113dec-e50d-46c9-b7b8-ed6ef93eef1b",
   "metadata": {
    "tags": []
   },
   "outputs": [
    {
     "name": "stdout",
     "output_type": "stream",
     "text": [
      "Модель логистической регрессии, признаки \"unig_bigr_synt_lexi\", прогон на \"valid\":\n",
      "\tF1-мера равна : 0.771\n",
      "Модель градиентного бустинга LGBM, признаки \"unig_bigr_synt_lexi\", прогон на \"valid\":\n",
      "\tF1-мера равна : 0.6905\n"
     ]
    }
   ],
   "source": [
    "# Униграммы + Биграммы + Синтаксические Биграммы + Словари\n",
    "X_unig_bigr_synt_lexi_train = scipy.sparse.hstack((X_unig_train, X_bigr_train, X_synt_train, X_lexi_train))\n",
    "X_unig_bigr_synt_lexi_valid = scipy.sparse.hstack((X_unig_valid, X_bigr_valid, X_synt_valid, X_lexi_valid))\n",
    "X_unig_bigr_synt_lexi_test  = scipy.sparse.hstack((X_unig_test,  X_bigr_test,  X_synt_test , X_lexi_test))\n",
    "\n",
    "_, eval_logreg_unig_bigr_synt_lexi_valid_score = evaluate_logreg('unig_bigr_synt_lexi', 'valid', X_unig_bigr_synt_lexi_train, y_train, X_unig_bigr_synt_lexi_valid, y_valid)\n",
    "_, eval_lgbmcl_unig_bigr_synt_lexi_valid_score = evaluate_lgbmcl('unig_bigr_synt_lexi', 'valid', X_unig_bigr_synt_lexi_train, y_train, X_unig_bigr_synt_lexi_valid, y_valid)"
   ]
  },
  {
   "cell_type": "markdown",
   "id": "fdbe4dc2-1510-4307-a43a-54f112c25808",
   "metadata": {},
   "source": [
    "Построим таблицу, суммаризующую полученные к настощему моменту результаты по мере `F1`:"
   ]
  },
  {
   "cell_type": "code",
   "execution_count": 195,
   "id": "5a708fd9-44fe-4129-ae3a-4b77f60814b1",
   "metadata": {
    "tags": []
   },
   "outputs": [
    {
     "data": {
      "text/html": [
       "<div>\n",
       "<style scoped>\n",
       "    .dataframe tbody tr th:only-of-type {\n",
       "        vertical-align: middle;\n",
       "    }\n",
       "\n",
       "    .dataframe tbody tr th {\n",
       "        vertical-align: top;\n",
       "    }\n",
       "\n",
       "    .dataframe thead th {\n",
       "        text-align: right;\n",
       "    }\n",
       "</style>\n",
       "<table border=\"1\" class=\"dataframe\">\n",
       "  <thead>\n",
       "    <tr style=\"text-align: right;\">\n",
       "      <th></th>\n",
       "      <th>Логистическая регрессия</th>\n",
       "      <th>Градиентный бустинг LGBM</th>\n",
       "    </tr>\n",
       "    <tr>\n",
       "      <th>Признаки</th>\n",
       "      <th></th>\n",
       "      <th></th>\n",
       "    </tr>\n",
       "  </thead>\n",
       "  <tbody>\n",
       "    <tr>\n",
       "      <th>Униграммы</th>\n",
       "      <td>0.7536</td>\n",
       "      <td>0.7525</td>\n",
       "    </tr>\n",
       "    <tr>\n",
       "      <th>Биграммы</th>\n",
       "      <td>0.4172</td>\n",
       "      <td>0.2847</td>\n",
       "    </tr>\n",
       "    <tr>\n",
       "      <th>Униграммы + Биграммы</th>\n",
       "      <td>0.7723</td>\n",
       "      <td>0.7508</td>\n",
       "    </tr>\n",
       "    <tr>\n",
       "      <th>Синтаксические Биграммы</th>\n",
       "      <td>0.7039</td>\n",
       "      <td>0.6965</td>\n",
       "    </tr>\n",
       "    <tr>\n",
       "      <th>Словари</th>\n",
       "      <td>0.5379</td>\n",
       "      <td>0.524</td>\n",
       "    </tr>\n",
       "    <tr>\n",
       "      <th>Униграммы + Синтаксические Биграммы</th>\n",
       "      <td>0.7593</td>\n",
       "      <td>0.7276</td>\n",
       "    </tr>\n",
       "    <tr>\n",
       "      <th>Униграммы + Словари</th>\n",
       "      <td>0.7491</td>\n",
       "      <td>0.695</td>\n",
       "    </tr>\n",
       "    <tr>\n",
       "      <th>Синтаксические Биграммы + Словари</th>\n",
       "      <td>0.7144</td>\n",
       "      <td>0.666</td>\n",
       "    </tr>\n",
       "    <tr>\n",
       "      <th>Униграммы + Синтаксические Биграммы + Словари</th>\n",
       "      <td>0.7579</td>\n",
       "      <td>0.6884</td>\n",
       "    </tr>\n",
       "    <tr>\n",
       "      <th>Униграммы + Биграммы + Синтаксические Биграммы</th>\n",
       "      <td>0.7738</td>\n",
       "      <td>0.7334</td>\n",
       "    </tr>\n",
       "    <tr>\n",
       "      <th>Униграммы + Биграммы + Словари</th>\n",
       "      <td>0.7669</td>\n",
       "      <td>0.6925</td>\n",
       "    </tr>\n",
       "    <tr>\n",
       "      <th>Униграммы + Биграммы + Синтаксические Биграммы + Словари</th>\n",
       "      <td>0.771</td>\n",
       "      <td>0.6905</td>\n",
       "    </tr>\n",
       "  </tbody>\n",
       "</table>\n",
       "</div>"
      ],
      "text/plain": [
       "                                                   Логистическая регрессия  \\\n",
       "Признаки                                                                     \n",
       "Униграммы                                                           0.7536   \n",
       "Биграммы                                                            0.4172   \n",
       "Униграммы + Биграммы                                                0.7723   \n",
       "Синтаксические Биграммы                                             0.7039   \n",
       "Словари                                                             0.5379   \n",
       "Униграммы + Синтаксические Биграммы                                 0.7593   \n",
       "Униграммы + Словари                                                 0.7491   \n",
       "Синтаксические Биграммы + Словари                                   0.7144   \n",
       "Униграммы + Синтаксические Биграммы + Словари                       0.7579   \n",
       "Униграммы + Биграммы + Синтаксические Биграммы                      0.7738   \n",
       "Униграммы + Биграммы + Словари                                      0.7669   \n",
       "Униграммы + Биграммы + Синтаксические Биграммы ...                   0.771   \n",
       "\n",
       "                                                   Градиентный бустинг LGBM  \n",
       "Признаки                                                                     \n",
       "Униграммы                                                            0.7525  \n",
       "Биграммы                                                             0.2847  \n",
       "Униграммы + Биграммы                                                 0.7508  \n",
       "Синтаксические Биграммы                                              0.6965  \n",
       "Словари                                                               0.524  \n",
       "Униграммы + Синтаксические Биграммы                                  0.7276  \n",
       "Униграммы + Словари                                                   0.695  \n",
       "Синтаксические Биграммы + Словари                                     0.666  \n",
       "Униграммы + Синтаксические Биграммы + Словари                        0.6884  \n",
       "Униграммы + Биграммы + Синтаксические Биграммы                       0.7334  \n",
       "Униграммы + Биграммы + Словари                                       0.6925  \n",
       "Униграммы + Биграммы + Синтаксические Биграммы ...                   0.6905  "
      ]
     },
     "metadata": {},
     "output_type": "display_data"
    }
   ],
   "source": [
    "eval_results_dict = {\n",
    "    'Признаки'                 : ['Униграммы', 'Биграммы', 'Униграммы + Биграммы', 'Синтаксические Биграммы',\n",
    "                                  'Словари', 'Униграммы + Синтаксические Биграммы', 'Униграммы + Словари',\n",
    "                                  'Синтаксические Биграммы + Словари', 'Униграммы + Синтаксические Биграммы + Словари',\n",
    "                                  'Униграммы + Биграммы + Синтаксические Биграммы', 'Униграммы + Биграммы + Словари',\n",
    "                                  'Униграммы + Биграммы + Синтаксические Биграммы + Словари'],\n",
    "    'Логистическая регрессия'  : [eval_logreg_unig_valid_score, eval_logreg_bigr_valid_score, eval_logreg_unig_bigr_valid_score, eval_logreg_synt_valid_score,\n",
    "                                  eval_logreg_lexi_valid_score, eval_logreg_unig_synt_valid_score, eval_logreg_unig_lexi_valid_score,\n",
    "                                  eval_logreg_synt_lexi_valid_score, eval_logreg_unig_synt_lexi_valid_score,\n",
    "                                  eval_logreg_unig_bigr_synt_valid_score, eval_logreg_unig_bigr_lexi_valid_score,\n",
    "                                  eval_logreg_unig_bigr_synt_lexi_valid_score],\n",
    "    'Градиентный бустинг LGBM' : [eval_lgbmcl_unig_valid_score, eval_lgbmcl_bigr_valid_score, eval_lgbmcl_unig_bigr_valid_score, eval_lgbmcl_synt_valid_score,\n",
    "                                  eval_lgbmcl_lexi_valid_score, eval_lgbmcl_unig_synt_valid_score, eval_lgbmcl_unig_lexi_valid_score,\n",
    "                                  eval_lgbmcl_synt_lexi_valid_score, eval_lgbmcl_unig_synt_lexi_valid_score,\n",
    "                                  eval_lgbmcl_unig_bigr_synt_valid_score, eval_lgbmcl_unig_bigr_lexi_valid_score,\n",
    "                                  eval_lgbmcl_unig_bigr_synt_lexi_valid_score]\n",
    "    \n",
    "}\n",
    "\n",
    "eval_results_df = pd.DataFrame(eval_results_dict).set_index('Признаки')\n",
    "display(eval_results_df)"
   ]
  },
  {
   "cell_type": "markdown",
   "id": "03232df7-edc2-452b-b015-ad38f27cd4a1",
   "metadata": {},
   "source": [
    "### Шаг 10. Прогон на тестовой выборке.\n",
    "\n",
    "Сформируем выборку, соединив вместе тренировочный и валидационный наборы.\n",
    "\n",
    "В качестве признаков будем использовать \"Униграммы + Биграммы + Синтаксические Биграммы\", посколько именно они показали наиболее высокое качество. Моделью для обучения будет логистическая регрессия."
   ]
  },
  {
   "cell_type": "code",
   "execution_count": 196,
   "id": "f9037b9d-66fe-4a98-b39b-1d0950bf38a9",
   "metadata": {
    "tags": []
   },
   "outputs": [
    {
     "name": "stdout",
     "output_type": "stream",
     "text": [
      "Модель логистической регрессии, признаки \"unig_bigr_synt\", прогон на \"test\":\n",
      "\tF1-мера равна : 0.7589\n"
     ]
    }
   ],
   "source": [
    "X_unig_bigr_synt_train_valid = scipy.sparse.vstack((X_unig_bigr_synt_train, X_unig_bigr_synt_valid))\n",
    "y_train_valid = np.concatenate((y_train, y_valid))\n",
    "\n",
    "_, eval_logreg_unig_bigr_synt_test_score = evaluate_logreg('unig_bigr_synt', 'test', X_unig_bigr_synt_train_valid, y_train_valid, X_unig_bigr_synt_test, y_test)"
   ]
  },
  {
   "cell_type": "markdown",
   "id": "634e7d0a-200a-4a7d-9c10-4d1426c49c12",
   "metadata": {},
   "source": [
    "___________________\n",
    "\n",
    "Итак, итоговым значением меры `F1`, которой удалось добиться, является `0.7589`.\n",
    "\n",
    "___________________"
   ]
  },
  {
   "cell_type": "markdown",
   "id": "1ff13e14-dd47-4595-ad99-b7782f0a721d",
   "metadata": {
    "tags": []
   },
   "source": [
    "Теперь удаляем за собой лишнее - загруженные файлы:"
   ]
  },
  {
   "cell_type": "code",
   "execution_count": null,
   "id": "8e09563a-d2f0-47d1-acbb-58722b0696f3",
   "metadata": {
    "tags": []
   },
   "outputs": [],
   "source": [
    "if os.path.isfile(DOCS_SPACY_FILE):\n",
    "    os.remove(DOCS_SPACY_FILE)\n",
    "if os.path.isfile(LEXICAL_FEATURES_FILE):\n",
    "    os.remove(LEXICAL_FEATURES_FILE)"
   ]
  },
  {
   "cell_type": "markdown",
   "id": "ad0cb142-5142-4f4d-b4c9-531f230c562c",
   "metadata": {},
   "source": [
    "### Шаг 11. Выводы."
   ]
  },
  {
   "cell_type": "markdown",
   "id": "b88681f6-966c-468a-b6dc-bf7d82497ee5",
   "metadata": {},
   "source": [
    "Судя по результатам проведённой работы, уже логистической регрессии было бы достаточно для получения необходимого качества в `0.75` по мере F1. В качестве признаков можно использовать либо просто униграммы, либо дополнить их обыкновенными биграммами, что позволило бы несколько увеличить качество.\n",
    "\n",
    "Опыт применения словарей тональной лексики можно признать неудачным.\n",
    "\n",
    "Опыт применения синтаксических биграмм в целом тоже можно назвать таковым, т.е. неудачным. Во всяком случае, то скромнейшее увеличение качества на наборе признаков \"_Униграммы + Биграммы + Синтаксические Биграммы_\" относительно набора признаков \"_Униграммы + Биграммы_\" явно не стоило того количества усилий, которое было вложено в добавление в модель признаков на основе синтаксических связей."
   ]
  }
 ],
 "metadata": {
  "kernelspec": {
   "display_name": "Python 3 (ipykernel)",
   "language": "python",
   "name": "python3"
  },
  "language_info": {
   "codemirror_mode": {
    "name": "ipython",
    "version": 3
   },
   "file_extension": ".py",
   "mimetype": "text/x-python",
   "name": "python",
   "nbconvert_exporter": "python",
   "pygments_lexer": "ipython3",
   "version": "3.10.10"
  }
 },
 "nbformat": 4,
 "nbformat_minor": 5
}
