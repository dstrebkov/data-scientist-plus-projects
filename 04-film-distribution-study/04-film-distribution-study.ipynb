{
 "cells": [
  {
   "cell_type": "markdown",
   "metadata": {
    "id": "sIfNaMOxgFyK"
   },
   "source": [
    "## Исследование данных о российском кинопрокате\n",
    "\n"
   ]
  },
  {
   "cell_type": "markdown",
   "metadata": {
    "id": "3bSlkCsbgFyL"
   },
   "source": [
    "### Шаг 1. Откройте файлы с данными и объедините их в один датафрейм. \n",
    "\n",
    "Объедините данные таким образом, чтобы все объекты из датасета `mkrf_movies` обязательно вошли в получившийся датафрейм. \n",
    "\n",
    "<div id=\"accordion\">\n",
    "    <div class=\"card\">\n",
    "        <div class=\"card-header\" id=\"headingThree\">\n",
    "            <button class=\"btn btn-link collapsed\" data-toggle=\"collapse\" data-target=\"#collapseHint_0\" aria-expanded=\"false\" aria-controls=\"collapseHint_0\">Подсказка</button>\n",
    "        </div>\n",
    "        <div id=\"collapseHint_0\" class=\"collapse\" aria-labelledby=\"headingThree\" data-parent=\"#accordion\">\n",
    "            <div class=\"card-body\">\n",
    "Обратите внимание на тип данных столбца, по которому будете соединять датафреймы. Тип данных этих столбцов должен быть одинаковым в обоих датафреймах.\n",
    "            </div>\n",
    "        </div>\n",
    "    </div>\n",
    "</div>"
   ]
  },
  {
   "cell_type": "code",
   "execution_count": 1,
   "metadata": {
    "id": "dw87FlzMgFyM"
   },
   "outputs": [],
   "source": [
    "import pandas as pd\n",
    "import numpy as np\n",
    "import matplotlib.pyplot as plt\n",
    "import seaborn as sns\n",
    "\n",
    "# Отключаем \"научную запись\" вещественных чисел\n",
    "pd.set_option('display.float_format', lambda x: '%.3f' % x)"
   ]
  },
  {
   "cell_type": "markdown",
   "metadata": {},
   "source": [
    "#### Открытие mkrf_movies.csv"
   ]
  },
  {
   "cell_type": "code",
   "execution_count": 2,
   "metadata": {},
   "outputs": [
    {
     "data": {
      "text/html": [
       "<div>\n",
       "<style scoped>\n",
       "    .dataframe tbody tr th:only-of-type {\n",
       "        vertical-align: middle;\n",
       "    }\n",
       "\n",
       "    .dataframe tbody tr th {\n",
       "        vertical-align: top;\n",
       "    }\n",
       "\n",
       "    .dataframe thead th {\n",
       "        text-align: right;\n",
       "    }\n",
       "</style>\n",
       "<table border=\"1\" class=\"dataframe\">\n",
       "  <thead>\n",
       "    <tr style=\"text-align: right;\">\n",
       "      <th></th>\n",
       "      <th>title</th>\n",
       "      <th>puNumber</th>\n",
       "      <th>show_start_date</th>\n",
       "      <th>type</th>\n",
       "      <th>film_studio</th>\n",
       "      <th>production_country</th>\n",
       "      <th>director</th>\n",
       "      <th>producer</th>\n",
       "      <th>age_restriction</th>\n",
       "      <th>refundable_support</th>\n",
       "      <th>nonrefundable_support</th>\n",
       "      <th>budget</th>\n",
       "      <th>financing_source</th>\n",
       "      <th>ratings</th>\n",
       "      <th>genres</th>\n",
       "    </tr>\n",
       "  </thead>\n",
       "  <tbody>\n",
       "    <tr>\n",
       "      <th>0</th>\n",
       "      <td>Открытый простор</td>\n",
       "      <td>221048915</td>\n",
       "      <td>2015-11-27T12:00:00.000Z</td>\n",
       "      <td>Художественный</td>\n",
       "      <td>Тачстоун Пикчерз, Кобальт Пикчерз, Бикон Пикче...</td>\n",
       "      <td>США</td>\n",
       "      <td>Кевин Костнер</td>\n",
       "      <td>Дэвид Валдес, Кевин Костнер, Джейк Эбертс</td>\n",
       "      <td>«18+» - запрещено для детей</td>\n",
       "      <td>NaN</td>\n",
       "      <td>NaN</td>\n",
       "      <td>NaN</td>\n",
       "      <td>NaN</td>\n",
       "      <td>7.2</td>\n",
       "      <td>боевик,драма,мелодрама</td>\n",
       "    </tr>\n",
       "  </tbody>\n",
       "</table>\n",
       "</div>"
      ],
      "text/plain": [
       "              title   puNumber           show_start_date            type  \\\n",
       "0  Открытый простор  221048915  2015-11-27T12:00:00.000Z  Художественный   \n",
       "\n",
       "                                         film_studio production_country  \\\n",
       "0  Тачстоун Пикчерз, Кобальт Пикчерз, Бикон Пикче...                США   \n",
       "\n",
       "        director                                   producer  \\\n",
       "0  Кевин Костнер  Дэвид Валдес, Кевин Костнер, Джейк Эбертс   \n",
       "\n",
       "               age_restriction  refundable_support  nonrefundable_support  \\\n",
       "0  «18+» - запрещено для детей                 NaN                    NaN   \n",
       "\n",
       "   budget financing_source ratings                  genres  \n",
       "0     NaN              NaN     7.2  боевик,драма,мелодрама  "
      ]
     },
     "metadata": {},
     "output_type": "display_data"
    }
   ],
   "source": [
    "mkrf_movies = pd.read_csv('...')\n",
    "display(mkrf_movies.head(1))"
   ]
  },
  {
   "cell_type": "markdown",
   "metadata": {},
   "source": [
    "Переименуем колонку `puNumber` в `pu_number`:"
   ]
  },
  {
   "cell_type": "code",
   "execution_count": 3,
   "metadata": {},
   "outputs": [
    {
     "data": {
      "text/html": [
       "<div>\n",
       "<style scoped>\n",
       "    .dataframe tbody tr th:only-of-type {\n",
       "        vertical-align: middle;\n",
       "    }\n",
       "\n",
       "    .dataframe tbody tr th {\n",
       "        vertical-align: top;\n",
       "    }\n",
       "\n",
       "    .dataframe thead th {\n",
       "        text-align: right;\n",
       "    }\n",
       "</style>\n",
       "<table border=\"1\" class=\"dataframe\">\n",
       "  <thead>\n",
       "    <tr style=\"text-align: right;\">\n",
       "      <th></th>\n",
       "      <th>title</th>\n",
       "      <th>pu_number</th>\n",
       "      <th>show_start_date</th>\n",
       "      <th>type</th>\n",
       "      <th>film_studio</th>\n",
       "      <th>production_country</th>\n",
       "      <th>director</th>\n",
       "      <th>producer</th>\n",
       "      <th>age_restriction</th>\n",
       "      <th>refundable_support</th>\n",
       "      <th>nonrefundable_support</th>\n",
       "      <th>budget</th>\n",
       "      <th>financing_source</th>\n",
       "      <th>ratings</th>\n",
       "      <th>genres</th>\n",
       "    </tr>\n",
       "  </thead>\n",
       "  <tbody>\n",
       "    <tr>\n",
       "      <th>0</th>\n",
       "      <td>Открытый простор</td>\n",
       "      <td>221048915</td>\n",
       "      <td>2015-11-27T12:00:00.000Z</td>\n",
       "      <td>Художественный</td>\n",
       "      <td>Тачстоун Пикчерз, Кобальт Пикчерз, Бикон Пикче...</td>\n",
       "      <td>США</td>\n",
       "      <td>Кевин Костнер</td>\n",
       "      <td>Дэвид Валдес, Кевин Костнер, Джейк Эбертс</td>\n",
       "      <td>«18+» - запрещено для детей</td>\n",
       "      <td>NaN</td>\n",
       "      <td>NaN</td>\n",
       "      <td>NaN</td>\n",
       "      <td>NaN</td>\n",
       "      <td>7.2</td>\n",
       "      <td>боевик,драма,мелодрама</td>\n",
       "    </tr>\n",
       "  </tbody>\n",
       "</table>\n",
       "</div>"
      ],
      "text/plain": [
       "              title  pu_number           show_start_date            type  \\\n",
       "0  Открытый простор  221048915  2015-11-27T12:00:00.000Z  Художественный   \n",
       "\n",
       "                                         film_studio production_country  \\\n",
       "0  Тачстоун Пикчерз, Кобальт Пикчерз, Бикон Пикче...                США   \n",
       "\n",
       "        director                                   producer  \\\n",
       "0  Кевин Костнер  Дэвид Валдес, Кевин Костнер, Джейк Эбертс   \n",
       "\n",
       "               age_restriction  refundable_support  nonrefundable_support  \\\n",
       "0  «18+» - запрещено для детей                 NaN                    NaN   \n",
       "\n",
       "   budget financing_source ratings                  genres  \n",
       "0     NaN              NaN     7.2  боевик,драма,мелодрама  "
      ]
     },
     "metadata": {},
     "output_type": "display_data"
    }
   ],
   "source": [
    "mkrf_movies = mkrf_movies.rename(columns={'puNumber': 'pu_number'})\n",
    "display(mkrf_movies.head(1))"
   ]
  },
  {
   "cell_type": "markdown",
   "metadata": {},
   "source": [
    "Проверяем, нет ли аномалий среди значений прокатного удостоверения (посколько по нему будем делать слияние `mkrf_movies` и `mkrf_shows`):"
   ]
  },
  {
   "cell_type": "code",
   "execution_count": 4,
   "metadata": {},
   "outputs": [
    {
     "data": {
      "text/plain": [
       "array([' 111004112', '111000110', '111000111', ..., '231001012',\n",
       "       '231001111', 'нет'], dtype=object)"
      ]
     },
     "metadata": {},
     "output_type": "display_data"
    }
   ],
   "source": [
    "display(mkrf_movies['pu_number'].sort_values().unique())"
   ]
  },
  {
   "cell_type": "markdown",
   "metadata": {},
   "source": [
    "Аномалии есть, а именно:\n",
    "\n",
    "- начинающийся в пробела (`' 111004112'`), возможно есть и заканчивающиеся лишним пробелом, попробуем это выяснить далее;\n",
    "\n",
    "- со значением `нет`, также далее оценим их количество\n",
    "\n",
    "Сначала оценим количество фильмов, имеющих пробел в начале или в конце значения в `pu_number`:"
   ]
  },
  {
   "cell_type": "code",
   "execution_count": 5,
   "metadata": {},
   "outputs": [
    {
     "name": "stdout",
     "output_type": "stream",
     "text": [
      "Количество прокатных удостоверений, начинающихся или заканчивающихся пробелом:      1\n"
     ]
    }
   ],
   "source": [
    "startswith_space = mkrf_movies['pu_number'].str.startswith(' ')\n",
    "endswith_space = mkrf_movies['pu_number'].str.endswith(' ')\n",
    "\n",
    "print(f'''Количество прокатных удостоверений, начинающихся или заканчивающихся пробелом:\\\n",
    "      {mkrf_movies[(startswith_space) | (endswith_space)]['pu_number'].count()}''')"
   ]
  },
  {
   "cell_type": "markdown",
   "metadata": {},
   "source": [
    "В принципе, ничего страшного в таких значениях нет, поскольку при приведении поля к целому типу через `astype(int)` такой вид аномалий будет успешно обработан.\n",
    "\n",
    "Что касается фильмов со значением `нет` для столбца `pu_number`, то здесь проблема критичная в том смысле, что вызов `astype(int)` завершится аварийно при попытке выполнить приведение `нет` в целому типу. Оцениваем количество фильмов с такой аномалией:"
   ]
  },
  {
   "cell_type": "code",
   "execution_count": 6,
   "metadata": {},
   "outputs": [
    {
     "name": "stdout",
     "output_type": "stream",
     "text": [
      "Количество прокатных удостоверений со значением \"нет\":      1\n"
     ]
    }
   ],
   "source": [
    "print(f'''Количество прокатных удостоверений со значением \"нет\":\\\n",
    "      {mkrf_movies[mkrf_movies['pu_number'] == 'нет']['pu_number'].count()}''')"
   ]
  },
  {
   "cell_type": "markdown",
   "metadata": {},
   "source": [
    "Такой фильм только один - присваиваем ему значением `-1` и приводим столбец к целому типу:"
   ]
  },
  {
   "cell_type": "code",
   "execution_count": 7,
   "metadata": {},
   "outputs": [
    {
     "name": "stdout",
     "output_type": "stream",
     "text": [
      "<class 'pandas.core.frame.DataFrame'>\n",
      "RangeIndex: 7486 entries, 0 to 7485\n",
      "Data columns (total 15 columns):\n",
      " #   Column                 Non-Null Count  Dtype  \n",
      "---  ------                 --------------  -----  \n",
      " 0   title                  7486 non-null   object \n",
      " 1   pu_number              7486 non-null   int32  \n",
      " 2   show_start_date        7486 non-null   object \n",
      " 3   type                   7486 non-null   object \n",
      " 4   film_studio            7468 non-null   object \n",
      " 5   production_country     7484 non-null   object \n",
      " 6   director               7477 non-null   object \n",
      " 7   producer               6918 non-null   object \n",
      " 8   age_restriction        7486 non-null   object \n",
      " 9   refundable_support     332 non-null    float64\n",
      " 10  nonrefundable_support  332 non-null    float64\n",
      " 11  budget                 332 non-null    float64\n",
      " 12  financing_source       332 non-null    object \n",
      " 13  ratings                6519 non-null   object \n",
      " 14  genres                 6510 non-null   object \n",
      "dtypes: float64(3), int32(1), object(11)\n",
      "memory usage: 848.1+ KB\n"
     ]
    },
    {
     "data": {
      "text/plain": [
       "None"
      ]
     },
     "metadata": {},
     "output_type": "display_data"
    }
   ],
   "source": [
    "mkrf_movies.loc[mkrf_movies['pu_number'] == 'нет', 'pu_number'] = -1\n",
    "mkrf_movies['pu_number'] = mkrf_movies['pu_number'].astype(int)\n",
    "\n",
    "display(mkrf_movies.info())"
   ]
  },
  {
   "cell_type": "markdown",
   "metadata": {},
   "source": [
    "#### Открытие mkrf_shows.csv"
   ]
  },
  {
   "cell_type": "code",
   "execution_count": 8,
   "metadata": {},
   "outputs": [],
   "source": [
    "mkrf_shows = pd.read_csv('https://code.s3.yandex.net/datasets/mkrf_shows.csv')"
   ]
  },
  {
   "cell_type": "markdown",
   "metadata": {},
   "source": [
    "Опять же, переименуем колонку `puNumber` в `pu_number`:"
   ]
  },
  {
   "cell_type": "code",
   "execution_count": 9,
   "metadata": {},
   "outputs": [
    {
     "data": {
      "text/html": [
       "<div>\n",
       "<style scoped>\n",
       "    .dataframe tbody tr th:only-of-type {\n",
       "        vertical-align: middle;\n",
       "    }\n",
       "\n",
       "    .dataframe tbody tr th {\n",
       "        vertical-align: top;\n",
       "    }\n",
       "\n",
       "    .dataframe thead th {\n",
       "        text-align: right;\n",
       "    }\n",
       "</style>\n",
       "<table border=\"1\" class=\"dataframe\">\n",
       "  <thead>\n",
       "    <tr style=\"text-align: right;\">\n",
       "      <th></th>\n",
       "      <th>pu_number</th>\n",
       "      <th>box_office</th>\n",
       "    </tr>\n",
       "  </thead>\n",
       "  <tbody>\n",
       "    <tr>\n",
       "      <th>0</th>\n",
       "      <td>111000113</td>\n",
       "      <td>2450.000</td>\n",
       "    </tr>\n",
       "    <tr>\n",
       "      <th>1</th>\n",
       "      <td>111000115</td>\n",
       "      <td>61040.000</td>\n",
       "    </tr>\n",
       "    <tr>\n",
       "      <th>2</th>\n",
       "      <td>111000116</td>\n",
       "      <td>153030013.400</td>\n",
       "    </tr>\n",
       "  </tbody>\n",
       "</table>\n",
       "</div>"
      ],
      "text/plain": [
       "   pu_number    box_office\n",
       "0  111000113      2450.000\n",
       "1  111000115     61040.000\n",
       "2  111000116 153030013.400"
      ]
     },
     "metadata": {},
     "output_type": "display_data"
    },
    {
     "name": "stdout",
     "output_type": "stream",
     "text": [
      "<class 'pandas.core.frame.DataFrame'>\n",
      "RangeIndex: 3158 entries, 0 to 3157\n",
      "Data columns (total 2 columns):\n",
      " #   Column      Non-Null Count  Dtype  \n",
      "---  ------      --------------  -----  \n",
      " 0   pu_number   3158 non-null   int64  \n",
      " 1   box_office  3158 non-null   float64\n",
      "dtypes: float64(1), int64(1)\n",
      "memory usage: 49.5 KB\n"
     ]
    },
    {
     "data": {
      "text/plain": [
       "None"
      ]
     },
     "metadata": {},
     "output_type": "display_data"
    }
   ],
   "source": [
    "mkrf_shows = mkrf_shows.rename(columns={'puNumber': 'pu_number'})\n",
    "display(mkrf_shows.head(3))\n",
    "display(mkrf_shows.info())"
   ]
  },
  {
   "cell_type": "markdown",
   "metadata": {},
   "source": [
    "Соединим вместе `mkrf_movies` и `mkrf_shows` так, чтобы все значения из `mkrf_movies` обязательно вошли в результирующий датафрейм:"
   ]
  },
  {
   "cell_type": "code",
   "execution_count": 10,
   "metadata": {},
   "outputs": [
    {
     "data": {
      "text/html": [
       "<div>\n",
       "<style scoped>\n",
       "    .dataframe tbody tr th:only-of-type {\n",
       "        vertical-align: middle;\n",
       "    }\n",
       "\n",
       "    .dataframe tbody tr th {\n",
       "        vertical-align: top;\n",
       "    }\n",
       "\n",
       "    .dataframe thead th {\n",
       "        text-align: right;\n",
       "    }\n",
       "</style>\n",
       "<table border=\"1\" class=\"dataframe\">\n",
       "  <thead>\n",
       "    <tr style=\"text-align: right;\">\n",
       "      <th></th>\n",
       "      <th>title</th>\n",
       "      <th>pu_number</th>\n",
       "      <th>show_start_date</th>\n",
       "      <th>type</th>\n",
       "      <th>film_studio</th>\n",
       "      <th>production_country</th>\n",
       "      <th>director</th>\n",
       "      <th>producer</th>\n",
       "      <th>age_restriction</th>\n",
       "      <th>refundable_support</th>\n",
       "      <th>nonrefundable_support</th>\n",
       "      <th>budget</th>\n",
       "      <th>financing_source</th>\n",
       "      <th>ratings</th>\n",
       "      <th>genres</th>\n",
       "      <th>box_office</th>\n",
       "    </tr>\n",
       "  </thead>\n",
       "  <tbody>\n",
       "    <tr>\n",
       "      <th>0</th>\n",
       "      <td>Открытый простор</td>\n",
       "      <td>221048915</td>\n",
       "      <td>2015-11-27T12:00:00.000Z</td>\n",
       "      <td>Художественный</td>\n",
       "      <td>Тачстоун Пикчерз, Кобальт Пикчерз, Бикон Пикче...</td>\n",
       "      <td>США</td>\n",
       "      <td>Кевин Костнер</td>\n",
       "      <td>Дэвид Валдес, Кевин Костнер, Джейк Эбертс</td>\n",
       "      <td>«18+» - запрещено для детей</td>\n",
       "      <td>NaN</td>\n",
       "      <td>NaN</td>\n",
       "      <td>NaN</td>\n",
       "      <td>NaN</td>\n",
       "      <td>7.2</td>\n",
       "      <td>боевик,драма,мелодрама</td>\n",
       "      <td>NaN</td>\n",
       "    </tr>\n",
       "    <tr>\n",
       "      <th>1</th>\n",
       "      <td>Особо важное задание</td>\n",
       "      <td>111013716</td>\n",
       "      <td>2016-09-13T12:00:00.000Z</td>\n",
       "      <td>Художественный</td>\n",
       "      <td>Киностудия \"Мосфильм\"</td>\n",
       "      <td>СССР</td>\n",
       "      <td>Е.Матвеев</td>\n",
       "      <td>NaN</td>\n",
       "      <td>«6+» - для детей старше 6 лет</td>\n",
       "      <td>NaN</td>\n",
       "      <td>NaN</td>\n",
       "      <td>NaN</td>\n",
       "      <td>NaN</td>\n",
       "      <td>6.6</td>\n",
       "      <td>драма,военный</td>\n",
       "      <td>NaN</td>\n",
       "    </tr>\n",
       "    <tr>\n",
       "      <th>2</th>\n",
       "      <td>Особо опасен</td>\n",
       "      <td>221038416</td>\n",
       "      <td>2016-10-10T12:00:00.000Z</td>\n",
       "      <td>Художественный</td>\n",
       "      <td>Юниверсал Пикчерз, Кикстарт Продакшнз, Марк Пл...</td>\n",
       "      <td>США</td>\n",
       "      <td>Тимур Бекмамбетов</td>\n",
       "      <td>Джим Лемли, Джейсон Нетер, Марк Е.Платт, Яйн Смит</td>\n",
       "      <td>«18+» - запрещено для детей</td>\n",
       "      <td>NaN</td>\n",
       "      <td>NaN</td>\n",
       "      <td>NaN</td>\n",
       "      <td>NaN</td>\n",
       "      <td>6.8</td>\n",
       "      <td>фантастика,боевик,триллер</td>\n",
       "      <td>NaN</td>\n",
       "    </tr>\n",
       "  </tbody>\n",
       "</table>\n",
       "</div>"
      ],
      "text/plain": [
       "                  title  pu_number           show_start_date            type  \\\n",
       "0      Открытый простор  221048915  2015-11-27T12:00:00.000Z  Художественный   \n",
       "1  Особо важное задание  111013716  2016-09-13T12:00:00.000Z  Художественный   \n",
       "2          Особо опасен  221038416  2016-10-10T12:00:00.000Z  Художественный   \n",
       "\n",
       "                                         film_studio production_country  \\\n",
       "0  Тачстоун Пикчерз, Кобальт Пикчерз, Бикон Пикче...                США   \n",
       "1                              Киностудия \"Мосфильм\"               СССР   \n",
       "2  Юниверсал Пикчерз, Кикстарт Продакшнз, Марк Пл...                США   \n",
       "\n",
       "            director                                           producer  \\\n",
       "0      Кевин Костнер          Дэвид Валдес, Кевин Костнер, Джейк Эбертс   \n",
       "1          Е.Матвеев                                                NaN   \n",
       "2  Тимур Бекмамбетов  Джим Лемли, Джейсон Нетер, Марк Е.Платт, Яйн Смит   \n",
       "\n",
       "                 age_restriction  refundable_support  nonrefundable_support  \\\n",
       "0    «18+» - запрещено для детей                 NaN                    NaN   \n",
       "1  «6+» - для детей старше 6 лет                 NaN                    NaN   \n",
       "2    «18+» - запрещено для детей                 NaN                    NaN   \n",
       "\n",
       "   budget financing_source ratings                     genres  box_office  \n",
       "0     NaN              NaN     7.2     боевик,драма,мелодрама         NaN  \n",
       "1     NaN              NaN     6.6              драма,военный         NaN  \n",
       "2     NaN              NaN     6.8  фантастика,боевик,триллер         NaN  "
      ]
     },
     "metadata": {},
     "output_type": "display_data"
    },
    {
     "name": "stdout",
     "output_type": "stream",
     "text": [
      "<class 'pandas.core.frame.DataFrame'>\n",
      "Int64Index: 7486 entries, 0 to 7485\n",
      "Data columns (total 16 columns):\n",
      " #   Column                 Non-Null Count  Dtype  \n",
      "---  ------                 --------------  -----  \n",
      " 0   title                  7486 non-null   object \n",
      " 1   pu_number              7486 non-null   int32  \n",
      " 2   show_start_date        7486 non-null   object \n",
      " 3   type                   7486 non-null   object \n",
      " 4   film_studio            7468 non-null   object \n",
      " 5   production_country     7484 non-null   object \n",
      " 6   director               7477 non-null   object \n",
      " 7   producer               6918 non-null   object \n",
      " 8   age_restriction        7486 non-null   object \n",
      " 9   refundable_support     332 non-null    float64\n",
      " 10  nonrefundable_support  332 non-null    float64\n",
      " 11  budget                 332 non-null    float64\n",
      " 12  financing_source       332 non-null    object \n",
      " 13  ratings                6519 non-null   object \n",
      " 14  genres                 6510 non-null   object \n",
      " 15  box_office             3158 non-null   float64\n",
      "dtypes: float64(4), int32(1), object(11)\n",
      "memory usage: 965.0+ KB\n"
     ]
    },
    {
     "data": {
      "text/plain": [
       "None"
      ]
     },
     "metadata": {},
     "output_type": "display_data"
    }
   ],
   "source": [
    "mkrf = mkrf_movies.merge(mkrf_shows, how='left')\n",
    "\n",
    "display(mkrf.head(3))\n",
    "display(mkrf.info())"
   ]
  },
  {
   "cell_type": "markdown",
   "metadata": {
    "id": "KLDGpPG0gFyM"
   },
   "source": [
    "### Шаг 2. Предобработка данных"
   ]
  },
  {
   "cell_type": "markdown",
   "metadata": {
    "id": "ssWwKXsxgFyO"
   },
   "source": [
    "#### Шаг 2.1. Проверьте типы данных\n",
    "\n",
    "- Проверьте типы данных в датафрейме и преобразуйте их там, где это необходимо."
   ]
  },
  {
   "cell_type": "markdown",
   "metadata": {},
   "source": [
    "Глядя на выдачу `mkrf.info()` выше, можно увидеть, что столбец `show_start_date` нуждается в приведении к типу `datetime`.\n",
    "\n",
    "Также посмотрим на столбцы `financing_source` и `ratings`, которые, судя по указанному для них типу `object`, в настоящее время являются строками:"
   ]
  },
  {
   "cell_type": "code",
   "execution_count": 11,
   "metadata": {},
   "outputs": [
    {
     "data": {
      "text/plain": [
       "array([nan, 'Министерство культуры', 'Фонд кино',\n",
       "       'Министерство культуры, Фонд кино'], dtype=object)"
      ]
     },
     "metadata": {},
     "output_type": "display_data"
    },
    {
     "data": {
      "text/plain": [
       "array(['7.2', '6.6', '6.8', '7.7', '8.3', '8.0', '7.8', '8.1', '7.1',\n",
       "       '6.0', '7.4', '5.8', '8.7', '6.3', '6.9', '5.0', '4.3', '7.3',\n",
       "       '7.0', '6.4', nan, '8.2', '7.5', '6.7', '7.9', '5.9', '6.2', '5.6',\n",
       "       '6.5', '2.4', '7.6', '6.1', '8.6', '8.5', '8.8', '5.5', '5.1',\n",
       "       '5.7', '5.4', '99%', '4.4', '4.5', '5.3', '4.1', '8.4', '2.6',\n",
       "       '3.8', '4.6', '4.8', '4.0', '3.0', '1.6', '4.2', '5.2', '4.7',\n",
       "       '4.9', '3.9', '2.7', '3.3', '2.9', '28%', '3.7', '1.4', '3.1',\n",
       "       '97%', '3.5', '3.2', '2.8', '1.5', '2.1', '2.5', '9.2', '3.4',\n",
       "       '1.1', '3.6', '83%', '64%', '91%', '94%', '62%', '79%', '90%',\n",
       "       '19%', '88%', '1.0', '89%', '1.3', '1.9', '1.8', '1.2', '1.7',\n",
       "       '9.0', '98%', '8.9', '9.1'], dtype=object)"
      ]
     },
     "metadata": {},
     "output_type": "display_data"
    }
   ],
   "source": [
    "display(mkrf['financing_source'].unique())\n",
    "display(mkrf['ratings'].unique())"
   ]
  },
  {
   "cell_type": "markdown",
   "metadata": {
    "id": "kVGSplJOgFyO"
   },
   "source": [
    "Оба столбца содержат пропуски. В остальном по своим значениям столбец `financing_source` не вызывает вопросов, а вот в столбце `ratings` наблюдаются странные значения, где в качестве рейтинга указано какое-то значение в процентах, причём появление символа `%`, судя по всему, привело к тому, что и сам столбец приобрёл строковый тип.\n",
    "Попробуем понять, сколько фильмов с рейтингом, содержащим `%`, и что можно с этим сделать."
   ]
  },
  {
   "cell_type": "code",
   "execution_count": 12,
   "metadata": {},
   "outputs": [
    {
     "name": "stdout",
     "output_type": "stream",
     "text": [
      "Фильмов с рейтингом в '%': 29 штук(и)\n"
     ]
    },
    {
     "data": {
      "text/html": [
       "<div>\n",
       "<style scoped>\n",
       "    .dataframe tbody tr th:only-of-type {\n",
       "        vertical-align: middle;\n",
       "    }\n",
       "\n",
       "    .dataframe tbody tr th {\n",
       "        vertical-align: top;\n",
       "    }\n",
       "\n",
       "    .dataframe thead th {\n",
       "        text-align: right;\n",
       "    }\n",
       "</style>\n",
       "<table border=\"1\" class=\"dataframe\">\n",
       "  <thead>\n",
       "    <tr style=\"text-align: right;\">\n",
       "      <th></th>\n",
       "      <th>title</th>\n",
       "      <th>pu_number</th>\n",
       "      <th>show_start_date</th>\n",
       "      <th>director</th>\n",
       "      <th>ratings</th>\n",
       "    </tr>\n",
       "  </thead>\n",
       "  <tbody>\n",
       "    <tr>\n",
       "      <th>259</th>\n",
       "      <td>Прошлое</td>\n",
       "      <td>221030715</td>\n",
       "      <td>2015-07-29T12:00:00.000Z</td>\n",
       "      <td>Эктор Бабенко</td>\n",
       "      <td>99%</td>\n",
       "    </tr>\n",
       "    <tr>\n",
       "      <th>811</th>\n",
       "      <td>От винта!</td>\n",
       "      <td>114000212</td>\n",
       "      <td>2012-08-06T12:00:00.000Z</td>\n",
       "      <td>О.Лопато</td>\n",
       "      <td>28%</td>\n",
       "    </tr>\n",
       "    <tr>\n",
       "      <th>1053</th>\n",
       "      <td>Песочный человек</td>\n",
       "      <td>121029212</td>\n",
       "      <td>2012-11-29T12:00:00.000Z</td>\n",
       "      <td>Питер Луизи</td>\n",
       "      <td>97%</td>\n",
       "    </tr>\n",
       "    <tr>\n",
       "      <th>1341</th>\n",
       "      <td>Сказка о добре и Вре</td>\n",
       "      <td>111008913</td>\n",
       "      <td>2013-11-15T12:00:00.000Z</td>\n",
       "      <td>Е.Шиляева</td>\n",
       "      <td>99%</td>\n",
       "    </tr>\n",
       "    <tr>\n",
       "      <th>1805</th>\n",
       "      <td>Спираль.</td>\n",
       "      <td>111001014</td>\n",
       "      <td>2014-01-30T12:00:00.000Z</td>\n",
       "      <td>А.Волгин</td>\n",
       "      <td>99%</td>\n",
       "    </tr>\n",
       "    <tr>\n",
       "      <th>1874</th>\n",
       "      <td>Короткие истории о любви 2</td>\n",
       "      <td>121002615</td>\n",
       "      <td>2015-02-13T12:00:00.000Z</td>\n",
       "      <td>Мэтью Аувро, Лео Брайдл, Бен Бренд, Ден Кларк,...</td>\n",
       "      <td>83%</td>\n",
       "    </tr>\n",
       "    <tr>\n",
       "      <th>1899</th>\n",
       "      <td>Золушка /По сказке Шарля Перро/. Холодное торж...</td>\n",
       "      <td>121003615</td>\n",
       "      <td>2015-02-27T12:00:00.000Z</td>\n",
       "      <td>Кеннет Брана</td>\n",
       "      <td>64%</td>\n",
       "    </tr>\n",
       "    <tr>\n",
       "      <th>2126</th>\n",
       "      <td>Поездка к матери</td>\n",
       "      <td>111002015</td>\n",
       "      <td>2015-03-02T12:00:00.000Z</td>\n",
       "      <td>М.Косырев-Нестеров</td>\n",
       "      <td>91%</td>\n",
       "    </tr>\n",
       "    <tr>\n",
       "      <th>2146</th>\n",
       "      <td>Главный</td>\n",
       "      <td>111003415</td>\n",
       "      <td>2015-03-27T12:00:00.000Z</td>\n",
       "      <td>Ю.Кара</td>\n",
       "      <td>94%</td>\n",
       "    </tr>\n",
       "    <tr>\n",
       "      <th>2438</th>\n",
       "      <td>Самый рыжий Лис</td>\n",
       "      <td>111012715</td>\n",
       "      <td>2015-07-30T12:00:00.000Z</td>\n",
       "      <td>А.Стреляная</td>\n",
       "      <td>62%</td>\n",
       "    </tr>\n",
       "    <tr>\n",
       "      <th>2680</th>\n",
       "      <td>Год Белого Слона</td>\n",
       "      <td>111003915</td>\n",
       "      <td>2015-04-08T12:00:00.000Z</td>\n",
       "      <td>Ю.Грымов</td>\n",
       "      <td>79%</td>\n",
       "    </tr>\n",
       "    <tr>\n",
       "      <th>3139</th>\n",
       "      <td>Я умею вязать</td>\n",
       "      <td>111019615</td>\n",
       "      <td>2015-11-27T12:00:00.000Z</td>\n",
       "      <td>Н.Степанова при участии С.Иванова</td>\n",
       "      <td>90%</td>\n",
       "    </tr>\n",
       "    <tr>\n",
       "      <th>3431</th>\n",
       "      <td>Наурыз</td>\n",
       "      <td>131000217</td>\n",
       "      <td>2017-03-09T12:00:00.000Z</td>\n",
       "      <td>Аскар Бисембин</td>\n",
       "      <td>19%</td>\n",
       "    </tr>\n",
       "    <tr>\n",
       "      <th>3439</th>\n",
       "      <td>Семь диких историй</td>\n",
       "      <td>126005916</td>\n",
       "      <td>2016-11-28T12:00:00.000Z</td>\n",
       "      <td>М.Бэйкер, Д.Е.Брайант, Д.Рондот, Я.Серсар, Д.С...</td>\n",
       "      <td>88%</td>\n",
       "    </tr>\n",
       "    <tr>\n",
       "      <th>3446</th>\n",
       "      <td>Короткие истории о любви - 4</td>\n",
       "      <td>126006316</td>\n",
       "      <td>2016-12-30T12:00:00.000Z</td>\n",
       "      <td>Д.Адар, П.Антохин, М.Биасин, А.Бурунова, К.Кол...</td>\n",
       "      <td>83%</td>\n",
       "    </tr>\n",
       "    <tr>\n",
       "      <th>3514</th>\n",
       "      <td>Чужой дом</td>\n",
       "      <td>111015516</td>\n",
       "      <td>2016-09-14T12:00:00.000Z</td>\n",
       "      <td>Р.Глурджидзе</td>\n",
       "      <td>91%</td>\n",
       "    </tr>\n",
       "    <tr>\n",
       "      <th>3585</th>\n",
       "      <td>Машины Страшилки. Серия \"Жутчайшая повесть о п...</td>\n",
       "      <td>114003916</td>\n",
       "      <td>2016-12-09T12:00:00.000Z</td>\n",
       "      <td>Д.Червяцов</td>\n",
       "      <td>97%</td>\n",
       "    </tr>\n",
       "    <tr>\n",
       "      <th>3786</th>\n",
       "      <td>Охотники</td>\n",
       "      <td>111017816</td>\n",
       "      <td>2016-02-06T12:00:00.000Z</td>\n",
       "      <td>А.Селиверстов</td>\n",
       "      <td>89%</td>\n",
       "    </tr>\n",
       "    <tr>\n",
       "      <th>3948</th>\n",
       "      <td>Круиз.</td>\n",
       "      <td>211038210</td>\n",
       "      <td>2010-09-03T12:00:00.000Z</td>\n",
       "      <td>И.Ромащенко</td>\n",
       "      <td>97%</td>\n",
       "    </tr>\n",
       "    <tr>\n",
       "      <th>5332</th>\n",
       "      <td>Добыча.</td>\n",
       "      <td>121009411</td>\n",
       "      <td>2011-06-15T12:00:00.000Z</td>\n",
       "      <td>Патрик Сиверсен</td>\n",
       "      <td>88%</td>\n",
       "    </tr>\n",
       "    <tr>\n",
       "      <th>5455</th>\n",
       "      <td>Вечный холод</td>\n",
       "      <td>111006417</td>\n",
       "      <td>2017-08-28T12:00:00.000Z</td>\n",
       "      <td>А.Мигачев</td>\n",
       "      <td>83%</td>\n",
       "    </tr>\n",
       "    <tr>\n",
       "      <th>5821</th>\n",
       "      <td>Свинья</td>\n",
       "      <td>121007018</td>\n",
       "      <td>2018-04-11T12:00:00.000Z</td>\n",
       "      <td>Мани Хагиги</td>\n",
       "      <td>94%</td>\n",
       "    </tr>\n",
       "    <tr>\n",
       "      <th>5910</th>\n",
       "      <td>Мира</td>\n",
       "      <td>112000118</td>\n",
       "      <td>2018-06-04T12:00:00.000Z</td>\n",
       "      <td>Д.Шабаев</td>\n",
       "      <td>94%</td>\n",
       "    </tr>\n",
       "    <tr>\n",
       "      <th>6426</th>\n",
       "      <td>Памятные даты России. Партизаны и подпольщики</td>\n",
       "      <td>112013018</td>\n",
       "      <td>2018-11-28T12:00:00.000Z</td>\n",
       "      <td>Н.Иванова, А.Кузнецова</td>\n",
       "      <td>91%</td>\n",
       "    </tr>\n",
       "    <tr>\n",
       "      <th>6616</th>\n",
       "      <td>ОТ ВОЙНЫ ДО НАШИХ ДНЕЙ</td>\n",
       "      <td>111026518</td>\n",
       "      <td>2019-01-21T12:00:00.000Z</td>\n",
       "      <td>А.Сазонов, Е.Климович, А.Коломеец, С.Черникова...</td>\n",
       "      <td>98%</td>\n",
       "    </tr>\n",
       "    <tr>\n",
       "      <th>6737</th>\n",
       "      <td>Колесо времени</td>\n",
       "      <td>111003219</td>\n",
       "      <td>2019-03-01T12:00:00.000Z</td>\n",
       "      <td>Б.Куломзин</td>\n",
       "      <td>98%</td>\n",
       "    </tr>\n",
       "    <tr>\n",
       "      <th>6882</th>\n",
       "      <td>Животные рядом со Святыми</td>\n",
       "      <td>112003719</td>\n",
       "      <td>2019-05-03T12:00:00.000Z</td>\n",
       "      <td>Т.Мирошник</td>\n",
       "      <td>99%</td>\n",
       "    </tr>\n",
       "    <tr>\n",
       "      <th>7159</th>\n",
       "      <td>Анна Каренина. Интимный дневник</td>\n",
       "      <td>111013919</td>\n",
       "      <td>2019-10-23T12:00:00.000Z</td>\n",
       "      <td>Ю.Грымов</td>\n",
       "      <td>79%</td>\n",
       "    </tr>\n",
       "    <tr>\n",
       "      <th>7277</th>\n",
       "      <td>Добыча</td>\n",
       "      <td>121028319</td>\n",
       "      <td>2019-10-03T12:00:00.000Z</td>\n",
       "      <td>Франк Халфун</td>\n",
       "      <td>88%</td>\n",
       "    </tr>\n",
       "  </tbody>\n",
       "</table>\n",
       "</div>"
      ],
      "text/plain": [
       "                                                  title  pu_number  \\\n",
       "259                                             Прошлое  221030715   \n",
       "811                                           От винта!  114000212   \n",
       "1053                                   Песочный человек  121029212   \n",
       "1341                               Сказка о добре и Вре  111008913   \n",
       "1805                                           Спираль.  111001014   \n",
       "1874                         Короткие истории о любви 2  121002615   \n",
       "1899  Золушка /По сказке Шарля Перро/. Холодное торж...  121003615   \n",
       "2126                                   Поездка к матери  111002015   \n",
       "2146                                            Главный  111003415   \n",
       "2438                                    Самый рыжий Лис  111012715   \n",
       "2680                                   Год Белого Слона  111003915   \n",
       "3139                                      Я умею вязать  111019615   \n",
       "3431                                             Наурыз  131000217   \n",
       "3439                                 Семь диких историй  126005916   \n",
       "3446                       Короткие истории о любви - 4  126006316   \n",
       "3514                                          Чужой дом  111015516   \n",
       "3585  Машины Страшилки. Серия \"Жутчайшая повесть о п...  114003916   \n",
       "3786                                           Охотники  111017816   \n",
       "3948                                             Круиз.  211038210   \n",
       "5332                                            Добыча.  121009411   \n",
       "5455                                       Вечный холод  111006417   \n",
       "5821                                             Свинья  121007018   \n",
       "5910                                               Мира  112000118   \n",
       "6426      Памятные даты России. Партизаны и подпольщики  112013018   \n",
       "6616                             ОТ ВОЙНЫ ДО НАШИХ ДНЕЙ  111026518   \n",
       "6737                                     Колесо времени  111003219   \n",
       "6882                          Животные рядом со Святыми  112003719   \n",
       "7159                    Анна Каренина. Интимный дневник  111013919   \n",
       "7277                                             Добыча  121028319   \n",
       "\n",
       "               show_start_date  \\\n",
       "259   2015-07-29T12:00:00.000Z   \n",
       "811   2012-08-06T12:00:00.000Z   \n",
       "1053  2012-11-29T12:00:00.000Z   \n",
       "1341  2013-11-15T12:00:00.000Z   \n",
       "1805  2014-01-30T12:00:00.000Z   \n",
       "1874  2015-02-13T12:00:00.000Z   \n",
       "1899  2015-02-27T12:00:00.000Z   \n",
       "2126  2015-03-02T12:00:00.000Z   \n",
       "2146  2015-03-27T12:00:00.000Z   \n",
       "2438  2015-07-30T12:00:00.000Z   \n",
       "2680  2015-04-08T12:00:00.000Z   \n",
       "3139  2015-11-27T12:00:00.000Z   \n",
       "3431  2017-03-09T12:00:00.000Z   \n",
       "3439  2016-11-28T12:00:00.000Z   \n",
       "3446  2016-12-30T12:00:00.000Z   \n",
       "3514  2016-09-14T12:00:00.000Z   \n",
       "3585  2016-12-09T12:00:00.000Z   \n",
       "3786  2016-02-06T12:00:00.000Z   \n",
       "3948  2010-09-03T12:00:00.000Z   \n",
       "5332  2011-06-15T12:00:00.000Z   \n",
       "5455  2017-08-28T12:00:00.000Z   \n",
       "5821  2018-04-11T12:00:00.000Z   \n",
       "5910  2018-06-04T12:00:00.000Z   \n",
       "6426  2018-11-28T12:00:00.000Z   \n",
       "6616  2019-01-21T12:00:00.000Z   \n",
       "6737  2019-03-01T12:00:00.000Z   \n",
       "6882  2019-05-03T12:00:00.000Z   \n",
       "7159  2019-10-23T12:00:00.000Z   \n",
       "7277  2019-10-03T12:00:00.000Z   \n",
       "\n",
       "                                               director ratings  \n",
       "259                                       Эктор Бабенко     99%  \n",
       "811                                            О.Лопато     28%  \n",
       "1053                                        Питер Луизи     97%  \n",
       "1341                                          Е.Шиляева     99%  \n",
       "1805                                           А.Волгин     99%  \n",
       "1874  Мэтью Аувро, Лео Брайдл, Бен Бренд, Ден Кларк,...     83%  \n",
       "1899                                       Кеннет Брана     64%  \n",
       "2126                                 М.Косырев-Нестеров     91%  \n",
       "2146                                             Ю.Кара     94%  \n",
       "2438                                        А.Стреляная     62%  \n",
       "2680                                           Ю.Грымов     79%  \n",
       "3139                  Н.Степанова при участии С.Иванова     90%  \n",
       "3431                                     Аскар Бисембин     19%  \n",
       "3439  М.Бэйкер, Д.Е.Брайант, Д.Рондот, Я.Серсар, Д.С...     88%  \n",
       "3446  Д.Адар, П.Антохин, М.Биасин, А.Бурунова, К.Кол...     83%  \n",
       "3514                                       Р.Глурджидзе     91%  \n",
       "3585                                         Д.Червяцов     97%  \n",
       "3786                                      А.Селиверстов     89%  \n",
       "3948                                        И.Ромащенко     97%  \n",
       "5332                                    Патрик Сиверсен     88%  \n",
       "5455                                          А.Мигачев     83%  \n",
       "5821                                        Мани Хагиги     94%  \n",
       "5910                                           Д.Шабаев     94%  \n",
       "6426                             Н.Иванова, А.Кузнецова     91%  \n",
       "6616  А.Сазонов, Е.Климович, А.Коломеец, С.Черникова...     98%  \n",
       "6737                                         Б.Куломзин     98%  \n",
       "6882                                         Т.Мирошник     99%  \n",
       "7159                                           Ю.Грымов     79%  \n",
       "7277                                       Франк Халфун     88%  "
      ]
     },
     "metadata": {},
     "output_type": "display_data"
    }
   ],
   "source": [
    "ratings_with_percent_condition = (mkrf['ratings'].notna()) & (mkrf['ratings'].str.contains('%'))\n",
    "\n",
    "print(f\"Фильмов с рейтингом в '%': {mkrf[ratings_with_percent_condition]['ratings'].count()} штук(и)\")\n",
    "display(mkrf[ratings_with_percent_condition][['title', 'pu_number', 'show_start_date', 'director', 'ratings']])"
   ]
  },
  {
   "cell_type": "markdown",
   "metadata": {},
   "source": [
    "Таких фильмов мало, только `29`.\n",
    "\n",
    "В то же время не очень понятно, как можно привести процентное значение в рейтинг от `0` до `10` - к примеру, фильм \"_Спираль_\" в таблице выше имеет рейтинг `99%`, при этом его рейтинг на сайте \"Кинопоиска\" составляет лишь только `5.046` (https://www.kinopoisk.ru/film/809156/).\n",
    "\n",
    "После поиска ещё части фильмов из таблицы выше на сайте \"Кинопоиска\" было обнаружено, что значительная часть фильмов из этих `29` вообще не имеет рейтинга на данном ресурсе. Поэтому выставим всем таким фильмам значение рейтинга равное `0` (строковое, затем оно будет приведено к типу `float`) как признак того, что у данного фильма нет рейтинга:"
   ]
  },
  {
   "cell_type": "code",
   "execution_count": 13,
   "metadata": {},
   "outputs": [
    {
     "name": "stdout",
     "output_type": "stream",
     "text": [
      "<class 'pandas.core.frame.DataFrame'>\n",
      "Int64Index: 7486 entries, 0 to 7485\n",
      "Data columns (total 16 columns):\n",
      " #   Column                 Non-Null Count  Dtype              \n",
      "---  ------                 --------------  -----              \n",
      " 0   title                  7486 non-null   object             \n",
      " 1   pu_number              7486 non-null   int32              \n",
      " 2   show_start_date        7486 non-null   datetime64[ns, UTC]\n",
      " 3   type                   7486 non-null   object             \n",
      " 4   film_studio            7468 non-null   object             \n",
      " 5   production_country     7484 non-null   object             \n",
      " 6   director               7477 non-null   object             \n",
      " 7   producer               6918 non-null   object             \n",
      " 8   age_restriction        7486 non-null   object             \n",
      " 9   refundable_support     332 non-null    float64            \n",
      " 10  nonrefundable_support  332 non-null    float64            \n",
      " 11  budget                 332 non-null    float64            \n",
      " 12  financing_source       332 non-null    object             \n",
      " 13  ratings                6519 non-null   float64            \n",
      " 14  genres                 6510 non-null   object             \n",
      " 15  box_office             3158 non-null   float64            \n",
      "dtypes: datetime64[ns, UTC](1), float64(5), int32(1), object(9)\n",
      "memory usage: 965.0+ KB\n"
     ]
    }
   ],
   "source": [
    "mkrf.loc[ratings_with_percent_condition, 'ratings'] = '0'\n",
    "\n",
    "# Делаем приведение типов\n",
    "mkrf = mkrf.assign(\n",
    "    # Столбец \"show_start_date\" приводим к \"datetime\"\n",
    "    show_start_date = lambda x: pd.to_datetime(mkrf['show_start_date'], format='%Y-%m-%dT%H:%M:%S.%f'),\n",
    "    \n",
    "    # Столбец \"ratings\" переводим в вещественный тип\n",
    "    ratings = lambda x: pd.to_numeric(x['ratings'])\n",
    ")\n",
    "\n",
    "mkrf.info()"
   ]
  },
  {
   "cell_type": "markdown",
   "metadata": {
    "id": "i0MOLbF-gFyP"
   },
   "source": [
    "#### Шаг 2.2. Изучите пропуски в датафрейме\n",
    "\n",
    "- Объясните, почему заполнили пропуски определённым образом или почему не стали этого делать."
   ]
  },
  {
   "cell_type": "code",
   "execution_count": 14,
   "metadata": {
    "id": "8MJD_lkngFyP"
   },
   "outputs": [
    {
     "data": {
      "text/plain": [
       "title                       0\n",
       "pu_number                   0\n",
       "show_start_date             0\n",
       "type                        0\n",
       "film_studio                18\n",
       "production_country          2\n",
       "director                    9\n",
       "producer                  568\n",
       "age_restriction             0\n",
       "refundable_support       7154\n",
       "nonrefundable_support    7154\n",
       "budget                   7154\n",
       "financing_source         7154\n",
       "ratings                   967\n",
       "genres                    976\n",
       "box_office               4328\n",
       "dtype: int64"
      ]
     },
     "execution_count": 14,
     "metadata": {},
     "output_type": "execute_result"
    }
   ],
   "source": [
    "mkrf.isna().sum()"
   ]
  },
  {
   "cell_type": "markdown",
   "metadata": {},
   "source": [
    "Заполним пропуски в следующих строковых столбцах:\n",
    "\n",
    "- `director`\n",
    "- `genres`\n",
    "- `producer`\n",
    "- `film_studio`\n",
    "-`production_country`\n",
    "\n",
    "Подставим в качестве замены пустую строку. Пустая строка выглядит предпочтительнее пропуска в том аспекте, что ячейка таблицы со значением `NaN` имеет тип `float`, и попытка работы с такой ячейкой как со строкой приведёт к проблеме - возникнет исключение. Но необходимость работы с этими столбцами как со строками вполне может возникнуть далее в ходе исследования, ведь все непустые значения в этих столбцах именно строки."
   ]
  },
  {
   "cell_type": "code",
   "execution_count": 15,
   "metadata": {},
   "outputs": [
    {
     "data": {
      "text/plain": [
       "title                       0\n",
       "pu_number                   0\n",
       "show_start_date             0\n",
       "type                        0\n",
       "film_studio                 0\n",
       "production_country          0\n",
       "director                    0\n",
       "producer                    0\n",
       "age_restriction             0\n",
       "refundable_support       7154\n",
       "nonrefundable_support    7154\n",
       "budget                   7154\n",
       "financing_source         7154\n",
       "ratings                   967\n",
       "genres                      0\n",
       "box_office               4328\n",
       "dtype: int64"
      ]
     },
     "execution_count": 15,
     "metadata": {},
     "output_type": "execute_result"
    }
   ],
   "source": [
    "mkrf[['director', 'genres', 'producer', 'film_studio', 'production_country']] =\\\n",
    "    mkrf[['director', 'genres', 'producer', 'film_studio', 'production_country']].fillna(value='')\n",
    "\n",
    "mkrf.isna().sum()"
   ]
  },
  {
   "cell_type": "markdown",
   "metadata": {
    "id": "4c6k1t9ygFyQ"
   },
   "source": [
    "#### Шаг 2.3. Изучите дубликаты в датафрейме\n",
    "- Проверьте, есть ли в данных дубликаты. Опишите причины, которые могли повлиять на появление дублей."
   ]
  },
  {
   "cell_type": "code",
   "execution_count": 16,
   "metadata": {
    "id": "aKck8RIdgFyQ"
   },
   "outputs": [
    {
     "data": {
      "text/plain": [
       "0"
      ]
     },
     "execution_count": 16,
     "metadata": {},
     "output_type": "execute_result"
    }
   ],
   "source": [
    "mkrf.duplicated().sum()"
   ]
  },
  {
   "cell_type": "markdown",
   "metadata": {},
   "source": [
    "Дубликаты в нашем наборе данных отсутсвуют."
   ]
  },
  {
   "cell_type": "markdown",
   "metadata": {
    "id": "52fOPrEBgFyQ"
   },
   "source": [
    "#### Шаг 2.4. Изучите категориальные значения\n",
    "\n",
    "- Посмотрите, какая общая проблема встречается почти во всех категориальных столбцах;\n",
    "- Исправьте проблемные значения в поле `type`.\n",
    "\n",
    "<div id=\"accordion\">\n",
    "    <div class=\"card\">\n",
    "        <div class=\"card-header\" id=\"headingThree\">\n",
    "            <button class=\"btn btn-link collapsed\" data-toggle=\"collapse\" data-target=\"#collapseHint_1\" aria-expanded=\"false\" aria-controls=\"collapseHint_1\">Подсказка</button>\n",
    "        </div>\n",
    "        <div id=\"collapseHint_1\" class=\"collapse\" aria-labelledby=\"headingThree\" data-parent=\"#accordion\">\n",
    "            <div class=\"card-body\">\n",
    "В поле <code>type</code> есть несколько значений, у которых появился пробел в начале строки. Самый простой способ их «починить» -- использовать метод <a href=\"https://pandas.pydata.org/docs/reference/api/pandas.Series.str.strip.html#pandas.Series.str.strip\">.str.strip</a>. Этот метод удаляет все пробелы, которые встречаются в начале и в конце строки. Применяют его таким образом:<br>\n",
    "<code>df['type'].str.strip()</code>\n",
    "            </div>\n",
    "        </div>\n",
    "    </div>\n",
    "</div>"
   ]
  },
  {
   "cell_type": "markdown",
   "metadata": {},
   "source": [
    "Посмотрим на значения в поле `type`:"
   ]
  },
  {
   "cell_type": "code",
   "execution_count": 17,
   "metadata": {},
   "outputs": [
    {
     "data": {
      "text/plain": [
       "Художественный                4520\n",
       " Художественный               1389\n",
       "Анимационный                   828\n",
       "Прочие                         406\n",
       "Документальный                 288\n",
       "Научно-популярный               53\n",
       "Музыкально-развлекательный       1\n",
       " Анимационный                    1\n",
       "Name: type, dtype: int64"
      ]
     },
     "execution_count": 17,
     "metadata": {},
     "output_type": "execute_result"
    }
   ],
   "source": [
    "mkrf['type'].value_counts()"
   ]
  },
  {
   "cell_type": "markdown",
   "metadata": {},
   "source": [
    "В выдаче выше можно видеть лишние пробельные символы в начале строк \" Художественный\" и \" Анимационный\", избавимся от них и убедимся в том, что это удалось сделать:"
   ]
  },
  {
   "cell_type": "code",
   "execution_count": 18,
   "metadata": {
    "id": "PnXKIVdFgFyR"
   },
   "outputs": [
    {
     "data": {
      "text/plain": [
       "Художественный                5909\n",
       "Анимационный                   829\n",
       "Прочие                         406\n",
       "Документальный                 288\n",
       "Научно-популярный               53\n",
       "Музыкально-развлекательный       1\n",
       "Name: type, dtype: int64"
      ]
     },
     "execution_count": 18,
     "metadata": {},
     "output_type": "execute_result"
    }
   ],
   "source": [
    "mkrf['type'] = mkrf['type'].str.strip()\n",
    "mkrf['type'].value_counts()"
   ]
  },
  {
   "cell_type": "markdown",
   "metadata": {
    "id": "XFSN5lrEgFyR"
   },
   "source": [
    "#### Шаг 2.5. Проверьте количественные значения\n",
    "\n",
    "- Проверьте, обнаружились ли в таких столбцах подозрительные данные. Как с такими данными лучше поступить?\n",
    "\n",
    "<div id=\"accordion\">\n",
    "    <div class=\"card\">\n",
    "        <div class=\"card-header\" id=\"headingThree\">\n",
    "            <button class=\"btn btn-link collapsed\" data-toggle=\"collapse\" data-target=\"#collapseHint_budget\" aria-expanded=\"false\" aria-controls=\"collapseHint_budget\">Подсказка</button>\n",
    "        </div>\n",
    "        <div id=\"collapseHint_budget\" class=\"collapse\" aria-labelledby=\"headingThree\" data-parent=\"#accordion\">\n",
    "            <div class=\"card-body\">\n",
    "Обратите внимание на описание столбца <code>budget</code>. Как этот столбец соотносится с двумя другими: <code>refundable_support</code> и <code>nonrefundable_support</code>?\n",
    "            </div>\n",
    "        </div>\n",
    "    </div>\n",
    "</div>"
   ]
  },
  {
   "cell_type": "markdown",
   "metadata": {},
   "source": [
    "Попробуем исследовать столбцы с количественными значениями по гистограммам, а также воспользуемся методом `DataFrame.describe()` для вывода характеристик распределений:"
   ]
  },
  {
   "cell_type": "code",
   "execution_count": 19,
   "metadata": {},
   "outputs": [
    {
     "data": {
      "text/html": [
       "<div>\n",
       "<style scoped>\n",
       "    .dataframe tbody tr th:only-of-type {\n",
       "        vertical-align: middle;\n",
       "    }\n",
       "\n",
       "    .dataframe tbody tr th {\n",
       "        vertical-align: top;\n",
       "    }\n",
       "\n",
       "    .dataframe thead th {\n",
       "        text-align: right;\n",
       "    }\n",
       "</style>\n",
       "<table border=\"1\" class=\"dataframe\">\n",
       "  <thead>\n",
       "    <tr style=\"text-align: right;\">\n",
       "      <th></th>\n",
       "      <th>refundable_support</th>\n",
       "      <th>nonrefundable_support</th>\n",
       "      <th>budget</th>\n",
       "      <th>box_office</th>\n",
       "    </tr>\n",
       "  </thead>\n",
       "  <tbody>\n",
       "    <tr>\n",
       "      <th>count</th>\n",
       "      <td>332.000</td>\n",
       "      <td>332.000</td>\n",
       "      <td>332.000</td>\n",
       "      <td>3158.000</td>\n",
       "    </tr>\n",
       "    <tr>\n",
       "      <th>mean</th>\n",
       "      <td>11864457.831</td>\n",
       "      <td>48980988.892</td>\n",
       "      <td>127229716.684</td>\n",
       "      <td>76478696.161</td>\n",
       "    </tr>\n",
       "    <tr>\n",
       "      <th>std</th>\n",
       "      <td>24916555.264</td>\n",
       "      <td>59980117.923</td>\n",
       "      <td>188588333.115</td>\n",
       "      <td>240353122.823</td>\n",
       "    </tr>\n",
       "    <tr>\n",
       "      <th>min</th>\n",
       "      <td>0.000</td>\n",
       "      <td>0.000</td>\n",
       "      <td>0.000</td>\n",
       "      <td>0.000</td>\n",
       "    </tr>\n",
       "    <tr>\n",
       "      <th>25%</th>\n",
       "      <td>0.000</td>\n",
       "      <td>25000000.000</td>\n",
       "      <td>42000000.000</td>\n",
       "      <td>86239.000</td>\n",
       "    </tr>\n",
       "    <tr>\n",
       "      <th>50%</th>\n",
       "      <td>0.000</td>\n",
       "      <td>30000000.000</td>\n",
       "      <td>68649916.000</td>\n",
       "      <td>2327987.550</td>\n",
       "    </tr>\n",
       "    <tr>\n",
       "      <th>75%</th>\n",
       "      <td>15000000.000</td>\n",
       "      <td>40375000.000</td>\n",
       "      <td>141985319.500</td>\n",
       "      <td>23979671.025</td>\n",
       "    </tr>\n",
       "    <tr>\n",
       "      <th>max</th>\n",
       "      <td>180000000.000</td>\n",
       "      <td>400000000.000</td>\n",
       "      <td>2305074303.000</td>\n",
       "      <td>3073568690.790</td>\n",
       "    </tr>\n",
       "  </tbody>\n",
       "</table>\n",
       "</div>"
      ],
      "text/plain": [
       "       refundable_support  nonrefundable_support         budget     box_office\n",
       "count             332.000                332.000        332.000       3158.000\n",
       "mean         11864457.831           48980988.892  127229716.684   76478696.161\n",
       "std          24916555.264           59980117.923  188588333.115  240353122.823\n",
       "min                 0.000                  0.000          0.000          0.000\n",
       "25%                 0.000           25000000.000   42000000.000      86239.000\n",
       "50%                 0.000           30000000.000   68649916.000    2327987.550\n",
       "75%          15000000.000           40375000.000  141985319.500   23979671.025\n",
       "max         180000000.000          400000000.000 2305074303.000 3073568690.790"
      ]
     },
     "execution_count": 19,
     "metadata": {},
     "output_type": "execute_result"
    }
   ],
   "source": [
    "def plot_numeric_category_histogram(df, category, bins, ax, range_tuple, xticks):\n",
    "    \"\"\" Строит гистограмму для признака датафрейма \"df\", переданного параметром \"category\" на оси,\n",
    "    переданной параметром \"ax\"\n",
    "    \"\"\"\n",
    "    if range_tuple and xticks:\n",
    "        df[category].plot(kind='hist', bins=bins, range=range_tuple, xticks=xticks, grid=True, ax=ax)\n",
    "        ax.set_title(f'Усечённая гистограмма для категории \"{category}\"', {'fontsize': 13})\n",
    "    else:\n",
    "        df[category].plot(kind='hist', bins=bins, grid=True, ax=ax)\n",
    "        ax.set_title(f'Полная гистограмма для категории \"{category}\"', {'fontsize': 13})\n",
    "        \n",
    "    ax.set_xlabel(category)\n",
    "    ax.set_ylabel('Частота')\n",
    "    ax.ticklabel_format(axis='x', style='plain')\n",
    "    ax.tick_params(axis='x', rotation=90)  \n",
    "\n",
    "# Выводим информацию о распределениях количественных признаков\n",
    "mkrf[['refundable_support', 'nonrefundable_support', 'budget', 'box_office']].describe()"
   ]
  },
  {
   "cell_type": "markdown",
   "metadata": {},
   "source": [
    "Из результатов выше видно, что количество фильмов, для которых известна информация о бюджете и поддержке, крайне невелика - `332` фильма, информация о сборах доступна для б_о_льшего количества фильмов - `3158`.\n",
    "\n",
    "Строим гистограммы - по паре на каждую категорию - в усечённом (для более наглядного представления распределения в районе мод(ы)) и полном вариантах.\n",
    "\n",
    "Начнём с гистограмм для категории возвратных средств поддержки (`refundable_support`):"
   ]
  },
  {
   "cell_type": "code",
   "execution_count": 20,
   "metadata": {},
   "outputs": [
    {
     "data": {
      "image/png": "[encoded data removed]",
      "text/plain": [
       "<Figure size 1152x576 with 2 Axes>"
      ]
     },
     "metadata": {
      "needs_background": "light"
     },
     "output_type": "display_data"
    }
   ],
   "source": [
    "fig, axs = plt.subplots(nrows=1, ncols=2, figsize=(16, 8))\n",
    "\n",
    "range_tuple = (0, 100_000_000)\n",
    "xticks = range(0, 100_000_000, 5_000_000)\n",
    "plot_numeric_category_histogram(mkrf, 'refundable_support', 30, axs[0], range_tuple, xticks)\n",
    "plot_numeric_category_histogram(mkrf, 'refundable_support', 30, axs[1], None, None)"
   ]
  },
  {
   "cell_type": "markdown",
   "metadata": {},
   "source": [
    "Объём возвратных средств господдержки (`refundable_support`) - для данной категории нулём является не только минимальное значение, но также и мода и медиана. Можно сделать осторожный вывод о наличии тенденции очень ограниченного использования возвратных средств, возможно по причинам дополнительных ограничений на компании, которые желают воспользоваться таким способом поддержки, а также в силу того, что получение возвратных средств подразумевает поручительство (https://www.kinometro.ru/news/show/name/fond_kino_gospodderzhka_proizvodstva_5739).\n",
    "\n",
    "В то же время заметим, что максимальным значением в данном поле является `180 млн. ₽`, и на полной гистограмме справа видны всплески частоты после `100 млн. ₽`. Нужно ли что-то делать с такими данными попробуем понять далее, выведя информацию о фильмах с необычно высокими значениями по данной категории.\n",
    "\n",
    "Далее строим гистограммы для категории невозвратных средств поддержки (`nonrefundable_support`):"
   ]
  },
  {
   "cell_type": "code",
   "execution_count": 21,
   "metadata": {},
   "outputs": [
    {
     "data": {
      "image/png": "[encoded data removed]",
      "text/plain": [
       "<Figure size 1152x576 with 2 Axes>"
      ]
     },
     "metadata": {
      "needs_background": "light"
     },
     "output_type": "display_data"
    }
   ],
   "source": [
    "fig, axs = plt.subplots(nrows=1, ncols=2, figsize=(16, 8))\n",
    "\n",
    "range_tuple = (0, 130_000_000)\n",
    "xticks = range(0, 130_000_000, 5_000_000)\n",
    "plot_numeric_category_histogram(mkrf, 'nonrefundable_support', 30, axs[0], range_tuple, xticks)\n",
    "plot_numeric_category_histogram(mkrf, 'nonrefundable_support', 30, axs[1], None, None)"
   ]
  },
  {
   "cell_type": "markdown",
   "metadata": {},
   "source": [
    "Объём невозвратных средств господдержки (`nonrefundable_support`) - здесь нулём является только минимальное значение, медиана - `30 000 000 ₽`, мода тоже около `30 000 000 ₽` (такое значение более чем у `70` фильмов). Среднее значение равно `48 980 988 ₽`, что превосходит медиану и может говорить о том, что в распределении категории присутствуют фильмы с очень высоким значением невозвратных средств. Максимальным значением вновь является крайне высокое значение - `400 млн. ₽`. Здесь на полной гистограмме справа мы снова видим всплески частоты для значений свыше `250 млн. ₽`, попробуем оценить их адекватность далее.\n",
    "\n",
    "Теперь строим гистограммы для категории бюджета (`budget`):"
   ]
  },
  {
   "cell_type": "code",
   "execution_count": 22,
   "metadata": {},
   "outputs": [
    {
     "data": {
      "image/png": "[encoded data removed]",
      "text/plain": [
       "<Figure size 1152x576 with 2 Axes>"
      ]
     },
     "metadata": {
      "needs_background": "light"
     },
     "output_type": "display_data"
    }
   ],
   "source": [
    "fig, axs = plt.subplots(nrows=1, ncols=2, figsize=(16, 8))\n",
    "\n",
    "range_tuple = (0, 125_000_000)\n",
    "xticks = range(0, 125_000_000, 5_000_000)\n",
    "plot_numeric_category_histogram(mkrf, 'budget', 30, axs[0], range_tuple, xticks)\n",
    "plot_numeric_category_histogram(mkrf, 'budget', 30, axs[1], None, None)"
   ]
  },
  {
   "cell_type": "markdown",
   "metadata": {},
   "source": [
    "Бюджет (`budget`) - здесь сразу же бросаются в глаза около 16-17 фильмов, имеющих по какой-то причине нулевой бюджет (это можно видеть на усечённой гистограмме слева). Медиана равна `68 649 916 ₽`, модой является примерно `40 000 000 ₽` (примерно `40` фильмов). Среднее же значение равно `127 229 716 ₽`, что тоже вновь заметно больше медианы, что опять же, судя по всему, говорит о том, что в наборе данных присутствуют фильмы с весьма высоким значением бюджета. Отношение медианы к среднему - `0,53`. Максимальным значением является просто невероятное значение - `2,305 млрд. ₽`, на полной гистограмме справа виден соответствующий всплеск. Крайне интересно будет узнать, что же это был за фильм.\n",
    "\n",
    "Переходим к гистограммам по категории сборов (`box_office`):"
   ]
  },
  {
   "cell_type": "code",
   "execution_count": 23,
   "metadata": {},
   "outputs": [
    {
     "data": {
      "image/png": "[encoded data removed]",
      "text/plain": [
       "<Figure size 1152x576 with 2 Axes>"
      ]
     },
     "metadata": {
      "needs_background": "light"
     },
     "output_type": "display_data"
    }
   ],
   "source": [
    "fig, axs = plt.subplots(nrows=1, ncols=2, figsize=(16, 8))\n",
    "\n",
    "range_tuple = (0, 1_000_000)\n",
    "xticks = range(0, 1_000_000, 30_000)\n",
    "plot_numeric_category_histogram(mkrf, 'box_office', 30, axs[0], range_tuple, xticks)\n",
    "plot_numeric_category_histogram(mkrf, 'box_office', 30, axs[1], None, None)"
   ]
  },
  {
   "cell_type": "markdown",
   "metadata": {},
   "source": [
    "Сборы (`box_office`) - тут на усечённой гистограмме слева виден явный пик для фильмов со сборами менее `30 000 ₽` - почти `700` фильмов, мода данного распределения находится где-то в этом промежутке. Особенно интересны здесь значения среднего и медианы - `76 478 696 ₽` и `2 327 987 ₽` соответственно, что даёт очень любопытное отношение в `0,03` - медиана просто удивительно мала по сравнению со средним - очевидно, что среди половины значений, больших медианного, есть значения крайне превосходящие его. Наверное, можно сделать вывод, что у распределения данного параметра особенно длинный правый хвост, к этому выводу также подталкивает вид полной гистограммы справа. Квартили выглядят тоже весьма показательно - виден явный рост от 1 до 3 квартиля: \n",
    "\n",
    "```\n",
    "    25%        86239.000\n",
    "    50%      2327987.550\n",
    "    75%     23979671.025\n",
    "```\n",
    "\n",
    "Теперь выведем информацию о тех фильмах, которые вызывают вопросы об адекватности после анализа количественных признаков.\n",
    "\n",
    "В частности, вопросы вызывают те фильмы, которые:\n",
    "\n",
    "- имеют значением категории `refundable_support` число более `100 млн. ₽`;\n",
    "- имеют значением категории `nonrefundable_support` число более `250 млн. ₽`;\n",
    "- имеют значением категории `budget` число более `2 млрд. ₽`"
   ]
  },
  {
   "cell_type": "code",
   "execution_count": 24,
   "metadata": {},
   "outputs": [
    {
     "data": {
      "text/html": [
       "<div>\n",
       "<style scoped>\n",
       "    .dataframe tbody tr th:only-of-type {\n",
       "        vertical-align: middle;\n",
       "    }\n",
       "\n",
       "    .dataframe tbody tr th {\n",
       "        vertical-align: top;\n",
       "    }\n",
       "\n",
       "    .dataframe thead th {\n",
       "        text-align: right;\n",
       "    }\n",
       "</style>\n",
       "<table border=\"1\" class=\"dataframe\">\n",
       "  <thead>\n",
       "    <tr style=\"text-align: right;\">\n",
       "      <th></th>\n",
       "      <th>title</th>\n",
       "      <th>pu_number</th>\n",
       "      <th>show_start_date</th>\n",
       "      <th>type</th>\n",
       "      <th>film_studio</th>\n",
       "      <th>production_country</th>\n",
       "      <th>director</th>\n",
       "      <th>producer</th>\n",
       "      <th>age_restriction</th>\n",
       "      <th>refundable_support</th>\n",
       "      <th>nonrefundable_support</th>\n",
       "      <th>budget</th>\n",
       "      <th>financing_source</th>\n",
       "      <th>ratings</th>\n",
       "      <th>genres</th>\n",
       "      <th>box_office</th>\n",
       "    </tr>\n",
       "  </thead>\n",
       "  <tbody>\n",
       "    <tr>\n",
       "      <th>3164</th>\n",
       "      <td>Герой (2015)</td>\n",
       "      <td>111000416</td>\n",
       "      <td>2016-01-22 12:00:00+00:00</td>\n",
       "      <td>Художественный</td>\n",
       "      <td>ООО \"Студия 25\", ООО \"Медиа Арт Студио\", ООО ...</td>\n",
       "      <td>Россия</td>\n",
       "      <td>Ю.Васильев</td>\n",
       "      <td>Э.Айнулова, Н.Дорошкевич, М.Журомская</td>\n",
       "      <td>«12+» - для детей старше 12 лет</td>\n",
       "      <td>110000000.000</td>\n",
       "      <td>30000000.000</td>\n",
       "      <td>222177790.000</td>\n",
       "      <td>Министерство культуры, Фонд кино</td>\n",
       "      <td>7.100</td>\n",
       "      <td>мюзикл,боевик,драма</td>\n",
       "      <td>81430626.820</td>\n",
       "    </tr>\n",
       "    <tr>\n",
       "      <th>3351</th>\n",
       "      <td>Дуэлянт</td>\n",
       "      <td>111015416</td>\n",
       "      <td>2016-09-14 12:00:00+00:00</td>\n",
       "      <td>Художественный</td>\n",
       "      <td>ООО \"Нон-Стоп Продакшн\"</td>\n",
       "      <td>Россия</td>\n",
       "      <td>А.Мизгирев</td>\n",
       "      <td>А.Роднянский, С.Мелькумов</td>\n",
       "      <td>«16+» - для детей старше 16 лет</td>\n",
       "      <td>150000000.000</td>\n",
       "      <td>300000000.000</td>\n",
       "      <td>684200536.000</td>\n",
       "      <td>Фонд кино</td>\n",
       "      <td>6.600</td>\n",
       "      <td>драма</td>\n",
       "      <td>364285139.600</td>\n",
       "    </tr>\n",
       "    <tr>\n",
       "      <th>5437</th>\n",
       "      <td>Матильда</td>\n",
       "      <td>111005717</td>\n",
       "      <td>2017-08-17 12:00:00+00:00</td>\n",
       "      <td>Художественный</td>\n",
       "      <td>ООО \"ТПО \"РОК\", ООО \"Матильда\"</td>\n",
       "      <td>Россия</td>\n",
       "      <td>А.Учитель</td>\n",
       "      <td>А.Учитель, А.Достман, В.Винокур</td>\n",
       "      <td>«16+» - для детей старше 16 лет</td>\n",
       "      <td>110000000.000</td>\n",
       "      <td>190000000.000</td>\n",
       "      <td>1032905957.000</td>\n",
       "      <td>Фонд кино</td>\n",
       "      <td>7.700</td>\n",
       "      <td>фэнтези,комедия,семейный</td>\n",
       "      <td>511775548.000</td>\n",
       "    </tr>\n",
       "    <tr>\n",
       "      <th>6472</th>\n",
       "      <td>Три богатыря и наследница престола</td>\n",
       "      <td>114008818</td>\n",
       "      <td>2018-12-15 12:00:00+00:00</td>\n",
       "      <td>Анимационный</td>\n",
       "      <td>ООО \"Студия анимационного кино \"Мельница\"</td>\n",
       "      <td>Россия</td>\n",
       "      <td>К.Бронзит</td>\n",
       "      <td>С.Сельянов, А.Боярский</td>\n",
       "      <td>«6+» - для детей старше 6 лет</td>\n",
       "      <td>115000000.000</td>\n",
       "      <td>0.000</td>\n",
       "      <td>185500705.000</td>\n",
       "      <td>Фонд кино</td>\n",
       "      <td>6.500</td>\n",
       "      <td>мультфильм,приключения,семейный</td>\n",
       "      <td>577368853.250</td>\n",
       "    </tr>\n",
       "    <tr>\n",
       "      <th>7114</th>\n",
       "      <td>Тайна Печати Дракона</td>\n",
       "      <td>111012819</td>\n",
       "      <td>2019-09-12 12:00:00+00:00</td>\n",
       "      <td>Художественный</td>\n",
       "      <td>ООО \"Кинокомпания \"СТВ\"; ООО \"РФГ Корп\"; ООО \"...</td>\n",
       "      <td>Россия-Китай</td>\n",
       "      <td>О.Степченко</td>\n",
       "      <td>С.Сельянов, А.Петрухин</td>\n",
       "      <td>«6+» - для детей старше 6 лет</td>\n",
       "      <td>180000000.000</td>\n",
       "      <td>90000000.000</td>\n",
       "      <td>2305074303.000</td>\n",
       "      <td>Фонд кино</td>\n",
       "      <td>5.800</td>\n",
       "      <td>приключения,фэнтези</td>\n",
       "      <td>333597059.590</td>\n",
       "    </tr>\n",
       "  </tbody>\n",
       "</table>\n",
       "</div>"
      ],
      "text/plain": [
       "                                   title  pu_number           show_start_date  \\\n",
       "3164                        Герой (2015)  111000416 2016-01-22 12:00:00+00:00   \n",
       "3351                             Дуэлянт  111015416 2016-09-14 12:00:00+00:00   \n",
       "5437                            Матильда  111005717 2017-08-17 12:00:00+00:00   \n",
       "6472  Три богатыря и наследница престола  114008818 2018-12-15 12:00:00+00:00   \n",
       "7114                Тайна Печати Дракона  111012819 2019-09-12 12:00:00+00:00   \n",
       "\n",
       "                type                                        film_studio  \\\n",
       "3164  Художественный   ООО \"Студия 25\", ООО \"Медиа Арт Студио\", ООО ...   \n",
       "3351  Художественный                            ООО \"Нон-Стоп Продакшн\"   \n",
       "5437  Художественный                     ООО \"ТПО \"РОК\", ООО \"Матильда\"   \n",
       "6472    Анимационный          ООО \"Студия анимационного кино \"Мельница\"   \n",
       "7114  Художественный  ООО \"Кинокомпания \"СТВ\"; ООО \"РФГ Корп\"; ООО \"...   \n",
       "\n",
       "     production_country     director                               producer  \\\n",
       "3164             Россия   Ю.Васильев  Э.Айнулова, Н.Дорошкевич, М.Журомская   \n",
       "3351             Россия   А.Мизгирев              А.Роднянский, С.Мелькумов   \n",
       "5437             Россия    А.Учитель        А.Учитель, А.Достман, В.Винокур   \n",
       "6472             Россия    К.Бронзит                 С.Сельянов, А.Боярский   \n",
       "7114       Россия-Китай  О.Степченко                 С.Сельянов, А.Петрухин   \n",
       "\n",
       "                      age_restriction  refundable_support  \\\n",
       "3164  «12+» - для детей старше 12 лет       110000000.000   \n",
       "3351  «16+» - для детей старше 16 лет       150000000.000   \n",
       "5437  «16+» - для детей старше 16 лет       110000000.000   \n",
       "6472    «6+» - для детей старше 6 лет       115000000.000   \n",
       "7114    «6+» - для детей старше 6 лет       180000000.000   \n",
       "\n",
       "      nonrefundable_support         budget                  financing_source  \\\n",
       "3164           30000000.000  222177790.000  Министерство культуры, Фонд кино   \n",
       "3351          300000000.000  684200536.000                         Фонд кино   \n",
       "5437          190000000.000 1032905957.000                         Фонд кино   \n",
       "6472                  0.000  185500705.000                         Фонд кино   \n",
       "7114           90000000.000 2305074303.000                         Фонд кино   \n",
       "\n",
       "      ratings                           genres    box_office  \n",
       "3164    7.100              мюзикл,боевик,драма  81430626.820  \n",
       "3351    6.600                            драма 364285139.600  \n",
       "5437    7.700         фэнтези,комедия,семейный 511775548.000  \n",
       "6472    6.500  мультфильм,приключения,семейный 577368853.250  \n",
       "7114    5.800              приключения,фэнтези 333597059.590  "
      ]
     },
     "execution_count": 24,
     "metadata": {},
     "output_type": "execute_result"
    }
   ],
   "source": [
    "mkrf[mkrf['refundable_support'] > 100_000_000]"
   ]
  },
  {
   "cell_type": "markdown",
   "metadata": {},
   "source": [
    "Результаты выглядят достоверно - здесь фильм \"_Герой_\" с Димой Биланом, \"_Дуэлянт_\" с Фёдоровым и Машковым, \"_Матильда_\", очередной мультфильм франшизы про Трёх Богатырей (учитывая, что мультфильмов в этой серии вышло уже немало, можно предполагать, что предсказанные сборы вполне позволяли создателям мультфильма быть уверенными в том, что он не провалится в прокате и вернёт заёмные средства государству). Наконец, здесь \"_Тайна Печати Дракона_\" с Арнольдом Шварценеггером, Джеки Чаном и Рутгером Хауэром - приглашение таких звёзд ожидаемо могло потребовать привлечения дополнительных средств поддержки."
   ]
  },
  {
   "cell_type": "code",
   "execution_count": 25,
   "metadata": {},
   "outputs": [
    {
     "data": {
      "text/html": [
       "<div>\n",
       "<style scoped>\n",
       "    .dataframe tbody tr th:only-of-type {\n",
       "        vertical-align: middle;\n",
       "    }\n",
       "\n",
       "    .dataframe tbody tr th {\n",
       "        vertical-align: top;\n",
       "    }\n",
       "\n",
       "    .dataframe thead th {\n",
       "        text-align: right;\n",
       "    }\n",
       "</style>\n",
       "<table border=\"1\" class=\"dataframe\">\n",
       "  <thead>\n",
       "    <tr style=\"text-align: right;\">\n",
       "      <th></th>\n",
       "      <th>title</th>\n",
       "      <th>pu_number</th>\n",
       "      <th>show_start_date</th>\n",
       "      <th>type</th>\n",
       "      <th>film_studio</th>\n",
       "      <th>production_country</th>\n",
       "      <th>director</th>\n",
       "      <th>producer</th>\n",
       "      <th>age_restriction</th>\n",
       "      <th>refundable_support</th>\n",
       "      <th>nonrefundable_support</th>\n",
       "      <th>budget</th>\n",
       "      <th>financing_source</th>\n",
       "      <th>ratings</th>\n",
       "      <th>genres</th>\n",
       "      <th>box_office</th>\n",
       "    </tr>\n",
       "  </thead>\n",
       "  <tbody>\n",
       "    <tr>\n",
       "      <th>2920</th>\n",
       "      <td>Экипаж .</td>\n",
       "      <td>111005416</td>\n",
       "      <td>2016-03-21 12:00:00+00:00</td>\n",
       "      <td>Художественный</td>\n",
       "      <td>ООО \"Студия \"ТРИТЭ\" Никиты Михалкова\"</td>\n",
       "      <td>Россия</td>\n",
       "      <td>Н.Лебедев</td>\n",
       "      <td>Л.Верещагин, А.Златопольский, Н.Михалков, ООО ...</td>\n",
       "      <td>«6+» - для детей старше 6 лет</td>\n",
       "      <td>50000000.000</td>\n",
       "      <td>392104482.000</td>\n",
       "      <td>635283867.000</td>\n",
       "      <td>Фонд кино</td>\n",
       "      <td>7.600</td>\n",
       "      <td>драма,триллер,приключения</td>\n",
       "      <td>1402255390.000</td>\n",
       "    </tr>\n",
       "    <tr>\n",
       "      <th>3351</th>\n",
       "      <td>Дуэлянт</td>\n",
       "      <td>111015416</td>\n",
       "      <td>2016-09-14 12:00:00+00:00</td>\n",
       "      <td>Художественный</td>\n",
       "      <td>ООО \"Нон-Стоп Продакшн\"</td>\n",
       "      <td>Россия</td>\n",
       "      <td>А.Мизгирев</td>\n",
       "      <td>А.Роднянский, С.Мелькумов</td>\n",
       "      <td>«16+» - для детей старше 16 лет</td>\n",
       "      <td>150000000.000</td>\n",
       "      <td>300000000.000</td>\n",
       "      <td>684200536.000</td>\n",
       "      <td>Фонд кино</td>\n",
       "      <td>6.600</td>\n",
       "      <td>драма</td>\n",
       "      <td>364285139.600</td>\n",
       "    </tr>\n",
       "    <tr>\n",
       "      <th>5653</th>\n",
       "      <td>Движение вверх</td>\n",
       "      <td>111011817</td>\n",
       "      <td>2017-12-21 12:00:00+00:00</td>\n",
       "      <td>Художественный</td>\n",
       "      <td>ООО \"Студия \"ТРИТЭ\" Никиты Михалкова\"</td>\n",
       "      <td>Россия</td>\n",
       "      <td>А.Мегердичев</td>\n",
       "      <td>Л.Верещагин, А.Златопольский, Н.Михалков, ООО ...</td>\n",
       "      <td>«6+» - для детей старше 6 лет</td>\n",
       "      <td>0.000</td>\n",
       "      <td>400000000.000</td>\n",
       "      <td>590192191.000</td>\n",
       "      <td>Фонд кино</td>\n",
       "      <td>7.500</td>\n",
       "      <td>спорт,драма</td>\n",
       "      <td>2779686144.000</td>\n",
       "    </tr>\n",
       "    <tr>\n",
       "      <th>5826</th>\n",
       "      <td>Тренер</td>\n",
       "      <td>111003218</td>\n",
       "      <td>2018-04-19 12:00:00+00:00</td>\n",
       "      <td>Художественный</td>\n",
       "      <td>ООО \"ДК интертеймент\", ООО \"Киностудия \"Слово\"...</td>\n",
       "      <td>Россия</td>\n",
       "      <td>Д.Козловский</td>\n",
       "      <td>Д.Козловский, П.Ануров, Л.Верещагин, А.Златопо...</td>\n",
       "      <td>«12+» - для детей старше 12 лет</td>\n",
       "      <td>0.000</td>\n",
       "      <td>260000000.000</td>\n",
       "      <td>390191139.000</td>\n",
       "      <td>Фонд кино</td>\n",
       "      <td>6.800</td>\n",
       "      <td>драма,спорт</td>\n",
       "      <td>820528005.210</td>\n",
       "    </tr>\n",
       "    <tr>\n",
       "      <th>6887</th>\n",
       "      <td>Девятая</td>\n",
       "      <td>111007019</td>\n",
       "      <td>2019-09-19 12:00:00+00:00</td>\n",
       "      <td>Художественный</td>\n",
       "      <td>ООО \"Нон-Стоп Продакшн\"</td>\n",
       "      <td>Россия</td>\n",
       "      <td>Н.Хомерики</td>\n",
       "      <td>С.Мелькумов, А.Роднянский</td>\n",
       "      <td>«16+» - для детей старше 16 лет</td>\n",
       "      <td>0.000</td>\n",
       "      <td>300000000.000</td>\n",
       "      <td>453704666.000</td>\n",
       "      <td>Фонд кино</td>\n",
       "      <td>5.800</td>\n",
       "      <td>детектив,триллер,криминал</td>\n",
       "      <td>55876887.400</td>\n",
       "    </tr>\n",
       "    <tr>\n",
       "      <th>7464</th>\n",
       "      <td>Союз спасения</td>\n",
       "      <td>111022019</td>\n",
       "      <td>2019-12-26 12:00:00+00:00</td>\n",
       "      <td>Художественный</td>\n",
       "      <td>ЗАО \"Дирекция кино\"</td>\n",
       "      <td>Россия</td>\n",
       "      <td>А.Кравчук</td>\n",
       "      <td>А.Максимов, К.Эрнст</td>\n",
       "      <td>«12+» - для детей старше 12 лет</td>\n",
       "      <td>100000000.000</td>\n",
       "      <td>400000000.000</td>\n",
       "      <td>980000000.000</td>\n",
       "      <td>Фонд кино</td>\n",
       "      <td>6.000</td>\n",
       "      <td>история,биография,драма</td>\n",
       "      <td>717703185.530</td>\n",
       "    </tr>\n",
       "    <tr>\n",
       "      <th>7474</th>\n",
       "      <td>Вторжение</td>\n",
       "      <td>111022519</td>\n",
       "      <td>2019-12-23 12:00:00+00:00</td>\n",
       "      <td>Художественный</td>\n",
       "      <td>ООО \"Арт Пикчерс Студия\", ООО \"Водород 2011\"</td>\n",
       "      <td>Россия</td>\n",
       "      <td>Ф.Бондарчук</td>\n",
       "      <td>Ф.Бондарчук, М.Врубель, А.Андрющенко, Д.Рудовский</td>\n",
       "      <td>«12+» - для детей старше 12 лет</td>\n",
       "      <td>100000000.000</td>\n",
       "      <td>400000000.000</td>\n",
       "      <td>944000000.000</td>\n",
       "      <td>Фонд кино</td>\n",
       "      <td>5.700</td>\n",
       "      <td>фантастика,боевик</td>\n",
       "      <td>NaN</td>\n",
       "    </tr>\n",
       "  </tbody>\n",
       "</table>\n",
       "</div>"
      ],
      "text/plain": [
       "               title  pu_number           show_start_date            type  \\\n",
       "2920        Экипаж .  111005416 2016-03-21 12:00:00+00:00  Художественный   \n",
       "3351         Дуэлянт  111015416 2016-09-14 12:00:00+00:00  Художественный   \n",
       "5653  Движение вверх  111011817 2017-12-21 12:00:00+00:00  Художественный   \n",
       "5826          Тренер  111003218 2018-04-19 12:00:00+00:00  Художественный   \n",
       "6887         Девятая  111007019 2019-09-19 12:00:00+00:00  Художественный   \n",
       "7464   Союз спасения  111022019 2019-12-26 12:00:00+00:00  Художественный   \n",
       "7474       Вторжение  111022519 2019-12-23 12:00:00+00:00  Художественный   \n",
       "\n",
       "                                            film_studio production_country  \\\n",
       "2920              ООО \"Студия \"ТРИТЭ\" Никиты Михалкова\"             Россия   \n",
       "3351                            ООО \"Нон-Стоп Продакшн\"             Россия   \n",
       "5653              ООО \"Студия \"ТРИТЭ\" Никиты Михалкова\"             Россия   \n",
       "5826  ООО \"ДК интертеймент\", ООО \"Киностудия \"Слово\"...             Россия   \n",
       "6887                            ООО \"Нон-Стоп Продакшн\"             Россия   \n",
       "7464                                ЗАО \"Дирекция кино\"             Россия   \n",
       "7474       ООО \"Арт Пикчерс Студия\", ООО \"Водород 2011\"             Россия   \n",
       "\n",
       "          director                                           producer  \\\n",
       "2920     Н.Лебедев  Л.Верещагин, А.Златопольский, Н.Михалков, ООО ...   \n",
       "3351    А.Мизгирев                          А.Роднянский, С.Мелькумов   \n",
       "5653  А.Мегердичев  Л.Верещагин, А.Златопольский, Н.Михалков, ООО ...   \n",
       "5826  Д.Козловский  Д.Козловский, П.Ануров, Л.Верещагин, А.Златопо...   \n",
       "6887    Н.Хомерики                          С.Мелькумов, А.Роднянский   \n",
       "7464     А.Кравчук                                А.Максимов, К.Эрнст   \n",
       "7474   Ф.Бондарчук  Ф.Бондарчук, М.Врубель, А.Андрющенко, Д.Рудовский   \n",
       "\n",
       "                      age_restriction  refundable_support  \\\n",
       "2920    «6+» - для детей старше 6 лет        50000000.000   \n",
       "3351  «16+» - для детей старше 16 лет       150000000.000   \n",
       "5653    «6+» - для детей старше 6 лет               0.000   \n",
       "5826  «12+» - для детей старше 12 лет               0.000   \n",
       "6887  «16+» - для детей старше 16 лет               0.000   \n",
       "7464  «12+» - для детей старше 12 лет       100000000.000   \n",
       "7474  «12+» - для детей старше 12 лет       100000000.000   \n",
       "\n",
       "      nonrefundable_support        budget financing_source  ratings  \\\n",
       "2920          392104482.000 635283867.000        Фонд кино    7.600   \n",
       "3351          300000000.000 684200536.000        Фонд кино    6.600   \n",
       "5653          400000000.000 590192191.000        Фонд кино    7.500   \n",
       "5826          260000000.000 390191139.000        Фонд кино    6.800   \n",
       "6887          300000000.000 453704666.000        Фонд кино    5.800   \n",
       "7464          400000000.000 980000000.000        Фонд кино    6.000   \n",
       "7474          400000000.000 944000000.000        Фонд кино    5.700   \n",
       "\n",
       "                         genres     box_office  \n",
       "2920  драма,триллер,приключения 1402255390.000  \n",
       "3351                      драма  364285139.600  \n",
       "5653                спорт,драма 2779686144.000  \n",
       "5826                драма,спорт  820528005.210  \n",
       "6887  детектив,триллер,криминал   55876887.400  \n",
       "7464    история,биография,драма  717703185.530  \n",
       "7474          фантастика,боевик            NaN  "
      ]
     },
     "execution_count": 25,
     "metadata": {},
     "output_type": "execute_result"
    }
   ],
   "source": [
    "mkrf[mkrf['nonrefundable_support'] > 250_000_000]"
   ]
  },
  {
   "cell_type": "markdown",
   "metadata": {},
   "source": [
    "Здесь мы вновь видим фильм \"_Дуэлянт_\", а также ряд других картин, которые на слуху - \"_Экипаж_\" с Данилой Козловским и \"_Тренер_\" его же режиссёрства, \"_Вторжение_\" Фёдора Бондарчука и \"_Союз Спасения_\", нашумевший фильм \"_Движение вверх_\". Незнакомым является только фильм \"_Девятая_\", но судя по информации с сайта \"Кинопоиска\" и указанным там `453 704 666 ₽` бюджета (что совпадает с тем, что указано в нашем наборе данных), можно верить той информации об объёме невозвратной поддержки, которая указана."
   ]
  },
  {
   "cell_type": "code",
   "execution_count": 26,
   "metadata": {},
   "outputs": [
    {
     "data": {
      "text/html": [
       "<div>\n",
       "<style scoped>\n",
       "    .dataframe tbody tr th:only-of-type {\n",
       "        vertical-align: middle;\n",
       "    }\n",
       "\n",
       "    .dataframe tbody tr th {\n",
       "        vertical-align: top;\n",
       "    }\n",
       "\n",
       "    .dataframe thead th {\n",
       "        text-align: right;\n",
       "    }\n",
       "</style>\n",
       "<table border=\"1\" class=\"dataframe\">\n",
       "  <thead>\n",
       "    <tr style=\"text-align: right;\">\n",
       "      <th></th>\n",
       "      <th>title</th>\n",
       "      <th>pu_number</th>\n",
       "      <th>show_start_date</th>\n",
       "      <th>type</th>\n",
       "      <th>film_studio</th>\n",
       "      <th>production_country</th>\n",
       "      <th>director</th>\n",
       "      <th>producer</th>\n",
       "      <th>age_restriction</th>\n",
       "      <th>refundable_support</th>\n",
       "      <th>nonrefundable_support</th>\n",
       "      <th>budget</th>\n",
       "      <th>financing_source</th>\n",
       "      <th>ratings</th>\n",
       "      <th>genres</th>\n",
       "      <th>box_office</th>\n",
       "    </tr>\n",
       "  </thead>\n",
       "  <tbody>\n",
       "    <tr>\n",
       "      <th>7114</th>\n",
       "      <td>Тайна Печати Дракона</td>\n",
       "      <td>111012819</td>\n",
       "      <td>2019-09-12 12:00:00+00:00</td>\n",
       "      <td>Художественный</td>\n",
       "      <td>ООО \"Кинокомпания \"СТВ\"; ООО \"РФГ Корп\"; ООО \"...</td>\n",
       "      <td>Россия-Китай</td>\n",
       "      <td>О.Степченко</td>\n",
       "      <td>С.Сельянов, А.Петрухин</td>\n",
       "      <td>«6+» - для детей старше 6 лет</td>\n",
       "      <td>180000000.000</td>\n",
       "      <td>90000000.000</td>\n",
       "      <td>2305074303.000</td>\n",
       "      <td>Фонд кино</td>\n",
       "      <td>5.800</td>\n",
       "      <td>приключения,фэнтези</td>\n",
       "      <td>333597059.590</td>\n",
       "    </tr>\n",
       "  </tbody>\n",
       "</table>\n",
       "</div>"
      ],
      "text/plain": [
       "                     title  pu_number           show_start_date  \\\n",
       "7114  Тайна Печати Дракона  111012819 2019-09-12 12:00:00+00:00   \n",
       "\n",
       "                type                                        film_studio  \\\n",
       "7114  Художественный  ООО \"Кинокомпания \"СТВ\"; ООО \"РФГ Корп\"; ООО \"...   \n",
       "\n",
       "     production_country     director                producer  \\\n",
       "7114       Россия-Китай  О.Степченко  С.Сельянов, А.Петрухин   \n",
       "\n",
       "                    age_restriction  refundable_support  \\\n",
       "7114  «6+» - для детей старше 6 лет       180000000.000   \n",
       "\n",
       "      nonrefundable_support         budget financing_source  ratings  \\\n",
       "7114           90000000.000 2305074303.000        Фонд кино    5.800   \n",
       "\n",
       "                   genres    box_office  \n",
       "7114  приключения,фэнтези 333597059.590  "
      ]
     },
     "execution_count": 26,
     "metadata": {},
     "output_type": "execute_result"
    }
   ],
   "source": [
    "mkrf[mkrf['budget'] > 2_000_000_000]"
   ]
  },
  {
   "cell_type": "markdown",
   "metadata": {},
   "source": [
    "Тут мы снова видим уже упоминавшийся выше фильм \"_Тайна Печати Дракона_\" - он оказался тем самым, который имеет максимальный бюджет среди всех фильмов - `2,305 млрд. ₽`\n",
    "\n",
    "Посмотрим теперь на те фильмы с нулевым бюджетом, которые были замечены на гистограмме:"
   ]
  },
  {
   "cell_type": "code",
   "execution_count": 27,
   "metadata": {},
   "outputs": [
    {
     "name": "stdout",
     "output_type": "stream",
     "text": [
      "Число фильмов с нулевым бюджетом: 17 штук\n"
     ]
    },
    {
     "data": {
      "text/html": [
       "<div>\n",
       "<style scoped>\n",
       "    .dataframe tbody tr th:only-of-type {\n",
       "        vertical-align: middle;\n",
       "    }\n",
       "\n",
       "    .dataframe tbody tr th {\n",
       "        vertical-align: top;\n",
       "    }\n",
       "\n",
       "    .dataframe thead th {\n",
       "        text-align: right;\n",
       "    }\n",
       "</style>\n",
       "<table border=\"1\" class=\"dataframe\">\n",
       "  <thead>\n",
       "    <tr style=\"text-align: right;\">\n",
       "      <th></th>\n",
       "      <th>title</th>\n",
       "    </tr>\n",
       "  </thead>\n",
       "  <tbody>\n",
       "    <tr>\n",
       "      <th>2053</th>\n",
       "      <td>14+</td>\n",
       "    </tr>\n",
       "    <tr>\n",
       "      <th>2058</th>\n",
       "      <td>Дуxless 2</td>\n",
       "    </tr>\n",
       "    <tr>\n",
       "      <th>2472</th>\n",
       "      <td>Воин (2015)</td>\n",
       "    </tr>\n",
       "    <tr>\n",
       "      <th>2532</th>\n",
       "      <td>Бармен.</td>\n",
       "    </tr>\n",
       "    <tr>\n",
       "      <th>2615</th>\n",
       "      <td>Савва. Сердце воина</td>\n",
       "    </tr>\n",
       "    <tr>\n",
       "      <th>2684</th>\n",
       "      <td>Тряпичный союз</td>\n",
       "    </tr>\n",
       "    <tr>\n",
       "      <th>2788</th>\n",
       "      <td>Срочно выйду замуж</td>\n",
       "    </tr>\n",
       "    <tr>\n",
       "      <th>2874</th>\n",
       "      <td>Помню - не помню!</td>\n",
       "    </tr>\n",
       "    <tr>\n",
       "      <th>3047</th>\n",
       "      <td>Любовь с ограничениями</td>\n",
       "    </tr>\n",
       "    <tr>\n",
       "      <th>3565</th>\n",
       "      <td>Притяжение (2016)</td>\n",
       "    </tr>\n",
       "    <tr>\n",
       "      <th>3675</th>\n",
       "      <td>Чудо-юдо</td>\n",
       "    </tr>\n",
       "    <tr>\n",
       "      <th>3739</th>\n",
       "      <td>Мифы</td>\n",
       "    </tr>\n",
       "    <tr>\n",
       "      <th>5673</th>\n",
       "      <td>Селфи</td>\n",
       "    </tr>\n",
       "    <tr>\n",
       "      <th>5806</th>\n",
       "      <td>Два хвоста</td>\n",
       "    </tr>\n",
       "    <tr>\n",
       "      <th>6008</th>\n",
       "      <td>Принцесса и дракон</td>\n",
       "    </tr>\n",
       "    <tr>\n",
       "      <th>6323</th>\n",
       "      <td>Баба Яга</td>\n",
       "    </tr>\n",
       "    <tr>\n",
       "      <th>6823</th>\n",
       "      <td>Большое путешествие</td>\n",
       "    </tr>\n",
       "  </tbody>\n",
       "</table>\n",
       "</div>"
      ],
      "text/plain": [
       "                       title\n",
       "2053                     14+\n",
       "2058               Дуxless 2\n",
       "2472             Воин (2015)\n",
       "2532                 Бармен.\n",
       "2615     Савва. Сердце воина\n",
       "2684          Тряпичный союз\n",
       "2788      Срочно выйду замуж\n",
       "2874       Помню - не помню!\n",
       "3047  Любовь с ограничениями\n",
       "3565       Притяжение (2016)\n",
       "3675                Чудо-юдо\n",
       "3739                    Мифы\n",
       "5673                   Селфи\n",
       "5806              Два хвоста\n",
       "6008      Принцесса и дракон\n",
       "6323                Баба Яга\n",
       "6823     Большое путешествие"
      ]
     },
     "execution_count": 27,
     "metadata": {},
     "output_type": "execute_result"
    }
   ],
   "source": [
    "print(f\"Число фильмов с нулевым бюджетом: {mkrf[mkrf['budget'] == 0]['budget'].count()} штук\")\n",
    "mkrf[mkrf['budget'] == 0][['title']]"
   ]
  },
  {
   "cell_type": "markdown",
   "metadata": {},
   "source": [
    "Здесь сразу бросаются в глаза фильмы \"_Дуxless 2_\", \"_Притяжение (2016)_\" и \"_Воин (2015)_\", которые явно имеют ненулевой бюджет, и эта информация доступна на сайте \"Кинопоиска\".\n",
    "\n",
    "Может быть это и совсем прямолинейно, но всё же заполним руками информацию о бюджете, пользуясь информацией с сайта \"Кинопоиска\" и из Интернета, ведь таких фильмов совсем немного. Это удастся сделать для 15-ти фильмов из 17-ти:"
   ]
  },
  {
   "cell_type": "code",
   "execution_count": 28,
   "metadata": {},
   "outputs": [],
   "source": [
    "mkrf.loc[mkrf['title'] == '14+', 'budget'] = 30478950\n",
    "mkrf.loc[mkrf['title'] == 'Дуxless 2', 'budget'] = 140000000\n",
    "mkrf.loc[mkrf['title'] == 'Воин (2015)', 'budget'] = 115000000\n",
    "mkrf.loc[mkrf['title'] == 'Бармен.', 'budget'] = 60000000\n",
    "mkrf.loc[mkrf['title'] == 'Савва. Сердце воина', 'budget'] = 1000000000\n",
    "mkrf.loc[mkrf['title'] == 'Срочно выйду замуж', 'budget'] = 85400000\n",
    "mkrf.loc[mkrf['title'] == 'Помню - не помню!', 'budget'] = 87100000\n",
    "mkrf.loc[mkrf['title'] == 'Любовь с ограничениями', 'budget'] = 110000000\n",
    "mkrf.loc[mkrf['title'] == 'Притяжение (2016)', 'budget'] = 380000000\n",
    "mkrf.loc[mkrf['title'] == 'Чудо-юдо', 'budget'] = 150501840\n",
    "mkrf.loc[mkrf['title'] == 'Мифы', 'budget'] = 50000000\n",
    "mkrf.loc[mkrf['title'] == 'Селфи', 'budget'] = 115000000\n",
    "mkrf.loc[mkrf['title'] == 'Два хвоста', 'budget'] = 110000000\n",
    "mkrf.loc[mkrf['title'] == 'Принцесса и дракон', 'budget'] = 116000000\n",
    "mkrf.loc[mkrf['title'] == 'Баба Яга', 'budget'] = 220000000"
   ]
  },
  {
   "cell_type": "markdown",
   "metadata": {},
   "source": [
    "Для следующих двух фильмов не удалось найти информацию о бюджете в общедоступных источниках:\n",
    "\n",
    "- \"_Большое путешествие_\"\n",
    "\n",
    "- \"_Тряпичный союз_\"\n",
    "\n",
    "Поскольку их всего 2, не будем делать отдельную группировку с последующим вызовом `fillna()`, а посчитаем медиану по фильмам, схожим с нашими двумя, пользуясь следующими идеями:\n",
    "\n",
    "- для мультфильма \"_Большое путешествие_\" подсчитаем медиану по всем анимационным фильмам, вышедшим в `2019` году;\n",
    "\n",
    "\n",
    "- для фильма \"_Тряпичный союз_\" подсчитаем медиану среди тех художественных фильмов `2015` года выпуска, которые получили объём невозвратных средств поддержки в интервале от `50 млн. ₽` до `70 млн. ₽` (поскольку для фильма \"_Тряпичный союз_\" было выделено `59 млн. ₽` данного вида поддержки):"
   ]
  },
  {
   "cell_type": "code",
   "execution_count": 29,
   "metadata": {},
   "outputs": [],
   "source": [
    "animated_2019_median =\\\n",
    "    mkrf[(mkrf['show_start_date'].dt.year == 2019) &\n",
    "         (mkrf['type'] == 'Анимационный')]['budget'].median()\n",
    "\n",
    "mkrf.loc[mkrf['title'] == 'Большое путешествие', 'budget'] = animated_2019_median\n",
    "\n",
    "fiction_2015_median =\\\n",
    "    mkrf[(mkrf['show_start_date'].dt.year == 2015) &\n",
    "         (mkrf['type'] == 'Художественный') &\n",
    "         (mkrf['nonrefundable_support'] > 50_000_000) &\n",
    "         (mkrf['nonrefundable_support'] < 70_000_000)]['budget'].median()\n",
    "\n",
    "mkrf.loc[mkrf['title'] == 'Тряпичный союз', 'budget'] = fiction_2015_median"
   ]
  },
  {
   "cell_type": "markdown",
   "metadata": {},
   "source": [
    "Наконец, выясним, есть ли фильмы которые не получили никакой господдержки (ни возвратных, ни невозвратных средств):"
   ]
  },
  {
   "cell_type": "code",
   "execution_count": 30,
   "metadata": {},
   "outputs": [
    {
     "data": {
      "text/plain": [
       "0"
      ]
     },
     "execution_count": 30,
     "metadata": {},
     "output_type": "execute_result"
    }
   ],
   "source": [
    "mkrf[(mkrf['refundable_support'] == 0) & (mkrf['nonrefundable_support'] == 0)]['title'].count()"
   ]
  },
  {
   "cell_type": "markdown",
   "metadata": {},
   "source": [
    "Таких фильмов не оказалось, т.е. **все фильмы получили ту или иную государственную поддержку**."
   ]
  },
  {
   "cell_type": "markdown",
   "metadata": {
    "id": "Eu6oWp2CgFyS"
   },
   "source": [
    "#### Шаг 2.6. Добавьте новые столбцы\n",
    "\n",
    "\n",
    "\n"
   ]
  },
  {
   "cell_type": "markdown",
   "metadata": {},
   "source": [
    "**Заметка:** ниже я склеил пре-созданные пункты списка в одну Markdown-ячейку, чтобы сделать добавление новых столбцов в рамках одного вызова функции `DataFrame.assign()`:"
   ]
  },
  {
   "cell_type": "markdown",
   "metadata": {
    "id": "7GgW-UpAgFyS"
   },
   "source": [
    "- Создайте столбец с информацией о годе проката. Выделите год из даты премьеры фильма.\n",
    "\n",
    "- Создайте два столбца: с именем и фамилией главного режиссёра и основным жанром фильма. В столбцы войдут первые значения из списка режиссёров и жанров соответственно.\n",
    "\n",
    "<div id=\"accordion\">\n",
    "    <div class=\"card\">\n",
    "        <div class=\"card-header\" id=\"headingThree\">\n",
    "            <button class=\"btn btn-link collapsed\" data-toggle=\"collapse\" data-target=\"#collapseHint_2\" aria-expanded=\"false\" aria-controls=\"collapseHint_2\">Подсказка</button>\n",
    "        </div>\n",
    "        <div id=\"collapseHint_2\" class=\"collapse\" aria-labelledby=\"headingThree\" data-parent=\"#accordion\">\n",
    "            <div class=\"card-body\">\n",
    "Чтобы создать такие столбцы, лучше всего использовать собственную функцию. Эту функцию можно применить к двум столбцам сразу. \n",
    "            </div>\n",
    "        </div>\n",
    "    </div>\n",
    "</div>\n",
    "\n",
    "- Посчитайте, какую долю от общего бюджета фильма составляет государственная поддержка."
   ]
  },
  {
   "cell_type": "markdown",
   "metadata": {},
   "source": [
    "Создадим дополнительные функции для добавления новых столбцов в наш набор данных:"
   ]
  },
  {
   "cell_type": "code",
   "execution_count": 31,
   "metadata": {
    "id": "I-yd1DkWgFyT"
   },
   "outputs": [
    {
     "name": "stdout",
     "output_type": "stream",
     "text": [
      "Р.Прыгунов\n",
      "\n",
      "Боб Гэйл\n",
      "боевик\n",
      "\n",
      "боевик\n"
     ]
    }
   ],
   "source": [
    "def get_main_director(row):\n",
    "    '''Возвращает имя главного режиссёра для строки, описывающей фильм (row)\n",
    "    '''\n",
    "    return row['director'].split(',')[0].strip()\n",
    "\n",
    "print(get_main_director(pd.Series(data=['Р.Прыгунов'], index=['director'])))\n",
    "print(get_main_director(pd.Series(data=[''], index=['director'])))\n",
    "print(get_main_director(pd.Series(data=['Боб Гэйл, Кетлин Кеннеди, Нил Кэнтон'], index=['director'])))\n",
    "\n",
    "def get_main_genre(row):\n",
    "    '''Возвращает основной жанр фильма для строки, описывающей фильм (row)\n",
    "    '''\n",
    "    return row['genres'].split(',')[0].strip()\n",
    "\n",
    "print(get_main_genre(pd.Series(data=['боевик'], index=['genres'])))\n",
    "print(get_main_genre(pd.Series(data=[''], index=['genres'])))\n",
    "print(get_main_genre(pd.Series(data=['боевик,триллер,драма'], index=['genres'])))\n",
    "\n",
    "def get_support_ratio(row):\n",
    "    '''Возвращает долю (в процентах) от общего бюджета фильма, которую составляет государственная поддержка.\n",
    "    Фильм описан строкой row.\n",
    "    '''\n",
    "    return ((row['refundable_support'] + row['nonrefundable_support']) / row['budget']) * 100"
   ]
  },
  {
   "cell_type": "markdown",
   "metadata": {},
   "source": [
    "Добавим новые столбцы, используя `DataFrame.assign()`:"
   ]
  },
  {
   "cell_type": "code",
   "execution_count": 32,
   "metadata": {},
   "outputs": [],
   "source": [
    "mkrf = mkrf.assign(\n",
    "    main_director = lambda x: x.apply(get_main_director, axis=1),\n",
    "    \n",
    "    main_genre = lambda x: x.apply(get_main_genre, axis=1),\n",
    "    \n",
    "    year = lambda x: x['show_start_date'].dt.year,\n",
    "\n",
    "    # Общий объём господдержки фильма как сумма возвратных и невозвратных средств государственной поддержки\n",
    "    support = lambda x: x['refundable_support'] + x['nonrefundable_support'],\n",
    "    \n",
    "    support_ratio = lambda x: x.apply(get_support_ratio, axis=1)\n",
    ")"
   ]
  },
  {
   "cell_type": "markdown",
   "metadata": {},
   "source": [
    "Теперь посчитаем, какую долю от общего бюджета фильма составляет государственная поддержка.\n",
    "\n",
    "Оценим по гистограмме и через `Series.describe()` какой процент от всего бюджета фильма составляет суммарная господдержка:"
   ]
  },
  {
   "cell_type": "code",
   "execution_count": 33,
   "metadata": {},
   "outputs": [
    {
     "data": {
      "text/html": [
       "<div>\n",
       "<style scoped>\n",
       "    .dataframe tbody tr th:only-of-type {\n",
       "        vertical-align: middle;\n",
       "    }\n",
       "\n",
       "    .dataframe tbody tr th {\n",
       "        vertical-align: top;\n",
       "    }\n",
       "\n",
       "    .dataframe thead th {\n",
       "        text-align: right;\n",
       "    }\n",
       "</style>\n",
       "<table border=\"1\" class=\"dataframe\">\n",
       "  <thead>\n",
       "    <tr style=\"text-align: right;\">\n",
       "      <th></th>\n",
       "      <th>support_ratio</th>\n",
       "    </tr>\n",
       "  </thead>\n",
       "  <tbody>\n",
       "    <tr>\n",
       "      <th>count</th>\n",
       "      <td>332.000</td>\n",
       "    </tr>\n",
       "    <tr>\n",
       "      <th>mean</th>\n",
       "      <td>51.810</td>\n",
       "    </tr>\n",
       "    <tr>\n",
       "      <th>std</th>\n",
       "      <td>17.265</td>\n",
       "    </tr>\n",
       "    <tr>\n",
       "      <th>min</th>\n",
       "      <td>4.404</td>\n",
       "    </tr>\n",
       "    <tr>\n",
       "      <th>25%</th>\n",
       "      <td>37.362</td>\n",
       "    </tr>\n",
       "    <tr>\n",
       "      <th>50%</th>\n",
       "      <td>59.271</td>\n",
       "    </tr>\n",
       "    <tr>\n",
       "      <th>75%</th>\n",
       "      <td>65.775</td>\n",
       "    </tr>\n",
       "    <tr>\n",
       "      <th>max</th>\n",
       "      <td>90.000</td>\n",
       "    </tr>\n",
       "  </tbody>\n",
       "</table>\n",
       "</div>"
      ],
      "text/plain": [
       "       support_ratio\n",
       "count        332.000\n",
       "mean          51.810\n",
       "std           17.265\n",
       "min            4.404\n",
       "25%           37.362\n",
       "50%           59.271\n",
       "75%           65.775\n",
       "max           90.000"
      ]
     },
     "execution_count": 33,
     "metadata": {},
     "output_type": "execute_result"
    },
    {
     "data": {
      "image/png": "[encoded data removed]",
      "text/plain": [
       "<Figure size 1296x432 with 1 Axes>"
      ]
     },
     "metadata": {
      "needs_background": "light"
     },
     "output_type": "display_data"
    }
   ],
   "source": [
    "fig, ax = plt.subplots(figsize=(18, 6))\n",
    "mkrf['support_ratio'].plot(kind='hist', bins=70, grid=True, ax=ax)\n",
    "ax.set_title('Гистограмма распределения доли господдержки относительно бюджета фильма')\n",
    "ax.set_xlabel('Какой процент господдержка составляет во всём бюджете фильма, (%)')\n",
    "ax.set_ylabel('Частота')\n",
    "_ = ax.xaxis.set_ticks(np.arange(0, 102, 2))\n",
    "\n",
    "mkrf['support_ratio'].to_frame().describe()"
   ]
  },
  {
   "cell_type": "markdown",
   "metadata": {},
   "source": [
    "Можно сделать вывод, что в среднем `52%` бюджета приходится на оказанную государством господдержку, медианное значение составляет около `60%`."
   ]
  },
  {
   "cell_type": "markdown",
   "metadata": {
    "id": "6t4EukPLgFyV"
   },
   "source": [
    "### Шаг 3. Проведите исследовательский анализ данных\n"
   ]
  },
  {
   "cell_type": "markdown",
   "metadata": {
    "id": "vAH8WCzugFyV"
   },
   "source": [
    "- Посмотрите, сколько фильмов выходило в прокат каждый год. Обратите внимание, что данные о прокате в кинотеатрах известны не для всех фильмов. Посчитайте, какую долю составляют фильмы с указанной информацией о прокате в кинотеатрах."
   ]
  },
  {
   "cell_type": "code",
   "execution_count": 34,
   "metadata": {
    "id": "ABeV47y7gFyW"
   },
   "outputs": [
    {
     "data": {
      "image/png": "[encoded data removed]",
      "text/plain": [
       "<Figure size 1152x432 with 2 Axes>"
      ]
     },
     "metadata": {
      "needs_background": "light"
     },
     "output_type": "display_data"
    }
   ],
   "source": [
    "fig, axes = plt.subplots(nrows=1, ncols=2, figsize=(16, 6))\n",
    "bins = 20\n",
    "range_years = (2010, 2019)\n",
    "\n",
    "mkrf['year'].plot(kind='hist', grid=True, bins=bins, range=range_years,\n",
    "                  title='Все фильмы', ax=axes[0])\n",
    "\n",
    "mkrf[mkrf['box_office'].notna()]['year'].plot(kind='hist', grid=True, bins=bins, range=range_years,\n",
    "                  title='Фильмы с информацией о прокате в кинотеатрах', ax=axes[1])\n",
    "\n",
    "for i in range(2):\n",
    "    _ = axes[i].set_xlabel('Год выхода фильма в прокат')\n",
    "    _ = axes[i].set_ylabel('Количество фильмов')\n",
    "    _ = axes[i].set_xticks(range(2010, 2020))"
   ]
  },
  {
   "cell_type": "code",
   "execution_count": 35,
   "metadata": {},
   "outputs": [
    {
     "name": "stdout",
     "output_type": "stream",
     "text": [
      "Всего фильмов: 7486\n",
      "Фильмов с информацией о прокате в кинотеатрах: 3158\n",
      "Доля фильмов с информацией о прокате в кинотеатрах относительно всех фильмов составляет: 42.185%\n"
     ]
    }
   ],
   "source": [
    "all_movies_count = mkrf['title'].count()\n",
    "movies_in_cinema_count = mkrf[mkrf['box_office'].notna()]['title'].count()\n",
    "movies_in_cinema_ratio = movies_in_cinema_count / all_movies_count\n",
    "\n",
    "print(f\"Всего фильмов: {all_movies_count}\")\n",
    "print(f\"Фильмов с информацией о прокате в кинотеатрах: {movies_in_cinema_count}\")\n",
    "print(f\"Доля фильмов с информацией о прокате в кинотеатрах относительно всех фильмов составляет: {movies_in_cinema_ratio:.3%}\")"
   ]
  },
  {
   "cell_type": "markdown",
   "metadata": {},
   "source": [
    "**Вывод**\n",
    "\n",
    "Информация о прокате известна для чуть менее чем половины всех фильмов набора данных - примерно `42%`.\n",
    "\n",
    "Очень любопытны гистограммы с распределением выхода фильмов в прокат по годам:\n",
    "\n",
    "- для всех фильмов наиболее часто встречается `2010` год, затем после 3 лет пребывания на одном уровне количество фильмов растёт в `2014` и `2016` годах, также явно заметен спад до минимального значения в `2017` году, после чего наблюдается заметный рост в `2018` и `2019` годах;\n",
    "\n",
    "\n",
    "- для фильмов с данными о прокате в кинотеатрах видна яркая тенденция на увеличения количества вышедших фильмов с каждым годом, данная тенденция продолжается с `2010` до `2016` год включительно, после чего, как и в случае с первой гистограммой, идёт заметный спад в `2017` году с последующим ростом в `2018` и `2019` годах.\n",
    "\n",
    "-----------------------------------"
   ]
  },
  {
   "cell_type": "markdown",
   "metadata": {
    "id": "BEOdcIrIgFyW"
   },
   "source": [
    "- Изучите, как менялась динамика проката по годам. В каком году сумма сборов была минимальной? А максимальной?"
   ]
  },
  {
   "cell_type": "markdown",
   "metadata": {},
   "source": [
    "Оценим динамику с помощью группировки и столбчатых диаграмм для среднего и суммы сборов по годам. В силу того, что значения оказались очень различными до `2014` года и после него, используем отдельные столбчатые диаграммы для двух этих периодов:"
   ]
  },
  {
   "cell_type": "code",
   "execution_count": 36,
   "metadata": {
    "id": "tfEhofYvgFyX"
   },
   "outputs": [
    {
     "data": {
      "text/html": [
       "<div>\n",
       "<style scoped>\n",
       "    .dataframe tbody tr th:only-of-type {\n",
       "        vertical-align: middle;\n",
       "    }\n",
       "\n",
       "    .dataframe tbody tr th {\n",
       "        vertical-align: top;\n",
       "    }\n",
       "\n",
       "    .dataframe thead th {\n",
       "        text-align: right;\n",
       "    }\n",
       "</style>\n",
       "<table border=\"1\" class=\"dataframe\">\n",
       "  <thead>\n",
       "    <tr style=\"text-align: right;\">\n",
       "      <th></th>\n",
       "      <th>year</th>\n",
       "      <th>box_office_mean</th>\n",
       "      <th>box_office_median</th>\n",
       "      <th>box_office_sum</th>\n",
       "      <th>box_office_count</th>\n",
       "    </tr>\n",
       "  </thead>\n",
       "  <tbody>\n",
       "    <tr>\n",
       "      <th>0</th>\n",
       "      <td>2010</td>\n",
       "      <td>23130.038</td>\n",
       "      <td>1700.000</td>\n",
       "      <td>2428654.000</td>\n",
       "      <td>105</td>\n",
       "    </tr>\n",
       "    <tr>\n",
       "      <th>1</th>\n",
       "      <td>2011</td>\n",
       "      <td>129383.165</td>\n",
       "      <td>3000.000</td>\n",
       "      <td>14102765.000</td>\n",
       "      <td>109</td>\n",
       "    </tr>\n",
       "    <tr>\n",
       "      <th>2</th>\n",
       "      <td>2012</td>\n",
       "      <td>54339.242</td>\n",
       "      <td>5660.000</td>\n",
       "      <td>6955423.000</td>\n",
       "      <td>128</td>\n",
       "    </tr>\n",
       "    <tr>\n",
       "      <th>3</th>\n",
       "      <td>2013</td>\n",
       "      <td>161954.925</td>\n",
       "      <td>3522.500</td>\n",
       "      <td>29799706.200</td>\n",
       "      <td>184</td>\n",
       "    </tr>\n",
       "    <tr>\n",
       "      <th>4</th>\n",
       "      <td>2014</td>\n",
       "      <td>26684415.266</td>\n",
       "      <td>18160.000</td>\n",
       "      <td>7444951859.200</td>\n",
       "      <td>279</td>\n",
       "    </tr>\n",
       "    <tr>\n",
       "      <th>5</th>\n",
       "      <td>2015</td>\n",
       "      <td>84940570.315</td>\n",
       "      <td>4920933.000</td>\n",
       "      <td>39497365196.400</td>\n",
       "      <td>465</td>\n",
       "    </tr>\n",
       "    <tr>\n",
       "      <th>6</th>\n",
       "      <td>2016</td>\n",
       "      <td>91000569.852</td>\n",
       "      <td>3846679.410</td>\n",
       "      <td>47866299741.910</td>\n",
       "      <td>526</td>\n",
       "    </tr>\n",
       "    <tr>\n",
       "      <th>7</th>\n",
       "      <td>2017</td>\n",
       "      <td>136032793.326</td>\n",
       "      <td>9968340.000</td>\n",
       "      <td>48563707217.510</td>\n",
       "      <td>357</td>\n",
       "    </tr>\n",
       "    <tr>\n",
       "      <th>8</th>\n",
       "      <td>2018</td>\n",
       "      <td>104565059.230</td>\n",
       "      <td>8891102.210</td>\n",
       "      <td>49668403134.320</td>\n",
       "      <td>475</td>\n",
       "    </tr>\n",
       "    <tr>\n",
       "      <th>9</th>\n",
       "      <td>2019</td>\n",
       "      <td>91369261.848</td>\n",
       "      <td>4627798.345</td>\n",
       "      <td>48425708779.590</td>\n",
       "      <td>530</td>\n",
       "    </tr>\n",
       "  </tbody>\n",
       "</table>\n",
       "</div>"
      ],
      "text/plain": [
       "   year  box_office_mean  box_office_median  box_office_sum  box_office_count\n",
       "0  2010        23130.038           1700.000     2428654.000               105\n",
       "1  2011       129383.165           3000.000    14102765.000               109\n",
       "2  2012        54339.242           5660.000     6955423.000               128\n",
       "3  2013       161954.925           3522.500    29799706.200               184\n",
       "4  2014     26684415.266          18160.000  7444951859.200               279\n",
       "5  2015     84940570.315        4920933.000 39497365196.400               465\n",
       "6  2016     91000569.852        3846679.410 47866299741.910               526\n",
       "7  2017    136032793.326        9968340.000 48563707217.510               357\n",
       "8  2018    104565059.230        8891102.210 49668403134.320               475\n",
       "9  2019     91369261.848        4627798.345 48425708779.590               530"
      ]
     },
     "metadata": {},
     "output_type": "display_data"
    },
    {
     "data": {
      "image/png": "[encoded data removed]",
      "text/plain": [
       "<Figure size 1152x1152 with 4 Axes>"
      ]
     },
     "metadata": {
      "needs_background": "light"
     },
     "output_type": "display_data"
    }
   ],
   "source": [
    "fig, axs = plt.subplots(nrows=2, ncols=2, figsize=(16, 16))\n",
    "\n",
    "def set_plot_params(ax, ylabel, title):\n",
    "    '''Вспомогательная функция для установки дополнительных параметров оси и графика\n",
    "    '''\n",
    "    ax.set_xlabel('Год')\n",
    "    ax.set_ylabel(ylabel)\n",
    "    ax.legend(loc='upper left')\n",
    "    ax.ticklabel_format(axis='y', style='plain')\n",
    "    ax.set_title(title)\n",
    "\n",
    "gb_2010_2019 =  mkrf.groupby('year')\\\n",
    "    .agg(box_office_mean=('box_office', 'mean'),\n",
    "         box_office_median=('box_office', 'median'),\n",
    "         box_office_sum=('box_office', 'sum'),\n",
    "         box_office_count=('box_office', 'count'))\\\n",
    "    .reset_index()\n",
    "\n",
    "gb_2010_2013 = mkrf[mkrf['year'] < 2014].groupby('year')\\\n",
    "    .agg(box_office_mean=('box_office', 'mean'),\n",
    "         box_office_median=('box_office', 'median'),\n",
    "         box_office_sum=('box_office', 'sum'))\\\n",
    "    .reset_index()\n",
    "\n",
    "display(gb_2010_2019)\n",
    "\n",
    "################################################\n",
    "# Средние значения и медианы сборов по годам\n",
    "################################################\n",
    "_ = gb_2010_2019.plot(kind='bar', x='year', y='box_office_mean',\n",
    "                            yticks=range(0, 140_000_000, 5_000_000), grid=True, ax=axs[0][0])\n",
    "_ = gb_2010_2019.plot(kind='bar', x='year', y='box_office_median',\n",
    "                            yticks=range(0, 140_000_000, 5_000_000), grid=True, color=\"orange\", ax=axs[0][0])\n",
    "set_plot_params(axs[0][0], 'Сборы', 'Столбчатая диаграмма среднего и медиан сборов с 2010 по 2019')\n",
    "\n",
    "_ = gb_2010_2013.plot(kind='bar', x='year', y='box_office_mean',\n",
    "                            yticks=range(0, 200_000, 10_000), grid=True, ax=axs[0][1])\n",
    "_ = gb_2010_2013.plot(kind='bar', x='year', y='box_office_median',\n",
    "                            yticks=range(0, 200_000, 10_000), grid=True, color=\"orange\", ax=axs[0][1])\n",
    "set_plot_params(axs[0][1], 'Сборы', 'Столбчатая диаграмма среднего и медиан сборов с 2010 по 2013')\n",
    "\n",
    "################################################\n",
    "# Сумма сборов по годам\n",
    "################################################\n",
    "_ = gb_2010_2019.plot(kind='bar', x='year', y='box_office_sum',\n",
    "                           yticks=range(0, 60_000_000_000, 3_000_000_000), grid=True, ax=axs[1][0])\n",
    "set_plot_params(axs[1][0], 'Сумма сборов', 'Столбчатая диаграмма суммы сборов с 2010 по 2019')\n",
    "\n",
    "_ = gb_2010_2013.plot(kind='bar', x='year', y='box_office_sum',\n",
    "                           yticks=range(0, 35_000_000, 2_000_000), grid=True, ax=axs[1][1])\n",
    "set_plot_params(axs[1][1], 'Сумма сборов', 'Столбчатая диаграмма суммы сборов с 2010 по 2013')"
   ]
  },
  {
   "cell_type": "markdown",
   "metadata": {},
   "source": [
    "**Вывод**\n",
    "\n",
    "1. Сразу бросаются в глаза очень низкие показатели сборов в период с `2010` по `2013` года. В выведенной группировке видно, что в эти года представлено не так много фильмов (столбец `box_office_count`) чтобы получить значительные суммарные сборы, но и меры центральной тенденции - среднее и особенно медиана - также крайне малы по сравнению с периодом после `2014` года;\n",
    "\n",
    "\n",
    "2. На первых двух диаграммах, отображающих средние и медианы, видно, насколько медианные значения меньше средних значений, которые подвержены влиянию выбросов. Это касается и периода до `2014`, и периода после `2014` года;\n",
    "\n",
    "\n",
    "3. Оценивая медианные показатели сборов, можно сделать вывод, что они росли с `2010` по `2012` года, затем незначительно снизились в `2013` году, после чего произошёл резкий скачок вверх в `2015` году, некоторое снижение в `2016` году сменилось высокими значениями в `2017` (это максимальная медиана по годам) и в `2018` году, и в `2019` году показатель вышел примерно на уровень `2015` года;\n",
    "\n",
    "\n",
    "4. Сумма сборов была **минимальной** в `2010` году - `2 428 654 ₽`. Но тут необохдимо заметить, что по этому же году представлено и меньше всего фильмов - `105`, и это безусловно влияет на полученное суммарное значение.\n",
    "\n",
    "\n",
    "5. Сумма сборов была **максимальной** в `2018` году - `49 668 403 134 ₽`, это значение получено по `475` фильмам (в `4.75` раза больше фильмов, чем в `2010` году, а сборов больше аж в `20451` раз (`49 668 403 134 / 2 428 654`). В целом же суммарные сборы с `2016` по `2019` год находятся примерно на одном уровне."
   ]
  },
  {
   "cell_type": "markdown",
   "metadata": {
    "id": "G-7qS-N-gFyY"
   },
   "source": [
    "- С помощью сводной таблицы посчитайте среднюю и медианную сумму сборов для каждого года."
   ]
  },
  {
   "cell_type": "markdown",
   "metadata": {},
   "source": [
    "Строим сводную таблицу и график по ней:"
   ]
  },
  {
   "cell_type": "code",
   "execution_count": 37,
   "metadata": {
    "id": "jmp-rgg9gFyY"
   },
   "outputs": [
    {
     "data": {
      "text/html": [
       "<div>\n",
       "<style scoped>\n",
       "    .dataframe tbody tr th:only-of-type {\n",
       "        vertical-align: middle;\n",
       "    }\n",
       "\n",
       "    .dataframe tbody tr th {\n",
       "        vertical-align: top;\n",
       "    }\n",
       "\n",
       "    .dataframe thead tr th {\n",
       "        text-align: left;\n",
       "    }\n",
       "</style>\n",
       "<table border=\"1\" class=\"dataframe\">\n",
       "  <thead>\n",
       "    <tr>\n",
       "      <th></th>\n",
       "      <th>year</th>\n",
       "      <th>mean</th>\n",
       "      <th>median</th>\n",
       "    </tr>\n",
       "    <tr>\n",
       "      <th></th>\n",
       "      <th></th>\n",
       "      <th>box_office</th>\n",
       "      <th>box_office</th>\n",
       "    </tr>\n",
       "  </thead>\n",
       "  <tbody>\n",
       "    <tr>\n",
       "      <th>0</th>\n",
       "      <td>2010</td>\n",
       "      <td>23130.038</td>\n",
       "      <td>1700.000</td>\n",
       "    </tr>\n",
       "    <tr>\n",
       "      <th>1</th>\n",
       "      <td>2011</td>\n",
       "      <td>129383.165</td>\n",
       "      <td>3000.000</td>\n",
       "    </tr>\n",
       "    <tr>\n",
       "      <th>2</th>\n",
       "      <td>2012</td>\n",
       "      <td>54339.242</td>\n",
       "      <td>5660.000</td>\n",
       "    </tr>\n",
       "    <tr>\n",
       "      <th>3</th>\n",
       "      <td>2013</td>\n",
       "      <td>161954.925</td>\n",
       "      <td>3522.500</td>\n",
       "    </tr>\n",
       "    <tr>\n",
       "      <th>4</th>\n",
       "      <td>2014</td>\n",
       "      <td>26684415.266</td>\n",
       "      <td>18160.000</td>\n",
       "    </tr>\n",
       "    <tr>\n",
       "      <th>5</th>\n",
       "      <td>2015</td>\n",
       "      <td>84940570.315</td>\n",
       "      <td>4920933.000</td>\n",
       "    </tr>\n",
       "    <tr>\n",
       "      <th>6</th>\n",
       "      <td>2016</td>\n",
       "      <td>91000569.852</td>\n",
       "      <td>3846679.410</td>\n",
       "    </tr>\n",
       "    <tr>\n",
       "      <th>7</th>\n",
       "      <td>2017</td>\n",
       "      <td>136032793.326</td>\n",
       "      <td>9968340.000</td>\n",
       "    </tr>\n",
       "    <tr>\n",
       "      <th>8</th>\n",
       "      <td>2018</td>\n",
       "      <td>104565059.230</td>\n",
       "      <td>8891102.210</td>\n",
       "    </tr>\n",
       "    <tr>\n",
       "      <th>9</th>\n",
       "      <td>2019</td>\n",
       "      <td>91369261.848</td>\n",
       "      <td>4627798.345</td>\n",
       "    </tr>\n",
       "  </tbody>\n",
       "</table>\n",
       "</div>"
      ],
      "text/plain": [
       "   year          mean      median\n",
       "           box_office  box_office\n",
       "0  2010     23130.038    1700.000\n",
       "1  2011    129383.165    3000.000\n",
       "2  2012     54339.242    5660.000\n",
       "3  2013    161954.925    3522.500\n",
       "4  2014  26684415.266   18160.000\n",
       "5  2015  84940570.315 4920933.000\n",
       "6  2016  91000569.852 3846679.410\n",
       "7  2017 136032793.326 9968340.000\n",
       "8  2018 104565059.230 8891102.210\n",
       "9  2019  91369261.848 4627798.345"
      ]
     },
     "metadata": {},
     "output_type": "display_data"
    },
    {
     "data": {
      "image/png": "[encoded data removed]",
      "text/plain": [
       "<Figure size 1152x432 with 1 Axes>"
      ]
     },
     "metadata": {
      "needs_background": "light"
     },
     "output_type": "display_data"
    }
   ],
   "source": [
    "pivot_table = pd.pivot_table(mkrf, index='year', values='box_office', aggfunc=['mean', 'median']).reset_index()\n",
    "pivot_table.reset_index(drop=True)\n",
    "display(pivot_table)\n",
    "\n",
    "fig, ax = plt.subplots(figsize=(16, 6))\n",
    "_ = sns.lineplot(x=pivot_table['year'], y=pivot_table['mean']['box_office'],\n",
    "                 label='Средние сборы', linewidth=4, ax=ax)\n",
    "_ = sns.lineplot(x=pivot_table['year'], y=pivot_table['median']['box_office'],\n",
    "                 label='Медианные сборы', linewidth=4, ax=ax)\n",
    "_ = ax.ticklabel_format(axis='y', style='plain')\n",
    "_ = ax.set_xticks(range(2010, 2020))\n",
    "_ = ax.set_yticks(range(0, 150_000_000, 10_000_000))\n",
    "_ = ax.set_title('Средние и медианные суммы сборов по годам')\n",
    "_ = ax.set_xlabel('Год')\n",
    "_ = ax.set_ylabel('Сумма сборов, руб.')\n",
    "_ = ax.legend(loc='upper left')\n",
    "_ = ax.grid()"
   ]
  },
  {
   "cell_type": "markdown",
   "metadata": {},
   "source": [
    "Теперь убедимся, что значения в сводной таблице совпадают со значениями, полученными с помощью группировки `gb_2010_2019`, построенной выше:"
   ]
  },
  {
   "cell_type": "code",
   "execution_count": 38,
   "metadata": {},
   "outputs": [
    {
     "data": {
      "text/html": [
       "<div>\n",
       "<style scoped>\n",
       "    .dataframe tbody tr th:only-of-type {\n",
       "        vertical-align: middle;\n",
       "    }\n",
       "\n",
       "    .dataframe tbody tr th {\n",
       "        vertical-align: top;\n",
       "    }\n",
       "\n",
       "    .dataframe thead th {\n",
       "        text-align: right;\n",
       "    }\n",
       "</style>\n",
       "<table border=\"1\" class=\"dataframe\">\n",
       "  <thead>\n",
       "    <tr style=\"text-align: right;\">\n",
       "      <th></th>\n",
       "      <th>box_office</th>\n",
       "      <th>box_office_mean</th>\n",
       "    </tr>\n",
       "  </thead>\n",
       "  <tbody>\n",
       "    <tr>\n",
       "      <th>0</th>\n",
       "      <td>23130.038</td>\n",
       "      <td>23130.038</td>\n",
       "    </tr>\n",
       "    <tr>\n",
       "      <th>1</th>\n",
       "      <td>129383.165</td>\n",
       "      <td>129383.165</td>\n",
       "    </tr>\n",
       "    <tr>\n",
       "      <th>2</th>\n",
       "      <td>54339.242</td>\n",
       "      <td>54339.242</td>\n",
       "    </tr>\n",
       "    <tr>\n",
       "      <th>3</th>\n",
       "      <td>161954.925</td>\n",
       "      <td>161954.925</td>\n",
       "    </tr>\n",
       "    <tr>\n",
       "      <th>4</th>\n",
       "      <td>26684415.266</td>\n",
       "      <td>26684415.266</td>\n",
       "    </tr>\n",
       "    <tr>\n",
       "      <th>5</th>\n",
       "      <td>84940570.315</td>\n",
       "      <td>84940570.315</td>\n",
       "    </tr>\n",
       "    <tr>\n",
       "      <th>6</th>\n",
       "      <td>91000569.852</td>\n",
       "      <td>91000569.852</td>\n",
       "    </tr>\n",
       "    <tr>\n",
       "      <th>7</th>\n",
       "      <td>136032793.326</td>\n",
       "      <td>136032793.326</td>\n",
       "    </tr>\n",
       "    <tr>\n",
       "      <th>8</th>\n",
       "      <td>104565059.230</td>\n",
       "      <td>104565059.230</td>\n",
       "    </tr>\n",
       "    <tr>\n",
       "      <th>9</th>\n",
       "      <td>91369261.848</td>\n",
       "      <td>91369261.848</td>\n",
       "    </tr>\n",
       "  </tbody>\n",
       "</table>\n",
       "</div>"
      ],
      "text/plain": [
       "     box_office  box_office_mean\n",
       "0     23130.038        23130.038\n",
       "1    129383.165       129383.165\n",
       "2     54339.242        54339.242\n",
       "3    161954.925       161954.925\n",
       "4  26684415.266     26684415.266\n",
       "5  84940570.315     84940570.315\n",
       "6  91000569.852     91000569.852\n",
       "7 136032793.326    136032793.326\n",
       "8 104565059.230    104565059.230\n",
       "9  91369261.848     91369261.848"
      ]
     },
     "execution_count": 38,
     "metadata": {},
     "output_type": "execute_result"
    }
   ],
   "source": [
    "pd.concat([pivot_table.loc[:, 'mean'], gb_2010_2019.loc[:, 'box_office_mean']], axis=1)"
   ]
  },
  {
   "cell_type": "markdown",
   "metadata": {
    "id": "Ok89WFwJgFyZ"
   },
   "source": [
    "- Определите, влияет ли возрастное ограничение аудитории («6+», «12+», «16+», «18+» и т. д.) на сборы фильма в прокате в период с 2015 по 2019 год? Фильмы с каким возрастным ограничением собрали больше всего денег в прокате? Меняется ли картина в зависимости от года? Если да, предположите, с чем это может быть связано."
   ]
  },
  {
   "cell_type": "markdown",
   "metadata": {},
   "source": [
    "Начнём с того, что построим столбчатые диаграммы по показателям сборов (средние, медианы, суммы) в зависимости от возрастного ограничения:"
   ]
  },
  {
   "cell_type": "code",
   "execution_count": 39,
   "metadata": {
    "id": "jsSbEqfjgFya"
   },
   "outputs": [
    {
     "data": {
      "text/html": [
       "<div>\n",
       "<style scoped>\n",
       "    .dataframe tbody tr th:only-of-type {\n",
       "        vertical-align: middle;\n",
       "    }\n",
       "\n",
       "    .dataframe tbody tr th {\n",
       "        vertical-align: top;\n",
       "    }\n",
       "\n",
       "    .dataframe thead th {\n",
       "        text-align: right;\n",
       "    }\n",
       "</style>\n",
       "<table border=\"1\" class=\"dataframe\">\n",
       "  <thead>\n",
       "    <tr style=\"text-align: right;\">\n",
       "      <th></th>\n",
       "      <th>age_restriction</th>\n",
       "      <th>box_office_mean</th>\n",
       "      <th>box_office_median</th>\n",
       "      <th>box_office_sum</th>\n",
       "      <th>box_office_count</th>\n",
       "    </tr>\n",
       "  </thead>\n",
       "  <tbody>\n",
       "    <tr>\n",
       "      <th>0</th>\n",
       "      <td>«0+» - для любой зрительской аудитории</td>\n",
       "      <td>8890960.725</td>\n",
       "      <td>2943318.700</td>\n",
       "      <td>809077425.970</td>\n",
       "      <td>91</td>\n",
       "    </tr>\n",
       "    <tr>\n",
       "      <th>1</th>\n",
       "      <td>«12+» - для детей старше 12 лет</td>\n",
       "      <td>174193812.150</td>\n",
       "      <td>5065044.250</td>\n",
       "      <td>60619446628.330</td>\n",
       "      <td>348</td>\n",
       "    </tr>\n",
       "    <tr>\n",
       "      <th>2</th>\n",
       "      <td>«16+» - для детей старше 16 лет</td>\n",
       "      <td>94453085.272</td>\n",
       "      <td>5600007.000</td>\n",
       "      <td>76034733643.630</td>\n",
       "      <td>805</td>\n",
       "    </tr>\n",
       "    <tr>\n",
       "      <th>3</th>\n",
       "      <td>«18+» - запрещено для детей</td>\n",
       "      <td>51464161.076</td>\n",
       "      <td>6154439.170</td>\n",
       "      <td>40759615572.120</td>\n",
       "      <td>792</td>\n",
       "    </tr>\n",
       "    <tr>\n",
       "      <th>4</th>\n",
       "      <td>«6+» - для детей старше 6 лет</td>\n",
       "      <td>176020854.258</td>\n",
       "      <td>13736207.980</td>\n",
       "      <td>55798610799.680</td>\n",
       "      <td>317</td>\n",
       "    </tr>\n",
       "  </tbody>\n",
       "</table>\n",
       "</div>"
      ],
      "text/plain": [
       "                          age_restriction  box_office_mean  box_office_median  \\\n",
       "0  «0+» - для любой зрительской аудитории      8890960.725        2943318.700   \n",
       "1         «12+» - для детей старше 12 лет    174193812.150        5065044.250   \n",
       "2         «16+» - для детей старше 16 лет     94453085.272        5600007.000   \n",
       "3             «18+» - запрещено для детей     51464161.076        6154439.170   \n",
       "4           «6+» - для детей старше 6 лет    176020854.258       13736207.980   \n",
       "\n",
       "   box_office_sum  box_office_count  \n",
       "0   809077425.970                91  \n",
       "1 60619446628.330               348  \n",
       "2 76034733643.630               805  \n",
       "3 40759615572.120               792  \n",
       "4 55798610799.680               317  "
      ]
     },
     "metadata": {},
     "output_type": "display_data"
    },
    {
     "data": {
      "image/png": "[encoded data removed]",
      "text/plain": [
       "<Figure size 1440x576 with 2 Axes>"
      ]
     },
     "metadata": {
      "needs_background": "light"
     },
     "output_type": "display_data"
    }
   ],
   "source": [
    "# Рассматриваем фильмы с 2015 года\n",
    "mkrf_2015_2019 = mkrf[mkrf['year'] >= 2015]\n",
    "\n",
    "gb_age_restriction = mkrf_2015_2019.groupby('age_restriction').agg(\n",
    "    box_office_mean=('box_office', 'mean'),\n",
    "    box_office_median=('box_office', 'median'),\n",
    "    box_office_sum=('box_office', 'sum'),\n",
    "    box_office_count=('box_office', 'count')).reset_index()\n",
    "\n",
    "display(gb_age_restriction)\n",
    "\n",
    "def set_plot_params(ax, ylabel, title):\n",
    "    '''Вспомогательная функция для установки дополнительных параметров оси и графика\n",
    "    '''\n",
    "    ax.set_xlabel('Возрастное ограничение')\n",
    "    ax.set_ylabel(ylabel)\n",
    "    ax.legend(loc='upper left')\n",
    "    ax.ticklabel_format(axis='y', style='plain')\n",
    "    ax.set_title(title)\n",
    "\n",
    "fig, axs = plt.subplots(nrows=1, ncols=2, figsize=(20, 8))\n",
    "\n",
    "###########################################################\n",
    "# Средние и медианы сборов по возрастному ограничению\n",
    "###########################################################\n",
    "_ = gb_age_restriction.plot(kind='bar', x='age_restriction', y='box_office_mean',\n",
    "                            yticks=range(0, 200_000_000, 5_000_000), grid=True, ax=axs[0])\n",
    "_ = gb_age_restriction.plot(kind='bar', x='age_restriction', y='box_office_median', color='orange',\n",
    "                            yticks=range(0, 200_000_000, 5_000_000), grid=True, ax=axs[0])\n",
    "set_plot_params(axs[0], 'Среднее значение сборов',\n",
    "                'Гистограмма средних значений и медиан сборов по возрастному ограничению')\n",
    "\n",
    "###########################################################\n",
    "# Суммы сборов по возрастному ограничению\n",
    "###########################################################\n",
    "_ = gb_age_restriction.plot(kind='bar', x='age_restriction', y='box_office_sum',\n",
    "                            yticks=range(0, 90_000_000_000, 3_000_000_000), grid=True, ax=axs[1])\n",
    "set_plot_params(axs[1], 'Сумма сборов', 'Гистограмма сумм сборов по возрастному ограничению')"
   ]
  },
  {
   "cell_type": "markdown",
   "metadata": {},
   "source": [
    "Судя по всему, возрастная категория действительно влияет на сборы - минимальное значение по всем представленным показателем - среднему, медиане и сумме сборов наблюдается в категории _«0+» - для любой зрительской аудитории_, но нужно отметить, что таких фильмов меньше всего, только `91`, что, впрочем, затрагивает только сумму сборов, но не показатели центральной тенденции.\n",
    "\n",
    "Максимальное значение по среднему и медиане наблюдается в возрастной категории _«6+» - для детей старше 6 лет_ (`317` фильмов), с небольшим отставанием по среднему идёт категория _«12+» - для детей старше 12 лет_ (`348` фильмов).\n",
    "\n",
    "Если говорить о максимальной сумме сборов, то описанные выше две категории _«6+»_ и _«12+»_ заметно ниже категории, на которой достигается максимум - _«16+» - для детей старше 16 лет_. Объяснение этому видится (но лишь отчасти) в значительном количестве фильмов, вышедших в данной возрастной категории - `805` фильмов.\n",
    "\n",
    "В то же время одно лишь количество фильмов никак не гарантирует максимальных сборов, в чём можно убедиться глядя на весьма скромные (лишь 4 место) показатели суммарных сборов по возрастной категории _«18+» - запрещено для детей_, в то время как число фильмов в ней весьма велико - `792` - и сравнимо с количеством фильмов в категории с максимальными суммарными сборами.\n",
    "\n",
    "Исследование зависимости максимальных суммарных сборов от года выхода фильма в прокат начнём с построения группировки по двум категориям - возрастному ограничению (`age_restriction`) и году (`year`). Результаты группировки выведем с сортировкой по убыванию суммарных сборов:"
   ]
  },
  {
   "cell_type": "code",
   "execution_count": 40,
   "metadata": {},
   "outputs": [
    {
     "data": {
      "text/html": [
       "<div>\n",
       "<style scoped>\n",
       "    .dataframe tbody tr th:only-of-type {\n",
       "        vertical-align: middle;\n",
       "    }\n",
       "\n",
       "    .dataframe tbody tr th {\n",
       "        vertical-align: top;\n",
       "    }\n",
       "\n",
       "    .dataframe thead th {\n",
       "        text-align: right;\n",
       "    }\n",
       "</style>\n",
       "<table border=\"1\" class=\"dataframe\">\n",
       "  <thead>\n",
       "    <tr style=\"text-align: right;\">\n",
       "      <th></th>\n",
       "      <th>age_restriction</th>\n",
       "      <th>year</th>\n",
       "      <th>box_office_sum</th>\n",
       "      <th>box_office_count</th>\n",
       "    </tr>\n",
       "  </thead>\n",
       "  <tbody>\n",
       "    <tr>\n",
       "      <th>12</th>\n",
       "      <td>«16+» - для детей старше 16 лет</td>\n",
       "      <td>2017</td>\n",
       "      <td>18745042900.060</td>\n",
       "      <td>121</td>\n",
       "    </tr>\n",
       "    <tr>\n",
       "      <th>11</th>\n",
       "      <td>«16+» - для детей старше 16 лет</td>\n",
       "      <td>2016</td>\n",
       "      <td>16664548541.740</td>\n",
       "      <td>182</td>\n",
       "    </tr>\n",
       "    <tr>\n",
       "      <th>13</th>\n",
       "      <td>«16+» - для детей старше 16 лет</td>\n",
       "      <td>2018</td>\n",
       "      <td>16503602346.960</td>\n",
       "      <td>156</td>\n",
       "    </tr>\n",
       "    <tr>\n",
       "      <th>8</th>\n",
       "      <td>«12+» - для детей старше 12 лет</td>\n",
       "      <td>2018</td>\n",
       "      <td>14267291660.690</td>\n",
       "      <td>67</td>\n",
       "    </tr>\n",
       "    <tr>\n",
       "      <th>5</th>\n",
       "      <td>«12+» - для детей старше 12 лет</td>\n",
       "      <td>2015</td>\n",
       "      <td>13616082008.910</td>\n",
       "      <td>73</td>\n",
       "    </tr>\n",
       "    <tr>\n",
       "      <th>24</th>\n",
       "      <td>«6+» - для детей старше 6 лет</td>\n",
       "      <td>2019</td>\n",
       "      <td>12852548650.860</td>\n",
       "      <td>81</td>\n",
       "    </tr>\n",
       "    <tr>\n",
       "      <th>14</th>\n",
       "      <td>«16+» - для детей старше 16 лет</td>\n",
       "      <td>2019</td>\n",
       "      <td>12753418984.600</td>\n",
       "      <td>178</td>\n",
       "    </tr>\n",
       "    <tr>\n",
       "      <th>9</th>\n",
       "      <td>«12+» - для детей старше 12 лет</td>\n",
       "      <td>2019</td>\n",
       "      <td>12680198773.670</td>\n",
       "      <td>85</td>\n",
       "    </tr>\n",
       "    <tr>\n",
       "      <th>6</th>\n",
       "      <td>«12+» - для детей старше 12 лет</td>\n",
       "      <td>2016</td>\n",
       "      <td>12204446524.390</td>\n",
       "      <td>82</td>\n",
       "    </tr>\n",
       "    <tr>\n",
       "      <th>22</th>\n",
       "      <td>«6+» - для детей старше 6 лет</td>\n",
       "      <td>2017</td>\n",
       "      <td>12086142145.760</td>\n",
       "      <td>45</td>\n",
       "    </tr>\n",
       "    <tr>\n",
       "      <th>21</th>\n",
       "      <td>«6+» - для детей старше 6 лет</td>\n",
       "      <td>2016</td>\n",
       "      <td>12053146008.240</td>\n",
       "      <td>70</td>\n",
       "    </tr>\n",
       "    <tr>\n",
       "      <th>10</th>\n",
       "      <td>«16+» - для детей старше 16 лет</td>\n",
       "      <td>2015</td>\n",
       "      <td>11368120870.270</td>\n",
       "      <td>168</td>\n",
       "    </tr>\n",
       "    <tr>\n",
       "      <th>19</th>\n",
       "      <td>«18+» - запрещено для детей</td>\n",
       "      <td>2019</td>\n",
       "      <td>10121796303.640</td>\n",
       "      <td>183</td>\n",
       "    </tr>\n",
       "    <tr>\n",
       "      <th>23</th>\n",
       "      <td>«6+» - для детей старше 6 лет</td>\n",
       "      <td>2018</td>\n",
       "      <td>10104974623.410</td>\n",
       "      <td>68</td>\n",
       "    </tr>\n",
       "    <tr>\n",
       "      <th>17</th>\n",
       "      <td>«18+» - запрещено для детей</td>\n",
       "      <td>2017</td>\n",
       "      <td>9651495581.020</td>\n",
       "      <td>147</td>\n",
       "    </tr>\n",
       "    <tr>\n",
       "      <th>18</th>\n",
       "      <td>«18+» - запрещено для детей</td>\n",
       "      <td>2018</td>\n",
       "      <td>8760085501.150</td>\n",
       "      <td>179</td>\n",
       "    </tr>\n",
       "    <tr>\n",
       "      <th>20</th>\n",
       "      <td>«6+» - для детей старше 6 лет</td>\n",
       "      <td>2015</td>\n",
       "      <td>8701799371.410</td>\n",
       "      <td>53</td>\n",
       "    </tr>\n",
       "    <tr>\n",
       "      <th>7</th>\n",
       "      <td>«12+» - для детей старше 12 лет</td>\n",
       "      <td>2017</td>\n",
       "      <td>7851427660.670</td>\n",
       "      <td>41</td>\n",
       "    </tr>\n",
       "    <tr>\n",
       "      <th>16</th>\n",
       "      <td>«18+» - запрещено для детей</td>\n",
       "      <td>2016</td>\n",
       "      <td>6793929818.870</td>\n",
       "      <td>151</td>\n",
       "    </tr>\n",
       "    <tr>\n",
       "      <th>15</th>\n",
       "      <td>«18+» - запрещено для детей</td>\n",
       "      <td>2015</td>\n",
       "      <td>5432308367.440</td>\n",
       "      <td>132</td>\n",
       "    </tr>\n",
       "    <tr>\n",
       "      <th>0</th>\n",
       "      <td>«0+» - для любой зрительской аудитории</td>\n",
       "      <td>2015</td>\n",
       "      <td>379054578.370</td>\n",
       "      <td>39</td>\n",
       "    </tr>\n",
       "    <tr>\n",
       "      <th>2</th>\n",
       "      <td>«0+» - для любой зрительской аудитории</td>\n",
       "      <td>2017</td>\n",
       "      <td>229598930.000</td>\n",
       "      <td>3</td>\n",
       "    </tr>\n",
       "    <tr>\n",
       "      <th>1</th>\n",
       "      <td>«0+» - для любой зрительской аудитории</td>\n",
       "      <td>2016</td>\n",
       "      <td>150228848.670</td>\n",
       "      <td>41</td>\n",
       "    </tr>\n",
       "    <tr>\n",
       "      <th>3</th>\n",
       "      <td>«0+» - для любой зрительской аудитории</td>\n",
       "      <td>2018</td>\n",
       "      <td>32449002.110</td>\n",
       "      <td>5</td>\n",
       "    </tr>\n",
       "    <tr>\n",
       "      <th>4</th>\n",
       "      <td>«0+» - для любой зрительской аудитории</td>\n",
       "      <td>2019</td>\n",
       "      <td>17746066.820</td>\n",
       "      <td>3</td>\n",
       "    </tr>\n",
       "  </tbody>\n",
       "</table>\n",
       "</div>"
      ],
      "text/plain": [
       "                           age_restriction  year  box_office_sum  \\\n",
       "12         «16+» - для детей старше 16 лет  2017 18745042900.060   \n",
       "11         «16+» - для детей старше 16 лет  2016 16664548541.740   \n",
       "13         «16+» - для детей старше 16 лет  2018 16503602346.960   \n",
       "8          «12+» - для детей старше 12 лет  2018 14267291660.690   \n",
       "5          «12+» - для детей старше 12 лет  2015 13616082008.910   \n",
       "24           «6+» - для детей старше 6 лет  2019 12852548650.860   \n",
       "14         «16+» - для детей старше 16 лет  2019 12753418984.600   \n",
       "9          «12+» - для детей старше 12 лет  2019 12680198773.670   \n",
       "6          «12+» - для детей старше 12 лет  2016 12204446524.390   \n",
       "22           «6+» - для детей старше 6 лет  2017 12086142145.760   \n",
       "21           «6+» - для детей старше 6 лет  2016 12053146008.240   \n",
       "10         «16+» - для детей старше 16 лет  2015 11368120870.270   \n",
       "19             «18+» - запрещено для детей  2019 10121796303.640   \n",
       "23           «6+» - для детей старше 6 лет  2018 10104974623.410   \n",
       "17             «18+» - запрещено для детей  2017  9651495581.020   \n",
       "18             «18+» - запрещено для детей  2018  8760085501.150   \n",
       "20           «6+» - для детей старше 6 лет  2015  8701799371.410   \n",
       "7          «12+» - для детей старше 12 лет  2017  7851427660.670   \n",
       "16             «18+» - запрещено для детей  2016  6793929818.870   \n",
       "15             «18+» - запрещено для детей  2015  5432308367.440   \n",
       "0   «0+» - для любой зрительской аудитории  2015   379054578.370   \n",
       "2   «0+» - для любой зрительской аудитории  2017   229598930.000   \n",
       "1   «0+» - для любой зрительской аудитории  2016   150228848.670   \n",
       "3   «0+» - для любой зрительской аудитории  2018    32449002.110   \n",
       "4   «0+» - для любой зрительской аудитории  2019    17746066.820   \n",
       "\n",
       "    box_office_count  \n",
       "12               121  \n",
       "11               182  \n",
       "13               156  \n",
       "8                 67  \n",
       "5                 73  \n",
       "24                81  \n",
       "14               178  \n",
       "9                 85  \n",
       "6                 82  \n",
       "22                45  \n",
       "21                70  \n",
       "10               168  \n",
       "19               183  \n",
       "23                68  \n",
       "17               147  \n",
       "18               179  \n",
       "20                53  \n",
       "7                 41  \n",
       "16               151  \n",
       "15               132  \n",
       "0                 39  \n",
       "2                  3  \n",
       "1                 41  \n",
       "3                  5  \n",
       "4                  3  "
      ]
     },
     "metadata": {},
     "output_type": "display_data"
    }
   ],
   "source": [
    "gb_age_restriction_year = (\n",
    "    mkrf_2015_2019.groupby(['age_restriction', 'year'])\n",
    "        .agg(box_office_sum=('box_office', 'sum'),\n",
    "             box_office_count=('box_office', 'count'))\n",
    "        .reset_index()\n",
    "        .sort_values(by='box_office_sum', ascending=False)\n",
    ")\n",
    "\n",
    "display(gb_age_restriction_year)"
   ]
  },
  {
   "cell_type": "markdown",
   "metadata": {},
   "source": [
    "Результаты подтверждают наблюдения построенных выше диаграмм, но лишь частично: категория _«16+» - для детей старше 16 лет_ демонстрирует максимальные (в целом) значения сумм сборов по `2016`, `2017` и `2018` годам.\n",
    "\n",
    "По `2019` году категория _«16+»_ уступила первое место (правда, лишь с небольшим отставанием) категории _«6+» - для детей старше 6 лет_.\n",
    "\n",
    "По `2015` году категория _«16+»_ вновь вторая, наибольшие сборы здесь с довольно заметным отрывом занимает категория _«12+» - для детей старше 12 лет_.\n",
    "\n",
    "Делать подобные выводы по табличным данным не очень удобно, поэтому дополним исследование графическим представлением, где по оси `x` будут располагаться значения суммарных сборов, по оси `y` - возрастные ограничения, а каждый год будет визуализирован на своём графике. Такие графики не дают возможности оценить точные значения показателей, но кажутся весьма удобными для сравнения значений между собой по принципу \"больше-меньше\":"
   ]
  },
  {
   "cell_type": "code",
   "execution_count": 41,
   "metadata": {},
   "outputs": [
    {
     "data": {
      "image/png": "[encoded data removed]",
      "text/plain": [
       "<Figure size 1008x1260 with 5 Axes>"
      ]
     },
     "metadata": {
      "needs_background": "light"
     },
     "output_type": "display_data"
    }
   ],
   "source": [
    "catplot = sns.catplot(x=\"box_office_sum\", y=\"age_restriction\", row=\"year\",\n",
    "                      height=3.5, aspect=4, s=16, data=gb_age_restriction_year)\n",
    "for ax in catplot.axes.flat:\n",
    "    ax.grid(True, axis='both')"
   ]
  },
  {
   "cell_type": "markdown",
   "metadata": {},
   "source": [
    "Таким образом, на вопрос \"_Меняется ли картина по максимальным суммарным сборам в рамках возрастным категорий в зависимости от года?_\" можно ответить утвердительно - да, меняется, так произошло в `2015` и `2019` годах, когда категория _«16+»_ уступила своё первенство категории _«12+»_ в `2015` году и категории `«6+»` в `2019` году.\n",
    "\n",
    "Чтобы сделать некоторые предположения о причинах данного наблюдения, попробуем проанализировать наиболее кассовые (топ-10) фильмы в `2015` и `2019` годах в рамках описанных категорий _«12+»_ (для `2015` года), _«6+»_ (для `2019` года) и _«16+»_ (и для `2015`, и для `2019` года):"
   ]
  },
  {
   "cell_type": "code",
   "execution_count": 42,
   "metadata": {},
   "outputs": [
    {
     "data": {
      "text/html": [
       "<div>\n",
       "<style scoped>\n",
       "    .dataframe tbody tr th:only-of-type {\n",
       "        vertical-align: middle;\n",
       "    }\n",
       "\n",
       "    .dataframe tbody tr th {\n",
       "        vertical-align: top;\n",
       "    }\n",
       "\n",
       "    .dataframe thead th {\n",
       "        text-align: right;\n",
       "    }\n",
       "</style>\n",
       "<table border=\"1\" class=\"dataframe\">\n",
       "  <thead>\n",
       "    <tr style=\"text-align: right;\">\n",
       "      <th></th>\n",
       "      <th>title</th>\n",
       "      <th>box_office</th>\n",
       "    </tr>\n",
       "  </thead>\n",
       "  <tbody>\n",
       "    <tr>\n",
       "      <th>3117</th>\n",
       "      <td>Звёздные войны: Пробуждение силы</td>\n",
       "      <td>1658861425.500</td>\n",
       "    </tr>\n",
       "    <tr>\n",
       "      <th>2159</th>\n",
       "      <td>Мстители: Эра Альтрона</td>\n",
       "      <td>1500989281.900</td>\n",
       "    </tr>\n",
       "    <tr>\n",
       "      <th>2579</th>\n",
       "      <td>Мир Юрского периода</td>\n",
       "      <td>1211158990.000</td>\n",
       "    </tr>\n",
       "    <tr>\n",
       "      <th>2509</th>\n",
       "      <td>Терминатор: Генезис</td>\n",
       "      <td>1060054283.000</td>\n",
       "    </tr>\n",
       "    <tr>\n",
       "      <th>2599</th>\n",
       "      <td>Эверест (2015)</td>\n",
       "      <td>630550647.800</td>\n",
       "    </tr>\n",
       "    <tr>\n",
       "      <th>2623</th>\n",
       "      <td>Человек-муравей</td>\n",
       "      <td>587487039.900</td>\n",
       "    </tr>\n",
       "    <tr>\n",
       "      <th>2401</th>\n",
       "      <td>Восхождение Юпитер</td>\n",
       "      <td>581522463.100</td>\n",
       "    </tr>\n",
       "    <tr>\n",
       "      <th>2616</th>\n",
       "      <td>Агенты А.Н.К.Л</td>\n",
       "      <td>573332918.400</td>\n",
       "    </tr>\n",
       "    <tr>\n",
       "      <th>2721</th>\n",
       "      <td>Разлом Сан-Андреас</td>\n",
       "      <td>535810483.900</td>\n",
       "    </tr>\n",
       "    <tr>\n",
       "      <th>1915</th>\n",
       "      <td>Дивергент, глава 2: Инсургент</td>\n",
       "      <td>490175572.400</td>\n",
       "    </tr>\n",
       "  </tbody>\n",
       "</table>\n",
       "</div>"
      ],
      "text/plain": [
       "                                 title     box_office\n",
       "3117  Звёздные войны: Пробуждение силы 1658861425.500\n",
       "2159            Мстители: Эра Альтрона 1500989281.900\n",
       "2579               Мир Юрского периода 1211158990.000\n",
       "2509               Терминатор: Генезис 1060054283.000\n",
       "2599                    Эверест (2015)  630550647.800\n",
       "2623                   Человек-муравей  587487039.900\n",
       "2401                Восхождение Юпитер  581522463.100\n",
       "2616                    Агенты А.Н.К.Л  573332918.400\n",
       "2721                Разлом Сан-Андреас  535810483.900\n",
       "1915     Дивергент, глава 2: Инсургент  490175572.400"
      ]
     },
     "metadata": {},
     "output_type": "display_data"
    },
    {
     "data": {
      "text/html": [
       "<div>\n",
       "<style scoped>\n",
       "    .dataframe tbody tr th:only-of-type {\n",
       "        vertical-align: middle;\n",
       "    }\n",
       "\n",
       "    .dataframe tbody tr th {\n",
       "        vertical-align: top;\n",
       "    }\n",
       "\n",
       "    .dataframe thead th {\n",
       "        text-align: right;\n",
       "    }\n",
       "</style>\n",
       "<table border=\"1\" class=\"dataframe\">\n",
       "  <thead>\n",
       "    <tr style=\"text-align: right;\">\n",
       "      <th></th>\n",
       "      <th>title</th>\n",
       "      <th>box_office</th>\n",
       "    </tr>\n",
       "  </thead>\n",
       "  <tbody>\n",
       "    <tr>\n",
       "      <th>2105</th>\n",
       "      <td>Форсаж 7</td>\n",
       "      <td>1486131019.000</td>\n",
       "    </tr>\n",
       "    <tr>\n",
       "      <th>2559</th>\n",
       "      <td>007: Спектр</td>\n",
       "      <td>767274597.900</td>\n",
       "    </tr>\n",
       "    <tr>\n",
       "      <th>2701</th>\n",
       "      <td>Самый Лучший День</td>\n",
       "      <td>683029061.400</td>\n",
       "    </tr>\n",
       "    <tr>\n",
       "      <th>2824</th>\n",
       "      <td>Голодные игры: Сойка-пересмешница. Часть 2</td>\n",
       "      <td>666653511.400</td>\n",
       "    </tr>\n",
       "    <tr>\n",
       "      <th>2561</th>\n",
       "      <td>Безумный Макс: Дорога ярости</td>\n",
       "      <td>650165993.510</td>\n",
       "    </tr>\n",
       "    <tr>\n",
       "      <th>2766</th>\n",
       "      <td>Последний охотник на ведьм</td>\n",
       "      <td>571224107.200</td>\n",
       "    </tr>\n",
       "    <tr>\n",
       "      <th>2645</th>\n",
       "      <td>Миссия невыполнима: Племя изгоев</td>\n",
       "      <td>569488830.300</td>\n",
       "    </tr>\n",
       "    <tr>\n",
       "      <th>2633</th>\n",
       "      <td>Бегущий в лабиринте: Испытание огнем /По произ...</td>\n",
       "      <td>484055452.700</td>\n",
       "    </tr>\n",
       "    <tr>\n",
       "      <th>2058</th>\n",
       "      <td>Дуxless 2</td>\n",
       "      <td>446163511.000</td>\n",
       "    </tr>\n",
       "    <tr>\n",
       "      <th>1898</th>\n",
       "      <td>Робот по имени Чаппи</td>\n",
       "      <td>398883270.600</td>\n",
       "    </tr>\n",
       "  </tbody>\n",
       "</table>\n",
       "</div>"
      ],
      "text/plain": [
       "                                                  title     box_office\n",
       "2105                                           Форсаж 7 1486131019.000\n",
       "2559                                        007: Спектр  767274597.900\n",
       "2701                                  Самый Лучший День  683029061.400\n",
       "2824         Голодные игры: Сойка-пересмешница. Часть 2  666653511.400\n",
       "2561                       Безумный Макс: Дорога ярости  650165993.510\n",
       "2766                         Последний охотник на ведьм  571224107.200\n",
       "2645                   Миссия невыполнима: Племя изгоев  569488830.300\n",
       "2633  Бегущий в лабиринте: Испытание огнем /По произ...  484055452.700\n",
       "2058                                          Дуxless 2  446163511.000\n",
       "1898                               Робот по имени Чаппи  398883270.600"
      ]
     },
     "metadata": {},
     "output_type": "display_data"
    }
   ],
   "source": [
    "display(\n",
    "    mkrf_2015_2019[(mkrf_2015_2019['year'] == 2015) & \n",
    "                   (mkrf_2015_2019['age_restriction'] == '«12+» - для детей старше 12 лет') &\n",
    "                   (mkrf_2015_2019['box_office'].notna())][['title', 'box_office']]\n",
    "    .sort_values(by='box_office', ascending=False)\n",
    "    .iloc[:10]\n",
    ")\n",
    "\n",
    "display(\n",
    "    mkrf_2015_2019[(mkrf_2015_2019['year'] == 2015) & \n",
    "                   (mkrf_2015_2019['age_restriction'] == '«16+» - для детей старше 16 лет') &\n",
    "                   (mkrf_2015_2019['box_office'].notna())][['title', 'box_office']]\n",
    "    .sort_values(by='box_office', ascending=False)\n",
    "    .iloc[:10]\n",
    ")"
   ]
  },
  {
   "cell_type": "markdown",
   "metadata": {},
   "source": [
    "В таблицах выше сразу же бросается в глаза тот факт, что в `2015` году в категории _«12+»_ вышло аж 4 фильма со значением сборов более 1 млрд. ₽ (\"_Звёздные войны: Пробуждение силы_\", \"_Мстители: Эра Альтрона_\", \"_Мир Юрского периода_\" и \"_Терминатор: Генезис_\").\n",
    "\n",
    "В то же время в категории _«16+»_ фильм с такими сборами был только один (\"_Форсаж 7_\").\n",
    "\n",
    "Такая разница в сборах, возможно, могла бы быть нивелирована, если бы фильмов в категории _«16+»_ было значительно больше, чем фильмов в категории _«12+»_, но, судя по всему, здесь разница в количестве вышедших фильмов не оказалась настолько значительной, чтобы это произошло:\n",
    "\n",
    "- _«16+»_ - `168` фильмов;\n",
    "\n",
    "- _«12+»_ - `73` фильма\n",
    "\n",
    "Теперь попробуем посмотреть на данные по `2019` году в контексте категорий _«16+»_ и _«6+»_:"
   ]
  },
  {
   "cell_type": "code",
   "execution_count": 43,
   "metadata": {},
   "outputs": [
    {
     "data": {
      "text/html": [
       "<div>\n",
       "<style scoped>\n",
       "    .dataframe tbody tr th:only-of-type {\n",
       "        vertical-align: middle;\n",
       "    }\n",
       "\n",
       "    .dataframe tbody tr th {\n",
       "        vertical-align: top;\n",
       "    }\n",
       "\n",
       "    .dataframe thead th {\n",
       "        text-align: right;\n",
       "    }\n",
       "</style>\n",
       "<table border=\"1\" class=\"dataframe\">\n",
       "  <thead>\n",
       "    <tr style=\"text-align: right;\">\n",
       "      <th></th>\n",
       "      <th>title</th>\n",
       "      <th>box_office</th>\n",
       "    </tr>\n",
       "  </thead>\n",
       "  <tbody>\n",
       "    <tr>\n",
       "      <th>7216</th>\n",
       "      <td>Малефисента: Владычица тьмы</td>\n",
       "      <td>1911944865.950</td>\n",
       "    </tr>\n",
       "    <tr>\n",
       "      <th>7383</th>\n",
       "      <td>Холодное сердце II</td>\n",
       "      <td>1827244672.810</td>\n",
       "    </tr>\n",
       "    <tr>\n",
       "      <th>6715</th>\n",
       "      <td>Как приручить дракона 3</td>\n",
       "      <td>1689540830.240</td>\n",
       "    </tr>\n",
       "    <tr>\n",
       "      <th>6957</th>\n",
       "      <td>Тайная жизнь домашних животных 2</td>\n",
       "      <td>1478921168.460</td>\n",
       "    </tr>\n",
       "    <tr>\n",
       "      <th>7273</th>\n",
       "      <td>Эверест</td>\n",
       "      <td>689483900.110</td>\n",
       "    </tr>\n",
       "    <tr>\n",
       "      <th>7118</th>\n",
       "      <td>Angry Birds 2 в кино</td>\n",
       "      <td>517116584.520</td>\n",
       "    </tr>\n",
       "    <tr>\n",
       "      <th>7466</th>\n",
       "      <td>Иван Царевич и Серый Волк 4</td>\n",
       "      <td>501069235.000</td>\n",
       "    </tr>\n",
       "    <tr>\n",
       "      <th>7017</th>\n",
       "      <td>История игрушек 4</td>\n",
       "      <td>487397070.110</td>\n",
       "    </tr>\n",
       "    <tr>\n",
       "      <th>6819</th>\n",
       "      <td>Дамбо</td>\n",
       "      <td>472692133.490</td>\n",
       "    </tr>\n",
       "    <tr>\n",
       "      <th>7453</th>\n",
       "      <td>Фиксики против кработов</td>\n",
       "      <td>387590521.720</td>\n",
       "    </tr>\n",
       "  </tbody>\n",
       "</table>\n",
       "</div>"
      ],
      "text/plain": [
       "                                 title     box_office\n",
       "7216       Малефисента: Владычица тьмы 1911944865.950\n",
       "7383                Холодное сердце II 1827244672.810\n",
       "6715           Как приручить дракона 3 1689540830.240\n",
       "6957  Тайная жизнь домашних животных 2 1478921168.460\n",
       "7273                           Эверест  689483900.110\n",
       "7118              Angry Birds 2 в кино  517116584.520\n",
       "7466       Иван Царевич и Серый Волк 4  501069235.000\n",
       "7017                 История игрушек 4  487397070.110\n",
       "6819                             Дамбо  472692133.490\n",
       "7453           Фиксики против кработов  387590521.720"
      ]
     },
     "metadata": {},
     "output_type": "display_data"
    },
    {
     "data": {
      "text/html": [
       "<div>\n",
       "<style scoped>\n",
       "    .dataframe tbody tr th:only-of-type {\n",
       "        vertical-align: middle;\n",
       "    }\n",
       "\n",
       "    .dataframe tbody tr th {\n",
       "        vertical-align: top;\n",
       "    }\n",
       "\n",
       "    .dataframe thead th {\n",
       "        text-align: right;\n",
       "    }\n",
       "</style>\n",
       "<table border=\"1\" class=\"dataframe\">\n",
       "  <thead>\n",
       "    <tr style=\"text-align: right;\">\n",
       "      <th></th>\n",
       "      <th>title</th>\n",
       "      <th>box_office</th>\n",
       "    </tr>\n",
       "  </thead>\n",
       "  <tbody>\n",
       "    <tr>\n",
       "      <th>6820</th>\n",
       "      <td>Мстители: Финал</td>\n",
       "      <td>2576613776.830</td>\n",
       "    </tr>\n",
       "    <tr>\n",
       "      <th>6728</th>\n",
       "      <td>Капитан Марвел</td>\n",
       "      <td>1144426298.040</td>\n",
       "    </tr>\n",
       "    <tr>\n",
       "      <th>6684</th>\n",
       "      <td>Алита: Боевой ангел</td>\n",
       "      <td>757864674.990</td>\n",
       "    </tr>\n",
       "    <tr>\n",
       "      <th>6583</th>\n",
       "      <td>Стекло</td>\n",
       "      <td>643121241.370</td>\n",
       "    </tr>\n",
       "    <tr>\n",
       "      <th>6545</th>\n",
       "      <td>Зеленая книга</td>\n",
       "      <td>573225709.240</td>\n",
       "    </tr>\n",
       "    <tr>\n",
       "      <th>6663</th>\n",
       "      <td>Громкая связь</td>\n",
       "      <td>524897298.170</td>\n",
       "    </tr>\n",
       "    <tr>\n",
       "      <th>7332</th>\n",
       "      <td>Терминатор: Темные судьбы</td>\n",
       "      <td>490745769.350</td>\n",
       "    </tr>\n",
       "    <tr>\n",
       "      <th>6632</th>\n",
       "      <td>Бабушка лёгкого поведения 2</td>\n",
       "      <td>439776371.250</td>\n",
       "    </tr>\n",
       "    <tr>\n",
       "      <th>6965</th>\n",
       "      <td>Люди Икс: Темный феникс</td>\n",
       "      <td>418607611.600</td>\n",
       "    </tr>\n",
       "    <tr>\n",
       "      <th>7319</th>\n",
       "      <td>Достать ножи</td>\n",
       "      <td>371749522.960</td>\n",
       "    </tr>\n",
       "  </tbody>\n",
       "</table>\n",
       "</div>"
      ],
      "text/plain": [
       "                            title     box_office\n",
       "6820              Мстители: Финал 2576613776.830\n",
       "6728               Капитан Марвел 1144426298.040\n",
       "6684          Алита: Боевой ангел  757864674.990\n",
       "6583                       Стекло  643121241.370\n",
       "6545                Зеленая книга  573225709.240\n",
       "6663                Громкая связь  524897298.170\n",
       "7332    Терминатор: Темные судьбы  490745769.350\n",
       "6632  Бабушка лёгкого поведения 2  439776371.250\n",
       "6965      Люди Икс: Темный феникс  418607611.600\n",
       "7319                 Достать ножи  371749522.960"
      ]
     },
     "metadata": {},
     "output_type": "display_data"
    }
   ],
   "source": [
    "display(\n",
    "    mkrf_2015_2019[(mkrf_2015_2019['year'] == 2019) & \n",
    "                   (mkrf_2015_2019['age_restriction'] == '«6+» - для детей старше 6 лет') &\n",
    "                   (mkrf_2015_2019['box_office'].notna())][['title', 'box_office']]\n",
    "    .sort_values(by='box_office', ascending=False)\n",
    "    .iloc[:10]\n",
    ")\n",
    "\n",
    "display(\n",
    "    mkrf_2015_2019[(mkrf_2015_2019['year'] == 2019) & \n",
    "                   (mkrf_2015_2019['age_restriction'] == '«16+» - для детей старше 16 лет') &\n",
    "                   (mkrf_2015_2019['box_office'].notna())][['title', 'box_office']]\n",
    "    .sort_values(by='box_office', ascending=False)\n",
    "    .iloc[:10]\n",
    ")"
   ]
  },
  {
   "cell_type": "markdown",
   "metadata": {},
   "source": [
    "Есть ощущения, что и здесь наблюдается схожая картина - в `2019` году в детской категории _«6+»_ в прокат вышла кассовая \"_Малефисента: Владычица тьмы_\" и сразу несколько успешных мультфильмов (\"_Холодное сердце II_\", \"_Как приручить дракона 3_\" и \"_Тайная жизнь домашних животных 2_\") - сборы по каждому из них преодолели отметку в 1 млрд. ₽.\n",
    "\n",
    "В категории _«16+»_ подобных фильмов вышло только 2: \"_Мстители: Финал_\" и \"_Капитан Марвел_\".\n",
    "\n",
    "Здесь нужно отметить, что суммарные сборы по `2019` году по этим двум категориям очень близки между собой (категория _«16+»_ \"почти догнала\" категорию _«6+»_). Вероятно, этому поспособствовали очень высокие сборы по фильму \"_Мстители: Финал_\" - около 2.5 млрд. ₽, а также разница между количеством фильмов в категории _«6+»_ (`81` фильм) и категории _«16+»_ (`178` фильмов)."
   ]
  },
  {
   "cell_type": "markdown",
   "metadata": {
    "id": "l_Kg6Ku4gFya"
   },
   "source": [
    "### Шаг 4. Исследуйте фильмы, которые получили государственную поддержку\n",
    "\n",
    "На этом этапе нет конкретных инструкций и заданий — поищите интересные закономерности в данных. Посмотрите, сколько выделяют средств на поддержку кино. Проверьте, хорошо ли окупаются такие фильмы, какой у них рейтинг."
   ]
  },
  {
   "cell_type": "markdown",
   "metadata": {},
   "source": [
    "----------------------------\n",
    "\n",
    "Тот факт, что каждый фильм получил ту или иную господдержку, либо возвратную, либо невозвратную, был установлен ранее.\n",
    "\n",
    "Начнём с того, что оценим, сколько фильмов получили некоторую поддержку, сколько получили только возвратную поддержку, сколько получили только невозвратную поддержку:"
   ]
  },
  {
   "cell_type": "code",
   "execution_count": 44,
   "metadata": {},
   "outputs": [
    {
     "name": "stdout",
     "output_type": "stream",
     "text": [
      "Фильмов с государственной поддержкой: 332 штук(а/и)\n",
      "Фильмов только с возвратной поддержкой: 9 штук(а/и)\n",
      "Фильмов только с невозвратной поддержкой: 221 штук(а/и)\n",
      "Фильмов и с возвратной, и с невозвратной поддержкой: 102 штук(а/и)\n"
     ]
    }
   ],
   "source": [
    "films_with_support =\\\n",
    "    mkrf[(mkrf['refundable_support'] > 0) | (mkrf['nonrefundable_support'] > 0)]['title'].count()\n",
    "films_with_only_ref_support =\\\n",
    "    mkrf[(mkrf['refundable_support'] > 0) & (mkrf['nonrefundable_support'] == 0)]['title'].count()\n",
    "films_with_only_nonref_support =\\\n",
    "    mkrf[(mkrf['refundable_support'] == 0) & (mkrf['nonrefundable_support'] > 0)]['title'].count()\n",
    "films_with_both_support =\\\n",
    "    mkrf[(mkrf['refundable_support'] > 0) & (mkrf['nonrefundable_support'] > 0)]['title'].count()\n",
    "\n",
    "print(f\"Фильмов с государственной поддержкой: {films_with_support} штук(а/и)\")\n",
    "print(f\"Фильмов только с возвратной поддержкой: {films_with_only_ref_support} штук(а/и)\")\n",
    "print(f\"Фильмов только с невозвратной поддержкой: {films_with_only_nonref_support} штук(а/и)\")\n",
    "print(f\"Фильмов и с возвратной, и с невозвратной поддержкой: {films_with_both_support} штук(а/и)\")"
   ]
  },
  {
   "cell_type": "markdown",
   "metadata": {},
   "source": [
    "Выясним теперь как менялись объёмы государственной поддержки кино по годам, для чего создадим группировку по полю `year`, выведем её ..."
   ]
  },
  {
   "cell_type": "code",
   "execution_count": 45,
   "metadata": {},
   "outputs": [
    {
     "data": {
      "text/html": [
       "<div>\n",
       "<style scoped>\n",
       "    .dataframe tbody tr th:only-of-type {\n",
       "        vertical-align: middle;\n",
       "    }\n",
       "\n",
       "    .dataframe tbody tr th {\n",
       "        vertical-align: top;\n",
       "    }\n",
       "\n",
       "    .dataframe thead th {\n",
       "        text-align: right;\n",
       "    }\n",
       "</style>\n",
       "<table border=\"1\" class=\"dataframe\">\n",
       "  <thead>\n",
       "    <tr style=\"text-align: right;\">\n",
       "      <th></th>\n",
       "      <th>year</th>\n",
       "      <th>nref_mean</th>\n",
       "      <th>ref_mean</th>\n",
       "      <th>nref_median</th>\n",
       "      <th>ref_median</th>\n",
       "      <th>nref_sum</th>\n",
       "      <th>ref_sum</th>\n",
       "      <th>nref_count</th>\n",
       "      <th>ref_count</th>\n",
       "    </tr>\n",
       "  </thead>\n",
       "  <tbody>\n",
       "    <tr>\n",
       "      <th>0</th>\n",
       "      <td>2010</td>\n",
       "      <td>NaN</td>\n",
       "      <td>NaN</td>\n",
       "      <td>NaN</td>\n",
       "      <td>NaN</td>\n",
       "      <td>0.000</td>\n",
       "      <td>0.000</td>\n",
       "      <td>0</td>\n",
       "      <td>0</td>\n",
       "    </tr>\n",
       "    <tr>\n",
       "      <th>1</th>\n",
       "      <td>2011</td>\n",
       "      <td>NaN</td>\n",
       "      <td>NaN</td>\n",
       "      <td>NaN</td>\n",
       "      <td>NaN</td>\n",
       "      <td>0.000</td>\n",
       "      <td>0.000</td>\n",
       "      <td>0</td>\n",
       "      <td>0</td>\n",
       "    </tr>\n",
       "    <tr>\n",
       "      <th>2</th>\n",
       "      <td>2012</td>\n",
       "      <td>NaN</td>\n",
       "      <td>NaN</td>\n",
       "      <td>NaN</td>\n",
       "      <td>NaN</td>\n",
       "      <td>0.000</td>\n",
       "      <td>0.000</td>\n",
       "      <td>0</td>\n",
       "      <td>0</td>\n",
       "    </tr>\n",
       "    <tr>\n",
       "      <th>3</th>\n",
       "      <td>2013</td>\n",
       "      <td>67173972.500</td>\n",
       "      <td>0.000</td>\n",
       "      <td>67173972.500</td>\n",
       "      <td>0.000</td>\n",
       "      <td>134347945.000</td>\n",
       "      <td>0.000</td>\n",
       "      <td>2</td>\n",
       "      <td>2</td>\n",
       "    </tr>\n",
       "    <tr>\n",
       "      <th>4</th>\n",
       "      <td>2014</td>\n",
       "      <td>31312643.688</td>\n",
       "      <td>4437500.000</td>\n",
       "      <td>27500000.000</td>\n",
       "      <td>0.000</td>\n",
       "      <td>501002299.000</td>\n",
       "      <td>71000000.000</td>\n",
       "      <td>16</td>\n",
       "      <td>16</td>\n",
       "    </tr>\n",
       "    <tr>\n",
       "      <th>5</th>\n",
       "      <td>2015</td>\n",
       "      <td>35105678.372</td>\n",
       "      <td>7408757.198</td>\n",
       "      <td>27755000.000</td>\n",
       "      <td>0.000</td>\n",
       "      <td>3019088340.000</td>\n",
       "      <td>637153119.000</td>\n",
       "      <td>86</td>\n",
       "      <td>86</td>\n",
       "    </tr>\n",
       "    <tr>\n",
       "      <th>6</th>\n",
       "      <td>2016</td>\n",
       "      <td>55436975.115</td>\n",
       "      <td>15106557.377</td>\n",
       "      <td>30000000.000</td>\n",
       "      <td>0.000</td>\n",
       "      <td>3381655482.000</td>\n",
       "      <td>921500000.000</td>\n",
       "      <td>61</td>\n",
       "      <td>61</td>\n",
       "    </tr>\n",
       "    <tr>\n",
       "      <th>7</th>\n",
       "      <td>2017</td>\n",
       "      <td>60112799.537</td>\n",
       "      <td>17545045.878</td>\n",
       "      <td>30000000.000</td>\n",
       "      <td>5000000.000</td>\n",
       "      <td>2464624781.000</td>\n",
       "      <td>719346881.000</td>\n",
       "      <td>41</td>\n",
       "      <td>41</td>\n",
       "    </tr>\n",
       "    <tr>\n",
       "      <th>8</th>\n",
       "      <td>2018</td>\n",
       "      <td>49731597.589</td>\n",
       "      <td>11821428.571</td>\n",
       "      <td>30500000.000</td>\n",
       "      <td>0.000</td>\n",
       "      <td>2784969465.000</td>\n",
       "      <td>662000000.000</td>\n",
       "      <td>56</td>\n",
       "      <td>56</td>\n",
       "    </tr>\n",
       "    <tr>\n",
       "      <th>9</th>\n",
       "      <td>2019</td>\n",
       "      <td>56800000.000</td>\n",
       "      <td>13257142.857</td>\n",
       "      <td>35000000.000</td>\n",
       "      <td>0.000</td>\n",
       "      <td>3976000000.000</td>\n",
       "      <td>928000000.000</td>\n",
       "      <td>70</td>\n",
       "      <td>70</td>\n",
       "    </tr>\n",
       "  </tbody>\n",
       "</table>\n",
       "</div>"
      ],
      "text/plain": [
       "   year    nref_mean     ref_mean  nref_median  ref_median       nref_sum  \\\n",
       "0  2010          NaN          NaN          NaN         NaN          0.000   \n",
       "1  2011          NaN          NaN          NaN         NaN          0.000   \n",
       "2  2012          NaN          NaN          NaN         NaN          0.000   \n",
       "3  2013 67173972.500        0.000 67173972.500       0.000  134347945.000   \n",
       "4  2014 31312643.688  4437500.000 27500000.000       0.000  501002299.000   \n",
       "5  2015 35105678.372  7408757.198 27755000.000       0.000 3019088340.000   \n",
       "6  2016 55436975.115 15106557.377 30000000.000       0.000 3381655482.000   \n",
       "7  2017 60112799.537 17545045.878 30000000.000 5000000.000 2464624781.000   \n",
       "8  2018 49731597.589 11821428.571 30500000.000       0.000 2784969465.000   \n",
       "9  2019 56800000.000 13257142.857 35000000.000       0.000 3976000000.000   \n",
       "\n",
       "        ref_sum  nref_count  ref_count  \n",
       "0         0.000           0          0  \n",
       "1         0.000           0          0  \n",
       "2         0.000           0          0  \n",
       "3         0.000           2          2  \n",
       "4  71000000.000          16         16  \n",
       "5 637153119.000          86         86  \n",
       "6 921500000.000          61         61  \n",
       "7 719346881.000          41         41  \n",
       "8 662000000.000          56         56  \n",
       "9 928000000.000          70         70  "
      ]
     },
     "metadata": {},
     "output_type": "display_data"
    }
   ],
   "source": [
    "support_by_year = (\n",
    "    mkrf.groupby('year')\n",
    "        .agg(\n",
    "            nref_mean=('nonrefundable_support', 'mean'),\n",
    "            ref_mean=('refundable_support', 'mean'),\n",
    "        \n",
    "            nref_median=('nonrefundable_support', 'median'),\n",
    "            ref_median=('refundable_support', 'median'),\n",
    "        \n",
    "            nref_sum=('nonrefundable_support', 'sum'),\n",
    "            ref_sum=('refundable_support', 'sum'),\n",
    "        \n",
    "            nref_count=('nonrefundable_support', 'count'),\n",
    "            ref_count=('refundable_support', 'count'))\n",
    "        .reset_index()\n",
    ")\n",
    "\n",
    "display(support_by_year)"
   ]
  },
  {
   "cell_type": "markdown",
   "metadata": {},
   "source": [
    "... а также построим графики для сумм возвратной и невозвратной поддержки по годам:"
   ]
  },
  {
   "cell_type": "code",
   "execution_count": 46,
   "metadata": {},
   "outputs": [
    {
     "data": {
      "image/png": "[encoded data removed]",
      "text/plain": [
       "<Figure size 1152x432 with 1 Axes>"
      ]
     },
     "metadata": {
      "needs_background": "light"
     },
     "output_type": "display_data"
    }
   ],
   "source": [
    "fig, ax = plt.subplots(figsize=(16, 6))\n",
    "\n",
    "support_by_year.plot(kind='line', x='year', y='nref_sum',\n",
    "                     grid=True, style='-o', color='blue', label='Невозвратная поддержка', ax=ax)\n",
    "support_by_year.plot(kind='line', x='year', y='ref_sum',\n",
    "                     grid=True, style='-o', color='orange', label='Возвратная поддержка', ax=ax)\n",
    "_ = ax.set_xticks(range(2010, 2020))\n",
    "_ = ax.ticklabel_format(axis='y', style='plain')\n",
    "_ = ax.set_title('Динамика сумм возвратной и невозвратной поддержки по годам')\n",
    "_ = ax.set_xlabel('Год')\n",
    "_ = ax.set_ylabel('Суммарное значение поддержки, ₽')"
   ]
  },
  {
   "cell_type": "markdown",
   "metadata": {},
   "source": [
    "Глядя на график и на вывод группировки, можно сделать такие выводы:\n",
    "\n",
    "\n",
    "- государство тратит больше на невозвратную поддержку, возможные причины этого, связанные с поручительством, уже были описаны ранее;\n",
    "\n",
    "\n",
    "- с `2010` по `2012` года включительно государство не предоставляло ни возвратную, ни невозвратную поддержку кино;\n",
    "\n",
    "\n",
    "- начиная с `2013` года видна явная тенденция на увеличение объёмов финансирования, причём это касается как возвратной, так и невозвратной поддержки, тенденция сохранялась вплоть до `2016` года включительно;\n",
    "\n",
    "\n",
    "- в `2017` году по каким-то причинам было снижено финансирование кино, это коснулось обеих видов поддержки, но в большей степени невозвратной;\n",
    "\n",
    "\n",
    "- в `2018` году произошло увеличение невозвратной поддержки, возвратная при этом оставалась примерно на том же уровне;\n",
    "\n",
    "\n",
    "- в `2019` году вновь наблюдается рост обеих видов поддержки, причём довольно резкий, особенно это касается невозвратной поддержки;\n",
    "\n",
    "\n",
    "- в `2019` году зарегистрировано максимальное значение как невозвратной, так и возвратной поддержки по всем годам.\n",
    "\n",
    "Теперь попробуем проанализировать зависимость государственной поддержки от возрастного ограничения фильма - возможно, фильмы с какими-то определёнными ограничениями финансируются более охотно, чем другие:"
   ]
  },
  {
   "cell_type": "code",
   "execution_count": 47,
   "metadata": {},
   "outputs": [
    {
     "data": {
      "text/html": [
       "<div>\n",
       "<style scoped>\n",
       "    .dataframe tbody tr th:only-of-type {\n",
       "        vertical-align: middle;\n",
       "    }\n",
       "\n",
       "    .dataframe tbody tr th {\n",
       "        vertical-align: top;\n",
       "    }\n",
       "\n",
       "    .dataframe thead th {\n",
       "        text-align: right;\n",
       "    }\n",
       "</style>\n",
       "<table border=\"1\" class=\"dataframe\">\n",
       "  <thead>\n",
       "    <tr style=\"text-align: right;\">\n",
       "      <th></th>\n",
       "      <th>age_restriction</th>\n",
       "      <th>nref_mean</th>\n",
       "      <th>ref_mean</th>\n",
       "      <th>nref_median</th>\n",
       "      <th>ref_median</th>\n",
       "      <th>nref_sum</th>\n",
       "      <th>ref_sum</th>\n",
       "      <th>nref_count</th>\n",
       "      <th>ref_count</th>\n",
       "    </tr>\n",
       "  </thead>\n",
       "  <tbody>\n",
       "    <tr>\n",
       "      <th>0</th>\n",
       "      <td>«0+» - для любой зрительской аудитории</td>\n",
       "      <td>28565000.000</td>\n",
       "      <td>5625000.000</td>\n",
       "      <td>29500000.000</td>\n",
       "      <td>0.000</td>\n",
       "      <td>228520000.000</td>\n",
       "      <td>45000000.000</td>\n",
       "      <td>8</td>\n",
       "      <td>8</td>\n",
       "    </tr>\n",
       "    <tr>\n",
       "      <th>1</th>\n",
       "      <td>«12+» - для детей старше 12 лет</td>\n",
       "      <td>58791454.387</td>\n",
       "      <td>14787735.849</td>\n",
       "      <td>30000000.000</td>\n",
       "      <td>0.000</td>\n",
       "      <td>6231894165.000</td>\n",
       "      <td>1567500000.000</td>\n",
       "      <td>106</td>\n",
       "      <td>106</td>\n",
       "    </tr>\n",
       "    <tr>\n",
       "      <th>2</th>\n",
       "      <td>«16+» - для детей старше 16 лет</td>\n",
       "      <td>37871201.600</td>\n",
       "      <td>6681224.952</td>\n",
       "      <td>28000000.000</td>\n",
       "      <td>0.000</td>\n",
       "      <td>4733900200.000</td>\n",
       "      <td>835153119.000</td>\n",
       "      <td>125</td>\n",
       "      <td>125</td>\n",
       "    </tr>\n",
       "    <tr>\n",
       "      <th>3</th>\n",
       "      <td>«18+» - запрещено для детей</td>\n",
       "      <td>35000000.000</td>\n",
       "      <td>1155245.750</td>\n",
       "      <td>30000000.000</td>\n",
       "      <td>0.000</td>\n",
       "      <td>980000000.000</td>\n",
       "      <td>32346881.000</td>\n",
       "      <td>28</td>\n",
       "      <td>28</td>\n",
       "    </tr>\n",
       "    <tr>\n",
       "      <th>4</th>\n",
       "      <td>«6+» - для детей старше 6 лет</td>\n",
       "      <td>62882676.108</td>\n",
       "      <td>22446153.846</td>\n",
       "      <td>40000000.000</td>\n",
       "      <td>0.000</td>\n",
       "      <td>4087373947.000</td>\n",
       "      <td>1459000000.000</td>\n",
       "      <td>65</td>\n",
       "      <td>65</td>\n",
       "    </tr>\n",
       "  </tbody>\n",
       "</table>\n",
       "</div>"
      ],
      "text/plain": [
       "                          age_restriction    nref_mean     ref_mean  \\\n",
       "0  «0+» - для любой зрительской аудитории 28565000.000  5625000.000   \n",
       "1         «12+» - для детей старше 12 лет 58791454.387 14787735.849   \n",
       "2         «16+» - для детей старше 16 лет 37871201.600  6681224.952   \n",
       "3             «18+» - запрещено для детей 35000000.000  1155245.750   \n",
       "4           «6+» - для детей старше 6 лет 62882676.108 22446153.846   \n",
       "\n",
       "   nref_median  ref_median       nref_sum        ref_sum  nref_count  \\\n",
       "0 29500000.000       0.000  228520000.000   45000000.000           8   \n",
       "1 30000000.000       0.000 6231894165.000 1567500000.000         106   \n",
       "2 28000000.000       0.000 4733900200.000  835153119.000         125   \n",
       "3 30000000.000       0.000  980000000.000   32346881.000          28   \n",
       "4 40000000.000       0.000 4087373947.000 1459000000.000          65   \n",
       "\n",
       "   ref_count  \n",
       "0          8  \n",
       "1        106  \n",
       "2        125  \n",
       "3         28  \n",
       "4         65  "
      ]
     },
     "metadata": {},
     "output_type": "display_data"
    }
   ],
   "source": [
    "support_by_age_restriction = (\n",
    "    mkrf.groupby('age_restriction')\n",
    "        .agg(\n",
    "            nref_mean=('nonrefundable_support', 'mean'),\n",
    "            ref_mean=('refundable_support', 'mean'),\n",
    "        \n",
    "            nref_median=('nonrefundable_support', 'median'),\n",
    "            ref_median=('refundable_support', 'median'),\n",
    "        \n",
    "            nref_sum=('nonrefundable_support', 'sum'),\n",
    "            ref_sum=('refundable_support', 'sum'),\n",
    "        \n",
    "            nref_count=('nonrefundable_support', 'count'),\n",
    "            ref_count=('refundable_support', 'count'))\n",
    "        .reset_index()\n",
    ")\n",
    "\n",
    "display(support_by_age_restriction)"
   ]
  },
  {
   "cell_type": "markdown",
   "metadata": {},
   "source": [
    "Получив таблицу для нашей группировки, строим столбчатую диаграмму:"
   ]
  },
  {
   "cell_type": "code",
   "execution_count": 48,
   "metadata": {},
   "outputs": [
    {
     "data": {
      "image/png": "[encoded data removed]",
      "text/plain": [
       "<Figure size 1152x432 with 1 Axes>"
      ]
     },
     "metadata": {
      "needs_background": "light"
     },
     "output_type": "display_data"
    }
   ],
   "source": [
    "fig, ax = plt.subplots(figsize=(16, 6))\n",
    "\n",
    "age_restrictions = [\n",
    "    '«0+» - для любой зрительской аудитории',\n",
    "    '«12+» - для детей старше 12 лет',\n",
    "    '«16+» - для детей старше 16 лет',\n",
    "    '«18+» - запрещено для детей',\n",
    "    '«6+» - для детей старше 6 лет'\n",
    "]\n",
    "\n",
    "ind = np.arange(len(age_restrictions))\n",
    "width = 0.3\n",
    "ax.bar(ind, support_by_age_restriction['nref_sum'], width,\n",
    "                                color='blue', label='Невозвратная поддержка')\n",
    "ax.bar(ind + width, support_by_age_restriction['ref_sum'], width,\n",
    "                                color='orange', label='Возвратная поддержка')\n",
    "_ = plt.xticks(ind + width / 2, age_restrictions)\n",
    "_ = ax.ticklabel_format(axis='y', style='plain')\n",
    "_ = ax.tick_params(axis='x', rotation=45)\n",
    "_ = ax.set_title('Динамика сумм возвратной и невозвратной поддержки по возрастным ограничениям')\n",
    "_ = ax.set_xlabel('Возрастное ограничение')\n",
    "_ = ax.set_ylabel('Суммарное значение поддержки, ₽')\n",
    "_ = ax.grid()\n",
    "_ = ax.legend()"
   ]
  },
  {
   "cell_type": "markdown",
   "metadata": {},
   "source": [
    "Здесь можно сделать такие выводы:\n",
    "\n",
    "- поскольку здесь мы исследуем суммарные объёмы поддержки, то скромные показатели в категориях _«0+»_ и _«18+»_ обусловлены по всей видимости малым количеством фильмов в данных возрастных ограничениях - `8` и `28` фильмов соответственно;\n",
    "\n",
    "\n",
    "- для возрастных ограничений _«12+»_ и _«16+»_ примерно сохраняется пропорция между невозвратной и возвратной поддержкой;\n",
    "\n",
    "\n",
    "- категория с ограничением _«6+»_ по количеству фильмов (`65`) отличается примерно в 2 раза от категории _«16+»_ (`125`), но столбчатая диаграмма показывает, что объём невозвратной поддержки для категории _«6+»_ лишь незначительно отстаёт от значения этого показателя для категории _«16+»_, а объём возвратной поддержки для фильмов в категории _«6+»_ (где фильмов меньше) и вовсе превосходит это значение для категории _«16+»_ (где фильмов больше). Причины этих высоких значений поддержки для категории _«6+»_ на мой взгляд могли бы быть связаны с тем, что фильмы в категории _«6+»_ (половина из которых мультфильмы - группировка ниже демонстрирует это) ориентированы в первую очередь на детей, и поэтому имеют некоторую сюжетную схожесть и определённую предсказуемость по сборам. И раз фильмы и мультфильмы для детей обладают такой предсказуемостью по будущим сборам, то создатели могут более уверенно запрашивать поддержку (в том числе возвратную!) у государства, раз они могут опираться на прогнозируемые показатели сборов. Но это моё предположение."
   ]
  },
  {
   "cell_type": "code",
   "execution_count": 49,
   "metadata": {},
   "outputs": [
    {
     "data": {
      "text/html": [
       "<div>\n",
       "<style scoped>\n",
       "    .dataframe tbody tr th:only-of-type {\n",
       "        vertical-align: middle;\n",
       "    }\n",
       "\n",
       "    .dataframe tbody tr th {\n",
       "        vertical-align: top;\n",
       "    }\n",
       "\n",
       "    .dataframe thead th {\n",
       "        text-align: right;\n",
       "    }\n",
       "</style>\n",
       "<table border=\"1\" class=\"dataframe\">\n",
       "  <thead>\n",
       "    <tr style=\"text-align: right;\">\n",
       "      <th></th>\n",
       "      <th>type</th>\n",
       "      <th>title_count</th>\n",
       "    </tr>\n",
       "  </thead>\n",
       "  <tbody>\n",
       "    <tr>\n",
       "      <th>0</th>\n",
       "      <td>Анимационный</td>\n",
       "      <td>264</td>\n",
       "    </tr>\n",
       "    <tr>\n",
       "      <th>1</th>\n",
       "      <td>Документальный</td>\n",
       "      <td>43</td>\n",
       "    </tr>\n",
       "    <tr>\n",
       "      <th>2</th>\n",
       "      <td>Научно-популярный</td>\n",
       "      <td>10</td>\n",
       "    </tr>\n",
       "    <tr>\n",
       "      <th>3</th>\n",
       "      <td>Прочие</td>\n",
       "      <td>31</td>\n",
       "    </tr>\n",
       "    <tr>\n",
       "      <th>4</th>\n",
       "      <td>Художественный</td>\n",
       "      <td>278</td>\n",
       "    </tr>\n",
       "  </tbody>\n",
       "</table>\n",
       "</div>"
      ],
      "text/plain": [
       "                type  title_count\n",
       "0       Анимационный          264\n",
       "1     Документальный           43\n",
       "2  Научно-популярный           10\n",
       "3             Прочие           31\n",
       "4     Художественный          278"
      ]
     },
     "execution_count": 49,
     "metadata": {},
     "output_type": "execute_result"
    }
   ],
   "source": [
    "# Как распределяются фильмы по типам внутри возрастной категории '«6+» - для детей старше 6 лет'\n",
    "(\n",
    "    mkrf[mkrf['age_restriction'] == '«6+» - для детей старше 6 лет']\n",
    "        .groupby('type')\n",
    "        .agg(title_count=('title', 'count'))\n",
    "        .reset_index()\n",
    ")"
   ]
  },
  {
   "cell_type": "markdown",
   "metadata": {},
   "source": [
    "Попробуем теперь оценить окупаемость фильмов, получивших государственную поддержку. Будем рассматривать те фильмы, для которых непустыми являются категории `budget` и `box_office`.\n",
    "\n",
    "Оценим количество таких фильмов:"
   ]
  },
  {
   "cell_type": "code",
   "execution_count": 50,
   "metadata": {},
   "outputs": [
    {
     "data": {
      "text/plain": [
       "318"
      ]
     },
     "execution_count": 50,
     "metadata": {},
     "output_type": "execute_result"
    }
   ],
   "source": [
    "mkrf_notna_condition = (mkrf['budget'].notna()) & (mkrf['box_office'].notna())\n",
    "mkrf_notna = mkrf[mkrf_notna_condition]\n",
    "mkrf_notna['title'].count()"
   ]
  },
  {
   "cell_type": "markdown",
   "metadata": {},
   "source": [
    "Добавим новый столбец в наш набор данных, `is_paybacked`, которые будет отвечать на вопрос, окупился ли данный фильм в прокате. Считаем фильм окупившимся, если его сборы не меньше, чем бюджет:"
   ]
  },
  {
   "cell_type": "code",
   "execution_count": 51,
   "metadata": {},
   "outputs": [
    {
     "data": {
      "text/html": [
       "<div>\n",
       "<style scoped>\n",
       "    .dataframe tbody tr th:only-of-type {\n",
       "        vertical-align: middle;\n",
       "    }\n",
       "\n",
       "    .dataframe tbody tr th {\n",
       "        vertical-align: top;\n",
       "    }\n",
       "\n",
       "    .dataframe thead th {\n",
       "        text-align: right;\n",
       "    }\n",
       "</style>\n",
       "<table border=\"1\" class=\"dataframe\">\n",
       "  <thead>\n",
       "    <tr style=\"text-align: right;\">\n",
       "      <th></th>\n",
       "      <th>sum</th>\n",
       "    </tr>\n",
       "    <tr>\n",
       "      <th>is_paybacked</th>\n",
       "      <th></th>\n",
       "    </tr>\n",
       "  </thead>\n",
       "  <tbody>\n",
       "    <tr>\n",
       "      <th>False</th>\n",
       "      <td>246</td>\n",
       "    </tr>\n",
       "    <tr>\n",
       "      <th>True</th>\n",
       "      <td>72</td>\n",
       "    </tr>\n",
       "  </tbody>\n",
       "</table>\n",
       "</div>"
      ],
      "text/plain": [
       "              sum\n",
       "is_paybacked     \n",
       "False         246\n",
       "True           72"
      ]
     },
     "execution_count": 51,
     "metadata": {},
     "output_type": "execute_result"
    }
   ],
   "source": [
    "mkrf['is_paybacked'] = mkrf.apply(lambda row: row['box_office'] >= row['budget'], axis=1)\n",
    "mkrf_notna = mkrf[mkrf_notna_condition]\n",
    "mkrf_notna.groupby('is_paybacked').agg(sum=('support', 'count'))"
   ]
  },
  {
   "cell_type": "markdown",
   "metadata": {},
   "source": [
    "Можно видеть, что результаты окупаемости фильмов с государственной поддержкой весьма скромны - **из `318` фильмов окупилось только `72`, что составляет только `22,6%`**.\n",
    "\n",
    "Попробуем теперь исследовать окупаемость в контексте, а именно ответить на вопросы:\n",
    "\n",
    "- Зависит ли как-то окупаемость от года выхода фильма? Может быть был год с очень удачным финансированием фильмов, а какой-то год оказался особенно неудачным?\n",
    "\n",
    "\n",
    "- Зависит ли как-то окупаемость от рейтинга? Можно ли утверждать, что окупаются приемущественно фильмы с высоким рейтингом?\n",
    "\n",
    "\n",
    "- Зависит ли как-то окупаемость от объёмов государственной поддержки? Можно ли говорить, что для фильмов с объёмом поддержки более половины бюджета окупаемость выше?\n",
    "\n",
    "Попробуем ответить на первый вопрос - какова была окупаемость по годам выхода фильма:"
   ]
  },
  {
   "cell_type": "code",
   "execution_count": 52,
   "metadata": {},
   "outputs": [
    {
     "data": {
      "text/html": [
       "<div>\n",
       "<style scoped>\n",
       "    .dataframe tbody tr th:only-of-type {\n",
       "        vertical-align: middle;\n",
       "    }\n",
       "\n",
       "    .dataframe tbody tr th {\n",
       "        vertical-align: top;\n",
       "    }\n",
       "\n",
       "    .dataframe thead th {\n",
       "        text-align: right;\n",
       "    }\n",
       "</style>\n",
       "<table border=\"1\" class=\"dataframe\">\n",
       "  <thead>\n",
       "    <tr style=\"text-align: right;\">\n",
       "      <th></th>\n",
       "      <th>year</th>\n",
       "      <th>is_paybacked_sum</th>\n",
       "      <th>is_paybacked_count</th>\n",
       "      <th>is_paybacked_percentage</th>\n",
       "      <th>is_paybacked_percentage_str</th>\n",
       "    </tr>\n",
       "  </thead>\n",
       "  <tbody>\n",
       "    <tr>\n",
       "      <th>0</th>\n",
       "      <td>2013</td>\n",
       "      <td>0</td>\n",
       "      <td>2</td>\n",
       "      <td>0</td>\n",
       "      <td>0%</td>\n",
       "    </tr>\n",
       "    <tr>\n",
       "      <th>1</th>\n",
       "      <td>2014</td>\n",
       "      <td>3</td>\n",
       "      <td>16</td>\n",
       "      <td>19</td>\n",
       "      <td>19%</td>\n",
       "    </tr>\n",
       "    <tr>\n",
       "      <th>2</th>\n",
       "      <td>2015</td>\n",
       "      <td>16</td>\n",
       "      <td>85</td>\n",
       "      <td>19</td>\n",
       "      <td>19%</td>\n",
       "    </tr>\n",
       "    <tr>\n",
       "      <th>3</th>\n",
       "      <td>2016</td>\n",
       "      <td>10</td>\n",
       "      <td>60</td>\n",
       "      <td>17</td>\n",
       "      <td>17%</td>\n",
       "    </tr>\n",
       "    <tr>\n",
       "      <th>4</th>\n",
       "      <td>2017</td>\n",
       "      <td>14</td>\n",
       "      <td>39</td>\n",
       "      <td>36</td>\n",
       "      <td>36%</td>\n",
       "    </tr>\n",
       "    <tr>\n",
       "      <th>5</th>\n",
       "      <td>2018</td>\n",
       "      <td>18</td>\n",
       "      <td>56</td>\n",
       "      <td>32</td>\n",
       "      <td>32%</td>\n",
       "    </tr>\n",
       "    <tr>\n",
       "      <th>6</th>\n",
       "      <td>2019</td>\n",
       "      <td>11</td>\n",
       "      <td>60</td>\n",
       "      <td>18</td>\n",
       "      <td>18%</td>\n",
       "    </tr>\n",
       "  </tbody>\n",
       "</table>\n",
       "</div>"
      ],
      "text/plain": [
       "   year  is_paybacked_sum  is_paybacked_count  is_paybacked_percentage  \\\n",
       "0  2013                 0                   2                        0   \n",
       "1  2014                 3                  16                       19   \n",
       "2  2015                16                  85                       19   \n",
       "3  2016                10                  60                       17   \n",
       "4  2017                14                  39                       36   \n",
       "5  2018                18                  56                       32   \n",
       "6  2019                11                  60                       18   \n",
       "\n",
       "  is_paybacked_percentage_str  \n",
       "0                          0%  \n",
       "1                         19%  \n",
       "2                         19%  \n",
       "3                         17%  \n",
       "4                         36%  \n",
       "5                         32%  \n",
       "6                         18%  "
      ]
     },
     "metadata": {},
     "output_type": "display_data"
    }
   ],
   "source": [
    "def create_groupby_for_paybacked(df, condition, category):\n",
    "    '''Вспомогательная функция для создания группировки по категории \"category\" с добавлением в неё столбцов с информацией\n",
    "    об окупаемости и последующего подсчёта процента окупившихся фильмов\n",
    "    '''\n",
    "    df_notna = df[condition]\n",
    "    gb_paybacked = df_notna.groupby(category).agg(\n",
    "        is_paybacked_sum=('is_paybacked', 'sum'),\n",
    "        is_paybacked_count=('is_paybacked', 'count'))\n",
    "\n",
    "    gb_paybacked['is_paybacked_percentage'] =\\\n",
    "        round((gb_paybacked['is_paybacked_sum'] / gb_paybacked['is_paybacked_count']) * 100).astype(int)\n",
    "    gb_paybacked['is_paybacked_percentage_str'] = gb_paybacked['is_paybacked_percentage'].apply(lambda x: str(x) + '%')\n",
    "    return gb_paybacked.reset_index()\n",
    "\n",
    "gb_paybacked_year = create_groupby_for_paybacked(mkrf, mkrf_notna_condition, 'year')\n",
    "display(gb_paybacked_year)"
   ]
  },
  {
   "cell_type": "markdown",
   "metadata": {},
   "source": [
    "Можно увидеть, что результаты окупаемости разнятся по годам:\n",
    "\n",
    "- в `2013` году не окупился ни один из 2 фильмов, которые получили поддержку;\n",
    "\n",
    "- с `2014` по `2016` год окупаемость держалась примерно на одном уровне - порядка `18%`;\n",
    "\n",
    "- с `2017` и `2018` год окупаемость выросла и превысила `30%`;\n",
    "\n",
    "- в `2019` году показатель окупаемости выглядит довольно низким - значение вновь опустилось до `18%`.\n",
    "\n",
    "Вообще, учитывая максимальное значение окупаемости в `36%`, достигнутое в `2017` году, стратегия финансирования в том году и сделанный выбор фильмов для поддержки могли бы быть изучены отдельно как пример удачного распределения средств государственной поддержки кино.\n",
    "\n",
    "Попробуем теперь выяснить, зависит ли как-то окупаемость от рейтинга, и узнаем, можно ли сказать, что лучше окупаются фильмы с высоким рейтингом."
   ]
  },
  {
   "cell_type": "code",
   "execution_count": 53,
   "metadata": {},
   "outputs": [
    {
     "data": {
      "text/html": [
       "<div>\n",
       "<style scoped>\n",
       "    .dataframe tbody tr th:only-of-type {\n",
       "        vertical-align: middle;\n",
       "    }\n",
       "\n",
       "    .dataframe tbody tr th {\n",
       "        vertical-align: top;\n",
       "    }\n",
       "\n",
       "    .dataframe thead th {\n",
       "        text-align: right;\n",
       "    }\n",
       "</style>\n",
       "<table border=\"1\" class=\"dataframe\">\n",
       "  <thead>\n",
       "    <tr style=\"text-align: right;\">\n",
       "      <th></th>\n",
       "      <th>ratings_bin</th>\n",
       "      <th>is_paybacked_sum</th>\n",
       "      <th>is_paybacked_count</th>\n",
       "      <th>is_paybacked_percentage</th>\n",
       "      <th>is_paybacked_percentage_str</th>\n",
       "    </tr>\n",
       "  </thead>\n",
       "  <tbody>\n",
       "    <tr>\n",
       "      <th>0</th>\n",
       "      <td>0-2</td>\n",
       "      <td>0</td>\n",
       "      <td>1</td>\n",
       "      <td>0</td>\n",
       "      <td>0%</td>\n",
       "    </tr>\n",
       "    <tr>\n",
       "      <th>1</th>\n",
       "      <td>2-3</td>\n",
       "      <td>1</td>\n",
       "      <td>5</td>\n",
       "      <td>20</td>\n",
       "      <td>20%</td>\n",
       "    </tr>\n",
       "    <tr>\n",
       "      <th>2</th>\n",
       "      <td>3-4</td>\n",
       "      <td>1</td>\n",
       "      <td>12</td>\n",
       "      <td>8</td>\n",
       "      <td>8%</td>\n",
       "    </tr>\n",
       "    <tr>\n",
       "      <th>3</th>\n",
       "      <td>4-5</td>\n",
       "      <td>12</td>\n",
       "      <td>36</td>\n",
       "      <td>33</td>\n",
       "      <td>33%</td>\n",
       "    </tr>\n",
       "    <tr>\n",
       "      <th>4</th>\n",
       "      <td>5-6</td>\n",
       "      <td>16</td>\n",
       "      <td>78</td>\n",
       "      <td>21</td>\n",
       "      <td>21%</td>\n",
       "    </tr>\n",
       "    <tr>\n",
       "      <th>5</th>\n",
       "      <td>6-7</td>\n",
       "      <td>29</td>\n",
       "      <td>125</td>\n",
       "      <td>23</td>\n",
       "      <td>23%</td>\n",
       "    </tr>\n",
       "    <tr>\n",
       "      <th>6</th>\n",
       "      <td>7-8</td>\n",
       "      <td>10</td>\n",
       "      <td>40</td>\n",
       "      <td>25</td>\n",
       "      <td>25%</td>\n",
       "    </tr>\n",
       "    <tr>\n",
       "      <th>7</th>\n",
       "      <td>8-10</td>\n",
       "      <td>2</td>\n",
       "      <td>4</td>\n",
       "      <td>50</td>\n",
       "      <td>50%</td>\n",
       "    </tr>\n",
       "  </tbody>\n",
       "</table>\n",
       "</div>"
      ],
      "text/plain": [
       "  ratings_bin  is_paybacked_sum  is_paybacked_count  is_paybacked_percentage  \\\n",
       "0         0-2                 0                   1                        0   \n",
       "1         2-3                 1                   5                       20   \n",
       "2         3-4                 1                  12                        8   \n",
       "3         4-5                12                  36                       33   \n",
       "4         5-6                16                  78                       21   \n",
       "5         6-7                29                 125                       23   \n",
       "6         7-8                10                  40                       25   \n",
       "7        8-10                 2                   4                       50   \n",
       "\n",
       "  is_paybacked_percentage_str  \n",
       "0                          0%  \n",
       "1                         20%  \n",
       "2                          8%  \n",
       "3                         33%  \n",
       "4                         21%  \n",
       "5                         23%  \n",
       "6                         25%  \n",
       "7                         50%  "
      ]
     },
     "metadata": {},
     "output_type": "display_data"
    },
    {
     "data": {
      "image/png": "[encoded data removed]",
      "text/plain": [
       "<Figure size 720x432 with 1 Axes>"
      ]
     },
     "metadata": {
      "needs_background": "light"
     },
     "output_type": "display_data"
    }
   ],
   "source": [
    "# Чтобы избежать деления на множество всевозможных рейтингов, создадим дополнительный столбец в таблице для\n",
    "# хранения корзины (bin) рейтинга фильма, статистику по окупаемости будем рассматривать применительно к рейтинговым корзинам\n",
    "ratings_cut_bins = [0, 2, 3, 4, 5, 6, 7, 8, 10]\n",
    "ratings_cut_labels = ['0-2', '2-3', '3-4', '4-5', '5-6', '6-7', '7-8', '8-10']\n",
    "mkrf['ratings_bin'] = pd.cut(mkrf['ratings'], bins=ratings_cut_bins, labels=ratings_cut_labels)\n",
    "\n",
    "gb_paybacked_ratings = create_groupby_for_paybacked(mkrf, mkrf_notna_condition, 'ratings_bin')\n",
    "display(gb_paybacked_ratings)\n",
    "\n",
    "fig, ax = plt.subplots(figsize=(10, 6))\n",
    "ax = sns.barplot(x=gb_paybacked_ratings['ratings_bin'], y=gb_paybacked_ratings['is_paybacked_percentage'])\n",
    "_ = ax.grid()\n",
    "_ = ax.set_title('Столбчатая диаграмма процента окупаемости по рейтинговой группе фильма')\n",
    "_ = ax.set_xlabel('Рейтинговая группа (диапазон \"от\" и \"до\")')\n",
    "_ = ax.set_ylabel('Окупившихся фильмов, %')"
   ]
  },
  {
   "cell_type": "markdown",
   "metadata": {},
   "source": [
    "Глядя на таблицу с группировкой и столбчатую диаграмму выше, можно сделать такие выводы:\n",
    "\n",
    "- хуже всего окупаются фильмы в рейтинговой корзине `\"3-4\"` (процент окупаемости `8%`);\n",
    "\n",
    "\n",
    "- фильмы с рейтингом от `2` до `3` (корзина `\"2-3\"`) окупаются на уровне `20%`, что в два раза выше, чем у фильмов с рейтингом `\"3-4\"`. Правда, таких фильмов всего `5`. Можно предположить, что здесь окупаемость достигается на низкосортных современных комедиях, которые киноманами оцениваются низко, но при этом могут окупиться просто в силу своей лёгкости восприятия/доступности и большого количества посмотревших их зрителей;\n",
    "\n",
    "\n",
    "- окупаемость фильмов в рейтинговых корзинах `5-6`, `6-7` и `7-8` находится примерно на одном уровне, где-то между `20%` и `30%`;\n",
    "\n",
    "\n",
    "- наибольшая окупаемость в виде `50%` достигается у фильмов в самой высокой рейтинговой корзине - `\"8-10\"`, что, конечно, не может не радовать, но число фильмов здесь крайне мало - всего `4`.\n",
    "\n",
    "Наконец, выясним, зависит ли как-то окупаемость от объёмов государственной поддержки:"
   ]
  },
  {
   "cell_type": "code",
   "execution_count": 54,
   "metadata": {},
   "outputs": [
    {
     "data": {
      "text/html": [
       "<div>\n",
       "<style scoped>\n",
       "    .dataframe tbody tr th:only-of-type {\n",
       "        vertical-align: middle;\n",
       "    }\n",
       "\n",
       "    .dataframe tbody tr th {\n",
       "        vertical-align: top;\n",
       "    }\n",
       "\n",
       "    .dataframe thead th {\n",
       "        text-align: right;\n",
       "    }\n",
       "</style>\n",
       "<table border=\"1\" class=\"dataframe\">\n",
       "  <thead>\n",
       "    <tr style=\"text-align: right;\">\n",
       "      <th></th>\n",
       "      <th>support_ratio_bin</th>\n",
       "      <th>is_paybacked_sum</th>\n",
       "      <th>is_paybacked_count</th>\n",
       "      <th>is_paybacked_percentage</th>\n",
       "      <th>is_paybacked_percentage_str</th>\n",
       "    </tr>\n",
       "  </thead>\n",
       "  <tbody>\n",
       "    <tr>\n",
       "      <th>0</th>\n",
       "      <td>(0, 25]</td>\n",
       "      <td>6</td>\n",
       "      <td>29</td>\n",
       "      <td>21</td>\n",
       "      <td>21%</td>\n",
       "    </tr>\n",
       "    <tr>\n",
       "      <th>1</th>\n",
       "      <td>(25, 50]</td>\n",
       "      <td>28</td>\n",
       "      <td>98</td>\n",
       "      <td>29</td>\n",
       "      <td>29%</td>\n",
       "    </tr>\n",
       "    <tr>\n",
       "      <th>2</th>\n",
       "      <td>(50, 75]</td>\n",
       "      <td>37</td>\n",
       "      <td>188</td>\n",
       "      <td>20</td>\n",
       "      <td>20%</td>\n",
       "    </tr>\n",
       "    <tr>\n",
       "      <th>3</th>\n",
       "      <td>(75, 100]</td>\n",
       "      <td>1</td>\n",
       "      <td>3</td>\n",
       "      <td>33</td>\n",
       "      <td>33%</td>\n",
       "    </tr>\n",
       "  </tbody>\n",
       "</table>\n",
       "</div>"
      ],
      "text/plain": [
       "  support_ratio_bin  is_paybacked_sum  is_paybacked_count  \\\n",
       "0           (0, 25]                 6                  29   \n",
       "1          (25, 50]                28                  98   \n",
       "2          (50, 75]                37                 188   \n",
       "3         (75, 100]                 1                   3   \n",
       "\n",
       "   is_paybacked_percentage is_paybacked_percentage_str  \n",
       "0                       21                         21%  \n",
       "1                       29                         29%  \n",
       "2                       20                         20%  \n",
       "3                       33                         33%  "
      ]
     },
     "metadata": {},
     "output_type": "display_data"
    },
    {
     "data": {
      "image/png": "[encoded data removed]",
      "text/plain": [
       "<Figure size 720x432 with 1 Axes>"
      ]
     },
     "metadata": {
      "needs_background": "light"
     },
     "output_type": "display_data"
    }
   ],
   "source": [
    "# Здесь вновь используем корзины для деления доли (процентов) господдержки в бюджете фильма\n",
    "support_ratio_cut_bins = [0, 25, 50, 75, 100]\n",
    "mkrf['support_ratio_bin'] = pd.cut(mkrf['support_ratio'], bins=support_ratio_cut_bins)\n",
    "\n",
    "gb_paybacked_support = create_groupby_for_paybacked(mkrf, mkrf_notna_condition, 'support_ratio_bin')\n",
    "display(gb_paybacked_support)\n",
    "\n",
    "fig, ax = plt.subplots(figsize=(10, 6))\n",
    "ax = sns.barplot(x=gb_paybacked_support['support_ratio_bin'], y=gb_paybacked_support['is_paybacked_percentage'])\n",
    "_ = ax.grid()\n",
    "_ = ax.set_title('Столбчатая диаграмма процента окупаемости по проценту господдержки в бюджете фильма')\n",
    "_ = ax.set_xlabel('Сколько составляет господдержка в бюджете фильма (%, диапазон \"от\" и \"до\")')\n",
    "_ = ax.set_ylabel('Окупившихся фильмов, %')"
   ]
  },
  {
   "cell_type": "markdown",
   "metadata": {},
   "source": [
    "Вид диаграммы не позволяет сделать вывод о том, что чем больше государственная поддержка фильма, тем вероятнее он окупится в прокате. Значения колеблятся от `20%` до `30%`, после возрастания доли окупившихся фильмов для корзины `\"25%-50%\"` следует заметный спад почти на `10%` - среди фильмов, доля господдержки в которых составляла от `50%` до `75%` бюджета, окупилось только `20%`. Максимальное значение процента окупаемости в `33%` наблюдается для последней корзины, где доля государственной поддержки составляет более `75%`, но как видно в таблице, таких фильмов было всего `3`, поэтому делать однозначные выводы здесь, я думаю, всё же не стоит."
   ]
  },
  {
   "cell_type": "markdown",
   "metadata": {
    "id": "V2gYwMcPgFyd"
   },
   "source": [
    "### Шаг 5. Напишите общий вывод"
   ]
  },
  {
   "cell_type": "markdown",
   "metadata": {
    "id": "AYRg3dzXgFye"
   },
   "source": [
    "#### Вам нужно изучить рынок российского кинопроката и выявить текущие тренды\n",
    "\n",
    "Заметен рост количества выходящих фильмов в последние 2 года исследования (в `2018` и `2019`), который начался после спада в `2017` году, количество вышедших в `2019` году фильмов приблизилось к рекордному `2010` году, когда вышло наибольшее число фильмов.\n",
    "\n",
    "Средние и медианные сборы в `2019` году не так велики, но суммарные сборы по `2019` году были высокими и оставались примерно на уровне периода с `2016` по `2018` года.\n",
    "\n",
    "Видно, что в 2019 году суммарные сборы примерно сравнялись по возрастным категориям  _«6+»_, _«12+»_ и _«16+»_, в то время как в предыдущие года была заметна одна конктерная категория, занимающая лидирующую позиция по суммарным сборам (_«12+»_ в `2015` году и _«16+»_ в остальные года).\n",
    "\n",
    "#### Уделите внимание фильмам, которые получили государственную поддержку. Попробуйте ответить на вопрос, насколько такие фильмы интересны зрителю\n",
    "\n",
    "Государство начало оказывать финансовую поддержку кинематографу в `2013` году. В среднем же `52%` всего бюджета фильма приходится на оказанную государством господдержку (медианное значение составляет около `60%`). Б_о_льшее значение приходится на невозвратную поддержку.\n",
    "\n",
    "Окупаемость фильмов, получивших государственную поддержку, весьма низка и составляет только лишь `22,6%` (из `318` фильмов окупилось только `72`).\n",
    "\n",
    "В `2019` году наблюдается максимальное значение государственной поддержки по всем годам в исследовании. Тревожным фактором является то, что в этом же `2019` году наблюдается падение процента окупившихся фильмов - их только `18%` (окупились `11` фильмов из `60`), в то время как в `2018` году этот процент составлял `32%`. Здесь можно рекомендовать Фонду Кино исследовать стратегию господдержки, которой они придерживались в `2017` году, когда процент окупившихся фильмов с поддержкой был максимальным - `36%` (окупились `14` фильмов из `39`).\n",
    "\n",
    "Утверждать, что чем выше рейтинг фильма на \"Кинопоиске\", тем лучше его показатель окупаемости, нельзя: фильмы с рейтингом от `4` до `5` имеют окупаемость в `33%`, в то время как окупаемость фильмов с рейтингом от `5` до `8` меньше либо равна `25%`.\n",
    "\n",
    "Кроме того, нельзя говорить о влиянии объёма государственной поддержки фильма на окупаемость в прокате, в частности о том, что чем больше государственная поддержка, тем вероятнее фильм окупится в прокате."
   ]
  }
 ],
 "metadata": {
  "ExecuteTimeLog": [
   {
    "duration": 537,
    "start_time": "2021-07-07T10:12:08.634Z"
   },
   {
    "duration": 206,
    "start_time": "2021-07-07T10:12:30.191Z"
   },
   {
    "duration": 227,
    "start_time": "2021-07-07T10:12:33.078Z"
   },
   {
    "duration": 153,
    "start_time": "2021-07-07T10:13:42.146Z"
   },
   {
    "duration": 233,
    "start_time": "2021-07-07T10:30:09.252Z"
   },
   {
    "duration": 19,
    "start_time": "2021-07-07T10:30:15.577Z"
   },
   {
    "duration": 18,
    "start_time": "2021-07-07T10:30:57.348Z"
   },
   {
    "duration": 19,
    "start_time": "2021-07-07T10:31:17.452Z"
   },
   {
    "duration": 21,
    "start_time": "2021-07-07T10:31:32.227Z"
   },
   {
    "duration": 27,
    "start_time": "2021-07-07T10:32:06.588Z"
   },
   {
    "duration": 23,
    "start_time": "2021-07-07T10:32:43.645Z"
   },
   {
    "duration": 24,
    "start_time": "2021-07-07T10:33:06.948Z"
   },
   {
    "duration": 7,
    "start_time": "2021-07-07T10:33:28.558Z"
   },
   {
    "duration": 23,
    "start_time": "2021-07-07T10:33:43.761Z"
   },
   {
    "duration": 28,
    "start_time": "2021-07-07T10:34:13.466Z"
   },
   {
    "duration": 23,
    "start_time": "2021-07-07T10:35:56.187Z"
   },
   {
    "duration": 6,
    "start_time": "2021-07-07T10:36:48.182Z"
   },
   {
    "duration": 14,
    "start_time": "2021-07-07T10:37:49.641Z"
   },
   {
    "duration": 6,
    "start_time": "2021-07-07T10:38:06.694Z"
   },
   {
    "duration": 6,
    "start_time": "2021-07-07T10:38:13.493Z"
   },
   {
    "duration": 19,
    "start_time": "2021-07-07T10:38:44.056Z"
   },
   {
    "duration": 186,
    "start_time": "2021-07-07T10:48:35.618Z"
   },
   {
    "duration": 24,
    "start_time": "2021-07-07T10:48:51.498Z"
   },
   {
    "duration": 20,
    "start_time": "2021-07-07T10:48:59.415Z"
   },
   {
    "duration": 20,
    "start_time": "2021-07-07T10:53:02.195Z"
   },
   {
    "duration": 188,
    "start_time": "2021-07-07T10:54:40.486Z"
   },
   {
    "duration": 115,
    "start_time": "2021-07-07T10:54:52.552Z"
   },
   {
    "duration": 214,
    "start_time": "2021-07-07T10:54:56.354Z"
   },
   {
    "duration": 47,
    "start_time": "2021-07-07T10:54:58.282Z"
   },
   {
    "duration": 217,
    "start_time": "2021-07-07T10:59:16.075Z"
   },
   {
    "duration": 51,
    "start_time": "2021-07-07T10:59:16.243Z"
   },
   {
    "duration": 578,
    "start_time": "2021-07-07T10:59:18.774Z"
   },
   {
    "duration": 161,
    "start_time": "2021-07-07T10:59:21.238Z"
   },
   {
    "duration": 59,
    "start_time": "2021-07-07T10:59:21.453Z"
   },
   {
    "duration": 3,
    "start_time": "2021-07-07T11:02:10.786Z"
   },
   {
    "duration": 13,
    "start_time": "2021-07-07T11:07:07.722Z"
   },
   {
    "duration": 26,
    "start_time": "2021-07-07T11:07:17.958Z"
   },
   {
    "duration": 22,
    "start_time": "2021-07-07T11:08:17.939Z"
   },
   {
    "duration": 212,
    "start_time": "2021-07-07T11:08:19.665Z"
   },
   {
    "duration": 21,
    "start_time": "2021-07-07T11:08:29.945Z"
   },
   {
    "duration": 31,
    "start_time": "2021-07-07T11:08:38.899Z"
   },
   {
    "duration": 23,
    "start_time": "2021-07-07T11:08:54.527Z"
   },
   {
    "duration": 8,
    "start_time": "2021-07-07T11:18:55.974Z"
   },
   {
    "duration": 7,
    "start_time": "2021-07-07T11:19:03.639Z"
   },
   {
    "duration": 7,
    "start_time": "2021-07-07T11:19:06.444Z"
   },
   {
    "duration": 578,
    "start_time": "2021-07-07T12:09:59.576Z"
   },
   {
    "duration": 195,
    "start_time": "2021-07-07T12:10:00.156Z"
   },
   {
    "duration": 115,
    "start_time": "2021-07-07T12:10:00.353Z"
   },
   {
    "duration": 3,
    "start_time": "2021-07-07T12:10:00.470Z"
   },
   {
    "duration": 32,
    "start_time": "2021-07-07T12:10:00.474Z"
   },
   {
    "duration": 23,
    "start_time": "2021-07-07T12:10:00.508Z"
   },
   {
    "duration": 19,
    "start_time": "2021-07-07T12:10:00.533Z"
   },
   {
    "duration": 44,
    "start_time": "2021-07-07T12:10:00.553Z"
   },
   {
    "duration": 7,
    "start_time": "2021-07-07T12:10:00.600Z"
   },
   {
    "duration": 7,
    "start_time": "2021-07-07T12:19:45.761Z"
   },
   {
    "duration": 21,
    "start_time": "2021-07-07T12:21:35.482Z"
   },
   {
    "duration": 21,
    "start_time": "2021-07-07T12:29:23.569Z"
   },
   {
    "duration": 525,
    "start_time": "2021-07-07T12:29:44.542Z"
   },
   {
    "duration": 214,
    "start_time": "2021-07-07T12:29:45.069Z"
   },
   {
    "duration": 92,
    "start_time": "2021-07-07T12:29:45.285Z"
   },
   {
    "duration": 3,
    "start_time": "2021-07-07T12:29:45.379Z"
   },
   {
    "duration": 28,
    "start_time": "2021-07-07T12:29:45.384Z"
   },
   {
    "duration": 23,
    "start_time": "2021-07-07T12:29:45.413Z"
   },
   {
    "duration": 21,
    "start_time": "2021-07-07T12:29:45.437Z"
   },
   {
    "duration": 41,
    "start_time": "2021-07-07T12:29:45.460Z"
   },
   {
    "duration": 7,
    "start_time": "2021-07-07T12:29:45.502Z"
   },
   {
    "duration": 20,
    "start_time": "2021-07-07T12:29:45.511Z"
   },
   {
    "duration": 12,
    "start_time": "2021-07-07T12:34:02.800Z"
   },
   {
    "duration": 7,
    "start_time": "2021-07-07T12:35:10.479Z"
   },
   {
    "duration": 8,
    "start_time": "2021-07-07T12:35:22.440Z"
   },
   {
    "duration": 6,
    "start_time": "2021-07-07T12:35:35.649Z"
   },
   {
    "duration": 6,
    "start_time": "2021-07-07T12:35:43.107Z"
   },
   {
    "duration": 22,
    "start_time": "2021-07-07T12:38:03.029Z"
   },
   {
    "duration": 10,
    "start_time": "2021-07-07T12:38:06.592Z"
   },
   {
    "duration": 563,
    "start_time": "2021-07-07T12:38:46.493Z"
   },
   {
    "duration": 265,
    "start_time": "2021-07-07T12:38:47.058Z"
   },
   {
    "duration": 94,
    "start_time": "2021-07-07T12:38:47.325Z"
   },
   {
    "duration": 3,
    "start_time": "2021-07-07T12:38:47.422Z"
   },
   {
    "duration": 30,
    "start_time": "2021-07-07T12:38:47.427Z"
   },
   {
    "duration": 16,
    "start_time": "2021-07-07T12:38:53.305Z"
   },
   {
    "duration": 10,
    "start_time": "2021-07-07T12:38:53.499Z"
   },
   {
    "duration": 8,
    "start_time": "2021-07-07T12:39:48.161Z"
   },
   {
    "duration": 27,
    "start_time": "2021-07-07T12:41:17.629Z"
   },
   {
    "duration": 17,
    "start_time": "2021-07-07T12:41:17.867Z"
   },
   {
    "duration": 21,
    "start_time": "2021-07-07T12:41:19.310Z"
   },
   {
    "duration": 7,
    "start_time": "2021-07-07T12:41:19.544Z"
   },
   {
    "duration": 20,
    "start_time": "2021-07-07T12:41:20.504Z"
   },
   {
    "duration": 554,
    "start_time": "2021-07-07T12:56:23.696Z"
   },
   {
    "duration": 200,
    "start_time": "2021-07-07T12:56:25.234Z"
   },
   {
    "duration": 119,
    "start_time": "2021-07-07T12:56:25.480Z"
   },
   {
    "duration": 4,
    "start_time": "2021-07-07T12:56:25.762Z"
   },
   {
    "duration": 26,
    "start_time": "2021-07-07T12:56:27.172Z"
   },
   {
    "duration": 12,
    "start_time": "2021-07-07T12:56:29.051Z"
   },
   {
    "duration": 10,
    "start_time": "2021-07-07T12:56:29.291Z"
   },
   {
    "duration": 8,
    "start_time": "2021-07-07T12:56:29.623Z"
   },
   {
    "duration": 28,
    "start_time": "2021-07-07T12:56:32.137Z"
   },
   {
    "duration": 19,
    "start_time": "2021-07-07T12:56:39.785Z"
   },
   {
    "duration": 20,
    "start_time": "2021-07-07T12:56:44.297Z"
   },
   {
    "duration": 7,
    "start_time": "2021-07-07T12:56:45.392Z"
   },
   {
    "duration": 23,
    "start_time": "2021-07-07T12:56:46.615Z"
   },
   {
    "duration": 4,
    "start_time": "2021-07-07T12:57:06.625Z"
   },
   {
    "duration": 32,
    "start_time": "2021-07-07T12:57:36.690Z"
   },
   {
    "duration": 18,
    "start_time": "2021-07-07T12:58:00.149Z"
   },
   {
    "duration": 15,
    "start_time": "2021-07-07T12:59:16.793Z"
   },
   {
    "duration": 7,
    "start_time": "2021-07-07T13:19:22.624Z"
   },
   {
    "duration": 6,
    "start_time": "2021-07-07T14:17:33.527Z"
   },
   {
    "duration": 9,
    "start_time": "2021-07-07T14:17:48.409Z"
   },
   {
    "duration": 8,
    "start_time": "2021-07-07T14:20:13.060Z"
   },
   {
    "duration": 8,
    "start_time": "2021-07-07T14:20:37.957Z"
   },
   {
    "duration": 8,
    "start_time": "2021-07-07T14:20:47.470Z"
   },
   {
    "duration": 9,
    "start_time": "2021-07-07T14:20:54.503Z"
   },
   {
    "duration": 10,
    "start_time": "2021-07-07T14:28:57.763Z"
   },
   {
    "duration": 3,
    "start_time": "2021-07-07T14:30:23.377Z"
   },
   {
    "duration": 3,
    "start_time": "2021-07-07T14:30:36.489Z"
   },
   {
    "duration": 103,
    "start_time": "2021-07-07T14:30:52.351Z"
   },
   {
    "duration": 8,
    "start_time": "2021-07-07T14:30:54.763Z"
   },
   {
    "duration": 8,
    "start_time": "2021-07-07T14:31:29.301Z"
   },
   {
    "duration": 13,
    "start_time": "2021-07-07T14:31:44.516Z"
   },
   {
    "duration": 7,
    "start_time": "2021-07-07T14:33:10.972Z"
   },
   {
    "duration": 11,
    "start_time": "2021-07-07T14:33:27.780Z"
   },
   {
    "duration": 8,
    "start_time": "2021-07-07T14:34:44.588Z"
   },
   {
    "duration": 57,
    "start_time": "2021-07-07T14:35:59.042Z"
   },
   {
    "duration": 3,
    "start_time": "2021-07-07T14:36:28.168Z"
   },
   {
    "duration": 5,
    "start_time": "2021-07-07T14:36:46.254Z"
   },
   {
    "duration": 4,
    "start_time": "2021-07-07T14:36:52.714Z"
   },
   {
    "duration": 3,
    "start_time": "2021-07-07T14:36:56.612Z"
   },
   {
    "duration": 4,
    "start_time": "2021-07-07T14:36:57.049Z"
   },
   {
    "duration": 3,
    "start_time": "2021-07-07T14:39:21.214Z"
   },
   {
    "duration": 7,
    "start_time": "2021-07-07T14:39:52.406Z"
   },
   {
    "duration": 11,
    "start_time": "2021-07-07T14:39:58.576Z"
   },
   {
    "duration": 9,
    "start_time": "2021-07-07T14:40:26.301Z"
   },
   {
    "duration": 10,
    "start_time": "2021-07-07T14:40:31.704Z"
   },
   {
    "duration": 11,
    "start_time": "2021-07-07T14:40:36.249Z"
   },
   {
    "duration": 10,
    "start_time": "2021-07-07T14:40:39.783Z"
   },
   {
    "duration": 9,
    "start_time": "2021-07-07T14:40:48.558Z"
   },
   {
    "duration": 10,
    "start_time": "2021-07-07T14:40:57.143Z"
   },
   {
    "duration": 9,
    "start_time": "2021-07-07T14:41:06.074Z"
   },
   {
    "duration": 4324,
    "start_time": "2021-07-07T14:41:22.004Z"
   },
   {
    "duration": 11,
    "start_time": "2021-07-07T14:41:33.392Z"
   },
   {
    "duration": 9,
    "start_time": "2021-07-07T14:41:39.288Z"
   },
   {
    "duration": 569,
    "start_time": "2021-07-07T14:42:14.387Z"
   },
   {
    "duration": 197,
    "start_time": "2021-07-07T14:42:14.959Z"
   },
   {
    "duration": 84,
    "start_time": "2021-07-07T14:42:16.052Z"
   },
   {
    "duration": 4,
    "start_time": "2021-07-07T14:42:16.900Z"
   },
   {
    "duration": 27,
    "start_time": "2021-07-07T14:42:19.898Z"
   },
   {
    "duration": 12,
    "start_time": "2021-07-07T14:42:21.577Z"
   },
   {
    "duration": 9,
    "start_time": "2021-07-07T14:42:21.813Z"
   },
   {
    "duration": 9,
    "start_time": "2021-07-07T14:42:22.569Z"
   },
   {
    "duration": 29,
    "start_time": "2021-07-07T14:42:25.837Z"
   },
   {
    "duration": 20,
    "start_time": "2021-07-07T14:42:27.003Z"
   },
   {
    "duration": 21,
    "start_time": "2021-07-07T14:42:28.767Z"
   },
   {
    "duration": 7,
    "start_time": "2021-07-07T14:42:29.838Z"
   },
   {
    "duration": 4,
    "start_time": "2021-07-07T14:43:25.493Z"
   },
   {
    "duration": 7,
    "start_time": "2021-07-07T14:43:26.573Z"
   },
   {
    "duration": 10,
    "start_time": "2021-07-07T14:43:31.639Z"
   },
   {
    "duration": 9,
    "start_time": "2021-07-07T14:43:32.046Z"
   },
   {
    "duration": 10,
    "start_time": "2021-07-07T14:43:33.301Z"
   },
   {
    "duration": 12,
    "start_time": "2021-07-07T14:43:33.658Z"
   },
   {
    "duration": 8,
    "start_time": "2021-07-07T14:43:34.552Z"
   },
   {
    "duration": 9,
    "start_time": "2021-07-07T14:43:35.058Z"
   },
   {
    "duration": 12,
    "start_time": "2021-07-07T14:43:35.914Z"
   },
   {
    "duration": 17,
    "start_time": "2021-07-07T14:45:34.368Z"
   },
   {
    "duration": 512,
    "start_time": "2021-07-07T14:51:58.236Z"
   },
   {
    "duration": 223,
    "start_time": "2021-07-07T14:51:58.750Z"
   },
   {
    "duration": 93,
    "start_time": "2021-07-07T14:51:58.977Z"
   },
   {
    "duration": 4,
    "start_time": "2021-07-07T14:51:59.071Z"
   },
   {
    "duration": 37,
    "start_time": "2021-07-07T14:51:59.077Z"
   },
   {
    "duration": 18,
    "start_time": "2021-07-07T14:51:59.116Z"
   },
   {
    "duration": 10,
    "start_time": "2021-07-07T14:51:59.137Z"
   },
   {
    "duration": 8,
    "start_time": "2021-07-07T14:51:59.149Z"
   },
   {
    "duration": 54,
    "start_time": "2021-07-07T14:51:59.158Z"
   },
   {
    "duration": 18,
    "start_time": "2021-07-07T14:51:59.213Z"
   },
   {
    "duration": 22,
    "start_time": "2021-07-07T14:51:59.232Z"
   },
   {
    "duration": 36,
    "start_time": "2021-07-07T14:51:59.255Z"
   },
   {
    "duration": 7,
    "start_time": "2021-07-07T14:51:59.293Z"
   },
   {
    "duration": 10,
    "start_time": "2021-07-07T14:51:59.302Z"
   },
   {
    "duration": 9,
    "start_time": "2021-07-07T14:51:59.313Z"
   },
   {
    "duration": 11,
    "start_time": "2021-07-07T14:51:59.324Z"
   },
   {
    "duration": 8,
    "start_time": "2021-07-07T14:51:59.337Z"
   },
   {
    "duration": 46,
    "start_time": "2021-07-07T14:51:59.347Z"
   },
   {
    "duration": 22,
    "start_time": "2021-07-07T14:51:59.395Z"
   },
   {
    "duration": 24,
    "start_time": "2021-07-07T14:57:32.911Z"
   },
   {
    "duration": 7,
    "start_time": "2021-07-07T14:58:22.070Z"
   },
   {
    "duration": 4,
    "start_time": "2021-07-07T14:59:11.239Z"
   },
   {
    "duration": 25,
    "start_time": "2021-07-07T15:07:22.208Z"
   },
   {
    "duration": 16,
    "start_time": "2021-07-07T15:08:25.560Z"
   },
   {
    "duration": 15,
    "start_time": "2021-07-07T15:08:40.647Z"
   },
   {
    "duration": 14,
    "start_time": "2021-07-07T15:08:46.669Z"
   },
   {
    "duration": 533,
    "start_time": "2021-07-07T15:18:07.440Z"
   },
   {
    "duration": 173,
    "start_time": "2021-07-07T15:18:07.974Z"
   },
   {
    "duration": 84,
    "start_time": "2021-07-07T15:18:08.149Z"
   },
   {
    "duration": 3,
    "start_time": "2021-07-07T15:18:08.235Z"
   },
   {
    "duration": 30,
    "start_time": "2021-07-07T15:18:08.240Z"
   },
   {
    "duration": 22,
    "start_time": "2021-07-07T15:18:08.272Z"
   },
   {
    "duration": 11,
    "start_time": "2021-07-07T15:18:08.295Z"
   },
   {
    "duration": 11,
    "start_time": "2021-07-07T15:18:08.309Z"
   },
   {
    "duration": 40,
    "start_time": "2021-07-07T15:18:08.322Z"
   },
   {
    "duration": 42,
    "start_time": "2021-07-07T15:18:08.364Z"
   },
   {
    "duration": 22,
    "start_time": "2021-07-07T15:18:08.408Z"
   },
   {
    "duration": 5,
    "start_time": "2021-07-07T15:18:08.432Z"
   },
   {
    "duration": 13,
    "start_time": "2021-07-07T15:18:08.439Z"
   },
   {
    "duration": 9,
    "start_time": "2021-07-07T15:18:08.454Z"
   },
   {
    "duration": 32,
    "start_time": "2021-07-07T15:18:08.465Z"
   },
   {
    "duration": 10,
    "start_time": "2021-07-07T15:18:08.501Z"
   },
   {
    "duration": 7,
    "start_time": "2021-07-07T15:18:08.513Z"
   },
   {
    "duration": 11,
    "start_time": "2021-07-07T15:18:08.521Z"
   },
   {
    "duration": 17,
    "start_time": "2021-07-07T15:18:08.534Z"
   },
   {
    "duration": 44,
    "start_time": "2021-07-07T15:18:08.553Z"
   },
   {
    "duration": 22,
    "start_time": "2021-07-07T15:18:08.599Z"
   },
   {
    "duration": 61,
    "start_time": "2021-07-07T15:18:08.622Z"
   },
   {
    "duration": 7,
    "start_time": "2021-07-07T15:18:39.457Z"
   },
   {
    "duration": 5,
    "start_time": "2021-07-07T16:05:17.020Z"
   },
   {
    "duration": 5,
    "start_time": "2021-07-07T16:51:28.794Z"
   },
   {
    "duration": 546,
    "start_time": "2021-07-07T16:52:26.306Z"
   },
   {
    "duration": 203,
    "start_time": "2021-07-07T16:52:27.523Z"
   },
   {
    "duration": 85,
    "start_time": "2021-07-07T16:52:27.736Z"
   },
   {
    "duration": 4,
    "start_time": "2021-07-07T16:52:27.899Z"
   },
   {
    "duration": 25,
    "start_time": "2021-07-07T16:52:28.674Z"
   },
   {
    "duration": 8,
    "start_time": "2021-07-07T16:52:32.956Z"
   },
   {
    "duration": 18,
    "start_time": "2021-07-07T16:52:35.616Z"
   },
   {
    "duration": 6,
    "start_time": "2021-07-07T16:52:36.913Z"
   },
   {
    "duration": 11,
    "start_time": "2021-07-07T16:52:40.258Z"
   },
   {
    "duration": 10,
    "start_time": "2021-07-07T16:52:46.251Z"
   },
   {
    "duration": 8,
    "start_time": "2021-07-07T16:52:47.182Z"
   },
   {
    "duration": 27,
    "start_time": "2021-07-07T16:53:20.391Z"
   },
   {
    "duration": 20,
    "start_time": "2021-07-07T16:53:22.022Z"
   },
   {
    "duration": 23,
    "start_time": "2021-07-07T16:53:23.690Z"
   },
   {
    "duration": 8,
    "start_time": "2021-07-07T16:53:24.261Z"
   },
   {
    "duration": 4,
    "start_time": "2021-07-07T16:53:38.733Z"
   },
   {
    "duration": 7,
    "start_time": "2021-07-07T16:53:40.445Z"
   },
   {
    "duration": 11,
    "start_time": "2021-07-07T16:53:41.348Z"
   },
   {
    "duration": 13,
    "start_time": "2021-07-07T16:53:45.250Z"
   },
   {
    "duration": 12,
    "start_time": "2021-07-07T16:53:45.467Z"
   },
   {
    "duration": 4,
    "start_time": "2021-07-07T16:55:32.704Z"
   },
   {
    "duration": 12,
    "start_time": "2021-07-07T16:55:49.012Z"
   },
   {
    "duration": 18,
    "start_time": "2021-07-07T16:55:49.547Z"
   },
   {
    "duration": 611,
    "start_time": "2021-07-07T16:58:35.156Z"
   },
   {
    "duration": 200,
    "start_time": "2021-07-07T16:58:35.770Z"
   },
   {
    "duration": 86,
    "start_time": "2021-07-07T16:58:35.972Z"
   },
   {
    "duration": 3,
    "start_time": "2021-07-07T16:58:36.060Z"
   },
   {
    "duration": 27,
    "start_time": "2021-07-07T16:58:36.065Z"
   },
   {
    "duration": 8,
    "start_time": "2021-07-07T16:58:36.094Z"
   },
   {
    "duration": 17,
    "start_time": "2021-07-07T16:58:36.103Z"
   },
   {
    "duration": 5,
    "start_time": "2021-07-07T16:58:36.123Z"
   },
   {
    "duration": 11,
    "start_time": "2021-07-07T16:58:36.130Z"
   },
   {
    "duration": 7,
    "start_time": "2021-07-07T16:58:36.143Z"
   },
   {
    "duration": 37,
    "start_time": "2021-07-07T16:58:36.152Z"
   },
   {
    "duration": 27,
    "start_time": "2021-07-07T16:58:36.191Z"
   },
   {
    "duration": 19,
    "start_time": "2021-07-07T16:58:36.219Z"
   },
   {
    "duration": 49,
    "start_time": "2021-07-07T16:58:36.240Z"
   },
   {
    "duration": 6,
    "start_time": "2021-07-07T16:58:36.291Z"
   },
   {
    "duration": 3,
    "start_time": "2021-07-07T16:58:36.299Z"
   },
   {
    "duration": 13,
    "start_time": "2021-07-07T16:58:36.304Z"
   },
   {
    "duration": 10,
    "start_time": "2021-07-07T16:58:36.319Z"
   },
   {
    "duration": 10,
    "start_time": "2021-07-07T16:58:36.331Z"
   },
   {
    "duration": 44,
    "start_time": "2021-07-07T16:58:36.343Z"
   },
   {
    "duration": 4,
    "start_time": "2021-07-07T16:58:36.388Z"
   },
   {
    "duration": 13,
    "start_time": "2021-07-07T16:58:36.394Z"
   },
   {
    "duration": 16,
    "start_time": "2021-07-07T16:58:36.410Z"
   },
   {
    "duration": 8,
    "start_time": "2021-07-07T17:02:31.629Z"
   },
   {
    "duration": 8,
    "start_time": "2021-07-07T17:02:34.308Z"
   },
   {
    "duration": 6,
    "start_time": "2021-07-07T17:05:13.483Z"
   },
   {
    "duration": 17,
    "start_time": "2021-07-07T17:05:20.606Z"
   },
   {
    "duration": 7,
    "start_time": "2021-07-07T17:05:34.638Z"
   },
   {
    "duration": 3,
    "start_time": "2021-07-07T17:06:31.883Z"
   },
   {
    "duration": 570,
    "start_time": "2021-07-07T17:06:37.165Z"
   },
   {
    "duration": 174,
    "start_time": "2021-07-07T17:06:37.737Z"
   },
   {
    "duration": 47,
    "start_time": "2021-07-07T17:06:37.913Z"
   },
   {
    "duration": 3,
    "start_time": "2021-07-07T17:06:37.962Z"
   },
   {
    "duration": 27,
    "start_time": "2021-07-07T17:06:37.967Z"
   },
   {
    "duration": 7,
    "start_time": "2021-07-07T17:06:37.996Z"
   },
   {
    "duration": 16,
    "start_time": "2021-07-07T17:06:38.005Z"
   },
   {
    "duration": 6,
    "start_time": "2021-07-07T17:06:38.024Z"
   },
   {
    "duration": 12,
    "start_time": "2021-07-07T17:06:38.031Z"
   },
   {
    "duration": 41,
    "start_time": "2021-07-07T17:06:38.045Z"
   },
   {
    "duration": 8,
    "start_time": "2021-07-07T17:06:38.088Z"
   },
   {
    "duration": 26,
    "start_time": "2021-07-07T17:06:38.098Z"
   },
   {
    "duration": 17,
    "start_time": "2021-07-07T17:06:38.126Z"
   },
   {
    "duration": 43,
    "start_time": "2021-07-07T17:06:38.144Z"
   },
   {
    "duration": 6,
    "start_time": "2021-07-07T17:06:38.188Z"
   },
   {
    "duration": 5,
    "start_time": "2021-07-07T17:06:38.195Z"
   },
   {
    "duration": 9,
    "start_time": "2021-07-07T17:06:38.201Z"
   },
   {
    "duration": 12,
    "start_time": "2021-07-07T17:06:38.212Z"
   },
   {
    "duration": 11,
    "start_time": "2021-07-07T17:06:38.226Z"
   },
   {
    "duration": 47,
    "start_time": "2021-07-07T17:06:38.239Z"
   },
   {
    "duration": 4,
    "start_time": "2021-07-07T17:06:38.288Z"
   },
   {
    "duration": 13,
    "start_time": "2021-07-07T17:06:38.293Z"
   },
   {
    "duration": 5,
    "start_time": "2021-07-07T17:06:38.309Z"
   },
   {
    "duration": 18,
    "start_time": "2021-07-07T17:06:38.325Z"
   },
   {
    "duration": 20,
    "start_time": "2021-07-07T17:07:02.805Z"
   },
   {
    "duration": 19,
    "start_time": "2021-07-07T17:07:08.527Z"
   },
   {
    "duration": 19,
    "start_time": "2021-07-07T17:07:12.758Z"
   },
   {
    "duration": 22,
    "start_time": "2021-07-07T17:07:17.497Z"
   },
   {
    "duration": 19,
    "start_time": "2021-07-07T17:07:19.645Z"
   },
   {
    "duration": 10,
    "start_time": "2021-07-07T17:07:34.239Z"
   },
   {
    "duration": 17,
    "start_time": "2021-07-07T17:07:54.144Z"
   },
   {
    "duration": 14,
    "start_time": "2021-07-07T17:08:14.357Z"
   },
   {
    "duration": 616,
    "start_time": "2021-07-07T17:08:45.254Z"
   },
   {
    "duration": 178,
    "start_time": "2021-07-07T17:08:45.872Z"
   },
   {
    "duration": 60,
    "start_time": "2021-07-07T17:08:46.054Z"
   },
   {
    "duration": 3,
    "start_time": "2021-07-07T17:08:46.116Z"
   },
   {
    "duration": 26,
    "start_time": "2021-07-07T17:08:46.121Z"
   },
   {
    "duration": 7,
    "start_time": "2021-07-07T17:08:46.149Z"
   },
   {
    "duration": 17,
    "start_time": "2021-07-07T17:08:46.158Z"
   },
   {
    "duration": 14,
    "start_time": "2021-07-07T17:08:46.176Z"
   },
   {
    "duration": 17,
    "start_time": "2021-07-07T17:08:46.193Z"
   },
   {
    "duration": 9,
    "start_time": "2021-07-07T17:08:46.211Z"
   },
   {
    "duration": 21,
    "start_time": "2021-07-07T17:08:46.221Z"
   },
   {
    "duration": 49,
    "start_time": "2021-07-07T17:08:46.244Z"
   },
   {
    "duration": 24,
    "start_time": "2021-07-07T17:08:46.295Z"
   },
   {
    "duration": 22,
    "start_time": "2021-07-07T17:08:46.321Z"
   },
   {
    "duration": 6,
    "start_time": "2021-07-07T17:08:46.345Z"
   },
   {
    "duration": 5,
    "start_time": "2021-07-07T17:08:46.353Z"
   },
   {
    "duration": 13,
    "start_time": "2021-07-07T17:08:46.386Z"
   },
   {
    "duration": 12,
    "start_time": "2021-07-07T17:08:46.402Z"
   },
   {
    "duration": 10,
    "start_time": "2021-07-07T17:08:46.415Z"
   },
   {
    "duration": 7,
    "start_time": "2021-07-07T17:08:46.427Z"
   },
   {
    "duration": 8,
    "start_time": "2021-07-07T17:08:46.435Z"
   },
   {
    "duration": 68,
    "start_time": "2021-07-07T17:08:46.446Z"
   },
   {
    "duration": 13,
    "start_time": "2021-07-07T17:08:46.516Z"
   },
   {
    "duration": 78,
    "start_time": "2021-07-07T17:08:46.530Z"
   },
   {
    "duration": 40,
    "start_time": "2021-07-07T17:09:08.185Z"
   },
   {
    "duration": 16,
    "start_time": "2021-07-07T17:09:19.324Z"
   },
   {
    "duration": 21,
    "start_time": "2021-07-07T17:09:23.290Z"
   },
   {
    "duration": 13,
    "start_time": "2021-07-07T17:09:54.812Z"
   },
   {
    "duration": 13,
    "start_time": "2021-07-07T17:10:02.039Z"
   },
   {
    "duration": 10,
    "start_time": "2021-07-07T17:10:29.632Z"
   },
   {
    "duration": 13,
    "start_time": "2021-07-07T17:10:52.372Z"
   },
   {
    "duration": 13,
    "start_time": "2021-07-07T17:11:17.270Z"
   },
   {
    "duration": 13,
    "start_time": "2021-07-07T17:14:59.284Z"
   },
   {
    "duration": 547,
    "start_time": "2021-07-07T17:18:52.403Z"
   },
   {
    "duration": 163,
    "start_time": "2021-07-07T17:18:52.952Z"
   },
   {
    "duration": 44,
    "start_time": "2021-07-07T17:18:53.117Z"
   },
   {
    "duration": 3,
    "start_time": "2021-07-07T17:18:53.162Z"
   },
   {
    "duration": 26,
    "start_time": "2021-07-07T17:18:53.167Z"
   },
   {
    "duration": 6,
    "start_time": "2021-07-07T17:18:53.195Z"
   },
   {
    "duration": 15,
    "start_time": "2021-07-07T17:18:53.203Z"
   },
   {
    "duration": 5,
    "start_time": "2021-07-07T17:18:53.220Z"
   },
   {
    "duration": 11,
    "start_time": "2021-07-07T17:18:53.228Z"
   },
   {
    "duration": 9,
    "start_time": "2021-07-07T17:18:53.241Z"
   },
   {
    "duration": 41,
    "start_time": "2021-07-07T17:18:53.252Z"
   },
   {
    "duration": 33,
    "start_time": "2021-07-07T17:18:53.295Z"
   },
   {
    "duration": 19,
    "start_time": "2021-07-07T17:18:53.330Z"
   },
   {
    "duration": 49,
    "start_time": "2021-07-07T17:18:53.350Z"
   },
   {
    "duration": 5,
    "start_time": "2021-07-07T17:18:53.401Z"
   },
   {
    "duration": 5,
    "start_time": "2021-07-07T17:18:53.408Z"
   },
   {
    "duration": 11,
    "start_time": "2021-07-07T17:18:53.414Z"
   },
   {
    "duration": 9,
    "start_time": "2021-07-07T17:18:53.427Z"
   },
   {
    "duration": 10,
    "start_time": "2021-07-07T17:18:53.437Z"
   },
   {
    "duration": 39,
    "start_time": "2021-07-07T17:18:53.448Z"
   },
   {
    "duration": 26,
    "start_time": "2021-07-07T17:18:55.799Z"
   },
   {
    "duration": 598,
    "start_time": "2021-07-07T17:20:17.862Z"
   },
   {
    "duration": 161,
    "start_time": "2021-07-07T17:20:18.462Z"
   },
   {
    "duration": 45,
    "start_time": "2021-07-07T17:20:18.626Z"
   },
   {
    "duration": 4,
    "start_time": "2021-07-07T17:20:18.673Z"
   },
   {
    "duration": 38,
    "start_time": "2021-07-07T17:20:26.877Z"
   },
   {
    "duration": 7,
    "start_time": "2021-07-07T17:20:37.405Z"
   },
   {
    "duration": 19,
    "start_time": "2021-07-07T17:20:51.534Z"
   },
   {
    "duration": 5,
    "start_time": "2021-07-07T17:20:57.228Z"
   },
   {
    "duration": 7,
    "start_time": "2021-07-07T17:21:08.235Z"
   },
   {
    "duration": 19,
    "start_time": "2021-07-07T17:21:42.158Z"
   },
   {
    "duration": 14,
    "start_time": "2021-07-07T17:21:50.225Z"
   },
   {
    "duration": 22,
    "start_time": "2021-07-07T17:22:54.104Z"
   },
   {
    "duration": 5,
    "start_time": "2021-07-07T17:22:56.371Z"
   },
   {
    "duration": 14,
    "start_time": "2021-07-07T17:22:58.316Z"
   },
   {
    "duration": 5,
    "start_time": "2021-07-07T17:22:58.493Z"
   },
   {
    "duration": 35,
    "start_time": "2021-07-07T17:22:59.666Z"
   },
   {
    "duration": 6,
    "start_time": "2021-07-07T17:23:02.410Z"
   },
   {
    "duration": 611,
    "start_time": "2021-07-07T17:24:59.664Z"
   },
   {
    "duration": 178,
    "start_time": "2021-07-07T17:25:01.945Z"
   },
   {
    "duration": 47,
    "start_time": "2021-07-07T17:25:02.125Z"
   },
   {
    "duration": 2,
    "start_time": "2021-07-07T17:25:07.903Z"
   },
   {
    "duration": 254,
    "start_time": "2021-07-07T17:25:08.232Z"
   },
   {
    "duration": 182,
    "start_time": "2021-07-07T17:25:08.671Z"
   },
   {
    "duration": 6,
    "start_time": "2021-07-07T17:25:13.104Z"
   },
   {
    "duration": 36,
    "start_time": "2021-07-07T17:25:13.662Z"
   },
   {
    "duration": 7,
    "start_time": "2021-07-07T17:25:14.528Z"
   },
   {
    "duration": 24,
    "start_time": "2021-07-07T17:25:27.982Z"
   },
   {
    "duration": 3,
    "start_time": "2021-07-07T17:25:48.982Z"
   },
   {
    "duration": 165,
    "start_time": "2021-07-07T17:25:48.987Z"
   },
   {
    "duration": 50,
    "start_time": "2021-07-07T17:25:49.154Z"
   },
   {
    "duration": 4,
    "start_time": "2021-07-07T17:25:49.206Z"
   },
   {
    "duration": 26,
    "start_time": "2021-07-07T17:25:49.212Z"
   },
   {
    "duration": 7,
    "start_time": "2021-07-07T17:25:49.240Z"
   },
   {
    "duration": 16,
    "start_time": "2021-07-07T17:25:49.249Z"
   },
   {
    "duration": 22,
    "start_time": "2021-07-07T17:25:49.266Z"
   },
   {
    "duration": 16,
    "start_time": "2021-07-07T17:25:49.291Z"
   },
   {
    "duration": 9,
    "start_time": "2021-07-07T17:25:49.309Z"
   },
   {
    "duration": 7,
    "start_time": "2021-07-07T17:25:49.319Z"
   },
   {
    "duration": 28,
    "start_time": "2021-07-07T17:25:49.328Z"
   },
   {
    "duration": 44,
    "start_time": "2021-07-07T17:25:49.357Z"
   },
   {
    "duration": 22,
    "start_time": "2021-07-07T17:25:49.403Z"
   },
   {
    "duration": 7,
    "start_time": "2021-07-07T17:25:49.427Z"
   },
   {
    "duration": 3,
    "start_time": "2021-07-07T17:25:49.436Z"
   },
   {
    "duration": 44,
    "start_time": "2021-07-07T17:25:49.441Z"
   },
   {
    "duration": 12,
    "start_time": "2021-07-07T17:25:49.488Z"
   },
   {
    "duration": 13,
    "start_time": "2021-07-07T17:25:49.502Z"
   },
   {
    "duration": 10,
    "start_time": "2021-07-07T17:25:49.516Z"
   },
   {
    "duration": 62,
    "start_time": "2021-07-07T17:25:49.527Z"
   },
   {
    "duration": 26,
    "start_time": "2021-07-07T17:26:51.809Z"
   },
   {
    "duration": 26,
    "start_time": "2021-07-07T17:26:55.759Z"
   },
   {
    "duration": 26,
    "start_time": "2021-07-07T17:27:04.501Z"
   },
   {
    "duration": 25,
    "start_time": "2021-07-07T17:28:24.859Z"
   },
   {
    "duration": 21,
    "start_time": "2021-07-07T17:28:55.250Z"
   },
   {
    "duration": 21,
    "start_time": "2021-07-07T17:28:58.885Z"
   },
   {
    "duration": 7,
    "start_time": "2021-07-07T17:45:40.972Z"
   },
   {
    "duration": 13,
    "start_time": "2021-07-07T17:45:42.529Z"
   },
   {
    "duration": 27,
    "start_time": "2021-07-07T17:45:51.026Z"
   },
   {
    "duration": 518,
    "start_time": "2021-07-07T17:46:15.532Z"
   },
   {
    "duration": 235,
    "start_time": "2021-07-07T17:46:16.053Z"
   },
   {
    "duration": 80,
    "start_time": "2021-07-07T17:46:16.292Z"
   },
   {
    "duration": 5,
    "start_time": "2021-07-07T17:46:16.373Z"
   },
   {
    "duration": 26,
    "start_time": "2021-07-07T17:46:16.380Z"
   },
   {
    "duration": 7,
    "start_time": "2021-07-07T17:46:16.408Z"
   },
   {
    "duration": 16,
    "start_time": "2021-07-07T17:46:16.418Z"
   },
   {
    "duration": 5,
    "start_time": "2021-07-07T17:46:16.436Z"
   },
   {
    "duration": 13,
    "start_time": "2021-07-07T17:46:16.442Z"
   },
   {
    "duration": 35,
    "start_time": "2021-07-07T17:46:16.456Z"
   },
   {
    "duration": 8,
    "start_time": "2021-07-07T17:46:16.493Z"
   },
   {
    "duration": 28,
    "start_time": "2021-07-07T17:46:16.502Z"
   },
   {
    "duration": 17,
    "start_time": "2021-07-07T17:46:16.532Z"
   },
   {
    "duration": 44,
    "start_time": "2021-07-07T17:46:16.551Z"
   },
   {
    "duration": 6,
    "start_time": "2021-07-07T17:46:16.597Z"
   },
   {
    "duration": 4,
    "start_time": "2021-07-07T17:46:16.605Z"
   },
   {
    "duration": 9,
    "start_time": "2021-07-07T17:46:16.610Z"
   },
   {
    "duration": 9,
    "start_time": "2021-07-07T17:46:16.621Z"
   },
   {
    "duration": 10,
    "start_time": "2021-07-07T17:46:16.632Z"
   },
   {
    "duration": 43,
    "start_time": "2021-07-07T17:46:16.644Z"
   },
   {
    "duration": 26,
    "start_time": "2021-07-07T17:46:16.689Z"
   },
   {
    "duration": 19,
    "start_time": "2021-07-07T17:46:16.718Z"
   },
   {
    "duration": 8,
    "start_time": "2021-07-07T17:46:16.738Z"
   },
   {
    "duration": 43,
    "start_time": "2021-07-07T17:46:16.747Z"
   },
   {
    "duration": 19,
    "start_time": "2021-07-07T17:46:16.791Z"
   },
   {
    "duration": 9,
    "start_time": "2021-07-07T17:46:16.812Z"
   },
   {
    "duration": 60,
    "start_time": "2021-07-07T17:46:16.822Z"
   },
   {
    "duration": -8,
    "start_time": "2021-07-07T17:46:16.892Z"
   },
   {
    "duration": 12,
    "start_time": "2021-07-07T17:48:47.707Z"
   },
   {
    "duration": 553,
    "start_time": "2021-07-07T18:10:09.350Z"
   },
   {
    "duration": 230,
    "start_time": "2021-07-07T18:10:09.905Z"
   },
   {
    "duration": 97,
    "start_time": "2021-07-07T18:10:10.137Z"
   },
   {
    "duration": 5,
    "start_time": "2021-07-07T18:10:10.236Z"
   },
   {
    "duration": 29,
    "start_time": "2021-07-07T18:10:10.242Z"
   },
   {
    "duration": 7,
    "start_time": "2021-07-07T18:10:10.272Z"
   },
   {
    "duration": 15,
    "start_time": "2021-07-07T18:10:10.281Z"
   },
   {
    "duration": 4,
    "start_time": "2021-07-07T18:10:10.299Z"
   },
   {
    "duration": 14,
    "start_time": "2021-07-07T18:10:10.305Z"
   },
   {
    "duration": 8,
    "start_time": "2021-07-07T18:10:10.321Z"
   },
   {
    "duration": 8,
    "start_time": "2021-07-07T18:10:10.331Z"
   },
   {
    "duration": 56,
    "start_time": "2021-07-07T18:10:10.341Z"
   },
   {
    "duration": 19,
    "start_time": "2021-07-07T18:10:10.399Z"
   },
   {
    "duration": 23,
    "start_time": "2021-07-07T18:10:10.419Z"
   },
   {
    "duration": 6,
    "start_time": "2021-07-07T18:10:10.444Z"
   },
   {
    "duration": 9,
    "start_time": "2021-07-07T18:10:10.451Z"
   },
   {
    "duration": 30,
    "start_time": "2021-07-07T18:10:10.462Z"
   },
   {
    "duration": 9,
    "start_time": "2021-07-07T18:10:10.494Z"
   },
   {
    "duration": 14,
    "start_time": "2021-07-07T18:10:10.505Z"
   },
   {
    "duration": 7,
    "start_time": "2021-07-07T18:10:10.521Z"
   },
   {
    "duration": 26,
    "start_time": "2021-07-07T18:10:10.530Z"
   },
   {
    "duration": 44,
    "start_time": "2021-07-07T18:10:10.558Z"
   },
   {
    "duration": 7,
    "start_time": "2021-07-07T18:10:10.605Z"
   },
   {
    "duration": 11,
    "start_time": "2021-07-07T18:10:10.614Z"
   },
   {
    "duration": 19,
    "start_time": "2021-07-07T18:10:10.626Z"
   },
   {
    "duration": 44,
    "start_time": "2021-07-07T18:10:10.646Z"
   },
   {
    "duration": 516,
    "start_time": "2021-07-07T18:14:00.826Z"
   },
   {
    "duration": 230,
    "start_time": "2021-07-07T18:14:01.344Z"
   },
   {
    "duration": 105,
    "start_time": "2021-07-07T18:14:01.576Z"
   },
   {
    "duration": 5,
    "start_time": "2021-07-07T18:14:01.683Z"
   },
   {
    "duration": 46,
    "start_time": "2021-07-07T18:14:01.690Z"
   },
   {
    "duration": 7,
    "start_time": "2021-07-07T18:14:01.738Z"
   },
   {
    "duration": 20,
    "start_time": "2021-07-07T18:14:01.747Z"
   },
   {
    "duration": 16,
    "start_time": "2021-07-07T18:14:01.769Z"
   },
   {
    "duration": 14,
    "start_time": "2021-07-07T18:14:01.787Z"
   },
   {
    "duration": 15,
    "start_time": "2021-07-07T18:14:01.803Z"
   },
   {
    "duration": 12,
    "start_time": "2021-07-07T18:14:01.820Z"
   },
   {
    "duration": 35,
    "start_time": "2021-07-07T18:14:01.833Z"
   },
   {
    "duration": 31,
    "start_time": "2021-07-07T18:14:01.869Z"
   },
   {
    "duration": 37,
    "start_time": "2021-07-07T18:14:01.902Z"
   },
   {
    "duration": 8,
    "start_time": "2021-07-07T18:14:01.942Z"
   },
   {
    "duration": 16,
    "start_time": "2021-07-07T18:14:01.952Z"
   },
   {
    "duration": 13,
    "start_time": "2021-07-07T18:14:01.970Z"
   },
   {
    "duration": 32,
    "start_time": "2021-07-07T18:14:01.985Z"
   },
   {
    "duration": 11,
    "start_time": "2021-07-07T18:14:02.019Z"
   },
   {
    "duration": 22,
    "start_time": "2021-07-07T18:14:02.031Z"
   },
   {
    "duration": 27,
    "start_time": "2021-07-07T18:14:02.055Z"
   },
   {
    "duration": 18,
    "start_time": "2021-07-07T18:14:02.084Z"
   },
   {
    "duration": 18,
    "start_time": "2021-07-07T18:14:02.106Z"
   },
   {
    "duration": 11,
    "start_time": "2021-07-07T18:14:02.126Z"
   },
   {
    "duration": 21,
    "start_time": "2021-07-07T18:14:02.138Z"
   },
   {
    "duration": 32,
    "start_time": "2021-07-07T18:14:02.161Z"
   },
   {
    "duration": 28,
    "start_time": "2021-07-07T18:14:44.295Z"
   },
   {
    "duration": 6,
    "start_time": "2021-07-07T18:15:05.834Z"
   },
   {
    "duration": 511,
    "start_time": "2021-07-07T18:15:41.541Z"
   },
   {
    "duration": 183,
    "start_time": "2021-07-07T18:15:42.054Z"
   },
   {
    "duration": 50,
    "start_time": "2021-07-07T18:15:42.239Z"
   },
   {
    "duration": 5,
    "start_time": "2021-07-07T18:15:42.291Z"
   },
   {
    "duration": 48,
    "start_time": "2021-07-07T18:15:42.297Z"
   },
   {
    "duration": 8,
    "start_time": "2021-07-07T18:15:42.346Z"
   },
   {
    "duration": 17,
    "start_time": "2021-07-07T18:15:42.356Z"
   },
   {
    "duration": 15,
    "start_time": "2021-07-07T18:15:42.375Z"
   },
   {
    "duration": 12,
    "start_time": "2021-07-07T18:15:42.392Z"
   },
   {
    "duration": 7,
    "start_time": "2021-07-07T18:15:42.406Z"
   },
   {
    "duration": 7,
    "start_time": "2021-07-07T18:15:42.415Z"
   },
   {
    "duration": 29,
    "start_time": "2021-07-07T18:15:42.423Z"
   },
   {
    "duration": 43,
    "start_time": "2021-07-07T18:15:42.453Z"
   },
   {
    "duration": 18,
    "start_time": "2021-07-07T18:15:42.497Z"
   },
   {
    "duration": 6,
    "start_time": "2021-07-07T18:15:42.516Z"
   },
   {
    "duration": 3,
    "start_time": "2021-07-07T18:15:42.523Z"
   },
   {
    "duration": 18,
    "start_time": "2021-07-07T18:15:42.528Z"
   },
   {
    "duration": 10,
    "start_time": "2021-07-07T18:15:42.547Z"
   },
   {
    "duration": 36,
    "start_time": "2021-07-07T18:15:42.559Z"
   },
   {
    "duration": 8,
    "start_time": "2021-07-07T18:15:42.597Z"
   },
   {
    "duration": 28,
    "start_time": "2021-07-07T18:15:42.606Z"
   },
   {
    "duration": 52,
    "start_time": "2021-07-07T18:15:42.635Z"
   },
   {
    "duration": 7,
    "start_time": "2021-07-07T18:15:42.690Z"
   },
   {
    "duration": 10,
    "start_time": "2021-07-07T18:15:42.699Z"
   },
   {
    "duration": 19,
    "start_time": "2021-07-07T18:15:42.711Z"
   },
   {
    "duration": 9,
    "start_time": "2021-07-07T18:15:42.732Z"
   },
   {
    "duration": 5,
    "start_time": "2021-07-07T18:15:42.743Z"
   },
   {
    "duration": 1450,
    "start_time": "2021-07-07T18:15:51.984Z"
   },
   {
    "duration": 161,
    "start_time": "2021-07-07T18:15:53.435Z"
   },
   {
    "duration": 124,
    "start_time": "2021-07-07T18:15:53.598Z"
   },
   {
    "duration": 5,
    "start_time": "2021-07-07T18:15:53.724Z"
   },
   {
    "duration": 34,
    "start_time": "2021-07-07T18:15:53.730Z"
   },
   {
    "duration": 7,
    "start_time": "2021-07-07T18:15:53.765Z"
   },
   {
    "duration": 15,
    "start_time": "2021-07-07T18:15:53.773Z"
   },
   {
    "duration": 5,
    "start_time": "2021-07-07T18:15:53.791Z"
   },
   {
    "duration": 19,
    "start_time": "2021-07-07T18:15:53.798Z"
   },
   {
    "duration": 9,
    "start_time": "2021-07-07T18:15:53.818Z"
   },
   {
    "duration": 19,
    "start_time": "2021-07-07T18:15:53.828Z"
   },
   {
    "duration": 27,
    "start_time": "2021-07-07T18:15:53.848Z"
   },
   {
    "duration": 16,
    "start_time": "2021-07-07T18:15:53.884Z"
   },
   {
    "duration": 29,
    "start_time": "2021-07-07T18:15:53.901Z"
   },
   {
    "duration": 5,
    "start_time": "2021-07-07T18:15:53.932Z"
   },
   {
    "duration": 15,
    "start_time": "2021-07-07T18:15:53.939Z"
   },
   {
    "duration": 13,
    "start_time": "2021-07-07T18:15:53.956Z"
   },
   {
    "duration": 20,
    "start_time": "2021-07-07T18:15:53.971Z"
   },
   {
    "duration": 14,
    "start_time": "2021-07-07T18:15:53.992Z"
   },
   {
    "duration": 9,
    "start_time": "2021-07-07T18:15:54.009Z"
   },
   {
    "duration": 28,
    "start_time": "2021-07-07T18:15:54.020Z"
   },
   {
    "duration": 50,
    "start_time": "2021-07-07T18:15:54.051Z"
   },
   {
    "duration": 8,
    "start_time": "2021-07-07T18:15:54.105Z"
   },
   {
    "duration": 11,
    "start_time": "2021-07-07T18:15:54.115Z"
   },
   {
    "duration": 20,
    "start_time": "2021-07-07T18:15:54.128Z"
   },
   {
    "duration": 13,
    "start_time": "2021-07-07T18:15:54.184Z"
   },
   {
    "duration": 7,
    "start_time": "2021-07-07T18:15:54.199Z"
   },
   {
    "duration": 7,
    "start_time": "2021-07-07T18:17:08.042Z"
   },
   {
    "duration": 8,
    "start_time": "2021-07-07T18:17:21.008Z"
   },
   {
    "duration": 7,
    "start_time": "2021-07-07T18:17:29.003Z"
   },
   {
    "duration": 8,
    "start_time": "2021-07-07T18:17:32.492Z"
   },
   {
    "duration": 9,
    "start_time": "2021-07-07T18:17:41.758Z"
   },
   {
    "duration": 255,
    "start_time": "2021-07-07T18:20:20.897Z"
   },
   {
    "duration": 173,
    "start_time": "2021-07-07T18:20:26.636Z"
   },
   {
    "duration": 7,
    "start_time": "2021-07-07T18:21:47.164Z"
   },
   {
    "duration": 254,
    "start_time": "2021-07-07T18:23:08.703Z"
   },
   {
    "duration": 21,
    "start_time": "2021-07-07T18:23:22.506Z"
   },
   {
    "duration": 315,
    "start_time": "2021-07-07T18:25:54.801Z"
   },
   {
    "duration": 34,
    "start_time": "2021-07-07T18:26:51.817Z"
   },
   {
    "duration": 327,
    "start_time": "2021-07-07T18:26:56.147Z"
   },
   {
    "duration": 342,
    "start_time": "2021-07-07T18:27:15.887Z"
   },
   {
    "duration": 302,
    "start_time": "2021-07-07T18:28:18.569Z"
   },
   {
    "duration": 226,
    "start_time": "2021-07-07T18:29:20.879Z"
   },
   {
    "duration": 207,
    "start_time": "2021-07-07T18:29:58.114Z"
   },
   {
    "duration": 140,
    "start_time": "2021-07-07T18:32:04.372Z"
   },
   {
    "duration": 158,
    "start_time": "2021-07-07T18:32:32.508Z"
   },
   {
    "duration": 145,
    "start_time": "2021-07-07T18:32:41.365Z"
   },
   {
    "duration": 132,
    "start_time": "2021-07-07T18:32:45.199Z"
   },
   {
    "duration": 11,
    "start_time": "2021-07-07T18:35:24.679Z"
   },
   {
    "duration": 268,
    "start_time": "2021-07-07T18:36:16.145Z"
   },
   {
    "duration": 227,
    "start_time": "2021-07-07T18:37:04.918Z"
   },
   {
    "duration": 3,
    "start_time": "2021-07-07T18:37:33.012Z"
   },
   {
    "duration": 671,
    "start_time": "2021-07-07T18:37:38.295Z"
   },
   {
    "duration": 54,
    "start_time": "2021-07-07T18:37:53.406Z"
   },
   {
    "duration": 631,
    "start_time": "2021-07-07T18:37:56.463Z"
   },
   {
    "duration": 19,
    "start_time": "2021-07-07T18:39:40.535Z"
   },
   {
    "duration": 20,
    "start_time": "2021-07-07T18:40:12.236Z"
   },
   {
    "duration": 633,
    "start_time": "2021-07-07T18:42:00.398Z"
   },
   {
    "duration": 218,
    "start_time": "2021-07-07T18:42:01.033Z"
   },
   {
    "duration": 49,
    "start_time": "2021-07-07T18:42:01.253Z"
   },
   {
    "duration": 5,
    "start_time": "2021-07-07T18:42:01.303Z"
   },
   {
    "duration": 27,
    "start_time": "2021-07-07T18:42:01.310Z"
   },
   {
    "duration": 8,
    "start_time": "2021-07-07T18:42:01.339Z"
   },
   {
    "duration": 20,
    "start_time": "2021-07-07T18:42:01.348Z"
   },
   {
    "duration": 6,
    "start_time": "2021-07-07T18:42:01.386Z"
   },
   {
    "duration": 16,
    "start_time": "2021-07-07T18:42:01.394Z"
   },
   {
    "duration": 9,
    "start_time": "2021-07-07T18:42:01.411Z"
   },
   {
    "duration": 11,
    "start_time": "2021-07-07T18:42:01.421Z"
   },
   {
    "duration": 31,
    "start_time": "2021-07-07T18:42:01.434Z"
   },
   {
    "duration": 18,
    "start_time": "2021-07-07T18:42:01.485Z"
   },
   {
    "duration": 23,
    "start_time": "2021-07-07T18:42:01.505Z"
   },
   {
    "duration": 6,
    "start_time": "2021-07-07T18:42:01.530Z"
   },
   {
    "duration": 10,
    "start_time": "2021-07-07T18:42:01.538Z"
   },
   {
    "duration": 13,
    "start_time": "2021-07-07T18:42:01.550Z"
   },
   {
    "duration": 24,
    "start_time": "2021-07-07T18:42:01.564Z"
   },
   {
    "duration": 20,
    "start_time": "2021-07-07T18:42:01.590Z"
   },
   {
    "duration": 8,
    "start_time": "2021-07-07T18:42:01.611Z"
   },
   {
    "duration": 31,
    "start_time": "2021-07-07T18:42:01.620Z"
   },
   {
    "duration": 39,
    "start_time": "2021-07-07T18:42:01.653Z"
   },
   {
    "duration": 8,
    "start_time": "2021-07-07T18:42:01.696Z"
   },
   {
    "duration": 13,
    "start_time": "2021-07-07T18:42:01.705Z"
   },
   {
    "duration": 20,
    "start_time": "2021-07-07T18:42:01.720Z"
   },
   {
    "duration": 12,
    "start_time": "2021-07-07T18:42:01.741Z"
   },
   {
    "duration": 35,
    "start_time": "2021-07-07T18:42:01.755Z"
   },
   {
    "duration": 14,
    "start_time": "2021-07-07T18:42:01.792Z"
   },
   {
    "duration": 188,
    "start_time": "2021-07-07T18:42:01.808Z"
   },
   {
    "duration": 19,
    "start_time": "2021-07-07T18:42:01.998Z"
   },
   {
    "duration": 175,
    "start_time": "2021-07-07T18:42:02.019Z"
   },
   {
    "duration": 134,
    "start_time": "2021-07-07T18:42:02.196Z"
   },
   {
    "duration": 10,
    "start_time": "2021-07-07T18:42:02.331Z"
   },
   {
    "duration": 19,
    "start_time": "2021-07-07T18:42:02.343Z"
   },
   {
    "duration": 628,
    "start_time": "2021-07-07T18:46:30.701Z"
   },
   {
    "duration": 183,
    "start_time": "2021-07-07T18:46:31.331Z"
   },
   {
    "duration": 48,
    "start_time": "2021-07-07T18:46:31.516Z"
   },
   {
    "duration": 5,
    "start_time": "2021-07-07T18:46:31.566Z"
   },
   {
    "duration": 28,
    "start_time": "2021-07-07T18:46:31.572Z"
   },
   {
    "duration": 8,
    "start_time": "2021-07-07T18:46:31.602Z"
   },
   {
    "duration": 19,
    "start_time": "2021-07-07T18:46:31.611Z"
   },
   {
    "duration": 6,
    "start_time": "2021-07-07T18:46:31.633Z"
   },
   {
    "duration": 17,
    "start_time": "2021-07-07T18:46:31.642Z"
   },
   {
    "duration": 10,
    "start_time": "2021-07-07T18:46:31.684Z"
   },
   {
    "duration": 9,
    "start_time": "2021-07-07T18:46:31.695Z"
   },
   {
    "duration": 28,
    "start_time": "2021-07-07T18:46:31.705Z"
   },
   {
    "duration": 18,
    "start_time": "2021-07-07T18:46:31.735Z"
   },
   {
    "duration": 48,
    "start_time": "2021-07-07T18:46:31.755Z"
   },
   {
    "duration": 6,
    "start_time": "2021-07-07T18:46:31.804Z"
   },
   {
    "duration": 4,
    "start_time": "2021-07-07T18:46:31.812Z"
   },
   {
    "duration": 9,
    "start_time": "2021-07-07T18:46:31.817Z"
   },
   {
    "duration": 10,
    "start_time": "2021-07-07T18:46:31.827Z"
   },
   {
    "duration": 12,
    "start_time": "2021-07-07T18:46:31.838Z"
   },
   {
    "duration": 39,
    "start_time": "2021-07-07T18:46:31.851Z"
   },
   {
    "duration": 24,
    "start_time": "2021-07-07T18:46:31.892Z"
   },
   {
    "duration": 15,
    "start_time": "2021-07-07T18:46:31.918Z"
   },
   {
    "duration": 7,
    "start_time": "2021-07-07T18:46:31.936Z"
   },
   {
    "duration": 8,
    "start_time": "2021-07-07T18:46:31.944Z"
   },
   {
    "duration": 19,
    "start_time": "2021-07-07T18:46:31.984Z"
   },
   {
    "duration": 10,
    "start_time": "2021-07-07T18:46:32.004Z"
   },
   {
    "duration": 5,
    "start_time": "2021-07-07T18:46:32.016Z"
   },
   {
    "duration": 9,
    "start_time": "2021-07-07T18:46:32.023Z"
   },
   {
    "duration": 199,
    "start_time": "2021-07-07T18:46:32.033Z"
   },
   {
    "duration": 19,
    "start_time": "2021-07-07T18:46:32.234Z"
   },
   {
    "duration": 159,
    "start_time": "2021-07-07T18:46:32.255Z"
   },
   {
    "duration": 134,
    "start_time": "2021-07-07T18:46:32.416Z"
   },
   {
    "duration": 10,
    "start_time": "2021-07-07T18:46:32.552Z"
   },
   {
    "duration": 34,
    "start_time": "2021-07-07T18:46:32.563Z"
   },
   {
    "duration": 1039,
    "start_time": "2021-07-08T08:41:09.419Z"
   },
   {
    "duration": 333,
    "start_time": "2021-07-08T08:41:10.459Z"
   },
   {
    "duration": 173,
    "start_time": "2021-07-08T08:41:10.794Z"
   },
   {
    "duration": 5,
    "start_time": "2021-07-08T08:41:10.968Z"
   },
   {
    "duration": 25,
    "start_time": "2021-07-08T08:41:10.975Z"
   },
   {
    "duration": 9,
    "start_time": "2021-07-08T08:41:11.002Z"
   },
   {
    "duration": 18,
    "start_time": "2021-07-08T08:41:11.013Z"
   },
   {
    "duration": 6,
    "start_time": "2021-07-08T08:41:11.033Z"
   },
   {
    "duration": 44,
    "start_time": "2021-07-08T08:41:11.042Z"
   },
   {
    "duration": 10,
    "start_time": "2021-07-08T08:41:11.088Z"
   },
   {
    "duration": 9,
    "start_time": "2021-07-08T08:41:11.100Z"
   },
   {
    "duration": 27,
    "start_time": "2021-07-08T08:41:11.111Z"
   },
   {
    "duration": 46,
    "start_time": "2021-07-08T08:41:11.140Z"
   },
   {
    "duration": 17,
    "start_time": "2021-07-08T08:41:11.187Z"
   },
   {
    "duration": 6,
    "start_time": "2021-07-08T08:41:11.206Z"
   },
   {
    "duration": 5,
    "start_time": "2021-07-08T08:41:11.213Z"
   },
   {
    "duration": 10,
    "start_time": "2021-07-08T08:41:11.219Z"
   },
   {
    "duration": 9,
    "start_time": "2021-07-08T08:41:11.230Z"
   },
   {
    "duration": 45,
    "start_time": "2021-07-08T08:41:11.241Z"
   },
   {
    "duration": 7,
    "start_time": "2021-07-08T08:41:11.287Z"
   },
   {
    "duration": 24,
    "start_time": "2021-07-08T08:41:11.296Z"
   },
   {
    "duration": 16,
    "start_time": "2021-07-08T08:41:11.322Z"
   },
   {
    "duration": 7,
    "start_time": "2021-07-08T08:41:11.341Z"
   },
   {
    "duration": 41,
    "start_time": "2021-07-08T08:41:11.349Z"
   },
   {
    "duration": 17,
    "start_time": "2021-07-08T08:41:11.391Z"
   },
   {
    "duration": 9,
    "start_time": "2021-07-08T08:41:11.410Z"
   },
   {
    "duration": 5,
    "start_time": "2021-07-08T08:41:11.421Z"
   },
   {
    "duration": 6,
    "start_time": "2021-07-08T08:41:11.428Z"
   },
   {
    "duration": 198,
    "start_time": "2021-07-08T08:41:11.435Z"
   },
   {
    "duration": 18,
    "start_time": "2021-07-08T08:41:11.635Z"
   },
   {
    "duration": 155,
    "start_time": "2021-07-08T08:41:11.655Z"
   },
   {
    "duration": 138,
    "start_time": "2021-07-08T08:41:11.811Z"
   },
   {
    "duration": 10,
    "start_time": "2021-07-08T08:41:11.950Z"
   },
   {
    "duration": 29,
    "start_time": "2021-07-08T08:41:11.961Z"
   },
   {
    "duration": 171,
    "start_time": "2021-07-08T08:47:44.522Z"
   },
   {
    "duration": 124,
    "start_time": "2021-07-08T08:47:46.872Z"
   },
   {
    "duration": 191,
    "start_time": "2021-07-08T08:47:58.148Z"
   },
   {
    "duration": 191,
    "start_time": "2021-07-08T08:48:07.412Z"
   },
   {
    "duration": 261,
    "start_time": "2021-07-08T08:48:10.385Z"
   },
   {
    "duration": 255,
    "start_time": "2021-07-08T08:48:14.494Z"
   },
   {
    "duration": 219,
    "start_time": "2021-07-08T08:48:22.752Z"
   },
   {
    "duration": 173,
    "start_time": "2021-07-08T08:49:06.395Z"
   },
   {
    "duration": 180,
    "start_time": "2021-07-08T08:49:21.011Z"
   },
   {
    "duration": 6,
    "start_time": "2021-07-08T08:50:31.697Z"
   },
   {
    "duration": 10,
    "start_time": "2021-07-08T08:50:47.394Z"
   },
   {
    "duration": 11,
    "start_time": "2021-07-08T08:53:49.332Z"
   },
   {
    "duration": 171,
    "start_time": "2021-07-08T08:54:28.408Z"
   },
   {
    "duration": 636,
    "start_time": "2021-07-08T09:02:48.385Z"
   },
   {
    "duration": 227,
    "start_time": "2021-07-08T09:02:49.023Z"
   },
   {
    "duration": 104,
    "start_time": "2021-07-08T09:02:49.252Z"
   },
   {
    "duration": 5,
    "start_time": "2021-07-08T09:02:49.358Z"
   },
   {
    "duration": 27,
    "start_time": "2021-07-08T09:02:49.365Z"
   },
   {
    "duration": 8,
    "start_time": "2021-07-08T09:02:49.394Z"
   },
   {
    "duration": 18,
    "start_time": "2021-07-08T09:02:49.404Z"
   },
   {
    "duration": 6,
    "start_time": "2021-07-08T09:02:49.424Z"
   },
   {
    "duration": 11,
    "start_time": "2021-07-08T09:02:49.433Z"
   },
   {
    "duration": 13,
    "start_time": "2021-07-08T09:02:49.485Z"
   },
   {
    "duration": 9,
    "start_time": "2021-07-08T09:02:49.500Z"
   },
   {
    "duration": 38,
    "start_time": "2021-07-08T09:02:49.511Z"
   },
   {
    "duration": 42,
    "start_time": "2021-07-08T09:02:49.551Z"
   },
   {
    "duration": 21,
    "start_time": "2021-07-08T09:02:49.594Z"
   },
   {
    "duration": 6,
    "start_time": "2021-07-08T09:02:49.616Z"
   },
   {
    "duration": 3,
    "start_time": "2021-07-08T09:02:49.623Z"
   },
   {
    "duration": 9,
    "start_time": "2021-07-08T09:02:49.628Z"
   },
   {
    "duration": 52,
    "start_time": "2021-07-08T09:02:49.638Z"
   },
   {
    "duration": 11,
    "start_time": "2021-07-08T09:02:49.692Z"
   },
   {
    "duration": 8,
    "start_time": "2021-07-08T09:02:49.704Z"
   },
   {
    "duration": 27,
    "start_time": "2021-07-08T09:02:49.713Z"
   },
   {
    "duration": 59,
    "start_time": "2021-07-08T09:02:49.741Z"
   },
   {
    "duration": 8,
    "start_time": "2021-07-08T09:02:49.803Z"
   },
   {
    "duration": 14,
    "start_time": "2021-07-08T09:02:49.813Z"
   },
   {
    "duration": 20,
    "start_time": "2021-07-08T09:02:49.829Z"
   },
   {
    "duration": 44,
    "start_time": "2021-07-08T09:02:49.851Z"
   },
   {
    "duration": 14,
    "start_time": "2021-07-08T09:02:49.896Z"
   },
   {
    "duration": 221,
    "start_time": "2021-07-08T09:02:49.912Z"
   },
   {
    "duration": 6,
    "start_time": "2021-07-08T09:02:50.134Z"
   },
   {
    "duration": 206,
    "start_time": "2021-07-08T09:02:50.142Z"
   },
   {
    "duration": 19,
    "start_time": "2021-07-08T09:02:50.350Z"
   },
   {
    "duration": 21,
    "start_time": "2021-07-08T09:02:50.370Z"
   },
   {
    "duration": 20,
    "start_time": "2021-07-08T09:02:50.393Z"
   },
   {
    "duration": 5,
    "start_time": "2021-07-08T09:02:50.414Z"
   },
   {
    "duration": 5,
    "start_time": "2021-07-08T09:03:34.173Z"
   },
   {
    "duration": 6,
    "start_time": "2021-07-08T09:04:49.062Z"
   },
   {
    "duration": 9,
    "start_time": "2021-07-08T09:04:50.118Z"
   },
   {
    "duration": 14,
    "start_time": "2021-07-08T09:04:58.512Z"
   },
   {
    "duration": 9,
    "start_time": "2021-07-08T09:05:10.988Z"
   },
   {
    "duration": 11,
    "start_time": "2021-07-08T09:05:11.743Z"
   },
   {
    "duration": 7,
    "start_time": "2021-07-08T09:05:25.677Z"
   },
   {
    "duration": 13,
    "start_time": "2021-07-08T09:05:47.189Z"
   },
   {
    "duration": 13,
    "start_time": "2021-07-08T09:05:54.755Z"
   },
   {
    "duration": 4,
    "start_time": "2021-07-08T09:06:29.189Z"
   },
   {
    "duration": 244,
    "start_time": "2021-07-08T09:06:29.195Z"
   },
   {
    "duration": 91,
    "start_time": "2021-07-08T09:06:29.441Z"
   },
   {
    "duration": 4,
    "start_time": "2021-07-08T09:06:29.534Z"
   },
   {
    "duration": 28,
    "start_time": "2021-07-08T09:06:29.540Z"
   },
   {
    "duration": 6,
    "start_time": "2021-07-08T09:06:29.570Z"
   },
   {
    "duration": 18,
    "start_time": "2021-07-08T09:06:29.578Z"
   },
   {
    "duration": 5,
    "start_time": "2021-07-08T09:06:29.597Z"
   },
   {
    "duration": 13,
    "start_time": "2021-07-08T09:06:29.605Z"
   },
   {
    "duration": 8,
    "start_time": "2021-07-08T09:06:29.620Z"
   },
   {
    "duration": 7,
    "start_time": "2021-07-08T09:06:29.630Z"
   },
   {
    "duration": 63,
    "start_time": "2021-07-08T09:06:29.639Z"
   },
   {
    "duration": 17,
    "start_time": "2021-07-08T09:06:29.704Z"
   },
   {
    "duration": 20,
    "start_time": "2021-07-08T09:06:29.723Z"
   },
   {
    "duration": 6,
    "start_time": "2021-07-08T09:06:29.745Z"
   },
   {
    "duration": 3,
    "start_time": "2021-07-08T09:06:29.752Z"
   },
   {
    "duration": 7,
    "start_time": "2021-07-08T09:06:29.785Z"
   },
   {
    "duration": 11,
    "start_time": "2021-07-08T09:06:29.794Z"
   },
   {
    "duration": 15,
    "start_time": "2021-07-08T09:06:29.807Z"
   },
   {
    "duration": 8,
    "start_time": "2021-07-08T09:06:29.823Z"
   },
   {
    "duration": 70,
    "start_time": "2021-07-08T09:06:29.832Z"
   },
   {
    "duration": 17,
    "start_time": "2021-07-08T09:06:29.903Z"
   },
   {
    "duration": 9,
    "start_time": "2021-07-08T09:06:29.921Z"
   },
   {
    "duration": 9,
    "start_time": "2021-07-08T09:06:29.932Z"
   },
   {
    "duration": 57,
    "start_time": "2021-07-08T09:06:29.942Z"
   },
   {
    "duration": 11,
    "start_time": "2021-07-08T09:06:30.001Z"
   },
   {
    "duration": 19,
    "start_time": "2021-07-08T09:06:30.016Z"
   },
   {
    "duration": 217,
    "start_time": "2021-07-08T09:06:30.037Z"
   },
   {
    "duration": 6,
    "start_time": "2021-07-08T09:06:30.255Z"
   },
   {
    "duration": 205,
    "start_time": "2021-07-08T09:06:30.263Z"
   },
   {
    "duration": 27,
    "start_time": "2021-07-08T09:06:30.470Z"
   },
   {
    "duration": 11,
    "start_time": "2021-07-08T09:06:30.500Z"
   },
   {
    "duration": 31,
    "start_time": "2021-07-08T09:06:30.513Z"
   },
   {
    "duration": 18,
    "start_time": "2021-07-08T09:06:30.546Z"
   },
   {
    "duration": 11,
    "start_time": "2021-07-08T09:06:30.566Z"
   },
   {
    "duration": 19,
    "start_time": "2021-07-08T09:06:30.579Z"
   },
   {
    "duration": 20,
    "start_time": "2021-07-08T09:06:49.466Z"
   },
   {
    "duration": 9,
    "start_time": "2021-07-08T09:06:51.994Z"
   },
   {
    "duration": 20,
    "start_time": "2021-07-08T09:06:52.273Z"
   },
   {
    "duration": 246,
    "start_time": "2021-07-08T09:10:21.272Z"
   },
   {
    "duration": 84,
    "start_time": "2021-07-08T09:10:21.436Z"
   },
   {
    "duration": 7,
    "start_time": "2021-07-08T09:10:37.608Z"
   },
   {
    "duration": 189,
    "start_time": "2021-07-08T09:10:38.573Z"
   },
   {
    "duration": 185,
    "start_time": "2021-07-08T09:10:53.181Z"
   },
   {
    "duration": 11,
    "start_time": "2021-07-08T09:10:59.549Z"
   },
   {
    "duration": 42,
    "start_time": "2021-07-08T09:10:59.709Z"
   },
   {
    "duration": 12,
    "start_time": "2021-07-08T09:11:02.857Z"
   },
   {
    "duration": 28,
    "start_time": "2021-07-08T09:11:10.062Z"
   },
   {
    "duration": 249,
    "start_time": "2021-07-08T09:11:37.388Z"
   },
   {
    "duration": 232,
    "start_time": "2021-07-08T09:11:49.485Z"
   },
   {
    "duration": 453,
    "start_time": "2021-07-08T09:12:01.546Z"
   },
   {
    "duration": 440,
    "start_time": "2021-07-08T09:12:12.347Z"
   },
   {
    "duration": 213,
    "start_time": "2021-07-08T09:13:32.196Z"
   },
   {
    "duration": 172,
    "start_time": "2021-07-08T09:14:07.400Z"
   },
   {
    "duration": 185,
    "start_time": "2021-07-08T09:14:14.905Z"
   },
   {
    "duration": 209,
    "start_time": "2021-07-08T09:14:40.109Z"
   },
   {
    "duration": 201,
    "start_time": "2021-07-08T09:14:54.506Z"
   },
   {
    "duration": 622,
    "start_time": "2021-07-08T09:18:14.497Z"
   },
   {
    "duration": 220,
    "start_time": "2021-07-08T09:18:15.121Z"
   },
   {
    "duration": 79,
    "start_time": "2021-07-08T09:18:15.343Z"
   },
   {
    "duration": 4,
    "start_time": "2021-07-08T09:18:15.425Z"
   },
   {
    "duration": 24,
    "start_time": "2021-07-08T09:18:15.431Z"
   },
   {
    "duration": 8,
    "start_time": "2021-07-08T09:18:15.457Z"
   },
   {
    "duration": 16,
    "start_time": "2021-07-08T09:18:15.466Z"
   },
   {
    "duration": 5,
    "start_time": "2021-07-08T09:18:15.484Z"
   },
   {
    "duration": 10,
    "start_time": "2021-07-08T09:18:15.493Z"
   },
   {
    "duration": 8,
    "start_time": "2021-07-08T09:18:15.504Z"
   },
   {
    "duration": 7,
    "start_time": "2021-07-08T09:18:15.513Z"
   },
   {
    "duration": 26,
    "start_time": "2021-07-08T09:18:15.522Z"
   },
   {
    "duration": 49,
    "start_time": "2021-07-08T09:18:15.550Z"
   },
   {
    "duration": 21,
    "start_time": "2021-07-08T09:18:15.601Z"
   },
   {
    "duration": 8,
    "start_time": "2021-07-08T09:18:15.624Z"
   },
   {
    "duration": 3,
    "start_time": "2021-07-08T09:18:15.634Z"
   },
   {
    "duration": 8,
    "start_time": "2021-07-08T09:18:15.639Z"
   },
   {
    "duration": 45,
    "start_time": "2021-07-08T09:18:15.649Z"
   },
   {
    "duration": 13,
    "start_time": "2021-07-08T09:18:15.696Z"
   },
   {
    "duration": 10,
    "start_time": "2021-07-08T09:18:15.711Z"
   },
   {
    "duration": 64,
    "start_time": "2021-07-08T09:18:15.722Z"
   },
   {
    "duration": 19,
    "start_time": "2021-07-08T09:18:15.788Z"
   },
   {
    "duration": 9,
    "start_time": "2021-07-08T09:18:15.809Z"
   },
   {
    "duration": 9,
    "start_time": "2021-07-08T09:18:15.820Z"
   },
   {
    "duration": 18,
    "start_time": "2021-07-08T09:18:15.831Z"
   },
   {
    "duration": 43,
    "start_time": "2021-07-08T09:18:15.851Z"
   },
   {
    "duration": 12,
    "start_time": "2021-07-08T09:18:15.897Z"
   },
   {
    "duration": 219,
    "start_time": "2021-07-08T09:18:15.911Z"
   },
   {
    "duration": 8,
    "start_time": "2021-07-08T09:18:16.132Z"
   },
   {
    "duration": 199,
    "start_time": "2021-07-08T09:18:16.141Z"
   },
   {
    "duration": 18,
    "start_time": "2021-07-08T09:18:16.341Z"
   },
   {
    "duration": 24,
    "start_time": "2021-07-08T09:18:16.361Z"
   },
   {
    "duration": 24,
    "start_time": "2021-07-08T09:18:16.387Z"
   },
   {
    "duration": 211,
    "start_time": "2021-07-08T09:18:16.413Z"
   },
   {
    "duration": 18,
    "start_time": "2021-07-08T09:18:16.626Z"
   },
   {
    "duration": 596,
    "start_time": "2021-07-08T10:06:33.623Z"
   },
   {
    "duration": 181,
    "start_time": "2021-07-08T10:06:34.221Z"
   },
   {
    "duration": 176,
    "start_time": "2021-07-08T10:06:34.635Z"
   },
   {
    "duration": 239,
    "start_time": "2021-07-08T10:06:55.572Z"
   },
   {
    "duration": 6,
    "start_time": "2021-07-08T10:06:57.687Z"
   },
   {
    "duration": 4,
    "start_time": "2021-07-08T10:07:03.956Z"
   },
   {
    "duration": 4,
    "start_time": "2021-07-08T10:07:10.376Z"
   },
   {
    "duration": 4,
    "start_time": "2021-07-08T10:17:19.889Z"
   },
   {
    "duration": 3,
    "start_time": "2021-07-08T10:19:19.407Z"
   },
   {
    "duration": 197,
    "start_time": "2021-07-08T10:19:19.412Z"
   },
   {
    "duration": 127,
    "start_time": "2021-07-08T10:19:19.611Z"
   },
   {
    "duration": 4,
    "start_time": "2021-07-08T10:19:19.740Z"
   },
   {
    "duration": 27,
    "start_time": "2021-07-08T10:19:19.746Z"
   },
   {
    "duration": 7,
    "start_time": "2021-07-08T10:19:19.775Z"
   },
   {
    "duration": 30,
    "start_time": "2021-07-08T10:19:19.784Z"
   },
   {
    "duration": 7,
    "start_time": "2021-07-08T10:19:19.817Z"
   },
   {
    "duration": 26,
    "start_time": "2021-07-08T10:19:19.826Z"
   },
   {
    "duration": 18,
    "start_time": "2021-07-08T10:19:19.854Z"
   },
   {
    "duration": 14,
    "start_time": "2021-07-08T10:19:19.874Z"
   },
   {
    "duration": 48,
    "start_time": "2021-07-08T10:19:19.890Z"
   },
   {
    "duration": 17,
    "start_time": "2021-07-08T10:19:19.940Z"
   },
   {
    "duration": 38,
    "start_time": "2021-07-08T10:19:19.959Z"
   },
   {
    "duration": 8,
    "start_time": "2021-07-08T10:19:19.999Z"
   },
   {
    "duration": 15,
    "start_time": "2021-07-08T10:19:20.009Z"
   },
   {
    "duration": 22,
    "start_time": "2021-07-08T10:19:20.026Z"
   },
   {
    "duration": 10,
    "start_time": "2021-07-08T10:19:20.050Z"
   },
   {
    "duration": 10,
    "start_time": "2021-07-08T10:19:20.062Z"
   },
   {
    "duration": 20,
    "start_time": "2021-07-08T10:19:20.073Z"
   },
   {
    "duration": 29,
    "start_time": "2021-07-08T10:19:20.095Z"
   },
   {
    "duration": 17,
    "start_time": "2021-07-08T10:19:20.126Z"
   },
   {
    "duration": 40,
    "start_time": "2021-07-08T10:19:20.146Z"
   },
   {
    "duration": 15,
    "start_time": "2021-07-08T10:19:20.189Z"
   },
   {
    "duration": 19,
    "start_time": "2021-07-08T10:19:20.206Z"
   },
   {
    "duration": 10,
    "start_time": "2021-07-08T10:19:20.226Z"
   },
   {
    "duration": 11,
    "start_time": "2021-07-08T10:19:20.238Z"
   },
   {
    "duration": 297,
    "start_time": "2021-07-08T10:19:20.250Z"
   },
   {
    "duration": 6,
    "start_time": "2021-07-08T10:19:20.549Z"
   },
   {
    "duration": 191,
    "start_time": "2021-07-08T10:19:20.557Z"
   },
   {
    "duration": 19,
    "start_time": "2021-07-08T10:19:20.750Z"
   },
   {
    "duration": 20,
    "start_time": "2021-07-08T10:19:20.771Z"
   },
   {
    "duration": 15,
    "start_time": "2021-07-08T10:19:20.793Z"
   },
   {
    "duration": 222,
    "start_time": "2021-07-08T10:19:20.809Z"
   },
   {
    "duration": 20,
    "start_time": "2021-07-08T10:19:21.033Z"
   },
   {
    "duration": 27,
    "start_time": "2021-07-08T10:45:04.055Z"
   },
   {
    "duration": 8,
    "start_time": "2021-07-08T10:45:08.478Z"
   },
   {
    "duration": 8,
    "start_time": "2021-07-08T10:45:31.982Z"
   },
   {
    "duration": 10,
    "start_time": "2021-07-08T10:46:01.221Z"
   },
   {
    "duration": 17,
    "start_time": "2021-07-08T10:46:40.011Z"
   },
   {
    "duration": 193,
    "start_time": "2021-07-08T10:48:19.471Z"
   },
   {
    "duration": 225,
    "start_time": "2021-07-08T10:49:26.480Z"
   },
   {
    "duration": 204,
    "start_time": "2021-07-08T10:49:59.992Z"
   },
   {
    "duration": 435,
    "start_time": "2021-07-08T10:50:06.779Z"
   },
   {
    "duration": 199,
    "start_time": "2021-07-08T10:50:14.891Z"
   },
   {
    "duration": 204,
    "start_time": "2021-07-08T10:50:18.501Z"
   },
   {
    "duration": 244,
    "start_time": "2021-07-08T10:50:23.359Z"
   },
   {
    "duration": 192,
    "start_time": "2021-07-08T10:50:29.135Z"
   },
   {
    "duration": 218,
    "start_time": "2021-07-08T10:50:33.092Z"
   },
   {
    "duration": 207,
    "start_time": "2021-07-08T10:52:45.381Z"
   },
   {
    "duration": 5,
    "start_time": "2021-07-08T10:53:34.641Z"
   },
   {
    "duration": 196,
    "start_time": "2021-07-08T10:53:41.478Z"
   },
   {
    "duration": 43,
    "start_time": "2021-07-08T10:53:50.335Z"
   },
   {
    "duration": 32,
    "start_time": "2021-07-08T10:53:55.294Z"
   },
   {
    "duration": 55,
    "start_time": "2021-07-08T10:54:09.675Z"
   },
   {
    "duration": 16,
    "start_time": "2021-07-08T10:54:12.260Z"
   },
   {
    "duration": 15,
    "start_time": "2021-07-08T10:54:49.150Z"
   },
   {
    "duration": 20,
    "start_time": "2021-07-08T10:56:07.596Z"
   },
   {
    "duration": 16,
    "start_time": "2021-07-08T10:58:26.276Z"
   },
   {
    "duration": 22,
    "start_time": "2021-07-08T10:59:00.486Z"
   },
   {
    "duration": 18,
    "start_time": "2021-07-08T11:02:09.653Z"
   },
   {
    "duration": 10,
    "start_time": "2021-07-08T11:03:44.331Z"
   },
   {
    "duration": 10,
    "start_time": "2021-07-08T11:03:54.055Z"
   },
   {
    "duration": 12,
    "start_time": "2021-07-08T11:04:41.967Z"
   },
   {
    "duration": 24,
    "start_time": "2021-07-08T11:07:30.732Z"
   },
   {
    "duration": 6,
    "start_time": "2021-07-08T11:07:37.364Z"
   },
   {
    "duration": 16,
    "start_time": "2021-07-08T11:08:01.819Z"
   },
   {
    "duration": 17,
    "start_time": "2021-07-08T11:09:47.488Z"
   },
   {
    "duration": 246,
    "start_time": "2021-07-08T11:10:00.830Z"
   },
   {
    "duration": 18,
    "start_time": "2021-07-08T11:13:55.195Z"
   },
   {
    "duration": 204,
    "start_time": "2021-07-08T11:14:04.951Z"
   },
   {
    "duration": 19,
    "start_time": "2021-07-08T11:15:10.613Z"
   },
   {
    "duration": 680,
    "start_time": "2021-07-08T11:16:25.793Z"
   },
   {
    "duration": 451,
    "start_time": "2021-07-08T11:16:40.313Z"
   },
   {
    "duration": 469,
    "start_time": "2021-07-08T11:17:21.286Z"
   },
   {
    "duration": 20,
    "start_time": "2021-07-08T11:19:12.554Z"
   },
   {
    "duration": 35,
    "start_time": "2021-07-08T11:20:05.484Z"
   },
   {
    "duration": 53,
    "start_time": "2021-07-08T11:21:40.050Z"
   },
   {
    "duration": 13,
    "start_time": "2021-07-08T11:22:26.059Z"
   },
   {
    "duration": 19,
    "start_time": "2021-07-08T11:22:47.419Z"
   },
   {
    "duration": 25,
    "start_time": "2021-07-08T11:23:19.958Z"
   },
   {
    "duration": 29,
    "start_time": "2021-07-08T11:23:25.415Z"
   },
   {
    "duration": 10,
    "start_time": "2021-07-08T11:24:45.138Z"
   },
   {
    "duration": 19,
    "start_time": "2021-07-08T11:24:54.498Z"
   },
   {
    "duration": 12,
    "start_time": "2021-07-08T11:25:32.225Z"
   },
   {
    "duration": 19,
    "start_time": "2021-07-08T11:25:37.092Z"
   },
   {
    "duration": 17,
    "start_time": "2021-07-08T11:25:58.116Z"
   },
   {
    "duration": 15,
    "start_time": "2021-07-08T11:26:02.258Z"
   },
   {
    "duration": 8,
    "start_time": "2021-07-08T11:26:59.682Z"
   },
   {
    "duration": 184,
    "start_time": "2021-07-08T11:27:21.894Z"
   },
   {
    "duration": 8,
    "start_time": "2021-07-08T11:27:23.824Z"
   },
   {
    "duration": 202,
    "start_time": "2021-07-08T11:27:23.962Z"
   },
   {
    "duration": 360,
    "start_time": "2021-07-08T11:28:33.215Z"
   },
   {
    "duration": 231,
    "start_time": "2021-07-08T11:32:05.542Z"
   },
   {
    "duration": 607,
    "start_time": "2021-07-08T11:36:27.854Z"
   },
   {
    "duration": 241,
    "start_time": "2021-07-08T11:36:28.463Z"
   },
   {
    "duration": 67,
    "start_time": "2021-07-08T11:36:28.709Z"
   },
   {
    "duration": 5,
    "start_time": "2021-07-08T11:36:28.778Z"
   },
   {
    "duration": 32,
    "start_time": "2021-07-08T11:36:28.784Z"
   },
   {
    "duration": 11,
    "start_time": "2021-07-08T11:36:28.819Z"
   },
   {
    "duration": 20,
    "start_time": "2021-07-08T11:36:28.834Z"
   },
   {
    "duration": 36,
    "start_time": "2021-07-08T11:36:28.857Z"
   },
   {
    "duration": 16,
    "start_time": "2021-07-08T11:36:28.895Z"
   },
   {
    "duration": 14,
    "start_time": "2021-07-08T11:36:28.913Z"
   },
   {
    "duration": 9,
    "start_time": "2021-07-08T11:36:28.930Z"
   },
   {
    "duration": 55,
    "start_time": "2021-07-08T11:36:28.941Z"
   },
   {
    "duration": 27,
    "start_time": "2021-07-08T11:36:28.999Z"
   },
   {
    "duration": 30,
    "start_time": "2021-07-08T11:36:29.028Z"
   },
   {
    "duration": 31,
    "start_time": "2021-07-08T11:36:29.060Z"
   },
   {
    "duration": 3,
    "start_time": "2021-07-08T11:36:29.093Z"
   },
   {
    "duration": 12,
    "start_time": "2021-07-08T11:36:29.099Z"
   },
   {
    "duration": 11,
    "start_time": "2021-07-08T11:36:29.112Z"
   },
   {
    "duration": 12,
    "start_time": "2021-07-08T11:36:29.125Z"
   },
   {
    "duration": 9,
    "start_time": "2021-07-08T11:36:29.139Z"
   },
   {
    "duration": 31,
    "start_time": "2021-07-08T11:36:29.191Z"
   },
   {
    "duration": 17,
    "start_time": "2021-07-08T11:36:29.226Z"
   },
   {
    "duration": 7,
    "start_time": "2021-07-08T11:36:29.245Z"
   },
   {
    "duration": 10,
    "start_time": "2021-07-08T11:36:29.254Z"
   },
   {
    "duration": 30,
    "start_time": "2021-07-08T11:36:29.292Z"
   },
   {
    "duration": 11,
    "start_time": "2021-07-08T11:36:29.324Z"
   },
   {
    "duration": 11,
    "start_time": "2021-07-08T11:36:29.337Z"
   },
   {
    "duration": 230,
    "start_time": "2021-07-08T11:36:29.349Z"
   },
   {
    "duration": 13,
    "start_time": "2021-07-08T11:36:29.588Z"
   },
   {
    "duration": 205,
    "start_time": "2021-07-08T11:36:29.603Z"
   },
   {
    "duration": 20,
    "start_time": "2021-07-08T11:36:29.810Z"
   },
   {
    "duration": 9,
    "start_time": "2021-07-08T11:36:29.832Z"
   },
   {
    "duration": 16,
    "start_time": "2021-07-08T11:36:29.843Z"
   },
   {
    "duration": 283,
    "start_time": "2021-07-08T11:36:29.861Z"
   },
   {
    "duration": 50,
    "start_time": "2021-07-08T11:36:30.146Z"
   },
   {
    "duration": 14,
    "start_time": "2021-07-08T11:36:30.198Z"
   },
   {
    "duration": 11,
    "start_time": "2021-07-08T11:36:30.214Z"
   },
   {
    "duration": 245,
    "start_time": "2021-07-08T11:36:30.227Z"
   },
   {
    "duration": 439,
    "start_time": "2021-07-08T11:36:30.474Z"
   },
   {
    "duration": 210,
    "start_time": "2021-07-08T11:36:30.915Z"
   },
   {
    "duration": 15,
    "start_time": "2021-07-08T11:36:31.127Z"
   },
   {
    "duration": 17,
    "start_time": "2021-07-08T11:38:20.451Z"
   },
   {
    "duration": 642,
    "start_time": "2021-07-08T11:46:17.881Z"
   },
   {
    "duration": 210,
    "start_time": "2021-07-08T11:46:18.525Z"
   },
   {
    "duration": 104,
    "start_time": "2021-07-08T11:46:18.741Z"
   },
   {
    "duration": 8,
    "start_time": "2021-07-08T11:46:18.847Z"
   },
   {
    "duration": 25,
    "start_time": "2021-07-08T11:46:18.857Z"
   },
   {
    "duration": 14,
    "start_time": "2021-07-08T11:46:18.884Z"
   },
   {
    "duration": 22,
    "start_time": "2021-07-08T11:46:18.900Z"
   },
   {
    "duration": 5,
    "start_time": "2021-07-08T11:46:18.924Z"
   },
   {
    "duration": 13,
    "start_time": "2021-07-08T11:46:18.931Z"
   },
   {
    "duration": 45,
    "start_time": "2021-07-08T11:46:18.946Z"
   },
   {
    "duration": 12,
    "start_time": "2021-07-08T11:46:18.993Z"
   },
   {
    "duration": 38,
    "start_time": "2021-07-08T11:46:19.006Z"
   },
   {
    "duration": 50,
    "start_time": "2021-07-08T11:46:19.046Z"
   },
   {
    "duration": 29,
    "start_time": "2021-07-08T11:46:19.099Z"
   },
   {
    "duration": 7,
    "start_time": "2021-07-08T11:46:19.130Z"
   },
   {
    "duration": 3,
    "start_time": "2021-07-08T11:46:19.139Z"
   },
   {
    "duration": 11,
    "start_time": "2021-07-08T11:46:19.144Z"
   },
   {
    "duration": 40,
    "start_time": "2021-07-08T11:46:19.157Z"
   },
   {
    "duration": 15,
    "start_time": "2021-07-08T11:46:19.199Z"
   },
   {
    "duration": 10,
    "start_time": "2021-07-08T11:46:19.217Z"
   },
   {
    "duration": 68,
    "start_time": "2021-07-08T11:46:19.230Z"
   },
   {
    "duration": 17,
    "start_time": "2021-07-08T11:46:19.301Z"
   },
   {
    "duration": 7,
    "start_time": "2021-07-08T11:46:19.321Z"
   },
   {
    "duration": 11,
    "start_time": "2021-07-08T11:46:19.330Z"
   },
   {
    "duration": 59,
    "start_time": "2021-07-08T11:46:19.343Z"
   },
   {
    "duration": 17,
    "start_time": "2021-07-08T11:46:19.405Z"
   },
   {
    "duration": 16,
    "start_time": "2021-07-08T11:46:19.424Z"
   },
   {
    "duration": 252,
    "start_time": "2021-07-08T11:46:19.443Z"
   },
   {
    "duration": 9,
    "start_time": "2021-07-08T11:46:19.697Z"
   },
   {
    "duration": 224,
    "start_time": "2021-07-08T11:46:19.708Z"
   },
   {
    "duration": 21,
    "start_time": "2021-07-08T11:46:19.934Z"
   },
   {
    "duration": 9,
    "start_time": "2021-07-08T11:46:19.956Z"
   },
   {
    "duration": 32,
    "start_time": "2021-07-08T11:46:19.967Z"
   },
   {
    "duration": 288,
    "start_time": "2021-07-08T11:46:20.004Z"
   },
   {
    "duration": 23,
    "start_time": "2021-07-08T11:46:20.300Z"
   },
   {
    "duration": 11,
    "start_time": "2021-07-08T11:46:20.325Z"
   },
   {
    "duration": 11,
    "start_time": "2021-07-08T11:46:20.339Z"
   },
   {
    "duration": 259,
    "start_time": "2021-07-08T11:46:20.352Z"
   },
   {
    "duration": 438,
    "start_time": "2021-07-08T11:46:20.613Z"
   },
   {
    "duration": 207,
    "start_time": "2021-07-08T11:46:21.054Z"
   },
   {
    "duration": 27,
    "start_time": "2021-07-08T11:46:21.262Z"
   },
   {
    "duration": 19,
    "start_time": "2021-07-08T11:46:21.291Z"
   },
   {
    "duration": 820,
    "start_time": "2021-07-08T11:49:01.655Z"
   },
   {
    "duration": 372,
    "start_time": "2021-07-08T11:49:02.478Z"
   },
   {
    "duration": 98,
    "start_time": "2021-07-08T11:49:02.853Z"
   },
   {
    "duration": 6,
    "start_time": "2021-07-08T11:49:02.953Z"
   },
   {
    "duration": 39,
    "start_time": "2021-07-08T11:49:02.960Z"
   },
   {
    "duration": 9,
    "start_time": "2021-07-08T11:49:03.003Z"
   },
   {
    "duration": 23,
    "start_time": "2021-07-08T11:49:03.014Z"
   },
   {
    "duration": 6,
    "start_time": "2021-07-08T11:49:03.041Z"
   },
   {
    "duration": 20,
    "start_time": "2021-07-08T11:49:03.049Z"
   },
   {
    "duration": 18,
    "start_time": "2021-07-08T11:49:03.084Z"
   },
   {
    "duration": 14,
    "start_time": "2021-07-08T11:49:03.104Z"
   },
   {
    "duration": 39,
    "start_time": "2021-07-08T11:49:03.119Z"
   },
   {
    "duration": 38,
    "start_time": "2021-07-08T11:49:03.160Z"
   },
   {
    "duration": 26,
    "start_time": "2021-07-08T11:49:03.200Z"
   },
   {
    "duration": 7,
    "start_time": "2021-07-08T11:49:03.227Z"
   },
   {
    "duration": 4,
    "start_time": "2021-07-08T11:49:03.236Z"
   },
   {
    "duration": 15,
    "start_time": "2021-07-08T11:49:03.243Z"
   },
   {
    "duration": 21,
    "start_time": "2021-07-08T11:49:03.285Z"
   },
   {
    "duration": 17,
    "start_time": "2021-07-08T11:49:03.309Z"
   },
   {
    "duration": 10,
    "start_time": "2021-07-08T11:49:03.328Z"
   },
   {
    "duration": 65,
    "start_time": "2021-07-08T11:49:03.340Z"
   },
   {
    "duration": 18,
    "start_time": "2021-07-08T11:49:03.407Z"
   },
   {
    "duration": 8,
    "start_time": "2021-07-08T11:49:03.428Z"
   },
   {
    "duration": 15,
    "start_time": "2021-07-08T11:49:03.438Z"
   },
   {
    "duration": 40,
    "start_time": "2021-07-08T11:49:03.455Z"
   },
   {
    "duration": 12,
    "start_time": "2021-07-08T11:49:03.497Z"
   },
   {
    "duration": 29,
    "start_time": "2021-07-08T11:49:03.511Z"
   },
   {
    "duration": 285,
    "start_time": "2021-07-08T11:49:03.542Z"
   },
   {
    "duration": 8,
    "start_time": "2021-07-08T11:49:03.829Z"
   },
   {
    "duration": 227,
    "start_time": "2021-07-08T11:49:03.838Z"
   },
   {
    "duration": 40,
    "start_time": "2021-07-08T11:49:04.066Z"
   },
   {
    "duration": 10,
    "start_time": "2021-07-08T11:49:04.108Z"
   },
   {
    "duration": 26,
    "start_time": "2021-07-08T11:49:04.121Z"
   },
   {
    "duration": 290,
    "start_time": "2021-07-08T11:49:04.149Z"
   },
   {
    "duration": 26,
    "start_time": "2021-07-08T11:49:04.441Z"
   },
   {
    "duration": 31,
    "start_time": "2021-07-08T11:49:04.470Z"
   },
   {
    "duration": 14,
    "start_time": "2021-07-08T11:49:04.503Z"
   },
   {
    "duration": 259,
    "start_time": "2021-07-08T11:49:04.521Z"
   },
   {
    "duration": 480,
    "start_time": "2021-07-08T11:49:04.782Z"
   },
   {
    "duration": 225,
    "start_time": "2021-07-08T11:49:05.264Z"
   },
   {
    "duration": 22,
    "start_time": "2021-07-08T11:49:05.491Z"
   },
   {
    "duration": 24,
    "start_time": "2021-07-08T11:49:05.515Z"
   },
   {
    "duration": 634,
    "start_time": "2021-07-08T11:52:24.960Z"
   },
   {
    "duration": 199,
    "start_time": "2021-07-08T11:52:25.599Z"
   },
   {
    "duration": 106,
    "start_time": "2021-07-08T11:52:25.803Z"
   },
   {
    "duration": 7,
    "start_time": "2021-07-08T11:52:25.911Z"
   },
   {
    "duration": 29,
    "start_time": "2021-07-08T11:52:25.920Z"
   },
   {
    "duration": 7,
    "start_time": "2021-07-08T11:52:25.951Z"
   },
   {
    "duration": 26,
    "start_time": "2021-07-08T11:52:25.961Z"
   },
   {
    "duration": 11,
    "start_time": "2021-07-08T11:52:25.990Z"
   },
   {
    "duration": 29,
    "start_time": "2021-07-08T11:52:26.005Z"
   },
   {
    "duration": 9,
    "start_time": "2021-07-08T11:52:26.036Z"
   },
   {
    "duration": 8,
    "start_time": "2021-07-08T11:52:26.047Z"
   },
   {
    "duration": 63,
    "start_time": "2021-07-08T11:52:26.057Z"
   },
   {
    "duration": 17,
    "start_time": "2021-07-08T11:52:26.122Z"
   },
   {
    "duration": 43,
    "start_time": "2021-07-08T11:52:26.142Z"
   },
   {
    "duration": 17,
    "start_time": "2021-07-08T11:52:26.187Z"
   },
   {
    "duration": 5,
    "start_time": "2021-07-08T11:52:26.206Z"
   },
   {
    "duration": 12,
    "start_time": "2021-07-08T11:52:26.212Z"
   },
   {
    "duration": 11,
    "start_time": "2021-07-08T11:52:26.226Z"
   },
   {
    "duration": 12,
    "start_time": "2021-07-08T11:52:26.238Z"
   },
   {
    "duration": 38,
    "start_time": "2021-07-08T11:52:26.252Z"
   },
   {
    "duration": 40,
    "start_time": "2021-07-08T11:52:26.292Z"
   },
   {
    "duration": 17,
    "start_time": "2021-07-08T11:52:26.336Z"
   },
   {
    "duration": 39,
    "start_time": "2021-07-08T11:52:26.355Z"
   },
   {
    "duration": 11,
    "start_time": "2021-07-08T11:52:26.395Z"
   },
   {
    "duration": 23,
    "start_time": "2021-07-08T11:52:26.408Z"
   },
   {
    "duration": 12,
    "start_time": "2021-07-08T11:52:26.432Z"
   },
   {
    "duration": 41,
    "start_time": "2021-07-08T11:52:26.446Z"
   },
   {
    "duration": 215,
    "start_time": "2021-07-08T11:52:26.493Z"
   },
   {
    "duration": 8,
    "start_time": "2021-07-08T11:52:26.710Z"
   },
   {
    "duration": 228,
    "start_time": "2021-07-08T11:52:26.720Z"
   },
   {
    "duration": 18,
    "start_time": "2021-07-08T11:52:26.950Z"
   },
   {
    "duration": 35,
    "start_time": "2021-07-08T11:52:26.969Z"
   },
   {
    "duration": 23,
    "start_time": "2021-07-08T11:52:27.006Z"
   },
   {
    "duration": 258,
    "start_time": "2021-07-08T11:52:27.030Z"
   },
   {
    "duration": 24,
    "start_time": "2021-07-08T11:52:27.290Z"
   },
   {
    "duration": 12,
    "start_time": "2021-07-08T11:52:27.316Z"
   },
   {
    "duration": 10,
    "start_time": "2021-07-08T11:52:27.329Z"
   },
   {
    "duration": 298,
    "start_time": "2021-07-08T11:52:27.341Z"
   },
   {
    "duration": 436,
    "start_time": "2021-07-08T11:52:27.641Z"
   },
   {
    "duration": 216,
    "start_time": "2021-07-08T11:52:28.079Z"
   },
   {
    "duration": 20,
    "start_time": "2021-07-08T11:52:28.297Z"
   },
   {
    "duration": 17,
    "start_time": "2021-07-08T11:52:28.319Z"
   }
  ],
  "colab": {
   "name": "DA+. Сборный проект 1. Шаблон (1).ipynb",
   "provenance": []
  },
  "kernelspec": {
   "display_name": "Python 3 (ipykernel)",
   "language": "python",
   "name": "python3"
  },
  "language_info": {
   "codemirror_mode": {
    "name": "ipython",
    "version": 3
   },
   "file_extension": ".py",
   "mimetype": "text/x-python",
   "name": "python",
   "nbconvert_exporter": "python",
   "pygments_lexer": "ipython3",
   "version": "3.10.10"
  },
  "toc": {
   "base_numbering": 1,
   "nav_menu": {},
   "number_sections": true,
   "sideBar": true,
   "skip_h1_title": true,
   "title_cell": "Table of Contents",
   "title_sidebar": "Contents",
   "toc_cell": false,
   "toc_position": {
    "height": "calc(100% - 180px)",
    "left": "10px",
    "top": "150px",
    "width": "375.391px"
   },
   "toc_section_display": true,
   "toc_window_display": false
  }
 },
 "nbformat": 4,
 "nbformat_minor": 4
}
